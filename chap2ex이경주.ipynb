{
 "cells": [
  {
   "cell_type": "code",
   "execution_count": 1,
   "id": "20f1a13e-4b32-4ae5-ac28-cde80c89f4df",
   "metadata": {},
   "outputs": [
    {
     "name": "stdout",
     "output_type": "stream",
     "text": [
      "70.0\n"
     ]
    }
   ],
   "source": [
    "# 1번 \n",
    "국어= 80\n",
    "영어=75\n",
    "수학=55\n",
    "평균 = (국어+영어+수학)/3\n",
    "print(평균)"
   ]
  },
  {
   "cell_type": "code",
   "execution_count": 55,
   "id": "3c373e22-31e2-49ca-991f-f5c91715c6e7",
   "metadata": {},
   "outputs": [
    {
     "name": "stdout",
     "output_type": "stream",
     "text": [
      "13은 홀수입니다\n"
     ]
    }
   ],
   "source": [
    "# 2번\n",
    "num =13\n",
    "if num // 2 == 0 : \n",
    "   print(\"13은 짝수입니다 \")\n",
    "else :\n",
    "    print(\"13은 홀수입니다\")"
   ]
  },
  {
   "cell_type": "code",
   "execution_count": 8,
   "id": "4b3b599e-64db-49bf-8c85-48f56652404b",
   "metadata": {},
   "outputs": [
    {
     "name": "stdout",
     "output_type": "stream",
     "text": [
      "881120\n",
      "1068234\n"
     ]
    }
   ],
   "source": [
    "# 3번 \n",
    "pin = \"881120-1068234\"\n",
    "yyyymmdd = pin[0:6]\n",
    "num = pin[7:]\n",
    "print(yyyymmdd)\n",
    "print(num)"
   ]
  },
  {
   "cell_type": "code",
   "execution_count": 9,
   "id": "099ebb69-6955-4993-a6a4-7253af6e0810",
   "metadata": {},
   "outputs": [
    {
     "name": "stdout",
     "output_type": "stream",
     "text": [
      "1\n"
     ]
    }
   ],
   "source": [
    "# 4번 \n",
    "pin = \"881120-1068234\"\n",
    "gender = pin[7]\n",
    "print(gender)"
   ]
  },
  {
   "cell_type": "code",
   "execution_count": 10,
   "id": "a535ee25-b792-4fa1-853b-acae4507bfd0",
   "metadata": {},
   "outputs": [
    {
     "name": "stdout",
     "output_type": "stream",
     "text": [
      "a#b#c#d\n"
     ]
    }
   ],
   "source": [
    "# 5번 \n",
    "a = \"a:b:c:d\"\n",
    "b = a.replace(\":\",\"#\")\n",
    "print(b)"
   ]
  },
  {
   "cell_type": "code",
   "execution_count": 11,
   "id": "74084e97-3740-49a4-890b-ff12fb582ce7",
   "metadata": {},
   "outputs": [
    {
     "name": "stdout",
     "output_type": "stream",
     "text": [
      "[5, 4, 3, 2, 2, 1]\n"
     ]
    }
   ],
   "source": [
    "# 6번 \n",
    "a = [1,2,3,5,4,2]\n",
    "a.sort()\n",
    "a.reverse()\n",
    "print(a)"
   ]
  },
  {
   "cell_type": "code",
   "execution_count": 13,
   "id": "4706351a-beaf-4533-8037-a3e3f4a5ab9b",
   "metadata": {},
   "outputs": [
    {
     "name": "stdout",
     "output_type": "stream",
     "text": [
      "Life is too short\n"
     ]
    }
   ],
   "source": [
    "#7번 \n",
    "a = ['Life','is','too','short']\n",
    "result = \" \".join(a)\n",
    "print(result)"
   ]
  },
  {
   "cell_type": "code",
   "execution_count": 16,
   "id": "87ee114e-0eea-48db-b73a-ed3ae533bcb5",
   "metadata": {},
   "outputs": [
    {
     "name": "stdout",
     "output_type": "stream",
     "text": [
      "(1, 2, 3, 4)\n"
     ]
    }
   ],
   "source": [
    "#8번 \n",
    "a = (1,2,3)\n",
    "b = (4,)\n",
    "a = a+b\n",
    "print(a)"
   ]
  },
  {
   "cell_type": "code",
   "execution_count": 33,
   "id": "13f6a62a-ce95-4a16-80d6-5e399276b508",
   "metadata": {},
   "outputs": [
    {
     "name": "stdout",
     "output_type": "stream",
     "text": [
      "{'name': 'python', ('a',): 'python', 250: 'python'}\n"
     ]
    }
   ],
   "source": [
    "#9번 \n",
    "a = dict()\n",
    "a\n",
    "\n",
    "a['name'] = 'python'\n",
    "a[('a',)] ='python'\n",
    "# a[[1]]='python'\n",
    "#딕셔너리에는 순서가 존재하지 않으므로 배열 인덱스를 사용할 수 없다 ? \n",
    "#키 값으로는 변한지 않는 값이 사용되어야 하므로 리스트를 쓸 수 없음\n",
    "#unhashable type : list ? 왜 오류 나는건지 모르겠음 \n",
    "a[250] = 'python'\n",
    "print(a)\n",
    "\n"
   ]
  },
  {
   "cell_type": "code",
   "execution_count": 48,
   "id": "59502ece-6c5e-4e2c-99f4-6539f46ca28c",
   "metadata": {
    "scrolled": true
   },
   "outputs": [],
   "source": [
    "#리스트를 key로 사용한 경우 \n",
    "# a = {[1,2]:'hi'} "
   ]
  },
  {
   "attachments": {
    "6f984f1a-4214-430d-8465-32e831294f6c.png": {
     "image/png": "[encoded data removed]"
    }
   },
   "cell_type": "markdown",
   "id": "c01708f9-bf2f-4a80-9225-5e65d4b1108d",
   "metadata": {},
   "source": [
    "![image.png](attachment:6f984f1a-4214-430d-8465-32e831294f6c.png)"
   ]
  },
  {
   "cell_type": "code",
   "execution_count": 52,
   "id": "023b6f29-ea3e-4257-897f-a98af55abbc9",
   "metadata": {},
   "outputs": [
    {
     "name": "stdout",
     "output_type": "stream",
     "text": [
      "dict_keys(['name', 'phone', 'birth'])\n",
      "name\n",
      "phone\n",
      "birth\n"
     ]
    }
   ],
   "source": [
    "a = {'name':'pey','phone':'123456456','birth':'1118'}\n",
    "print(a.keys())\n",
    "\n",
    "for k in a.keys():\n",
    "    print(k)"
   ]
  },
  {
   "cell_type": "code",
   "execution_count": 26,
   "id": "d287773f-0d10-4234-aabe-026b9ecce115",
   "metadata": {},
   "outputs": [
    {
     "name": "stdout",
     "output_type": "stream",
     "text": [
      "{'A': 90, 'C': 70}\n",
      "80\n"
     ]
    }
   ],
   "source": [
    "#10번 \n",
    "a = {'A':90,'B':80,\"C\":70}\n",
    "result = a.pop('B')\n",
    "print(a)\n",
    "print(result)"
   ]
  },
  {
   "cell_type": "code",
   "execution_count": 28,
   "id": "1cbceacc-c384-4b25-87b3-7b68709b9265",
   "metadata": {},
   "outputs": [
    {
     "name": "stdout",
     "output_type": "stream",
     "text": [
      "[1, 2, 3, 4, 5]\n"
     ]
    }
   ],
   "source": [
    "#11번 \n",
    "a = [1,1,1,2,2,3,3,3,4,4,5]\n",
    "aSet = set(a)\n",
    "b = list(aSet)\n",
    "print(b)"
   ]
  },
  {
   "cell_type": "code",
   "execution_count": 30,
   "id": "f99e2d33-97e4-4676-952c-2405d74da525",
   "metadata": {},
   "outputs": [
    {
     "name": "stdout",
     "output_type": "stream",
     "text": [
      "[1, 4, 3] [1, 4, 3]\n"
     ]
    }
   ],
   "source": [
    "#12번 \n",
    "a=b=[1,2,3]\n",
    "a[1]=4\n",
    "print(a,b)\n",
    "#a,b둘다 동일한 객체를 가리키고 있으므로 a 객체 변경시 b 객체도 변경됨 "
   ]
  },
  {
   "cell_type": "code",
   "execution_count": 3,
   "id": "4a36fa1c-48b1-4b21-be3f-a6a27f950ed5",
   "metadata": {},
   "outputs": [
    {
     "name": "stdout",
     "output_type": "stream",
     "text": [
      "5번째 학생 합격입니다\n"
     ]
    }
   ],
   "source": [
    "marks = [90,25,67,45,80]\n",
    "for number in range(len(marks)):\n",
    "    if marks[number] < 60 : \n",
    "        continue \n",
    "print(f'{number+1}번째 학생 합격입니다')"
   ]
  },
  {
   "cell_type": "code",
   "execution_count": 4,
   "id": "ee4f1f72-2047-4a6f-b2cc-a182da868137",
   "metadata": {},
   "outputs": [
    {
     "name": "stdout",
     "output_type": "stream",
     "text": [
      "5050\n"
     ]
    }
   ],
   "source": [
    "#1부터 100까지의 합 \n",
    "add = 0\n",
    "for x in range(1,101):\n",
    "    add = add + x \n",
    "print(add)"
   ]
  },
  {
   "cell_type": "code",
   "execution_count": 6,
   "id": "a29baca9-6990-4378-a2fc-94ecc7caba08",
   "metadata": {},
   "outputs": [
    {
     "name": "stdout",
     "output_type": "stream",
     "text": [
      "4 6 8 10 12 14 16 18  \n",
      "6 9 12 15 18 21 24 27  \n",
      "8 12 16 20 24 28 32 36  \n",
      "10 15 20 25 30 35 40 45  \n",
      "12 18 24 30 36 42 48 54  \n",
      "14 21 28 35 42 49 56 63  \n",
      "16 24 32 40 48 56 64 72  \n",
      "18 27 36 45 54 63 72 81  \n"
     ]
    }
   ],
   "source": [
    "for i in range(2,10):\n",
    "    for j in range(2,10):\n",
    "        print(i*j,end=\" \")\n",
    "    print(' ') #2,3,'단'이 바뀌는 자리 "
   ]
  },
  {
   "cell_type": "code",
   "execution_count": 2,
   "id": "2e8d065f-b9fa-4c6d-b3dd-e0ea34277a4e",
   "metadata": {},
   "outputs": [
    {
     "name": "stdout",
     "output_type": "stream",
     "text": [
      "7\n"
     ]
    }
   ],
   "source": [
    "def add(a,b):\n",
    "    return a + b \n",
    "\n",
    "a = 3 \n",
    "b = 4 \n",
    "c = add(a,b) \n",
    "print(c)"
   ]
  },
  {
   "cell_type": "code",
   "execution_count": null,
   "id": "dfae8a25-fb39-48fb-8c9f-811c58c796d4",
   "metadata": {},
   "outputs": [],
   "source": [
    "def add(a,b): #a,b는 매개변수 #매개변수는 함수에 입력으로 전달된 값을 받는 변수 \n",
    "    return a+b \n",
    "print(add(3,4)) #3,4는 인수 #인수는 함수를 호출할 때 전달하는 입력값 "
   ]
  },
  {
   "cell_type": "code",
   "execution_count": 3,
   "id": "52271b0f-afa6-4f13-bfc1-b4d2259dcd8e",
   "metadata": {},
   "outputs": [
    {
     "name": "stdout",
     "output_type": "stream",
     "text": [
      "7\n"
     ]
    }
   ],
   "source": [
    "#일반적인 함수의 전형적인 예 \n",
    "def add(a,b) :\n",
    "    result = a+b\n",
    "    return result \n",
    "a = add(3,4)\n",
    "print(a)"
   ]
  },
  {
   "cell_type": "code",
   "execution_count": 7,
   "id": "4e8ec197-a378-40f0-a9ad-f5853875f3fc",
   "metadata": {},
   "outputs": [
    {
     "name": "stdout",
     "output_type": "stream",
     "text": [
      "Hi\n",
      "3,4의 합은 7입니다\n",
      "None\n",
      "Hi\n"
     ]
    }
   ],
   "source": [
    "#입력값이 없는 함수 \n",
    "def say():\n",
    "    return 'Hi'\n",
    "a = say() \n",
    "print(a)\n",
    "\n",
    "#리턴값이 없는 함수 \n",
    "def add(a,b):\n",
    "    #print문은 함수의 구성요소 중 하나인 '수행할 문장'에 해당. 리턴값은 다양히 없음 \n",
    "    #리턴값은 오로지 return 명령어로만 돌려받을 수 있음 \n",
    "    print(f'{a},{b}의 합은 {a+b}입니다')\n",
    "a = add(3,4) #리턴값이 없는 함수는 None을 리턴 \n",
    "print(a) # 결과값 : 'None' , '거짓을 나타내는 자료형'\n",
    "\n",
    "#입력값도 리턴값도 없는 함수 \n",
    "def say():\n",
    "    print('Hi')\n",
    "say()"
   ]
  },
  {
   "cell_type": "code",
   "execution_count": null,
   "id": "1bdd8068-2060-432c-80aa-cdf5789da917",
   "metadata": {},
   "outputs": [],
   "source": []
  }
 ],
 "metadata": {
  "kernelspec": {
   "display_name": "Python 3 (ipykernel)",
   "language": "python",
   "name": "python3"
  },
  "language_info": {
   "codemirror_mode": {
    "name": "ipython",
    "version": 3
   },
   "file_extension": ".py",
   "mimetype": "text/x-python",
   "name": "python",
   "nbconvert_exporter": "python",
   "pygments_lexer": "ipython3",
   "version": "3.13.1"
  }
 },
 "nbformat": 4,
 "nbformat_minor": 5
}
