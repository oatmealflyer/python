{
 "cells": [
  {
   "cell_type": "markdown",
   "id": "83782c59-d84a-4490-b423-f6a51ef890e0",
   "metadata": {},
   "source": [
    "# 함수"
   ]
  },
  {
   "cell_type": "markdown",
   "id": "dc06097c-470c-40c3-b6ef-6ef1e809c8c0",
   "metadata": {},
   "source": [
    "## 입력값과 리턴값에 따른 함수 "
   ]
  },
  {
   "cell_type": "code",
   "execution_count": null,
   "id": "c87a105b-79b2-4ec6-95c9-2cb3002c066b",
   "metadata": {},
   "outputs": [],
   "source": [
    "def 덧셈(a, b):\n",
    "    return a + b"
   ]
  },
  {
   "cell_type": "code",
   "execution_count": null,
   "id": "97bfaa07-e9af-40f1-bd22-c31f53fcd638",
   "metadata": {},
   "outputs": [],
   "source": [
    "c = 덧셈(3,4)\n",
    "print(c)"
   ]
  },
  {
   "cell_type": "code",
   "execution_count": null,
   "id": "a7e82325-91d8-40bb-b75e-e18f27290e4f",
   "metadata": {},
   "outputs": [],
   "source": []
  },
  {
   "cell_type": "markdown",
   "id": "0436f64a-acb4-400a-b3d2-60a93a55ceee",
   "metadata": {},
   "source": [
    "## 함수 안에서 선언한 변수의 효력 범위"
   ]
  },
  {
   "cell_type": "code",
   "execution_count": 4,
   "id": "935284f7-b5e3-4d4c-90ed-debc085d0f08",
   "metadata": {},
   "outputs": [
    {
     "name": "stdout",
     "output_type": "stream",
     "text": [
      "1\n"
     ]
    }
   ],
   "source": [
    "#테스트1 \n",
    "a = 1 \n",
    "def test1(a):\n",
    "    a = a+1 #함수 안에서만 사용되는 1 \n",
    "            #변수의 효력범위는 함수 안에서만 존재 \n",
    "test1(a)\n",
    "print(a)"
   ]
  },
  {
   "cell_type": "code",
   "execution_count": null,
   "id": "96cd5099-bf1c-4ccd-8dee-61ec2d10cfae",
   "metadata": {},
   "outputs": [],
   "source": [
    "#테스트2\n",
    "def test2(b):\n",
    "    b = b+1 \n",
    "test2(3)\n",
    "# print(b) #에러 발생"
   ]
  },
  {
   "cell_type": "code",
   "execution_count": 5,
   "id": "7c14fee0-2b44-418b-890a-701c2d0284c0",
   "metadata": {},
   "outputs": [
    {
     "name": "stdout",
     "output_type": "stream",
     "text": [
      "2\n"
     ]
    }
   ],
   "source": [
    "#테스트3\n",
    "c = 1 \n",
    "def test3(c): #리턴함수는 값이 될 수 있겠네 \n",
    "    c = c + 1 \n",
    "    return c \n",
    "c = test3(c) # => c = c+1\n",
    "print(c)"
   ]
  },
  {
   "cell_type": "code",
   "execution_count": 7,
   "id": "093d0eed-3f7b-403c-8137-0431b9ee8832",
   "metadata": {},
   "outputs": [
    {
     "name": "stdout",
     "output_type": "stream",
     "text": [
      "2\n"
     ]
    }
   ],
   "source": [
    "#테스트4 \n",
    "d = 1 \n",
    "def test4() :\n",
    "    global d \n",
    "    d = d + 1 \n",
    "test4()     \n",
    "print(d)    "
   ]
  },
  {
   "cell_type": "markdown",
   "id": "a345b905-3060-4ce7-8e3d-30b610a2f7fb",
   "metadata": {},
   "source": [
    "## lambda 예약어(익명함수)"
   ]
  },
  {
   "cell_type": "code",
   "execution_count": 8,
   "id": "1d584159-2eea-4706-ac88-507d3d43a6d0",
   "metadata": {},
   "outputs": [
    {
     "name": "stdout",
     "output_type": "stream",
     "text": [
      "7\n"
     ]
    }
   ],
   "source": [
    "def test(a,b):\n",
    "    return a+b\n",
    "add = lambda a,b:a+b\n",
    "print(add(3,4))"
   ]
  },
  {
   "cell_type": "code",
   "execution_count": 9,
   "id": "a2c62e61-c083-460a-8f98-8d18a0ae6dc1",
   "metadata": {},
   "outputs": [
    {
     "name": "stdout",
     "output_type": "stream",
     "text": [
      "[0, 1, 2, 3, 4, 5, 6, 7, 8, 9]\n"
     ]
    }
   ],
   "source": [
    "a1 = [x for x in range(10)]\n",
    "print(a1)"
   ]
  },
  {
   "cell_type": "code",
   "execution_count": 12,
   "id": "02c465dc-6e32-42d3-be53-d16ac133052e",
   "metadata": {},
   "outputs": [
    {
     "name": "stdout",
     "output_type": "stream",
     "text": [
      "[0, 2, 4, 6, 8, 10, 12, 14, 16, 18]\n"
     ]
    }
   ],
   "source": [
    "a2 = [(lambda x : x*2)(x) for x in range(10)]\n",
    "print(a2)"
   ]
  },
  {
   "cell_type": "code",
   "execution_count": 13,
   "id": "d52d2c37-7a30-4ad6-9f1a-4f5347eb43d6",
   "metadata": {},
   "outputs": [
    {
     "name": "stdout",
     "output_type": "stream",
     "text": [
      "[0, 1, 4, 9, 16, 25, 36, 49, 64, 81]\n"
     ]
    }
   ],
   "source": [
    "#응용예제 \n",
    "a3 =[0, 1, 2, 3, 4, 5, 6, 7, 8, 9]\n",
    "p = list(map(lambda x:x**2,a3))\n",
    "print(p)"
   ]
  },
  {
   "cell_type": "code",
   "execution_count": 17,
   "id": "b16d86a2-717c-4ccb-a138-4c18d5eeae14",
   "metadata": {},
   "outputs": [
    {
     "name": "stdout",
     "output_type": "stream",
     "text": [
      "0 1 2 3 4 5 6 7 8 9 "
     ]
    }
   ],
   "source": [
    "for i in range(10):\n",
    "    print(i,end=' ')"
   ]
  },
  {
   "cell_type": "markdown",
   "id": "5f8d3520-8d10-4535-a187-529f54079769",
   "metadata": {},
   "source": [
    "# 파일 읽고 쓰기"
   ]
  },
  {
   "cell_type": "markdown",
   "id": "a744b382-4b17-4044-883e-672e93e7533f",
   "metadata": {},
   "source": [
    "## 파일 생성하기"
   ]
  },
  {
   "cell_type": "code",
   "execution_count": 19,
   "id": "0943c09c-b892-4fb7-9836-4edfdb361502",
   "metadata": {},
   "outputs": [],
   "source": [
    "#파일 생성하기1 \n",
    "f = open(\"새파일생성2.txt\",\"w\")\n",
    "f.close() #파일을 열고나서는 닫아야"
   ]
  },
  {
   "cell_type": "markdown",
   "id": "afaa1a8c-3fc8-4948-803a-c64766f0eb7c",
   "metadata": {},
   "source": [
    "<table>\n",
    "<thead>\n",
    "<tr>\n",
    "<th>파일열기모드</th>\n",
    "<th>설명</th>\n",
    "</tr>\n",
    "</thead>\n",
    "<tbody>\n",
    "<tr>\n",
    "<td>r</td>\n",
    "<td>읽기 모드: 파일을 읽기만 할 때 사용한다.</td>\n",
    "</tr>\n",
    "<tr>\n",
    "<td>w</td>\n",
    "<td>쓰기 모드: 파일에 내용을 쓸 때 사용한다.</td>\n",
    "</tr>\n",
    "<tr>\n",
    "<td>a</td>\n",
    "<td>추가 모드: 파일의 마지막에 새로운 내용을 추가할 때 사용한다.</td>\n",
    "</tr>\n",
    "</tbody>\n",
    "</table>"
   ]
  },
  {
   "cell_type": "code",
   "execution_count": 28,
   "id": "f6c9c4ea-6ada-463a-b7af-973d866d1ab9",
   "metadata": {},
   "outputs": [],
   "source": [
    "#파일을 쓰기 모드로 열어 내용쓰기  \n",
    "path = \"./testfile/\"\n",
    "f = open(path +\"새파일생성3.txt\",\"w\",encoding=\"utf-8\") \n",
    "    #문자열 + 문자열 이니까 이어지겠지\n",
    "for n in range(10):\n",
    "    f.write(f'{n+1}번째한글도 잘되요!!\\n'+'\\n')\n",
    "f.close()"
   ]
  },
  {
   "cell_type": "code",
   "execution_count": 65,
   "id": "940c9512-900b-4bf6-a344-fc2a0f0f7ade",
   "metadata": {},
   "outputs": [],
   "source": [
    "# path = \"./testfile/\"\n",
    "# f = open(path+\"lotto.txt\",\"w\",encoding=\"utf-8\")\n",
    "\n",
    "# import random as r \n",
    "# num = 6\n",
    "# box = set()\n",
    "# for x in range(num):\n",
    "#     ran=r.randint(0,45)\n",
    "#     box.add(ran)\n",
    "#     box = list(box)\n",
    "#     x = x+1 \n",
    "    \n",
    "# print(box)\n",
    "# print(f'숫자 1이 나온 횟수는{box.count(1)}번이고 ,{box.count(1)/num*100:0.2f}%입니다 ')\n",
    "# f.write(f'{box}들은 뽑힌 숫자입니다 ')\n",
    "# f.close()"
   ]
  },
  {
   "cell_type": "markdown",
   "id": "2251e7d7-71b4-4768-8eee-68cf3169c863",
   "metadata": {},
   "source": [
    "## 파일을 읽는 방법"
   ]
  },
  {
   "cell_type": "code",
   "execution_count": 85,
   "id": "71c48b0b-ef56-4d27-883a-ea575638d45b",
   "metadata": {},
   "outputs": [],
   "source": [
    "path = \"./testfile/\"\n",
    "f = open(path +\"새파일생성4.txt\",\"w\",encoding=\"utf-8\") \n",
    "    #문자열 + 문자열 이니까 이어지겠지\n",
    "for n in range(10):\n",
    "    f.write(f'{n+1}번째 한글도 잘돼요!!'+'\\n')\n",
    "f.close()"
   ]
  },
  {
   "cell_type": "code",
   "execution_count": null,
   "id": "4223d92e-bb63-42fd-ac17-3422669bbbfc",
   "metadata": {},
   "outputs": [],
   "source": []
  },
  {
   "cell_type": "code",
   "execution_count": 93,
   "id": "f84fa09f-67ae-4ad1-b8fb-89828c1d5b1c",
   "metadata": {},
   "outputs": [],
   "source": [
    "def diary(name):\n",
    "    path = \"./testfile/\"\n",
    "    f = open(path +name+\".txt\",\"a\",encoding=\"utf-8\") \n",
    "    while 1 :\n",
    "        inp = input(\">>> :\")\n",
    "        if inp == '그만' :break \n",
    "        f.write(inp+'\\n')\n",
    "    f.close()"
   ]
  },
  {
   "cell_type": "code",
   "execution_count": 92,
   "id": "1b36ad61-cb17-4f41-9ee2-d844bb28d31e",
   "metadata": {},
   "outputs": [
    {
     "name": "stdin",
     "output_type": "stream",
     "text": [
      ">>> : 오늘은 다른일기\n",
      ">>> : 배고파\n",
      ">>> : ㅋㅋㅋ\n",
      ">>> : 그만\n"
     ]
    }
   ],
   "source": [
    "diary('20250201일기')"
   ]
  },
  {
   "cell_type": "code",
   "execution_count": 87,
   "id": "2acb3ac5-0e05-41d1-a9e8-b63ec6240859",
   "metadata": {},
   "outputs": [
    {
     "name": "stdout",
     "output_type": "stream",
     "text": [
      "1번째 한글도 잘돼요!!\n",
      "\n",
      "2번째 한글도 잘돼요!!\n",
      "\n",
      "\n"
     ]
    }
   ],
   "source": [
    "#readline\n",
    "f = open(path + \"새파일생성4.txt\",\"r\",encoding=\"utf-8\")\n",
    "print(f.readline())\n",
    "print(f.readline())\n",
    "print(line)\n",
    "f.close()"
   ]
  },
  {
   "cell_type": "code",
   "execution_count": 86,
   "id": "fcb03db6-7118-4cd8-ba8a-8419e9faeb68",
   "metadata": {},
   "outputs": [
    {
     "name": "stdout",
     "output_type": "stream",
     "text": [
      "1번째 한글도 잘돼요!!\n",
      "\n",
      "2번째 한글도 잘돼요!!\n",
      "\n",
      "3번째 한글도 잘돼요!!\n",
      "\n",
      "4번째 한글도 잘돼요!!\n",
      "\n",
      "5번째 한글도 잘돼요!!\n",
      "\n",
      "6번째 한글도 잘돼요!!\n",
      "\n",
      "7번째 한글도 잘돼요!!\n",
      "\n",
      "8번째 한글도 잘돼요!!\n",
      "\n",
      "9번째 한글도 잘돼요!!\n",
      "\n",
      "10번째 한글도 잘돼요!!\n",
      "\n"
     ]
    }
   ],
   "source": [
    "#readline + while \n",
    "f = open(path + \"새파일생성4.txt\",\"r\",encoding=\"utf-8\")\n",
    "while 1 : \n",
    "    line = f.readline()\n",
    "    if not line : break \n",
    "    print(line)\n",
    "f.close()"
   ]
  },
  {
   "cell_type": "code",
   "execution_count": null,
   "id": "159005cd-2b3e-4505-a933-5de9e661d6fb",
   "metadata": {},
   "outputs": [],
   "source": [
    "#readline + while \n",
    "f = open(path + \"새파일생성4.txt\",\"r\",encoding=\"utf-8\")\n",
    "while 1 : \n",
    "    line = f.readline()\n",
    "    if not line : break \n",
    "    print(line)\n",
    "f.close()"
   ]
  }
 ],
 "metadata": {
  "kernelspec": {
   "display_name": "Python 3 (ipykernel)",
   "language": "python",
   "name": "python3"
  },
  "language_info": {
   "codemirror_mode": {
    "name": "ipython",
    "version": 3
   },
   "file_extension": ".py",
   "mimetype": "text/x-python",
   "name": "python",
   "nbconvert_exporter": "python",
   "pygments_lexer": "ipython3",
   "version": "3.13.1"
  }
 },
 "nbformat": 4,
 "nbformat_minor": 5
}
