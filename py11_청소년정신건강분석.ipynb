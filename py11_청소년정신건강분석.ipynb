{
 "cells": [
  {
   "cell_type": "code",
   "execution_count": 1,
   "id": "aa86eba3-abdb-4cb0-9d03-ae002534d802",
   "metadata": {},
   "outputs": [
    {
     "data": {
      "text/html": [
       "<div>\n",
       "<style scoped>\n",
       "    .dataframe tbody tr th:only-of-type {\n",
       "        vertical-align: middle;\n",
       "    }\n",
       "\n",
       "    .dataframe tbody tr th {\n",
       "        vertical-align: top;\n",
       "    }\n",
       "\n",
       "    .dataframe thead th {\n",
       "        text-align: right;\n",
       "    }\n",
       "</style>\n",
       "<table border=\"1\" class=\"dataframe\">\n",
       "  <thead>\n",
       "    <tr style=\"text-align: right;\">\n",
       "      <th></th>\n",
       "      <th>시점</th>\n",
       "      <th>스트레스 인지율</th>\n",
       "      <th>스트레스 인지율.1</th>\n",
       "      <th>스트레스 인지율.2</th>\n",
       "      <th>우울감 경험률</th>\n",
       "      <th>우울감 경험률.1</th>\n",
       "      <th>우울감 경험률.2</th>\n",
       "      <th>자살 생각률</th>\n",
       "      <th>자살 생각률.1</th>\n",
       "      <th>자살 생각률.2</th>\n",
       "    </tr>\n",
       "  </thead>\n",
       "  <tbody>\n",
       "    <tr>\n",
       "      <th>0</th>\n",
       "      <td>시점</td>\n",
       "      <td>전체</td>\n",
       "      <td>남학생</td>\n",
       "      <td>여학생</td>\n",
       "      <td>전체</td>\n",
       "      <td>남학생</td>\n",
       "      <td>여학생</td>\n",
       "      <td>전체</td>\n",
       "      <td>남학생</td>\n",
       "      <td>여학생</td>\n",
       "    </tr>\n",
       "    <tr>\n",
       "      <th>1</th>\n",
       "      <td>2024</td>\n",
       "      <td>45.3</td>\n",
       "      <td>39.6</td>\n",
       "      <td>51.3</td>\n",
       "      <td>28.2</td>\n",
       "      <td>23.9</td>\n",
       "      <td>32.6</td>\n",
       "      <td>14.2</td>\n",
       "      <td>11.1</td>\n",
       "      <td>17.4</td>\n",
       "    </tr>\n",
       "  </tbody>\n",
       "</table>\n",
       "</div>"
      ],
      "text/plain": [
       "     시점 스트레스 인지율 스트레스 인지율.1 스트레스 인지율.2 우울감 경험률 우울감 경험률.1 우울감 경험률.2 자살 생각률  \\\n",
       "0    시점       전체        남학생        여학생      전체       남학생       여학생     전체   \n",
       "1  2024     45.3       39.6       51.3    28.2      23.9      32.6   14.2   \n",
       "\n",
       "  자살 생각률.1 자살 생각률.2  \n",
       "0      남학생      여학생  \n",
       "1     11.1     17.4  "
      ]
     },
     "execution_count": 1,
     "metadata": {},
     "output_type": "execute_result"
    }
   ],
   "source": [
    "import pandas as pd \n",
    "# !dir 로 현재 경로 확인 후 \n",
    "file_path = \"./ref/청소년정신건강_20250304.csv\"\n",
    "ori = pd.read_csv(file_path)\n",
    "ori "
   ]
  },
  {
   "cell_type": "code",
   "execution_count": 2,
   "id": "6b8e78d3-da15-43c7-963b-eb464846bd39",
   "metadata": {
    "scrolled": true
   },
   "outputs": [
    {
     "data": {
      "text/html": [
       "<div>\n",
       "<style scoped>\n",
       "    .dataframe tbody tr th:only-of-type {\n",
       "        vertical-align: middle;\n",
       "    }\n",
       "\n",
       "    .dataframe tbody tr th {\n",
       "        vertical-align: top;\n",
       "    }\n",
       "\n",
       "    .dataframe thead th {\n",
       "        text-align: right;\n",
       "    }\n",
       "</style>\n",
       "<table border=\"1\" class=\"dataframe\">\n",
       "  <thead>\n",
       "    <tr style=\"text-align: right;\">\n",
       "      <th></th>\n",
       "      <th>시점</th>\n",
       "      <th>스트레스</th>\n",
       "      <th>스트레스남학생</th>\n",
       "      <th>스트레스여학생</th>\n",
       "      <th>우울감경험율</th>\n",
       "      <th>우울남학생</th>\n",
       "      <th>우울여학생</th>\n",
       "      <th>자살생각율</th>\n",
       "      <th>자살남학생</th>\n",
       "      <th>자살여학생</th>\n",
       "    </tr>\n",
       "  </thead>\n",
       "  <tbody>\n",
       "    <tr>\n",
       "      <th>0</th>\n",
       "      <td>시점</td>\n",
       "      <td>전체</td>\n",
       "      <td>남학생</td>\n",
       "      <td>여학생</td>\n",
       "      <td>전체</td>\n",
       "      <td>남학생</td>\n",
       "      <td>여학생</td>\n",
       "      <td>전체</td>\n",
       "      <td>남학생</td>\n",
       "      <td>여학생</td>\n",
       "    </tr>\n",
       "    <tr>\n",
       "      <th>1</th>\n",
       "      <td>2024</td>\n",
       "      <td>45.3</td>\n",
       "      <td>39.6</td>\n",
       "      <td>51.3</td>\n",
       "      <td>28.2</td>\n",
       "      <td>23.9</td>\n",
       "      <td>32.6</td>\n",
       "      <td>14.2</td>\n",
       "      <td>11.1</td>\n",
       "      <td>17.4</td>\n",
       "    </tr>\n",
       "  </tbody>\n",
       "</table>\n",
       "</div>"
      ],
      "text/plain": [
       "     시점  스트레스 스트레스남학생 스트레스여학생 우울감경험율 우울남학생 우울여학생 자살생각율 자살남학생 자살여학생\n",
       "0    시점    전체     남학생     여학생     전체   남학생   여학생    전체   남학생   여학생\n",
       "1  2024  45.3    39.6    51.3   28.2  23.9  32.6  14.2  11.1  17.4"
      ]
     },
     "execution_count": 2,
     "metadata": {},
     "output_type": "execute_result"
    }
   ],
   "source": [
    "#컬럼명 \n",
    "new_name = ['시점','스트레스','스트레스남학생','스트레스여학생','우울감경험율','우울남학생','우울여학생','자살생각율','자살남학생','자살여학생']\n",
    "ori.columns = new_name\n",
    "ori"
   ]
  },
  {
   "cell_type": "code",
   "execution_count": 3,
   "id": "0c6424e1-bb87-4eb9-ab22-37aa12ee2d26",
   "metadata": {},
   "outputs": [
    {
     "data": {
      "text/html": [
       "<div>\n",
       "<style scoped>\n",
       "    .dataframe tbody tr th:only-of-type {\n",
       "        vertical-align: middle;\n",
       "    }\n",
       "\n",
       "    .dataframe tbody tr th {\n",
       "        vertical-align: top;\n",
       "    }\n",
       "\n",
       "    .dataframe thead th {\n",
       "        text-align: right;\n",
       "    }\n",
       "</style>\n",
       "<table border=\"1\" class=\"dataframe\">\n",
       "  <thead>\n",
       "    <tr style=\"text-align: right;\">\n",
       "      <th></th>\n",
       "      <th>스트레스</th>\n",
       "      <th>스트레스남학생</th>\n",
       "      <th>스트레스여학생</th>\n",
       "      <th>우울감경험율</th>\n",
       "      <th>우울남학생</th>\n",
       "      <th>우울여학생</th>\n",
       "      <th>자살생각율</th>\n",
       "      <th>자살남학생</th>\n",
       "      <th>자살여학생</th>\n",
       "    </tr>\n",
       "  </thead>\n",
       "  <tbody>\n",
       "    <tr>\n",
       "      <th>1</th>\n",
       "      <td>45.3</td>\n",
       "      <td>39.6</td>\n",
       "      <td>51.3</td>\n",
       "      <td>28.2</td>\n",
       "      <td>23.9</td>\n",
       "      <td>32.6</td>\n",
       "      <td>14.2</td>\n",
       "      <td>11.1</td>\n",
       "      <td>17.4</td>\n",
       "    </tr>\n",
       "  </tbody>\n",
       "</table>\n",
       "</div>"
      ],
      "text/plain": [
       "   스트레스 스트레스남학생 스트레스여학생 우울감경험율 우울남학생 우울여학생 자살생각율 자살남학생 자살여학생\n",
       "1  45.3    39.6    51.3   28.2  23.9  32.6  14.2  11.1  17.4"
      ]
     },
     "execution_count": 3,
     "metadata": {},
     "output_type": "execute_result"
    }
   ],
   "source": [
    "#시점을 없애고, 0번 행도 없앰 \n",
    "ori = ori.loc[1:,'스트레스':]\n",
    "ori"
   ]
  },
  {
   "cell_type": "code",
   "execution_count": 4,
   "id": "275ccdcf-87e6-4cdc-8638-a7c9dfafd328",
   "metadata": {},
   "outputs": [
    {
     "data": {
      "text/html": [
       "<div>\n",
       "<style scoped>\n",
       "    .dataframe tbody tr th:only-of-type {\n",
       "        vertical-align: middle;\n",
       "    }\n",
       "\n",
       "    .dataframe tbody tr th {\n",
       "        vertical-align: top;\n",
       "    }\n",
       "\n",
       "    .dataframe thead th {\n",
       "        text-align: right;\n",
       "    }\n",
       "</style>\n",
       "<table border=\"1\" class=\"dataframe\">\n",
       "  <thead>\n",
       "    <tr style=\"text-align: right;\">\n",
       "      <th></th>\n",
       "      <th>스트레스</th>\n",
       "      <th>스트레스남학생</th>\n",
       "      <th>스트레스여학생</th>\n",
       "      <th>우울감경험율</th>\n",
       "      <th>우울남학생</th>\n",
       "      <th>우울여학생</th>\n",
       "      <th>자살생각율</th>\n",
       "      <th>자살남학생</th>\n",
       "      <th>자살여학생</th>\n",
       "      <th>응답</th>\n",
       "    </tr>\n",
       "  </thead>\n",
       "  <tbody>\n",
       "    <tr>\n",
       "      <th>1</th>\n",
       "      <td>45.3</td>\n",
       "      <td>39.6</td>\n",
       "      <td>51.3</td>\n",
       "      <td>28.2</td>\n",
       "      <td>23.9</td>\n",
       "      <td>32.6</td>\n",
       "      <td>14.2</td>\n",
       "      <td>11.1</td>\n",
       "      <td>17.4</td>\n",
       "      <td>그렇다</td>\n",
       "    </tr>\n",
       "    <tr>\n",
       "      <th>2</th>\n",
       "      <td>54.7</td>\n",
       "      <td>60.4</td>\n",
       "      <td>48.7</td>\n",
       "      <td>71.8</td>\n",
       "      <td>76.1</td>\n",
       "      <td>67.4</td>\n",
       "      <td>85.8</td>\n",
       "      <td>88.9</td>\n",
       "      <td>82.6</td>\n",
       "      <td>아니다</td>\n",
       "    </tr>\n",
       "  </tbody>\n",
       "</table>\n",
       "</div>"
      ],
      "text/plain": [
       "   스트레스 스트레스남학생 스트레스여학생 우울감경험율 우울남학생 우울여학생 자살생각율 자살남학생 자살여학생   응답\n",
       "1  45.3    39.6    51.3   28.2  23.9  32.6  14.2  11.1  17.4  그렇다\n",
       "2  54.7    60.4    48.7   71.8  76.1  67.4  85.8  88.9  82.6  아니다"
      ]
     },
     "execution_count": 4,
     "metadata": {},
     "output_type": "execute_result"
    }
   ],
   "source": [
    "#2번 인덱스 행들 생성,100에서 값을 뺀 값 \n",
    "ori.loc[2] = 100 - ori.loc[1,'스트레스':].astype(float)\n",
    "#마지막에 응답 칼럼을 생성,그렇다 or 아니다 \n",
    "ori['응답']=['그렇다','아니다']\n",
    "ori"
   ]
  },
  {
   "cell_type": "code",
   "execution_count": 5,
   "id": "2ab1090a-109d-4fef-bc0e-f41aa67ef23b",
   "metadata": {},
   "outputs": [
    {
     "data": {
      "text/html": [
       "<div>\n",
       "<style scoped>\n",
       "    .dataframe tbody tr th:only-of-type {\n",
       "        vertical-align: middle;\n",
       "    }\n",
       "\n",
       "    .dataframe tbody tr th {\n",
       "        vertical-align: top;\n",
       "    }\n",
       "\n",
       "    .dataframe thead th {\n",
       "        text-align: right;\n",
       "    }\n",
       "</style>\n",
       "<table border=\"1\" class=\"dataframe\">\n",
       "  <thead>\n",
       "    <tr style=\"text-align: right;\">\n",
       "      <th></th>\n",
       "      <th>스트레스</th>\n",
       "      <th>스트레스남학생</th>\n",
       "      <th>스트레스여학생</th>\n",
       "      <th>우울감경험율</th>\n",
       "      <th>우울남학생</th>\n",
       "      <th>우울여학생</th>\n",
       "      <th>자살생각율</th>\n",
       "      <th>자살남학생</th>\n",
       "      <th>자살여학생</th>\n",
       "    </tr>\n",
       "    <tr>\n",
       "      <th>응답</th>\n",
       "      <th></th>\n",
       "      <th></th>\n",
       "      <th></th>\n",
       "      <th></th>\n",
       "      <th></th>\n",
       "      <th></th>\n",
       "      <th></th>\n",
       "      <th></th>\n",
       "      <th></th>\n",
       "    </tr>\n",
       "  </thead>\n",
       "  <tbody>\n",
       "    <tr>\n",
       "      <th>그렇다</th>\n",
       "      <td>45.3</td>\n",
       "      <td>39.6</td>\n",
       "      <td>51.3</td>\n",
       "      <td>28.2</td>\n",
       "      <td>23.9</td>\n",
       "      <td>32.6</td>\n",
       "      <td>14.2</td>\n",
       "      <td>11.1</td>\n",
       "      <td>17.4</td>\n",
       "    </tr>\n",
       "    <tr>\n",
       "      <th>아니다</th>\n",
       "      <td>54.7</td>\n",
       "      <td>60.4</td>\n",
       "      <td>48.7</td>\n",
       "      <td>71.8</td>\n",
       "      <td>76.1</td>\n",
       "      <td>67.4</td>\n",
       "      <td>85.8</td>\n",
       "      <td>88.9</td>\n",
       "      <td>82.6</td>\n",
       "    </tr>\n",
       "  </tbody>\n",
       "</table>\n",
       "</div>"
      ],
      "text/plain": [
       "     스트레스 스트레스남학생 스트레스여학생 우울감경험율 우울남학생 우울여학생 자살생각율 자살남학생 자살여학생\n",
       "응답                                                            \n",
       "그렇다  45.3    39.6    51.3   28.2  23.9  32.6  14.2  11.1  17.4\n",
       "아니다  54.7    60.4    48.7   71.8  76.1  67.4  85.8  88.9  82.6"
      ]
     },
     "execution_count": 5,
     "metadata": {},
     "output_type": "execute_result"
    }
   ],
   "source": [
    "ori = ori.set_index('응답')\n",
    "ori"
   ]
  },
  {
   "cell_type": "code",
   "execution_count": null,
   "id": "f67979f3-1a37-40c0-b16d-c5c9c0909d96",
   "metadata": {},
   "outputs": [],
   "source": [
    "# OS에 사용가능한 ,설치된 폰트를 나열 \n",
    "import matplotlib\n",
    "import matplotlib.pyplot as plt \n",
    "from matplotlib import rc \n",
    "import matplotlib.font_manager as fm \n",
    "fontlist = fm.findSystemFonts(fontpaths=None,fontext='ttf')\n",
    "fontlist"
   ]
  },
  {
   "cell_type": "code",
   "execution_count": 2,
   "id": "bbdbd2ca-6070-44ca-aa39-d7c71113c031",
   "metadata": {},
   "outputs": [
    {
     "data": {
      "text/plain": [
       "Text(0.3, 0.3, '한글')"
      ]
     },
     "execution_count": 2,
     "metadata": {},
     "output_type": "execute_result"
    },
    {
     "data": {
      "image/png": "[encoded data removed]",
      "text/plain": [
       "<Figure size 640x480 with 1 Axes>"
      ]
     },
     "metadata": {},
     "output_type": "display_data"
    }
   ],
   "source": [
    "#윈도우용 폰트 경로 설정 \n",
    "# path = \"C:\\\\Windows\\\\Fonts\\\\NanumGothicLight.ttf\"\n",
    "# font_name = fm.FontProperties(fname= path).get_name()\n",
    "# rc('font',family=font_name)\n",
    "\n",
    "#리눅스용 폰트 경로 설정 \n",
    "plt.rc('font',family=\"NanumBarunGothic\")\n",
    "plt.text(0.3,0.3,'한글',size=100)"
   ]
  },
  {
   "cell_type": "code",
   "execution_count": 8,
   "id": "26b4cb57-1f28-4541-8f1f-3da0c0a359f7",
   "metadata": {},
   "outputs": [
    {
     "data": {
      "text/plain": [
       "<Axes: ylabel='스트레스'>"
      ]
     },
     "execution_count": 8,
     "metadata": {},
     "output_type": "execute_result"
    },
    {
     "data": {
      "image/png": "[encoded data removed]",
      "text/plain": [
       "<Figure size 640x480 with 1 Axes>"
      ]
     },
     "metadata": {},
     "output_type": "display_data"
    }
   ],
   "source": [
    "ori['스트레스'].astype(float).plot.pie(explode=[0,0.02])"
   ]
  },
  {
   "cell_type": "code",
   "execution_count": 9,
   "id": "ae362993-68e0-4e96-af96-711e701ae4a9",
   "metadata": {},
   "outputs": [
    {
     "data": {
      "image/png": "[encoded data removed]",
      "text/plain": [
       "<Figure size 1000x800 with 6 Axes>"
      ]
     },
     "metadata": {},
     "output_type": "display_data"
    }
   ],
   "source": [
    "# 필요한 라이브러리 임포트 #그래프 그리기 위한 준비 \n",
    "import matplotlib.pyplot as plt \n",
    "\n",
    "#2x3 크기의 서브플롯(fig,ax) 생성 , 그래프의 크기 10x8 설정 \n",
    "#fig는 전체 그림 객체 \n",
    "#ax는 각 서브플롯의 축 객체 \n",
    "fig, ax = plt.subplots(2,3,figsize=(10,8))\n",
    "\n",
    "# '스트레스' 데이터를 파이 차트로 시각화 \n",
    "#autopct는 퍼센트 포맷 \n",
    "ori['스트레스'].astype(float).plot.pie(explode=[0,0.1], ax=ax[1][0],autopct=\"%.1f%%\")\n",
    "ax[1][0].set_title('스트레스를 받은 적 있다')\n",
    "ax[1][0].set_ylabel('2025년')\n",
    "\n",
    "# '우울감경험율 '데이터를 파이차트로 시각화 \n",
    "ori['우울감경험율'].astype(float).plot.pie(explode=[0,0.1],ax=ax[1][1],autopct=\"%.1f%%\")\n",
    "ax[1][1].set_title('우울증을 경험한 적 있다')\n",
    "ax[1][1].set_ylabel('')\n",
    "\n",
    "# '자살생각율' 데이터를 파이차트로 시각화 \n",
    "ori['자살생각율'].astype(float).plot.pie(explode=[0,0.1],ax = ax[1][2],autopct=\"%.1f%%\")\n",
    "ax[1][2].set_title('자살은 고민한 적이 있다')\n",
    "ax[1][2].set_ylabel('')\n",
    "\n",
    "# 6. 그래프의 전체 제목 설정\n",
    "plt.suptitle('2024 ~ 2025년 청소년 정신건강관련 통계', fontsize=16)\n",
    "\n",
    "# 7. 그래프를 화면에 출력\n",
    "plt.show()"
   ]
  },
  {
   "cell_type": "code",
   "execution_count": null,
   "id": "c8a3dd47-63c7-4041-a419-371b60a2002b",
   "metadata": {},
   "outputs": [],
   "source": []
  }
 ],
 "metadata": {
  "kernelspec": {
   "display_name": "Python 3 (ipykernel)",
   "language": "python",
   "name": "python3"
  },
  "language_info": {
   "codemirror_mode": {
    "name": "ipython",
    "version": 3
   },
   "file_extension": ".py",
   "mimetype": "text/x-python",
   "name": "python",
   "nbconvert_exporter": "python",
   "pygments_lexer": "ipython3",
   "version": "3.11.6"
  }
 },
 "nbformat": 4,
 "nbformat_minor": 5
}
