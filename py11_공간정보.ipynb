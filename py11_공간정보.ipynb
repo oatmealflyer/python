{
 "cells": [
  {
   "cell_type": "markdown",
   "id": "08bef95c-daa4-46f0-a8da-2396764e4f5c",
   "metadata": {},
   "source": [
    "# 공간정보\n",
    "- 브이월드 공간정보단로드 국토부 \n",
    "- https://www.vworld.kr/dtmk/dtmk_ntads_s001.do\n"
   ]
  },
  {
   "cell_type": "code",
   "execution_count": 1,
   "id": "63e2c6ab-0f69-4ab8-82c3-4c9ef8909754",
   "metadata": {},
   "outputs": [],
   "source": [
    "# OS에 사용가능한 ,설치된 폰트를 나열 \n",
    "import matplotlib\n",
    "import matplotlib.pyplot as plt \n",
    "from matplotlib import rc \n",
    "import matplotlib.font_manager as fm "
   ]
  },
  {
   "cell_type": "code",
   "execution_count": null,
   "id": "176b9bbe-3cb1-4908-a8be-41eb9dfd30fe",
   "metadata": {},
   "outputs": [],
   "source": [
    "! pip install "
   ]
  },
  {
   "cell_type": "code",
   "execution_count": 4,
   "id": "1e4d271c-d35e-4f82-842f-f2fcecb48c7c",
   "metadata": {},
   "outputs": [
    {
     "name": "stderr",
     "output_type": "stream",
     "text": [
      "Sudo媛� �씠 而댄벂�꽣�뿉�꽌 �궗�슜�븯吏� �븡�룄濡� �꽕�젙�릺�뼱 �엳�뒿�땲�떎. �궗�슜�븯�룄濡� �꽕�젙�븯�젮硫� �쑝濡� �씠�룞�븯�꽭�슂. \u001b]8;;ms-settings:developers\u001b\\Developer Settings page\u001b]8;;\u001b\\ �꽕�젙 �빋�쓽\n"
     ]
    }
   ],
   "source": [
    "echo \"1234\" | sudo apt install -y fonts-name"
   ]
  },
  {
   "cell_type": "code",
   "execution_count": null,
   "id": "8a5c64cd-7683-4cdf-a65d-fe054d2ca6d7",
   "metadata": {},
   "outputs": [],
   "source": [
    "#윈도우용 폰트 경로 설정 \n",
    "# path = \"C:\\\\Windows\\\\Fonts\\\\NanumGothicLight.ttf\"\n",
    "# font_name = fm.FontProperties(fname= path).get_name()\n",
    "# rc('font',family=font_name)\n",
    "\n",
    "#리눅스용 폰트 경로 설정 \n",
    "plt.rc('font',family=\"NanumBarunGothic\")\n",
    "plt.text(0.3,0.3,'한글',size=100)"
   ]
  }
 ],
 "metadata": {
  "kernelspec": {
   "display_name": "Python 3 (ipykernel)",
   "language": "python",
   "name": "python3"
  },
  "language_info": {
   "codemirror_mode": {
    "name": "ipython",
    "version": 3
   },
   "file_extension": ".py",
   "mimetype": "text/x-python",
   "name": "python",
   "nbconvert_exporter": "python",
   "pygments_lexer": "ipython3",
   "version": "3.13.1"
  }
 },
 "nbformat": 4,
 "nbformat_minor": 5
}
