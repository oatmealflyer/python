{
 "cells": [
  {
   "cell_type": "markdown",
   "id": "1265fa84-9b37-49b1-8735-1d8f31633f53",
   "metadata": {},
   "source": [
    "# 자료형"
   ]
  },
  {
   "cell_type": "markdown",
   "id": "648d276c-9db7-476d-a99c-32f01b47411d",
   "metadata": {},
   "source": [
    "## 리스트 자료형"
   ]
  },
  {
   "cell_type": "markdown",
   "id": "81b33972-8e23-4e9a-8b1c-5f56b3384489",
   "metadata": {},
   "source": [
    "### 리스트의 인덱싱과 슬라이싱"
   ]
  },
  {
   "cell_type": "code",
   "execution_count": 14,
   "id": "a17efa31-96a6-4cbc-b261-67645b717438",
   "metadata": {},
   "outputs": [
    {
     "name": "stdout",
     "output_type": "stream",
     "text": [
      "['Life', 'is']\n",
      "Life\n",
      "is\n"
     ]
    }
   ],
   "source": [
    "odd = [1,3,5,7,9]\n",
    "\n",
    "a = []\n",
    "b = [1,2,3]\n",
    "c = ['Life','is','too','short']\n",
    "d= [1,2,'Life','is']\n",
    "e = [1,2,['Life','is']]\n",
    "print(e[2])\n",
    "print(e[2][0])\n",
    "print(e[2][1])"
   ]
  },
  {
   "cell_type": "code",
   "execution_count": 15,
   "id": "1f3439c1-682d-4bd8-9778-e6098beff7c8",
   "metadata": {},
   "outputs": [
    {
     "name": "stdout",
     "output_type": "stream",
     "text": [
      "5\n",
      "Lifeshort\n",
      "LifeLifeLife\n"
     ]
    }
   ],
   "source": [
    "#리스트의 인덱싱과 연산\n",
    "print(b[1] + b[2])\n",
    "print(c[0]+c[3])\n",
    "print(c[0]*b[2])"
   ]
  },
  {
   "cell_type": "code",
   "execution_count": 23,
   "id": "fc8d11d7-de77-4099-a9a6-46405db44553",
   "metadata": {},
   "outputs": [
    {
     "name": "stdout",
     "output_type": "stream",
     "text": [
      "[11, 22, 33, 44, 55]\n",
      "[33, 44, 55]\n",
      "[11, 22]\n",
      "[44, 55]\n",
      "[55, 44, 33, 22, 11]\n"
     ]
    }
   ],
   "source": [
    "# 리스트의 슬라이싱 \n",
    "a= [11,22,33,44,55]\n",
    "print(a[:])\n",
    "print(a[2:])\n",
    "print(a[:-3])\n",
    "print(a[-2:])\n",
    "print(a[::-1])"
   ]
  },
  {
   "cell_type": "code",
   "execution_count": 25,
   "id": "ec63929f-c6bf-4a22-ab83-a1b4958682be",
   "metadata": {},
   "outputs": [
    {
     "name": "stdout",
     "output_type": "stream",
     "text": [
      "[2, 3]\n"
     ]
    }
   ],
   "source": [
    "a= [1,2,3,4,5]\n",
    "print(a[1:3])"
   ]
  },
  {
   "cell_type": "markdown",
   "id": "8b40a750-2e74-4033-9671-b8d5bee37f63",
   "metadata": {},
   "source": [
    "### 리스트 연산,수정,삭제하기"
   ]
  },
  {
   "cell_type": "code",
   "execution_count": 2,
   "id": "10543005-f671-4e76-973f-24f9a1784ba6",
   "metadata": {},
   "outputs": [
    {
     "name": "stdout",
     "output_type": "stream",
     "text": [
      "[11, 22, 33, 44, 55, 66]\n",
      "[11, 22, 33, 11, 22, 33, 11, 22, 33]\n"
     ]
    },
    {
     "data": {
      "text/plain": [
       "9"
      ]
     },
     "execution_count": 2,
     "metadata": {},
     "output_type": "execute_result"
    }
   ],
   "source": [
    "a = [11,22,33]\n",
    "b = [44,55,66]\n",
    "#리스트 더하기 \n",
    "print(a+b)\n",
    "#리스트 반복하기 \n",
    "c = a*3 \n",
    "print(a*3)\n",
    "len(c)"
   ]
  },
  {
   "cell_type": "code",
   "execution_count": 3,
   "id": "a2fe022e-dbc6-4aa2-b21c-2732f0e46cfd",
   "metadata": {},
   "outputs": [
    {
     "name": "stdout",
     "output_type": "stream",
     "text": [
      "[11, 22, 44]\n",
      "[11, 44]\n"
     ]
    }
   ],
   "source": [
    "#리스트 값 수정하기 \n",
    "a = [11,22,33]\n",
    "a[2] = 44\n",
    "print (a)\n",
    "# a[3] = 5 없는 요소를 수정하는 것은 에러 \n",
    "# print (a)\n",
    "\n",
    "# a[1] = '' #빈칸 삽입 \n",
    "# a[1] = 0 #0으로 수정 삽입 \n",
    "#리스트 값 삭제하기 \n",
    "del a[1]\n",
    "print(a)"
   ]
  },
  {
   "cell_type": "code",
   "execution_count": 36,
   "id": "27628d87-15df-4a12-955a-b2372efa736f",
   "metadata": {},
   "outputs": [
    {
     "data": {
      "text/plain": [
       "[11, 22, 33, 11, 22, 33, 11, 22, 33]"
      ]
     },
     "execution_count": 36,
     "metadata": {},
     "output_type": "execute_result"
    }
   ],
   "source": [
    "c"
   ]
  },
  {
   "cell_type": "code",
   "execution_count": 4,
   "id": "28219e70-476f-4ab1-b53b-ef415105c0b3",
   "metadata": {},
   "outputs": [
    {
     "name": "stdout",
     "output_type": "stream",
     "text": [
      "[11, 22, 33, 11, 22, 33, 11, 22, 33]\n",
      "[22, 33, 11, 22, 33]\n"
     ]
    }
   ],
   "source": [
    "#리스트값 슬라이싱으로 삭제\n",
    "print(c)\n",
    "del c[:4]\n",
    "print(c)"
   ]
  },
  {
   "cell_type": "markdown",
   "id": "277f8365-32aa-4718-8f83-621771536117",
   "metadata": {},
   "source": [
    "### 리스트 관련 함수"
   ]
  },
  {
   "cell_type": "code",
   "execution_count": 24,
   "id": "1eef4472-76d9-4c3e-8b7b-b056e29ba9bb",
   "metadata": {},
   "outputs": [
    {
     "name": "stdout",
     "output_type": "stream",
     "text": [
      "[]\n"
     ]
    }
   ],
   "source": [
    "#리스트 요소 비우기 \n",
    "c.clear()\n",
    "print(c)"
   ]
  },
  {
   "cell_type": "code",
   "execution_count": 25,
   "id": "15a7163f-750e-4514-8797-87142698a2bf",
   "metadata": {},
   "outputs": [],
   "source": [
    "a = [] #리스트 초기화 "
   ]
  },
  {
   "cell_type": "code",
   "execution_count": 26,
   "id": "49b6af0a-e46c-4eb1-b16a-74b09d7fdecc",
   "metadata": {},
   "outputs": [
    {
     "name": "stdout",
     "output_type": "stream",
     "text": [
      "[4]\n",
      "[4, [11, 22]]\n"
     ]
    }
   ],
   "source": [
    "#리스트에 요소 추가하기-append\n",
    "a.append(4)\n",
    "print(a)\n",
    "a.append([11,22])\n",
    "print(a)"
   ]
  },
  {
   "cell_type": "code",
   "execution_count": 27,
   "id": "b2d2e72b-5c49-4802-9ac1-bdd17c06907f",
   "metadata": {},
   "outputs": [],
   "source": [
    "b = []\n",
    "num=0"
   ]
  },
  {
   "cell_type": "code",
   "execution_count": 28,
   "id": "e18a28b2-7b25-4141-8bde-ef2093863030",
   "metadata": {},
   "outputs": [
    {
     "name": "stdout",
     "output_type": "stream",
     "text": [
      "[1]\n"
     ]
    }
   ],
   "source": [
    "num += 1 \n",
    "b.append(num)\n",
    "print(b)"
   ]
  },
  {
   "cell_type": "code",
   "execution_count": 29,
   "id": "9346e5ba-b0b6-457e-a82b-7ad8f9044e14",
   "metadata": {},
   "outputs": [
    {
     "name": "stdout",
     "output_type": "stream",
     "text": [
      "[11, 22, 33, 44, 55]\n"
     ]
    }
   ],
   "source": [
    "#리스트 정렬(오름차순)- sort\n",
    "#원본 파괴\n",
    "a = [11,44,33,22,55]\n",
    "a.sort()\n",
    "print(a)"
   ]
  },
  {
   "cell_type": "code",
   "execution_count": 30,
   "id": "01292b77-bea9-43ea-bf2c-b6008b53d627",
   "metadata": {},
   "outputs": [
    {
     "name": "stdout",
     "output_type": "stream",
     "text": [
      "[55, 44, 33, 22, 11]\n"
     ]
    }
   ],
   "source": [
    "#리스트 정렬(냬림차순)- sort\n",
    "#원본 파괴\n",
    "a = [11,44,33,22,55]\n",
    "a.sort(reverse=True)\n",
    "print(a)"
   ]
  },
  {
   "cell_type": "code",
   "execution_count": 31,
   "id": "864d319c-2d51-4887-86a6-41197e02c2cc",
   "metadata": {},
   "outputs": [
    {
     "name": "stdout",
     "output_type": "stream",
     "text": [
      "[66, 77, 88, 99, 0]\n",
      "[0, 66, 77, 88, 99]\n",
      "[99, 88, 77, 66, 0]\n"
     ]
    }
   ],
   "source": [
    "#리스트 정렬 원본유지하기 \n",
    "aa = [66,77,88,99,0]\n",
    "bb = sorted(aa)\n",
    "cc = sorted(aa,reverse=True)\n",
    "print(aa)\n",
    "print(bb)\n",
    "print(cc)"
   ]
  },
  {
   "cell_type": "code",
   "execution_count": 32,
   "id": "15093707-af8b-4a98-8674-bdb1a6a8fae2",
   "metadata": {},
   "outputs": [
    {
     "name": "stdout",
     "output_type": "stream",
     "text": [
      "['banana', 'kiwi', 'orange', 'melon', 'pear', 'apple', 'strawberry', 'blueberry']\n",
      "['kiwi', 'pear', 'melon', 'apple', 'banana', 'orange', 'blueberry', 'strawberry']\n",
      "['strawberry', 'blueberry', 'banana', 'orange', 'melon', 'apple', 'kiwi', 'pear']\n"
     ]
    }
   ],
   "source": [
    "# sorted 응용 \n",
    "fruit = ['banana','kiwi','orange','melon','pear','apple','strawberry','blueberry']\n",
    "result = sorted(fruit,key=len)\n",
    "result2 = sorted(fruit,key=len,reverse=True)\n",
    "print(fruit)\n",
    "print(result)\n",
    "print(result2)"
   ]
  },
  {
   "cell_type": "code",
   "execution_count": 33,
   "id": "853b3576-a17d-47e5-85b6-ac12d1567865",
   "metadata": {},
   "outputs": [
    {
     "name": "stdout",
     "output_type": "stream",
     "text": [
      "[55, 22, 33, 44, 11]\n"
     ]
    }
   ],
   "source": [
    "#리스트 뒤집기- reverse \n",
    "a = [11,44,33,22,55]\n",
    "a.reverse()\n",
    "print(a)"
   ]
  },
  {
   "cell_type": "code",
   "execution_count": 34,
   "id": "7e528968-c5c6-41f3-b6cb-b2cc43760bcc",
   "metadata": {},
   "outputs": [
    {
     "name": "stdout",
     "output_type": "stream",
     "text": [
      "과일을 먹어볼까?\n",
      "kiwi냠냠 맛있다\n",
      "pear냠냠 맛있다\n",
      "melon냠냠 맛있다\n",
      "apple냠냠 맛있다\n",
      "banana못 먹겠어! 웩!\n",
      "orange냠냠 맛있다\n",
      "blueberry냠냠 맛있다\n",
      "strawberry냠냠 맛있다\n",
      "와~ 다먹었다\n"
     ]
    }
   ],
   "source": [
    "print('과일을 먹어볼까?')  \n",
    "for r in result: \n",
    "    if r == 'banana':\n",
    "        print(r+ '못 먹겠어! 웩!')\n",
    "    if r != 'banana':\n",
    "        print(r + '냠냠 맛있다' )\n",
    "print('와~ 다먹었다')    "
   ]
  },
  {
   "cell_type": "code",
   "execution_count": 35,
   "id": "7c6332cb-cd7f-4bc0-8207-0dc083592c1d",
   "metadata": {},
   "outputs": [
    {
     "data": {
      "text/plain": [
       "3"
      ]
     },
     "execution_count": 35,
     "metadata": {},
     "output_type": "execute_result"
    }
   ],
   "source": [
    "# 인덱스 반환 - index\n",
    "fruit = ['banana','kiwi','orange','melon','pear','apple','strawberry','blueberry']\n",
    "fruit.index('melon')"
   ]
  },
  {
   "cell_type": "code",
   "execution_count": 36,
   "id": "d96fbf8e-3c9d-417e-8003-b71031a9000a",
   "metadata": {},
   "outputs": [
    {
     "name": "stdin",
     "output_type": "stream",
     "text": [
      "먹고 싶은 과일을 입력하세요 melon\n"
     ]
    },
    {
     "name": "stdout",
     "output_type": "stream",
     "text": [
      "melon를 좋아하시는 군요!! 그것은 4번째에 있습니다\n"
     ]
    }
   ],
   "source": [
    "#index 응용 \n",
    "fruit = ['banana','kiwi','orange','melon','pear','apple','strawberry','blueberry']\n",
    "want = input('먹고 싶은 과일을 입력하세요')\n",
    "where = fruit.index(want)\n",
    "print(f'{want}를 좋아하시는 군요!! 그것은 {where+1}번째에 있습니다')\n"
   ]
  },
  {
   "cell_type": "code",
   "execution_count": 37,
   "id": "7db17d83-042d-480c-add5-e7fb6b36408b",
   "metadata": {},
   "outputs": [
    {
     "name": "stdout",
     "output_type": "stream",
     "text": [
      "[11, 22, 33, 55, 66, 77, 88]\n",
      "[11, 22, 33, 44, 55, 66, 77, 88]\n"
     ]
    }
   ],
   "source": [
    "#리스트에 요소 삽입 - insert\n",
    "num = [11,22,33,55,66,77,88]\n",
    "print(num)\n",
    "num.insert(3,44) #3은 인덱스 위치,44는 원하는 값 \n",
    "print(num)"
   ]
  },
  {
   "cell_type": "code",
   "execution_count": 38,
   "id": "96d437c4-7c2f-48d1-80d4-fbd1f59be6fa",
   "metadata": {},
   "outputs": [],
   "source": [
    "ex = []"
   ]
  },
  {
   "cell_type": "code",
   "execution_count": 39,
   "id": "84445014-ab13-4a98-b890-fb02a0ef0630",
   "metadata": {},
   "outputs": [
    {
     "name": "stdout",
     "output_type": "stream",
     "text": [
      "['맨앞']\n",
      "['-1인덱스', '맨앞']\n",
      "['맨앞', '-1인덱스', '맨앞']\n",
      "['맨앞', '-1인덱스', '맨앞', 0]\n"
     ]
    }
   ],
   "source": [
    "ex.insert(0,'맨앞')\n",
    "print(ex)\n",
    "ex.insert(-1,'-1인덱스')\n",
    "print(ex)\n",
    "ex.insert(0,'맨앞')\n",
    "print(ex)\n",
    "ex.insert(len(ex),0)\n",
    "print(ex)"
   ]
  },
  {
   "cell_type": "code",
   "execution_count": 40,
   "id": "98b3aa6d-2575-4d65-8287-c647f5d14ed8",
   "metadata": {},
   "outputs": [
    {
     "name": "stdout",
     "output_type": "stream",
     "text": [
      "[1, 2, 1, 2, 3]\n"
     ]
    }
   ],
   "source": [
    "#리스트 요소 제거 -remove \n",
    "a = [1,2,3,1,2,3]\n",
    "a.remove(3)\n",
    "print(a)"
   ]
  },
  {
   "cell_type": "code",
   "execution_count": 41,
   "id": "9f0dcae1-82e6-4c16-bb34-0f38ff07cbd3",
   "metadata": {},
   "outputs": [],
   "source": [
    "#리스트 요소 끄집어내기 -pop\n",
    "a = [1,2,3]"
   ]
  },
  {
   "cell_type": "code",
   "execution_count": 42,
   "id": "39f83394-67c2-4fed-8728-d31bfaa272e3",
   "metadata": {},
   "outputs": [
    {
     "name": "stdout",
     "output_type": "stream",
     "text": [
      "[1, 3]\n",
      "받은거 2\n"
     ]
    }
   ],
   "source": [
    "hand = a.pop(1) #리턴값을 받음\n",
    "print(a)\n",
    "print(\"받은거\",hand)"
   ]
  },
  {
   "cell_type": "code",
   "execution_count": 43,
   "id": "24fa623a-171e-4a65-bb31-3e633c165166",
   "metadata": {},
   "outputs": [
    {
     "name": "stdout",
     "output_type": "stream",
     "text": [
      "2\n",
      "3\n"
     ]
    }
   ],
   "source": [
    "#리스트에 포함된 요소 x의 개수 세기 - Count\n",
    "st = \"안녕하세요 반가워요\"\n",
    "print(st.count(\"요\"))\n",
    "a = [1,2,3,4,1,1,2,34,3,5,3,3]\n",
    "print(a.count(1))"
   ]
  },
  {
   "cell_type": "code",
   "execution_count": 44,
   "id": "f83ddedb-5cc5-4ccf-a6e2-0f23119a43a8",
   "metadata": {},
   "outputs": [
    {
     "name": "stdout",
     "output_type": "stream",
     "text": [
      "[1, 2, 3, 4, 5]\n",
      "[11, 22, 33, 44, 55, 66]\n"
     ]
    }
   ],
   "source": [
    "#리스트 확장 (원본 변경 가능) \n",
    "a = [1,2,3]\n",
    "a.extend([4,5])\n",
    "print(a)\n",
    "b = [11,22,33]\n",
    "c = [44,55,66]\n",
    "print(b+c)"
   ]
  },
  {
   "cell_type": "code",
   "execution_count": 45,
   "id": "00ae1164-2067-4126-8376-b820b534cfd2",
   "metadata": {},
   "outputs": [],
   "source": [
    "# 장바구니 \n",
    "bag = []"
   ]
  },
  {
   "cell_type": "code",
   "execution_count": null,
   "id": "c905f0cf-001c-4e1e-841c-576b19b6e423",
   "metadata": {},
   "outputs": [],
   "source": [
    "#Create 생성\n",
    "inp = input('필요한 항목을 넣어주세요')\n",
    "bag.append(inp)\n",
    "print(f'장바구니에는 {bag}들이 있습니다')"
   ]
  },
  {
   "cell_type": "code",
   "execution_count": null,
   "id": "103f2787-8c07-4726-9d90-177bbfcd9e65",
   "metadata": {},
   "outputs": [],
   "source": [
    "#FIFO 출력 (큐 출력) \n",
    "hand = bag.pop(0)\n",
    "print(f'{hand}을 꺼내서 장바구니에 {bag}이 남았습니다')"
   ]
  },
  {
   "cell_type": "code",
   "execution_count": null,
   "id": "522ee148-1cf7-4f68-b023-87817ab641b1",
   "metadata": {},
   "outputs": [],
   "source": [
    "bag = ['호박', '감자', '소주', '맥주','피자']\n",
    "print(f'바구니에 {bag} 물품이 있습니다')\n",
    "#선택출력\n",
    "bring = input('꺼내고 싶은 물품을 입력하세요')\n",
    "hand2 = bag.pop(bag.index(bring))\n",
    "print(f'바구니에서 {hand2} 꺼내어 {bag}이 남았습니다')"
   ]
  },
  {
   "cell_type": "code",
   "execution_count": null,
   "id": "783ffd8a-b8f1-43f6-9896-5a381489a759",
   "metadata": {},
   "outputs": [],
   "source": [
    "#테스트  remove 는 리턴값이 없다 \n",
    "choice = 44\n",
    "a = [11,22,33,44,55,66]\n",
    "hands = a.remove(choice)\n",
    "print (f'{choice}를 제거하였습니다')"
   ]
  },
  {
   "cell_type": "code",
   "execution_count": null,
   "id": "2e919167-97b1-4947-9322-29fe582f3617",
   "metadata": {},
   "outputs": [],
   "source": [
    "#실습 \n",
    "bag = ['호박','감자','소주','맥주','피자']\n",
    "# 물품 하나를 추가하기. 단 ,지정한 물품 바로 뒤에 추가하기 \n",
    "test1 = input('추가할 물건 이름을 적어주세요')\n",
    "test2 = input(f'{bag} 중 어느 물품의 오른쪽에 넣어둘까요? ')\n",
    "where = bag.index(test2)\n",
    "bag.insert(where+1,test1)\n",
    "print(f'{test1}을 기존 물품 {test2}의 오른쪽에 넣었습니다')\n",
    "print(bag)"
   ]
  },
  {
   "cell_type": "code",
   "execution_count": null,
   "id": "3e9c5708-bc07-4847-9703-bcd61a8bd27e",
   "metadata": {},
   "outputs": [],
   "source": [
    "#실습 \n",
    "bag = ['호박','감자','소주','맥주','피자']\n",
    "thing = input('추가할 물건 이름을 적어주세요')\n",
    "where= input('어느 물품의 뒤에 넣어둘까요? ')\n",
    "위치 = (bag.index(where))+1\n",
    "bag.insert(위치,thing)\n",
    "print(bag)"
   ]
  },
  {
   "cell_type": "code",
   "execution_count": null,
   "id": "a371158e-4ea2-4425-804c-b654dc96a89d",
   "metadata": {},
   "outputs": [],
   "source": [
    "# 테스트 \n",
    "num = int(input('내가 누구게? 숫자를 입력하세요'))\n",
    "print(num+4,type(num))"
   ]
  },
  {
   "cell_type": "code",
   "execution_count": null,
   "id": "f97d3b33-eec4-4688-869a-19c60cf8e7b0",
   "metadata": {},
   "outputs": [],
   "source": [
    "# 환율 계산기 \n",
    "USD= int ((input('원화를 입력하세요')))\n",
    "KRW=USD * 1450\n",
    "print(\"{0:d}\".format(KRW))"
   ]
  },
  {
   "cell_type": "code",
   "execution_count": null,
   "id": "2a1979ae-e205-431f-b5e3-8e850059b379",
   "metadata": {},
   "outputs": [],
   "source": [
    "import requests \n",
    "import json \n",
    "url=\"https://www.koreaexim.go.kr/site/program/financial/exchangeJSON?authkey=iH6Uj74oOf7GU6MQV9sJwMg8rQHSxC3P&data=AP01\"\n",
    "res=requests.get(url).text\n",
    "data = json.loads(res)\n",
    "print(type(data))\n",
    "result = data[-1]['deal_bas_r']\n",
    "print(result,type(result))\n",
    "result2 = result.replace(\",\",\"\").replace(\".\",\"\")\n",
    "print(result2,type(result2))\n",
    "int(result2)/10\n",
    "#스트링을 숫자로 바꾸어라 단 쉼표는 전처리하여 사용 가능하게 하라"
   ]
  },
  {
   "cell_type": "code",
   "execution_count": null,
   "id": "a0fb0a75-6c33-49f3-bb54-6b7310774936",
   "metadata": {},
   "outputs": [],
   "source": [
    "#환율 계산기 \n",
    "exc = 1450\n",
    "dollar = int (input('원화로 계산할 달러를 입력하세요'))\n",
    "won = dollar * 1450\n",
    "print(f'1달러는 {exc}원이므로, 요청하신 {dollar}달러의 변환값은 {won:,}원입니다')"
   ]
  },
  {
   "cell_type": "code",
   "execution_count": null,
   "id": "c29568b0-99ff-4f69-a9b5-3d49d12fe718",
   "metadata": {},
   "outputs": [],
   "source": [
    "#test \n",
    "from IPython.display import clear_output\n",
    "inp1 = input('질문1')\n",
    "clear_output(wait=True)\n",
    "inp2 = input('질문2')\n",
    "clear_output(wait=True)\n",
    "inp3 = input('질문3')"
   ]
  },
  {
   "cell_type": "code",
   "execution_count": null,
   "id": "173ccadf-0167-409f-bb68-7bf5637ab032",
   "metadata": {},
   "outputs": [],
   "source": [
    "0.1+0.2"
   ]
  },
  {
   "cell_type": "code",
   "execution_count": null,
   "id": "2beed9f4-1f85-49ca-aa44-af8bd204d100",
   "metadata": {},
   "outputs": [],
   "source": [
    "#test\n",
    "# from decimal import Decimal #더 정밀한 계산 \n",
    "rr = 1449.4 *2\n",
    "print(rr)\n",
    "print(round(rr,1))"
   ]
  },
  {
   "cell_type": "markdown",
   "id": "19735534-25a0-43f4-881f-56ec943c850e",
   "metadata": {},
   "source": [
    "## 튜플 자료형"
   ]
  },
  {
   "cell_type": "code",
   "execution_count": null,
   "id": "4b541099-77ba-4f7f-9a1c-101215e0c388",
   "metadata": {},
   "outputs": [],
   "source": [
    "t1=()\n",
    "t2=(1,)\n",
    "t3=(1,2,3)\n",
    "t4=1,2,3 #t3과 같음\n",
    "t5=('a','b',('ab','cd'))"
   ]
  },
  {
   "cell_type": "code",
   "execution_count": 131,
   "id": "491fe1c4-65dc-49fb-a6cd-f4263417f2c1",
   "metadata": {},
   "outputs": [],
   "source": [
    "#튜플의 요소값을 삭제하려 할 때 \n",
    "t1 = (1,2,'a','b')\n",
    "# del t1[0]"
   ]
  },
  {
   "attachments": {
    "5d53884d-b849-4e0b-9522-d84f064db804.png": {
     "image/png": "[encoded data removed]"
    }
   },
   "cell_type": "markdown",
   "id": "03eee5cf-19d9-43fe-97d7-03d24ca0c730",
   "metadata": {},
   "source": [
    "![image.png](attachment:5d53884d-b849-4e0b-9522-d84f064db804.png)"
   ]
  },
  {
   "cell_type": "code",
   "execution_count": 133,
   "id": "f0ada7e9-08ce-42de-b86a-5ccf4666511f",
   "metadata": {},
   "outputs": [],
   "source": [
    "#튜플의 요솟값을 변경하려 할 때\n",
    "t1 = (1,2,'a','b')\n",
    "# t1[0]=c"
   ]
  },
  {
   "attachments": {
    "d9b6cea7-b958-4163-b9b4-f6fa5f076f46.png": {
     "image/png": "[encoded data removed]"
    }
   },
   "cell_type": "markdown",
   "id": "d063a2a1-8347-4d12-8acf-e497b1cee34e",
   "metadata": {},
   "source": [
    "![image.png](attachment:d9b6cea7-b958-4163-b9b4-f6fa5f076f46.png)"
   ]
  },
  {
   "cell_type": "code",
   "execution_count": null,
   "id": "9cf76510-28f6-44fe-ad94-d5c83e7fb259",
   "metadata": {},
   "outputs": [],
   "source": [
    "dir(tuple) #tuple()"
   ]
  },
  {
   "cell_type": "code",
   "execution_count": 135,
   "id": "7fdaf834-d4fa-4293-ab38-28b93cd6d75d",
   "metadata": {},
   "outputs": [
    {
     "name": "stdout",
     "output_type": "stream",
     "text": [
      "1 b\n"
     ]
    }
   ],
   "source": [
    "#인덱싱하기 \n",
    "t1 = (1,2,'a','b')\n",
    "print(t1[0],t1[3])"
   ]
  },
  {
   "cell_type": "code",
   "execution_count": 136,
   "id": "fa7a852c-1804-4852-a7ef-a9d60340382c",
   "metadata": {},
   "outputs": [
    {
     "name": "stdout",
     "output_type": "stream",
     "text": [
      "(2, 'a', 'b')\n"
     ]
    }
   ],
   "source": [
    "#슬라이싱\n",
    "t1 = (1,2,'a','b')\n",
    "print(t1[1:])"
   ]
  },
  {
   "cell_type": "code",
   "execution_count": 137,
   "id": "cf612a96-ff40-4598-957a-2753d2a5c8a7",
   "metadata": {},
   "outputs": [
    {
     "name": "stdout",
     "output_type": "stream",
     "text": [
      "(1, 2, 'a', 'b', 3, 4)\n"
     ]
    }
   ],
   "source": [
    "#튜플 더하기 \n",
    "t1 =(1,2,'a','b')\n",
    "t2 = (3,4)\n",
    "t3 = t1+t2\n",
    "print(t3)"
   ]
  },
  {
   "cell_type": "code",
   "execution_count": 138,
   "id": "91b1ebac-701c-4166-9d18-620624ae60f7",
   "metadata": {},
   "outputs": [
    {
     "name": "stdout",
     "output_type": "stream",
     "text": [
      "(3, 4, 3, 4, 3, 4)\n"
     ]
    }
   ],
   "source": [
    "#튜플 곱하기 \n",
    "t2 = 3,4 \n",
    "t3 = t2 *3\n",
    "print(t3)"
   ]
  },
  {
   "cell_type": "code",
   "execution_count": 140,
   "id": "07c00746-5d88-4492-be03-87f5a2319742",
   "metadata": {},
   "outputs": [
    {
     "data": {
      "text/plain": [
       "6"
      ]
     },
     "execution_count": 140,
     "metadata": {},
     "output_type": "execute_result"
    }
   ],
   "source": [
    "#튜플 길이 구하기\n",
    "len(t3)"
   ]
  },
  {
   "cell_type": "code",
   "execution_count": 143,
   "id": "25bbbe0b-cb51-4f34-b841-cdd38991c0da",
   "metadata": {},
   "outputs": [
    {
     "name": "stdout",
     "output_type": "stream",
     "text": [
      "(1, 2, 3, 4)\n"
     ]
    }
   ],
   "source": [
    "t1 = 1,2,3\n",
    "t2 = (4,)\n",
    "t3 = t1+t2\n",
    "print(t3)\n"
   ]
  },
  {
   "cell_type": "markdown",
   "id": "84cac21e-bd92-432c-97ed-af1d0d1a8be4",
   "metadata": {},
   "source": [
    "## 딕셔너리 자료형"
   ]
  },
  {
   "cell_type": "code",
   "execution_count": 150,
   "id": "4b6ec0c2-e845-4568-912c-863535c846d8",
   "metadata": {},
   "outputs": [
    {
     "name": "stdout",
     "output_type": "stream",
     "text": [
      "pey\n",
      "010-9999-1234\n",
      "1118\n"
     ]
    }
   ],
   "source": [
    "dic = {'name':'pey','phone':'010-9999-1234','birth':'1118'}\n",
    "print(dic['name'])\n",
    "print(dic['phone'])\n",
    "print(dic['birth'])"
   ]
  },
  {
   "cell_type": "code",
   "execution_count": 160,
   "id": "73ca9864-f0c0-4eac-b48c-52f51b83f880",
   "metadata": {},
   "outputs": [
    {
     "name": "stdout",
     "output_type": "stream",
     "text": [
      "11\n",
      "11\n",
      "11\n"
     ]
    }
   ],
   "source": [
    "al=[11,22,33,44,55] #리스트 \n",
    "at=11,22,33,44,55 #튜플 \n",
    "ad = {0:11,1:22,2:33,3:44,4:55} #키값 상위개념:하위개념이므로 우선순위(순서)가 없는 딕셔너리 \n",
    "print (al[0])\n",
    "print(at[0])\n",
    "print(ad[0])"
   ]
  },
  {
   "cell_type": "code",
   "execution_count": 159,
   "id": "089a4154-92b2-4d9b-ab1e-2a3ec43479be",
   "metadata": {},
   "outputs": [
    {
     "name": "stdout",
     "output_type": "stream",
     "text": [
      "11\n",
      "22\n",
      "33\n",
      "44\n",
      "55\n",
      "==========\n",
      "11\n",
      "22\n",
      "33\n",
      "44\n",
      "55\n"
     ]
    }
   ],
   "source": [
    "#test \n",
    "for l in al:\n",
    "    print(l)\n",
    "print(\"=\"*10)    \n",
    "for t in at :\n",
    "    print(t)"
   ]
  },
  {
   "cell_type": "code",
   "execution_count": 161,
   "id": "0204ad4a-d290-483c-b8df-f10bebf1f066",
   "metadata": {},
   "outputs": [
    {
     "name": "stdout",
     "output_type": "stream",
     "text": [
      "[1, 2, 3, 4, 5]\n"
     ]
    }
   ],
   "source": [
    "a= {'aa':[1,2,3,4,5]}\n",
    "print(a['aa'])"
   ]
  },
  {
   "cell_type": "code",
   "execution_count": 162,
   "id": "95ec7dc5-cba2-4acf-a65d-7d4000616e21",
   "metadata": {},
   "outputs": [
    {
     "name": "stdout",
     "output_type": "stream",
     "text": [
      "010-9999-1234\n"
     ]
    }
   ],
   "source": [
    "dic2 ={'aa': {'name':'pey','phone':'010-9999-1234','birth':'1118'}}\n",
    "print(dic2['aa']['phone'])"
   ]
  },
  {
   "cell_type": "markdown",
   "id": "6af937eb-2bd8-4653-b39b-53c4e788ab17",
   "metadata": {},
   "source": [
    "### 딕셔너리 쌍 추가,삭제하기"
   ]
  },
  {
   "cell_type": "code",
   "execution_count": 165,
   "id": "dbe98025-1f14-4418-b4c3-fb6b6f41ef8c",
   "metadata": {},
   "outputs": [
    {
     "name": "stdout",
     "output_type": "stream",
     "text": [
      "{'name': 'pey', 'phone': '010-9999-1234', 'birth': '1118', 'address': 'busan', 'array': [1, 2, 3, 4, 5]}\n"
     ]
    }
   ],
   "source": [
    "dic = {'name':'pey','phone':'010-9999-1234','birth':'1118'}\n",
    "dic['address'] = 'busan'\n",
    "dic['array'] = [1,2,3,4,5]\n",
    "print(dic)"
   ]
  },
  {
   "cell_type": "code",
   "execution_count": 166,
   "id": "a85f6e0f-864b-4c3a-a260-82581dbc951f",
   "metadata": {},
   "outputs": [
    {
     "name": "stdout",
     "output_type": "stream",
     "text": [
      "{'name': 'pey', 'phone': '010-9999-1234', 'birth': '1118', 'address': 'busan', 'array': [1, 2, 3, 4, 5]}\n",
      "{'name': 'pey', 'phone': '010-9999-1234', 'address': 'busan', 'array': [1, 2, 3, 4, 5]}\n"
     ]
    }
   ],
   "source": [
    "print(dic)\n",
    "del dic['birth']\n",
    "print(dic)"
   ]
  },
  {
   "cell_type": "code",
   "execution_count": 167,
   "id": "7f6df42e-a74b-4fb0-9d99-f1a0d431dcba",
   "metadata": {},
   "outputs": [
    {
     "name": "stdout",
     "output_type": "stream",
     "text": [
      "{1: 'b'}\n"
     ]
    }
   ],
   "source": [
    "a = {1:'a',1:'b'}\n",
    "print(a)"
   ]
  },
  {
   "attachments": {
    "ec3889f2-ac6f-4d21-bb67-17139f25348b.png": {
     "image/png": "[encoded data removed]"
    }
   },
   "cell_type": "markdown",
   "id": "8cec0cf4-3a14-4f04-bcf2-cbba11274fac",
   "metadata": {},
   "source": [
    "![image.png](attachment:ec3889f2-ac6f-4d21-bb67-17139f25348b.png)"
   ]
  },
  {
   "cell_type": "markdown",
   "id": "3eb2f3d8-2309-4563-9c23-9b305a969453",
   "metadata": {},
   "source": [
    "### 딕셔너리 관련함수"
   ]
  },
  {
   "cell_type": "code",
   "execution_count": 6,
   "id": "2cc963fe-438f-450a-bcfc-8bbd008bd83a",
   "metadata": {},
   "outputs": [
    {
     "name": "stdout",
     "output_type": "stream",
     "text": [
      "dict_keys(['name', 'phone', 'birth', 'address', 'array'])\n",
      "dict_values(['pey', '010-9999-1234', '1118', 'busan', [1, 2, 3, 4, 5]])\n",
      "dict_items([('name', 'pey'), ('phone', '010-9999-1234'), ('birth', '1118'), ('address', 'busan'), ('array', [1, 2, 3, 4, 5])])\n",
      "{'name': 'pey', 'phone': '010-9999-1234', 'birth': '1118', 'address': 'busan', 'array': [1, 2, 3, 4, 5]}\n",
      "{}\n"
     ]
    }
   ],
   "source": [
    "a = {'name': 'pey', 'phone': '010-9999-1234', 'birth': '1118', 'address': 'busan', 'array': [1, 2, 3, 4, 5]}\n",
    "# key 리스트 만들기 -keys \n",
    "print(a.keys())\n",
    "# value 리스트 만들기 - values\n",
    "print(a.values())\n",
    "# key,value 쌍 얻기-items\n",
    "print(a.items())\n",
    "print(a)\n",
    "#key, value 쌍 모두 지우기 - clear\n",
    "a.clear()\n",
    "print(a)"
   ]
  },
  {
   "cell_type": "code",
   "execution_count": 3,
   "id": "c6c5ac2f-9683-4744-87f7-ca80e430a81e",
   "metadata": {},
   "outputs": [
    {
     "name": "stdout",
     "output_type": "stream",
     "text": [
      "name\n",
      "phone\n",
      "birth\n",
      "address\n",
      "array\n"
     ]
    }
   ],
   "source": [
    "for k in a.keys():\n",
    "    print(k)"
   ]
  },
  {
   "cell_type": "code",
   "execution_count": 8,
   "id": "8a769e48-751b-4948-a477-4f749d3554c3",
   "metadata": {},
   "outputs": [
    {
     "name": "stdout",
     "output_type": "stream",
     "text": [
      "pey\n",
      "None\n"
     ]
    },
    {
     "ename": "KeyError",
     "evalue": "'money'",
     "output_type": "error",
     "traceback": [
      "\u001b[1;31m---------------------------------------------------------------------------\u001b[0m",
      "\u001b[1;31mKeyError\u001b[0m                                  Traceback (most recent call last)",
      "Cell \u001b[1;32mIn[8], line 4\u001b[0m\n\u001b[0;32m      2\u001b[0m \u001b[38;5;28mprint\u001b[39m(a\u001b[38;5;241m.\u001b[39mget(\u001b[38;5;124m'\u001b[39m\u001b[38;5;124mname\u001b[39m\u001b[38;5;124m'\u001b[39m))\n\u001b[0;32m      3\u001b[0m \u001b[38;5;28mprint\u001b[39m(a\u001b[38;5;241m.\u001b[39mget(\u001b[38;5;124m'\u001b[39m\u001b[38;5;124msuper\u001b[39m\u001b[38;5;124m'\u001b[39m))\n\u001b[1;32m----> 4\u001b[0m \u001b[38;5;28mprint\u001b[39m(\u001b[43ma\u001b[49m\u001b[43m[\u001b[49m\u001b[38;5;124;43m'\u001b[39;49m\u001b[38;5;124;43mmoney\u001b[39;49m\u001b[38;5;124;43m'\u001b[39;49m\u001b[43m]\u001b[49m)\n",
      "\u001b[1;31mKeyError\u001b[0m: 'money'"
     ]
    }
   ],
   "source": [
    "a = {'name': 'pey', 'phone': '010-9999-1234', 'birth': '1118', 'address': 'busan', 'array': [1, 2, 3, 4, 5]}\n",
    "print(a.get('name'))\n",
    "print(a.get('super'))\n",
    "print(a['money'])"
   ]
  },
  {
   "cell_type": "code",
   "execution_count": 9,
   "id": "32a0a13a-79d3-4c99-85ff-f79cb47457f7",
   "metadata": {},
   "outputs": [
    {
     "name": "stdout",
     "output_type": "stream",
     "text": [
      "True\n"
     ]
    }
   ],
   "source": [
    "a = {'name': 'pey', 'phone': '010-9999-1234', 'birth': '1118', 'address': 'busan', 'array': [1, 2, 3, 4, 5]}\n",
    "print('name' in a) \n"
   ]
  },
  {
   "cell_type": "code",
   "execution_count": 16,
   "id": "6793a92e-f24e-499d-81d4-4aa5a241f63b",
   "metadata": {},
   "outputs": [
    {
     "name": "stdout",
     "output_type": "stream",
     "text": [
      "True\n",
      "True\n",
      "False\n"
     ]
    }
   ],
   "source": [
    "al=[11,22,33,44,55] #리스트 \n",
    "at=11,22,33,44,55 #튜플 \n",
    "ad = {0:11,1:22,2:33,3:44,4:55} #키값 상위개념:하위개념이므로 우선순위(순서)가 없는 딕셔너리 \n",
    "\n",
    "print(22 in al) #리스트\n",
    "print(11 in at) #튜플 \n",
    "print(1 in ad) #딕셔너리의 키"
   ]
  },
  {
   "cell_type": "code",
   "execution_count": 10,
   "id": "07383a69-99eb-41d8-b06f-a53b28e084ac",
   "metadata": {},
   "outputs": [
    {
     "name": "stdout",
     "output_type": "stream",
     "text": [
      "0과 1사이의 랜덤 소수0.7425448783703763\n",
      "1과 100사이의 랜덤 실수3\n",
      "오늘 선택된 메뉴는 구내식당를 추천드립니다!\n",
      "[10, 4, 8, 1, 9, 6, 5, 7, 3, 2]\n"
     ]
    }
   ],
   "source": [
    "# 실습 random 모듈 \n",
    "import random \n",
    "\n",
    "menu = [\"구내식당\",\"후문편의점\",\"자가도시락\",\"굶기\",\"과자\"]\n",
    "\n",
    "num1 = random.random()\n",
    "print(f'0과 1사이의 랜덤 소수{num1}')\n",
    "\n",
    "num2 = random.randint(1,100)\n",
    "print(f'1과 100사이의 랜덤 실수{num2}')\n",
    "\n",
    "lunch = random.choice(menu)\n",
    "print(f'오늘 선택된 메뉴는 {lunch}를 추천드립니다!')\n",
    "\n",
    "#셔플함수는 원본 파괴\n",
    "deck = [1,2,3,4,5,6,7,8,9,10]\n",
    "random.shuffle(deck)\n",
    "print(deck)"
   ]
  },
  {
   "cell_type": "markdown",
   "id": "b8923a7a-c88b-46e1-ab4a-24a6cdde75b0",
   "metadata": {},
   "source": [
    "## 집합자료형 "
   ]
  },
  {
   "cell_type": "code",
   "execution_count": 12,
   "id": "bdbc8735-5938-4ce8-a93d-3a92d8992219",
   "metadata": {},
   "outputs": [
    {
     "name": "stdout",
     "output_type": "stream",
     "text": [
      "{1, 2, 3} <class 'set'>\n",
      "{'l', 'H', 'o', 'e'} <class 'set'>\n"
     ]
    }
   ],
   "source": [
    "#중복을 허용하지 않는다 \n",
    "#순서가 없다\n",
    "\n",
    "s1 = set([1,2,3])\n",
    "print(s1,type(s1))\n",
    "\n",
    "s2 = set(\"Hello\")\n",
    "print(s2,type(s2))"
   ]
  },
  {
   "cell_type": "code",
   "execution_count": 18,
   "id": "fcbaa28b-320d-43b2-b492-258d6ff3ea2c",
   "metadata": {},
   "outputs": [
    {
     "name": "stdout",
     "output_type": "stream",
     "text": [
      "[33, 11, 22] <class 'list'>\n",
      "(33, 11, 22) <class 'tuple'>\n"
     ]
    }
   ],
   "source": [
    "#집합 자료형의 특징\n",
    "s1 = set([11,22,33,11,22])\n",
    "l1 = list(s1)\n",
    "print(l1,type(l1))\n",
    "\n",
    "t1 = tuple(s1)\n",
    "print(t1,type(t1))"
   ]
  },
  {
   "cell_type": "markdown",
   "id": "9e107ee3-fc13-425a-89ec-c6d40bfe1b9f",
   "metadata": {},
   "source": [
    "### 교집합,합집합,차집합 구하기 "
   ]
  },
  {
   "cell_type": "code",
   "execution_count": 24,
   "id": "23efc0c2-76fe-41e9-b582-ba304c3c5358",
   "metadata": {},
   "outputs": [
    {
     "name": "stdout",
     "output_type": "stream",
     "text": [
      "{4, 5, 6}\n",
      "{4, 5, 6}\n"
     ]
    }
   ],
   "source": [
    "#교집합\n",
    "s1 = set([1,2,3,4,5,6])\n",
    "s2 = set([4,5,6,7,8,9])\n",
    "print(s1 & s2) \n",
    "print(s1.intersection(s2))"
   ]
  },
  {
   "cell_type": "code",
   "execution_count": 21,
   "id": "4c7c7f26-c13f-4685-935d-499842c89384",
   "metadata": {},
   "outputs": [
    {
     "name": "stdout",
     "output_type": "stream",
     "text": [
      "{1, 2, 3, 4, 5, 6, 7, 8, 9}\n",
      "{1, 2, 3, 4, 5, 6, 7, 8, 9}\n"
     ]
    }
   ],
   "source": [
    "#합집합\n",
    "print(s1|s2)\n",
    "print(s1.union(s2))"
   ]
  },
  {
   "cell_type": "code",
   "execution_count": 25,
   "id": "d532e8e2-495f-488d-b174-6748bb2c66c1",
   "metadata": {},
   "outputs": [
    {
     "name": "stdout",
     "output_type": "stream",
     "text": [
      "{1, 2, 3}\n",
      "{8, 9, 7}\n"
     ]
    }
   ],
   "source": [
    "#차집합\n",
    "print(s1- s2)\n",
    "print(s2-s1)\n"
   ]
  },
  {
   "cell_type": "markdown",
   "id": "b03ca0c2-5c79-46a1-a9ad-33b4668f1a11",
   "metadata": {},
   "source": [
    "### 집합 자료형 관련 함수"
   ]
  },
  {
   "cell_type": "code",
   "execution_count": 26,
   "id": "64556058-fe31-4766-9e55-fa909b9adcc8",
   "metadata": {},
   "outputs": [
    {
     "name": "stdout",
     "output_type": "stream",
     "text": [
      "{1, 2, 3, 4}\n"
     ]
    }
   ],
   "source": [
    "#값 1개 추가하기 -add\n",
    "s1 = set([1,2,3])\n",
    "s1.add(4)\n",
    "print(s1)"
   ]
  },
  {
   "cell_type": "code",
   "execution_count": 27,
   "id": "7de32aaf-fb4e-4bb8-9764-220f01ac3897",
   "metadata": {},
   "outputs": [
    {
     "name": "stdout",
     "output_type": "stream",
     "text": [
      "{1, 2, 3, 4, 5, 6}\n"
     ]
    }
   ],
   "source": [
    "#값 여러 개 추가하기 -update \n",
    "s1 = set([1,2,3])\n",
    "s1.update([4,5,6])\n",
    "print(s1)"
   ]
  },
  {
   "cell_type": "code",
   "execution_count": 29,
   "id": "149a1203-b1d3-4d7a-a3f4-1a00004fff5e",
   "metadata": {},
   "outputs": [
    {
     "name": "stdout",
     "output_type": "stream",
     "text": [
      "{1, 3}\n"
     ]
    }
   ],
   "source": [
    "# 특정 값 제거하기 -remove \n",
    "s1 = set([1,2,3])\n",
    "s1.remove(2)\n",
    "print(s1)"
   ]
  },
  {
   "cell_type": "code",
   "execution_count": null,
   "id": "9b6ddae2-fd35-4f5e-99ec-00069cfae053",
   "metadata": {},
   "outputs": [],
   "source": []
  }
 ],
 "metadata": {
  "kernelspec": {
   "display_name": "Python 3 (ipykernel)",
   "language": "python",
   "name": "python3"
  },
  "language_info": {
   "codemirror_mode": {
    "name": "ipython",
    "version": 3
   },
   "file_extension": ".py",
   "mimetype": "text/x-python",
   "name": "python",
   "nbconvert_exporter": "python",
   "pygments_lexer": "ipython3",
   "version": "3.13.1"
  }
 },
 "nbformat": 4,
 "nbformat_minor": 5
}
