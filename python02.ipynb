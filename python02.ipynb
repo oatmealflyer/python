{
 "cells": [
  {
   "cell_type": "markdown",
   "id": "1265fa84-9b37-49b1-8735-1d8f31633f53",
   "metadata": {},
   "source": [
    "# 자료형"
   ]
  },
  {
   "cell_type": "markdown",
   "id": "648d276c-9db7-476d-a99c-32f01b47411d",
   "metadata": {},
   "source": [
    "## 리스트 자료형"
   ]
  },
  {
   "cell_type": "markdown",
   "id": "81b33972-8e23-4e9a-8b1c-5f56b3384489",
   "metadata": {},
   "source": [
    "### 리스트의 인덱싱과 슬라이싱"
   ]
  },
  {
   "cell_type": "code",
   "execution_count": 14,
   "id": "a17efa31-96a6-4cbc-b261-67645b717438",
   "metadata": {},
   "outputs": [
    {
     "name": "stdout",
     "output_type": "stream",
     "text": [
      "['Life', 'is']\n",
      "Life\n",
      "is\n"
     ]
    }
   ],
   "source": [
    "odd = [1,3,5,7,9]\n",
    "\n",
    "a = []\n",
    "b = [1,2,3]\n",
    "c = ['Life','is','too','short']\n",
    "d= [1,2,'Life','is']\n",
    "e = [1,2,['Life','is']]\n",
    "print(e[2])\n",
    "print(e[2][0])\n",
    "print(e[2][1])"
   ]
  },
  {
   "cell_type": "code",
   "execution_count": 15,
   "id": "1f3439c1-682d-4bd8-9778-e6098beff7c8",
   "metadata": {},
   "outputs": [
    {
     "name": "stdout",
     "output_type": "stream",
     "text": [
      "5\n",
      "Lifeshort\n",
      "LifeLifeLife\n"
     ]
    }
   ],
   "source": [
    "#리스트의 인덱싱과 연산\n",
    "print(b[1] + b[2])\n",
    "print(c[0]+c[3])\n",
    "print(c[0]*b[2])"
   ]
  },
  {
   "cell_type": "code",
   "execution_count": 23,
   "id": "fc8d11d7-de77-4099-a9a6-46405db44553",
   "metadata": {},
   "outputs": [
    {
     "name": "stdout",
     "output_type": "stream",
     "text": [
      "[11, 22, 33, 44, 55]\n",
      "[33, 44, 55]\n",
      "[11, 22]\n",
      "[44, 55]\n",
      "[55, 44, 33, 22, 11]\n"
     ]
    }
   ],
   "source": [
    "# 리스트의 슬라이싱 \n",
    "a= [11,22,33,44,55]\n",
    "print(a[:])\n",
    "print(a[2:])\n",
    "print(a[:-3])\n",
    "print(a[-2:])\n",
    "print(a[::-1])"
   ]
  },
  {
   "cell_type": "code",
   "execution_count": 25,
   "id": "ec63929f-c6bf-4a22-ab83-a1b4958682be",
   "metadata": {},
   "outputs": [
    {
     "name": "stdout",
     "output_type": "stream",
     "text": [
      "[2, 3]\n"
     ]
    }
   ],
   "source": [
    "a= [1,2,3,4,5]\n",
    "print(a[1:3])"
   ]
  },
  {
   "cell_type": "markdown",
   "id": "8b40a750-2e74-4033-9671-b8d5bee37f63",
   "metadata": {},
   "source": [
    "### 리스트 연산,수정,삭제하기"
   ]
  },
  {
   "cell_type": "code",
   "execution_count": 45,
   "id": "10543005-f671-4e76-973f-24f9a1784ba6",
   "metadata": {},
   "outputs": [
    {
     "name": "stdout",
     "output_type": "stream",
     "text": [
      "[11, 22, 33, 44, 55, 66]\n",
      "[11, 22, 33, 11, 22, 33, 11, 22, 33]\n"
     ]
    },
    {
     "data": {
      "text/plain": [
       "9"
      ]
     },
     "execution_count": 45,
     "metadata": {},
     "output_type": "execute_result"
    }
   ],
   "source": [
    "a = [11,22,33]\n",
    "b = [44,55,66]\n",
    "#리스트 더하기 \n",
    "print(a+b)\n",
    "#리스트 반복하기 \n",
    "c = a*3 \n",
    "print(a*3)\n",
    "len(c)"
   ]
  },
  {
   "cell_type": "code",
   "execution_count": 35,
   "id": "a2fe022e-dbc6-4aa2-b21c-2732f0e46cfd",
   "metadata": {},
   "outputs": [
    {
     "name": "stdout",
     "output_type": "stream",
     "text": [
      "[11, 22, 44]\n",
      "[11, 44]\n"
     ]
    }
   ],
   "source": [
    "#리스트 값 수정하기 \n",
    "a = [11,22,33]\n",
    "a[2] = 44\n",
    "print (a)\n",
    "# a[3] = 5 없는 요소를 수정하는 것은 에러 \n",
    "# print (a)\n",
    "\n",
    "# a[1] = '' #빈칸 삽입 \n",
    "# a[1] = 0 #0으로 수정 삽입 \n",
    "#리스트 값 삭제하기 \n",
    "del a[1]\n",
    "print(a)"
   ]
  },
  {
   "cell_type": "code",
   "execution_count": 36,
   "id": "27628d87-15df-4a12-955a-b2372efa736f",
   "metadata": {},
   "outputs": [
    {
     "data": {
      "text/plain": [
       "[11, 22, 33, 11, 22, 33, 11, 22, 33]"
      ]
     },
     "execution_count": 36,
     "metadata": {},
     "output_type": "execute_result"
    }
   ],
   "source": [
    "c"
   ]
  },
  {
   "cell_type": "code",
   "execution_count": 42,
   "id": "28219e70-476f-4ab1-b53b-ef415105c0b3",
   "metadata": {},
   "outputs": [
    {
     "name": "stdout",
     "output_type": "stream",
     "text": [
      "[22, 33, 11, 22, 33]\n",
      "[33]\n"
     ]
    }
   ],
   "source": [
    "#리스트값 슬라이싱으로 삭제\n",
    "print(c)\n",
    "del c[:4]\n",
    "print(c)"
   ]
  },
  {
   "cell_type": "markdown",
   "id": "277f8365-32aa-4718-8f83-621771536117",
   "metadata": {},
   "source": [
    "### 리스트 관련 함수"
   ]
  },
  {
   "cell_type": "code",
   "execution_count": 43,
   "id": "21c5ffe3-4200-4189-890a-c53d8d404f52",
   "metadata": {},
   "outputs": [
    {
     "data": {
      "text/plain": [
       "['__add__',\n",
       " '__class__',\n",
       " '__class_getitem__',\n",
       " '__contains__',\n",
       " '__delattr__',\n",
       " '__delitem__',\n",
       " '__dir__',\n",
       " '__doc__',\n",
       " '__eq__',\n",
       " '__format__',\n",
       " '__ge__',\n",
       " '__getattribute__',\n",
       " '__getitem__',\n",
       " '__getstate__',\n",
       " '__gt__',\n",
       " '__hash__',\n",
       " '__iadd__',\n",
       " '__imul__',\n",
       " '__init__',\n",
       " '__init_subclass__',\n",
       " '__iter__',\n",
       " '__le__',\n",
       " '__len__',\n",
       " '__lt__',\n",
       " '__mul__',\n",
       " '__ne__',\n",
       " '__new__',\n",
       " '__reduce__',\n",
       " '__reduce_ex__',\n",
       " '__repr__',\n",
       " '__reversed__',\n",
       " '__rmul__',\n",
       " '__setattr__',\n",
       " '__setitem__',\n",
       " '__sizeof__',\n",
       " '__str__',\n",
       " '__subclasshook__',\n",
       " 'append',\n",
       " 'clear',\n",
       " 'copy',\n",
       " 'count',\n",
       " 'extend',\n",
       " 'index',\n",
       " 'insert',\n",
       " 'pop',\n",
       " 'remove',\n",
       " 'reverse',\n",
       " 'sort']"
      ]
     },
     "execution_count": 43,
     "metadata": {},
     "output_type": "execute_result"
    }
   ],
   "source": [
    "dir(list)"
   ]
  },
  {
   "cell_type": "code",
   "execution_count": 47,
   "id": "1eef4472-76d9-4c3e-8b7b-b056e29ba9bb",
   "metadata": {},
   "outputs": [
    {
     "name": "stdout",
     "output_type": "stream",
     "text": [
      "[]\n"
     ]
    }
   ],
   "source": [
    "#리스트 요소 비우기 \n",
    "c.clear()\n",
    "print(c)"
   ]
  },
  {
   "cell_type": "code",
   "execution_count": 57,
   "id": "15a7163f-750e-4514-8797-87142698a2bf",
   "metadata": {},
   "outputs": [],
   "source": [
    "a = [] #리스트 초기화 "
   ]
  },
  {
   "cell_type": "code",
   "execution_count": 58,
   "id": "49b6af0a-e46c-4eb1-b16a-74b09d7fdecc",
   "metadata": {},
   "outputs": [
    {
     "name": "stdout",
     "output_type": "stream",
     "text": [
      "[4]\n",
      "[4, [11, 22]]\n"
     ]
    }
   ],
   "source": [
    "#리스트에 요소 추가하기-append\n",
    "a.append(4)\n",
    "print(a)\n",
    "a.append([11,22])\n",
    "print(a)"
   ]
  },
  {
   "cell_type": "code",
   "execution_count": 2,
   "id": "b2d2e72b-5c49-4802-9ac1-bdd17c06907f",
   "metadata": {},
   "outputs": [],
   "source": [
    "b = []\n",
    "num=0"
   ]
  },
  {
   "cell_type": "code",
   "execution_count": 3,
   "id": "e18a28b2-7b25-4141-8bde-ef2093863030",
   "metadata": {},
   "outputs": [
    {
     "name": "stdout",
     "output_type": "stream",
     "text": [
      "[1]\n"
     ]
    }
   ],
   "source": [
    "num += 1 \n",
    "b.append(num)\n",
    "print(b)"
   ]
  },
  {
   "cell_type": "code",
   "execution_count": 5,
   "id": "9346e5ba-b0b6-457e-a82b-7ad8f9044e14",
   "metadata": {},
   "outputs": [
    {
     "name": "stdout",
     "output_type": "stream",
     "text": [
      "[11, 22, 33, 44, 55]\n"
     ]
    }
   ],
   "source": [
    "#리스트 정렬(오름차순)- sort\n",
    "#원본 파괴\n",
    "a = [11,44,33,22,55]\n",
    "a.sort()\n",
    "print(a)"
   ]
  },
  {
   "cell_type": "code",
   "execution_count": 7,
   "id": "01292b77-bea9-43ea-bf2c-b6008b53d627",
   "metadata": {},
   "outputs": [
    {
     "name": "stdout",
     "output_type": "stream",
     "text": [
      "[55, 44, 33, 22, 11]\n"
     ]
    }
   ],
   "source": [
    "#리스트 정렬(냬림차순)- sort\n",
    "#원본 파괴\n",
    "a = [11,44,33,22,55]\n",
    "a.sort(reverse=True)\n",
    "print(a)"
   ]
  },
  {
   "cell_type": "code",
   "execution_count": 9,
   "id": "864d319c-2d51-4887-86a6-41197e02c2cc",
   "metadata": {},
   "outputs": [
    {
     "name": "stdout",
     "output_type": "stream",
     "text": [
      "[66, 77, 88, 99, 0]\n",
      "[0, 66, 77, 88, 99]\n",
      "[99, 88, 77, 66, 0]\n"
     ]
    }
   ],
   "source": [
    "#리스트 정렬 원본유지하기 \n",
    "aa = [66,77,88,99,0]\n",
    "bb = sorted(aa)\n",
    "cc = sorted(aa,reverse=True)\n",
    "print(aa)\n",
    "print(bb)\n",
    "print(cc)"
   ]
  },
  {
   "cell_type": "code",
   "execution_count": 18,
   "id": "15093707-af8b-4a98-8674-bdb1a6a8fae2",
   "metadata": {},
   "outputs": [
    {
     "name": "stdout",
     "output_type": "stream",
     "text": [
      "['banana', 'kiwi', 'orange', 'melon', 'pear', 'apple', 'strawberry', 'blueberry']\n",
      "['kiwi', 'pear', 'melon', 'apple', 'banana', 'orange', 'blueberry', 'strawberry']\n",
      "['strawberry', 'blueberry', 'banana', 'orange', 'melon', 'apple', 'kiwi', 'pear']\n"
     ]
    }
   ],
   "source": [
    "# sorted 응용 \n",
    "fruit = ['banana','kiwi','orange','melon','pear','apple','strawberry','blueberry']\n",
    "result = sorted(fruit,key=len)\n",
    "result2 = sorted(fruit,key=len,reverse=True)\n",
    "print(fruit)\n",
    "print(result)\n",
    "print(result2)"
   ]
  },
  {
   "cell_type": "code",
   "execution_count": 6,
   "id": "853b3576-a17d-47e5-85b6-ac12d1567865",
   "metadata": {},
   "outputs": [
    {
     "name": "stdout",
     "output_type": "stream",
     "text": [
      "[55, 22, 33, 44, 11]\n"
     ]
    }
   ],
   "source": [
    "#리스트 뒤집기- reverse \n",
    "a = [11,44,33,22,55]\n",
    "a.reverse()\n",
    "print(a)"
   ]
  },
  {
   "cell_type": "code",
   "execution_count": 23,
   "id": "7e528968-c5c6-41f3-b6cb-b2cc43760bcc",
   "metadata": {},
   "outputs": [
    {
     "name": "stdout",
     "output_type": "stream",
     "text": [
      "과일을 먹어볼까?\n",
      "kiwi냠냠 맛있다\n",
      "pear냠냠 맛있다\n",
      "melon냠냠 맛있다\n",
      "apple냠냠 맛있다\n",
      "banana못 먹겠어! 웩!\n",
      "orange냠냠 맛있다\n",
      "blueberry냠냠 맛있다\n",
      "strawberry냠냠 맛있다\n",
      "와~ 다먹었다\n"
     ]
    }
   ],
   "source": [
    "print('과일을 먹어볼까?')  \n",
    "for r in result: \n",
    "    if r == 'banana':\n",
    "        print(r+ '못 먹겠어! 웩!')\n",
    "    if r != 'banana':\n",
    "        print(r + '냠냠 맛있다' )\n",
    "print('와~ 다먹었다')    "
   ]
  },
  {
   "cell_type": "code",
   "execution_count": 29,
   "id": "7c6332cb-cd7f-4bc0-8207-0dc083592c1d",
   "metadata": {},
   "outputs": [
    {
     "data": {
      "text/plain": [
       "3"
      ]
     },
     "execution_count": 29,
     "metadata": {},
     "output_type": "execute_result"
    }
   ],
   "source": [
    "# 인덱스 반환 - index\n",
    "fruit = ['banana','kiwi','orange','melon','pear','apple','strawberry','blueberry']\n",
    "fruit.index('melon')"
   ]
  },
  {
   "cell_type": "code",
   "execution_count": 33,
   "id": "d96fbf8e-3c9d-417e-8003-b71031a9000a",
   "metadata": {},
   "outputs": [
    {
     "name": "stdin",
     "output_type": "stream",
     "text": [
      "먹고 싶은 과일을 입력하세요 pear\n"
     ]
    },
    {
     "name": "stdout",
     "output_type": "stream",
     "text": [
      "pear를 좋아하시는 군요!! 그것은 5번째에 있습니다\n"
     ]
    }
   ],
   "source": [
    "#index 응용 \n",
    "fruit = ['banana','kiwi','orange','melon','pear','apple','strawberry','blueberry']\n",
    "want = input('먹고 싶은 과일을 입력하세요')\n",
    "where = fruit.index(want)\n",
    "print(f'{want}를 좋아하시는 군요!! 그것은 {where+1}번째에 있습니다')\n"
   ]
  },
  {
   "cell_type": "code",
   "execution_count": 36,
   "id": "7db17d83-042d-480c-add5-e7fb6b36408b",
   "metadata": {},
   "outputs": [
    {
     "name": "stdout",
     "output_type": "stream",
     "text": [
      "[11, 22, 33, 55, 66, 77, 88]\n",
      "[11, 22, 33, 44, 55, 66, 77, 88]\n"
     ]
    }
   ],
   "source": [
    "#리스트에 요소 삽입 - insert\n",
    "num = [11,22,33,55,66,77,88]\n",
    "print(num)\n",
    "num.insert(3,44) #3은 인덱스 위치,44는 원하는 값 \n",
    "print(num)"
   ]
  },
  {
   "cell_type": "code",
   "execution_count": 47,
   "id": "96d437c4-7c2f-48d1-80d4-fbd1f59be6fa",
   "metadata": {},
   "outputs": [],
   "source": [
    "ex = []"
   ]
  },
  {
   "cell_type": "code",
   "execution_count": 48,
   "id": "84445014-ab13-4a98-b890-fb02a0ef0630",
   "metadata": {},
   "outputs": [
    {
     "name": "stdout",
     "output_type": "stream",
     "text": [
      "['맨앞']\n",
      "['-1인덱스', '맨앞']\n",
      "['맨앞', '-1인덱스', '맨앞']\n",
      "['맨앞', '-1인덱스', '맨앞', 0]\n"
     ]
    }
   ],
   "source": [
    "ex.insert(0,'맨앞')\n",
    "print(ex)\n",
    "ex.insert(-1,'-1인덱스')\n",
    "print(ex)\n",
    "ex.insert(0,'맨앞')\n",
    "print(ex)\n",
    "ex.insert(len(ex),0)\n",
    "print(ex)"
   ]
  },
  {
   "cell_type": "code",
   "execution_count": null,
   "id": "98b3aa6d-2575-4d65-8287-c647f5d14ed8",
   "metadata": {},
   "outputs": [],
   "source": []
  }
 ],
 "metadata": {
  "kernelspec": {
   "display_name": "Python 3 (ipykernel)",
   "language": "python",
   "name": "python3"
  },
  "language_info": {
   "codemirror_mode": {
    "name": "ipython",
    "version": 3
   },
   "file_extension": ".py",
   "mimetype": "text/x-python",
   "name": "python",
   "nbconvert_exporter": "python",
   "pygments_lexer": "ipython3",
   "version": "3.13.1"
  }
 },
 "nbformat": 4,
 "nbformat_minor": 5
}
