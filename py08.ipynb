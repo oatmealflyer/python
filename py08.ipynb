{
 "cells": [
  {
   "cell_type": "markdown",
   "id": "43fc534b-e94f-43c1-b970-3e5c8e3f4f9f",
   "metadata": {},
   "source": [
    "# 외부 라이브러리"
   ]
  },
  {
   "cell_type": "markdown",
   "id": "1bb4a362-a0f9-4bdb-820e-659037774c75",
   "metadata": {},
   "source": [
    "## pip * "
   ]
  },
  {
   "cell_type": "markdown",
   "id": "108aeeb6-f7d2-43af-9f8c-ff7d2247c462",
   "metadata": {},
   "source": [
    "\n",
    "- venv1 생성 후 백업: pip freeze > requirements.txt\n",
    "\n",
    "- venv2 생성 후 복구: pip install -r requirements.txt\n",
    "\n",
    "- venv3 jupyterlab 설치후 matplotlib 설치 후 백업하고\n",
    "\n",
    "- venv4 에 pip 리스트 그대로 복구하라.\n",
    "\n",
    "- venv5 에 numpy 2.2.2 버전으로 복구되도록 requirements.txt 수정 후 복구하라."
   ]
  },
  {
   "cell_type": "markdown",
   "id": "de058d22-0899-45d0-b470-f2cfa81af13c",
   "metadata": {},
   "source": [
    "## Faker"
   ]
  },
  {
   "cell_type": "code",
   "execution_count": 14,
   "id": "2ed5d438-f06f-4db5-b0fb-3b538eeeb37f",
   "metadata": {},
   "outputs": [],
   "source": [
    "# !pip install Faker"
   ]
  },
  {
   "cell_type": "code",
   "execution_count": null,
   "id": "5bf2c9fc-34e0-4142-8d2c-895d754922b4",
   "metadata": {},
   "outputs": [],
   "source": [
    "from faker import Faker \n",
    "fake = Faker('ko-KR')\n",
    "[{'name':fake.name(),'company':fake.user_name(),'phone':fake.phone_number(),'email':fake.email()} for n in range(10)]"
   ]
  },
  {
   "cell_type": "markdown",
   "id": "17d2fd8c-8424-4efe-b319-857f903ed2ba",
   "metadata": {},
   "source": [
    "<table>\n",
    "<thead>\n",
    "<tr>\n",
    "<th>항목</th>\n",
    "<th>설명</th>\n",
    "</tr>\n",
    "</thead>\n",
    "<tbody>\n",
    "<tr>\n",
    "<td>fake.name()</td>\n",
    "<td>이름</td>\n",
    "</tr>\n",
    "<tr>\n",
    "<td>fake.address()</td>\n",
    "<td>주소</td>\n",
    "</tr>\n",
    "<tr>\n",
    "<td>fake.postcode()</td>\n",
    "<td>우편 번호</td>\n",
    "</tr>\n",
    "<tr>\n",
    "<td>fake.country()</td>\n",
    "<td>국가명</td>\n",
    "</tr>\n",
    "<tr>\n",
    "<td>fake.company()</td>\n",
    "<td>회사명</td>\n",
    "</tr>\n",
    "<tr>\n",
    "<td>fake.job()</td>\n",
    "<td>직업명</td>\n",
    "</tr>\n",
    "<tr>\n",
    "<td>fake.phone_number()</td>\n",
    "<td>휴대전화 번호</td>\n",
    "</tr>\n",
    "<tr>\n",
    "<td>fake.email()</td>\n",
    "<td>이메일 주소</td>\n",
    "</tr>\n",
    "<tr>\n",
    "<td>fake.user_name()</td>\n",
    "<td>사용자명</td>\n",
    "</tr>\n",
    "<tr>\n",
    "<td>fake.pyint(min_value=0, max_value=100)</td>\n",
    "<td>0부터 100 사이의 임의의 숫자</td>\n",
    "</tr>\n",
    "<tr>\n",
    "<td>fake.ipv4_private()</td>\n",
    "<td>IP 주소</td>\n",
    "</tr>\n",
    "<tr>\n",
    "<td>fake.text()</td>\n",
    "<td>임의의 문장 (한글 임의의 문장은 <code>fake.catch_phrase()</code> 사용)</td>\n",
    "</tr>\n",
    "<tr>\n",
    "<td>fake.color_name()</td>\n",
    "<td>색상명</td>\n",
    "</tr>\n",
    "</tbody>\n",
    "</table>"
   ]
  },
  {
   "cell_type": "code",
   "execution_count": 2,
   "id": "53af213b-0e04-4137-a3a4-aefb75357f76",
   "metadata": {},
   "outputs": [
    {
     "name": "stdout",
     "output_type": "stream",
     "text": [
      " 1위:REBEL HEART/IVE (아이브)\n",
      "2위:HOME SWEET HOME (feat. 태양, 대성)/G-DRAGON\n",
      "3위:나는 반딧불/황가람\n",
      "4위:Whiplash/aespa\n",
      "5위:APT./로제 (ROSÉ)\n",
      "6위:오늘만 I LOVE YOU/Bruno Mars\n",
      "7위:Drowning/BOYNEXTDOOR\n",
      "8위:ATTITUDE/WOODZ\n",
      "9위:toxic till the end/IVE (아이브)\n",
      "10위:Dash/로제 (ROSÉ)\n",
      "11위:POWER/PLAVE\n",
      "12위:HAPPY/G-DRAGON\n",
      "13위:내게 사랑이 뭐냐고 물어본다면/DAY6 (데이식스)\n",
      "14위:RIZZ/로이킴\n",
      "15위:DRIP/PLAVE\n",
      "16위:Chroma Drift/BABYMONSTER\n",
      "17위:Island/PLAVE\n",
      "18위:소나기/PLAVE\n",
      "19위:12:32 (A to T)/이클립스 (ECLIPSE)\n",
      "20위:너와의 모든 지금/PLAVE\n",
      " "
     ]
    }
   ],
   "source": [
    "import requests as req \n",
    "from bs4 import BeautifulSoup as bs\n",
    "#필요한 라이브러리 임포트 : 웹페이지에서 데이터를 가져오기 위해 requests와 BeautifulSoup 라이브러리를 불러옴 \n",
    "\n",
    "url =\"https://www.melon.com/chart/index.htm\"\n",
    "headers = {'User-Agent':'Mozilla/5.0 (Windows NT 10.0; Win64; x64) AppleWebKit/537.36 (KHTML, like Gecko) Chrome/133.0.0.0 Safari/537.36 Edg/133.0.0.0'}\n",
    "#URL 및 헤더 설정 : url 변수에 멜론 차트의 url을 저장하고 ,headers 변수에 사용자 에이전트를 설정 . 웹페이지 요청 시 필요 \n",
    "\n",
    "web = req.get(url, headers = headers )\n",
    "#웹페이지 요청 : req.get 메소드를 사용해 웹페이지의 내용을 가져옴. 헤더 정보를 함께 보내어 요청의 신뢰성을 높임 \n",
    "\n",
    "def mel():\n",
    "    soup = bs(web.content, 'html.parser')\n",
    "    #HTML 파싱 : BeautifulSoup 객체를 사용해 웹페이지의 HTML을 파싱 \n",
    "    \n",
    "    title = soup.select('.rank01')[:20]\n",
    "    name = soup.select('.checkEllipsis a')[:20]\n",
    "    #데이터 선택: .rank01 클래스와 .checkEllipsis a 선택자를 사용해 상위 20개의 노래 제목과 아티스트 이름을 선택 \n",
    "    \n",
    "    str = ' '\n",
    "    for i,(t,n) in enumerate(zip(title,name),1):\n",
    "        str += f'{i}위:{t.text.strip()}/{n.text}\\n'\n",
    "    #결과 출력 준비 : str 변수에 순위,제목,아티스트 이름을 문자열 형식으로 저장 \n",
    "    \n",
    "    print(str,end= ' ' )\n",
    "    #결과 출력:최종적으로 문자열을 출력 \n",
    "\n",
    "if __name__ == '__main__':\n",
    "    mel()\n",
    "    #스크립트 실행 : if __name__ == '__main__': 블록을 이용해 스크립트 실행"
   ]
  },
  {
   "cell_type": "code",
   "execution_count": 3,
   "id": "b6a0d116-9d73-4137-83d7-473be989d83a",
   "metadata": {},
   "outputs": [
    {
     "name": "stdout",
     "output_type": "stream",
     "text": [
      "Collecting html5lib\n",
      "  Downloading html5lib-1.1-py2.py3-none-any.whl.metadata (16 kB)\n",
      "Requirement already satisfied: six>=1.9 in c:\\users\\admin\\appdata\\local\\programs\\python\\python313\\lib\\site-packages (from html5lib) (1.17.0)\n",
      "Requirement already satisfied: webencodings in c:\\users\\admin\\appdata\\local\\programs\\python\\python313\\lib\\site-packages (from html5lib) (0.5.1)\n",
      "Downloading html5lib-1.1-py2.py3-none-any.whl (112 kB)\n",
      "Installing collected packages: html5lib\n",
      "Successfully installed html5lib-1.1\n"
     ]
    }
   ],
   "source": [
    "!pip install html5lib"
   ]
  },
  {
   "cell_type": "code",
   "execution_count": 9,
   "id": "369fca26-e4c9-43a6-a1a5-bf163250b006",
   "metadata": {
    "scrolled": true
   },
   "outputs": [
    {
     "name": "stdout",
     "output_type": "stream",
     "text": [
      "===============\n",
      "월 2025.02.17\n",
      "---------------\n",
      "정식-5,500원\n",
      "강황밥\n",
      "김치콩나물국\n",
      "돈육바싹불고기\n",
      "모듬잡채\n",
      "멸치새우견과볶음\n",
      "상추겉절이\n",
      "포기김치\n",
      "\n",
      "===============\n",
      "===============\n",
      "화 2025.02.18\n",
      "---------------\n",
      "정식-5,500원\n",
      "백미밥\n",
      "물만두국\n",
      "순살닭매콤조림\n",
      "쫄면야채무침\n",
      "파래무무침\n",
      "참나물겉절이\n",
      "포기김치\n",
      "\n",
      "===============\n",
      "===============\n",
      "수 2025.02.19\n",
      "---------------\n",
      "정식-5,500원\n",
      "백미밥\n",
      "모듬어묵국\n",
      "함박스테이크/치즈/소스\n",
      "스파게티/소스\n",
      "치커리유자청샐러드\n",
      "콩나물무침\n",
      "포기김치\n",
      "\n",
      "===============\n",
      "===============\n",
      "목 2025.02.20\n",
      "---------------\n",
      "정식-5,500원\n",
      "잡곡밥\n",
      "홍합미역국\n",
      "순살치킨/맛초킹소스\n",
      "꼬시레기두부무침\n",
      "잡채어묵조림\n",
      "상추겉절이\n",
      "포기김치\n",
      "\n",
      "===============\n",
      "===============\n",
      "금 2025.02.21\n",
      "---------------\n",
      "정식-5,500원\n",
      "백미밥\n",
      "국수\n",
      "깐풍기/소스\n",
      "알감자버터구이\n",
      "도토리묵김치무침\n",
      "열무겉절이\n",
      "포기김치\n",
      "\n",
      "===============\n"
     ]
    }
   ],
   "source": [
    "import requests as req \n",
    "from bs4 import BeautifulSoup as bs\n",
    "\n",
    "url =\"https://www.pusan.ac.kr/kor/CMS/MenuMgr/menuListOnBuilding.do?mCode=MN202\"\n",
    "headers = {'User-Agent':'Mozilla/5.0 (Windows NT 10.0; Win64; x64) AppleWebKit/537.36 (KHTML, like Gecko) Chrome/133.0.0.0 Safari/537.36 Edg/133.0.0.0'}\n",
    "web = req.get(url,headers = headers)\n",
    "soup =bs(web.content ,'html5lib')\n",
    "menucard = soup.select('.menu-tb1')\n",
    "won = soup.select('.menu-tit01')\n",
    "menu = soup.select('h3.menu-tit01+p')\n",
    "day = soup.select('.day')\n",
    "date = soup.select('.date')\n",
    "# print(day,date)\n",
    "for d,dd,w,m in zip(day,date,won,menu):\n",
    "    print('='*15)\n",
    "    print(d.text,dd.text)\n",
    "    print('-'*15)\n",
    "    print(w.text+'\\n'+m.text)\n",
    "    print('='*15)"
   ]
  },
  {
   "cell_type": "code",
   "execution_count": null,
   "id": "20ff8ef1-70d8-42e4-9743-0baceff3227c",
   "metadata": {},
   "outputs": [],
   "source": [
    "#라이브러리 임포트 \n",
    "import requests as req \n",
    "# requests :HTTP 요청을 보내기 위한 라이브러리 \n",
    "from bs4 import BeautifulSoup as bs \n",
    "# BeautifulSoup : HTML 및 XML 문서를 파싱하는 라이브러리 \n",
    "\n",
    "url =\"https://www.pusan.ac.kr/kor/CMS/MenuMgr/menuListOnBuilding.do?mCode=MN202\"\n",
    "headers = {'User-Agent': 'Mozilla/5.0 (Windows NT 10.0; Win64; x64) AppleWebKit/537.36 (KHTML, like Gecko) Chrome/133.0.0.0 Safari/537.36 Edg/133.0.0.0'}\n",
    "#url 및 헤더 설정 \n",
    "#url :데이터를 가져올 웹사이트의 url \n",
    "#headers :실제 웹 브라우저에서 요청한 것처럼 보이도록 하는 사용자 에이전트 문자열 \n",
    "\n",
    "#웹페이지 콘텐츠 가져오기 \n",
    "web = req.get(url,headers=headers)\n",
    "#req.get() : 지정된 url로 get 요청을 보내고, 응답을 web 변수에 저장 \n",
    "\n",
    "#HTML 콘텐츠 파싱 \n",
    "soup = bs(web.content,'html5lib')\n",
    "#BeautifulSoup: 'html5lib' 파서를 사용하여 HTML 콘텐츠를 파싱\n",
    "\n",
    "#요소 선택 \n",
    "menucard = soup.select('.menu-tb1')\n",
    "won = soup.select('.menu-tit01')\n",
    "menu = soup.selct('h3.menu-tit01+p')\n",
    "day = soup.select('.day')\n",
    "date = soup.select('.date')\n",
    "#.select()제공된 CSS선택자를 사용하여 파싱된 HTML에서 요소 선택\n",
    "\n",
    "#메뉴정보 출력 \n",
    "for d,dd,w,m in zip(day,date,won,menu):\n",
    "    print('='*15)\n",
    "    print(d.text,dd.text)\n",
    "    print('-'*15)\n",
    "    print(w.text + '\\n'+m.text)\n",
    "    print('='*15)\n",
    "    "
   ]
  },
  {
   "cell_type": "code",
   "execution_count": 5,
   "id": "f6b3d0b5-a6f8-436b-b4b6-71aa733930f4",
   "metadata": {},
   "outputs": [
    {
     "name": "stdout",
     "output_type": "stream",
     "text": [
      " 1순위 REBEL HEART / IVE (아이브)\n",
      " 2순위 나는 반딧불 / 황가람\n",
      " 3순위 HOME SWEET HOME (Feat. 태양 & 대성) / G-DRAGON\n",
      " 4순위 Whiplash / aespa\n",
      " 5순위 APT. / 로제 (ROSÉ) & Bruno Mars\n",
      " 6순위 Drowning / WOODZ\n",
      " 7순위 ATTITUDE / IVE (아이브)\n",
      " 8순위 모르시나요 (Prod. by 로코베리) / 조째즈\n",
      " 9순위 HAPPY / DAY6 (데이식스)\n",
      " 10순위 내게 사랑이 뭐냐고 물어본다면 / 로이킴\n",
      " 11순위 toxic till the end / 로제 (ROSÉ)\n",
      " 12순위 POWER / G-DRAGON\n",
      " 13순위 내 이름 맑음 / QWER\n",
      " 14순위 Welcome to the Show / DAY6 (데이식스)\n",
      " 15순위 한 페이지가 될 수 있게 / DAY6 (데이식스)\n",
      " 16순위 소나기 / 이클립스 (ECLIPSE)\n",
      " 17순위 Supernova / aespa\n",
      " 18순위 너와의 모든 지금 / 재쓰비 (JAESSBEE)\n",
      " 19순위 오늘만 I LOVE YOU / BOYNEXTDOOR\n",
      " 20순위 고민중독 / QWER\n",
      " 21순위 예뻤어 / DAY6 (데이식스)\n",
      " 22순위 슬픈 초대장 / 순순희 (지환)\n",
      " 23순위 천상연 / 이창섭\n",
      " 24순위 UP (KARINA Solo) / aespa\n",
      " 25순위 DRIP / BABYMONSTER\n",
      " 26순위 사랑은 늘 도망가 / 임영웅\n",
      " 27순위 Die With A Smile / Lady Gaga & Bruno Mars\n",
      " 28순위 에피소드 / 이무진\n",
      " 29순위 나는 아픈 건 딱 질색이니까 / (여자)아이들\n",
      " 30순위 How Sweet / NewJeans\n",
      " 31순위 비의 랩소디 / 임재현\n",
      " 32순위 Mantra / 제니 (JENNIE)\n",
      " 33순위 Love wins all / 아이유 (IU)\n",
      " 34순위 어떻게 이별까지 사랑하겠어, 널 사랑하는 거지 / AKMU (악뮤)\n",
      " 35순위 첫 만남은 계획대로 되지 않아 / TWS (투어스)\n",
      " 36순위 봄여름가을겨울 (Still Life) / BIGBANG (빅뱅)\n",
      " 37순위 미치게 그리워서 / 황가람\n",
      " 38순위 청춘만화 / 이무진\n",
      " 39순위 Small girl (Feat. 도경수 (D.O.)) / 이영지\n",
      " 40순위 I AM / IVE (아이브)\n",
      " 41순위 헤어지자 말해요 / 박재정\n",
      " 42순위 Magnetic / 아일릿 (ILLIT)\n",
      " 43순위 이제 나만 믿어요 / 임영웅\n",
      " 44순위 심 (心) / DK (디셈버)\n",
      " 45순위 Storm / 김보경 (NEON)\n",
      " 46순위 해야 (HEYA) / IVE (아이브)\n",
      " 47순위 다정히 내 이름을 부르면 / 경서예지 & 전건호\n",
      " 48순위 클락션 (Klaxon) / (여자)아이들\n",
      " 49순위 너의 모든 순간 / 성시경\n",
      " 50순위 우리들의 블루스 / 임영웅\n"
     ]
    }
   ],
   "source": [
    "import requests as req \n",
    "from bs4 import BeautifulSoup as bs\n",
    "url =\"https://genie.co.kr/chart/top200\"\n",
    "headers = {'User-Agent':'Mozilla/5.0 (Windows NT 10.0; Win64; x64) AppleWebKit/537.36 (KHTML, like Gecko) Chrome/133.0.0.0 Safari/537.36 Edg/133.0.0.0'} \n",
    "web = req.get(url, headers = headers )\n",
    "\n",
    "soup = bs(web.content, 'html.parser')\n",
    "title = soup.select('.info .title')\n",
    "artist = soup.select('.info .artist')\n",
    "for i,(t, a) in enumerate (zip(title,artist),1):\n",
    "    print(f\" {i}순위 {t.text.strip()} / {a.text.strip()}\")"
   ]
  },
  {
   "cell_type": "code",
   "execution_count": 19,
   "id": "d97a6d88-d464-4c63-bb16-0b5495f73851",
   "metadata": {},
   "outputs": [
    {
     "name": "stdout",
     "output_type": "stream",
     "text": [
      "Requirement already satisfied: python-telegram-bot in c:\\users\\admin\\appdata\\local\\programs\\python\\python313\\lib\\site-packages (21.10)\n",
      "Requirement already satisfied: httpx~=0.27 in c:\\users\\admin\\appdata\\local\\programs\\python\\python313\\lib\\site-packages (from python-telegram-bot) (0.28.1)\n",
      "Requirement already satisfied: anyio in c:\\users\\admin\\appdata\\local\\programs\\python\\python313\\lib\\site-packages (from httpx~=0.27->python-telegram-bot) (4.8.0)\n",
      "Requirement already satisfied: certifi in c:\\users\\admin\\appdata\\local\\programs\\python\\python313\\lib\\site-packages (from httpx~=0.27->python-telegram-bot) (2025.1.31)\n",
      "Requirement already satisfied: httpcore==1.* in c:\\users\\admin\\appdata\\local\\programs\\python\\python313\\lib\\site-packages (from httpx~=0.27->python-telegram-bot) (1.0.7)\n",
      "Requirement already satisfied: idna in c:\\users\\admin\\appdata\\local\\programs\\python\\python313\\lib\\site-packages (from httpx~=0.27->python-telegram-bot) (3.10)\n",
      "Requirement already satisfied: h11<0.15,>=0.13 in c:\\users\\admin\\appdata\\local\\programs\\python\\python313\\lib\\site-packages (from httpcore==1.*->httpx~=0.27->python-telegram-bot) (0.14.0)\n",
      "Requirement already satisfied: sniffio>=1.1 in c:\\users\\admin\\appdata\\local\\programs\\python\\python313\\lib\\site-packages (from anyio->httpx~=0.27->python-telegram-bot) (1.3.1)\n"
     ]
    }
   ],
   "source": [
    "!pip install python-telegram-bot"
   ]
  },
  {
   "cell_type": "code",
   "execution_count": 20,
   "id": "0d87772c-b4ae-4ad5-b805-e4b5c2194012",
   "metadata": {},
   "outputs": [
    {
     "name": "stdout",
     "output_type": "stream",
     "text": [
      "Collecting dotenv\n",
      "  Downloading dotenv-0.9.9-py2.py3-none-any.whl.metadata (279 bytes)\n",
      "Requirement already satisfied: python-dotenv in c:\\users\\admin\\appdata\\local\\programs\\python\\python313\\lib\\site-packages (from dotenv) (1.0.1)\n",
      "Downloading dotenv-0.9.9-py2.py3-none-any.whl (1.9 kB)\n",
      "Installing collected packages: dotenv\n",
      "Successfully installed dotenv-0.9.9\n"
     ]
    }
   ],
   "source": [
    "!pip install dotenv"
   ]
  },
  {
   "cell_type": "code",
   "execution_count": 3,
   "id": "a822c890-f408-47e1-af77-d70396af391b",
   "metadata": {},
   "outputs": [
    {
     "name": "stdout",
     "output_type": "stream",
     "text": [
      "okokokok\n"
     ]
    }
   ],
   "source": [
    "import asyncio \n",
    "import nest_asyncio #주피터랩용 \n",
    "from dotenv import load_dotenv\n",
    "import os\n",
    "\n",
    "from telegram import Update\n",
    "from telegram.ext import Application, CommandHandler, MessageHandler, filters, CallbackContext\n",
    "nest_asyncio.apply() #주피터랩용 \n",
    "load_dotenv()\n",
    "TELEGRAM_TOKEN =os.getenv(\"TELEGRAM_TOKEN\")\n",
    "\n",
    "\n",
    "# async def hello(update: Update, context: ContextTypes.DEFAULT_TYPE) -> None:\n",
    "#     await update.message.reply_text(f'Hello {update.effective_user.first_name}')\n",
    "\n",
    "# app = ApplicationBuilder().token(\"TELEGRAM_TOKEN\").build()\n",
    "\n",
    "# app.add_handler(CommandHandler(\"hello\", hello))\n",
    "\n",
    "# app.run_polling()\n",
    "\n",
    "print(TELEGRAM_TOKEN)\n",
    "\n"
   ]
  },
  {
   "cell_type": "markdown",
   "id": "5504d758-6abc-4a32-8dab-c23748680650",
   "metadata": {},
   "source": [
    "urllib은 URL을 읽고 분석할 때 사용하는 모듈 \n",
    "\n",
    "브라우저로 위키독스의 특정 페이지를 읽으려면 다음과 같이 요청하면 됨 \n",
    "https:// wikidocs.nte/페이지번호/(예: https:// wikidocs.net12) \n",
    "\n",
    "오프라인으로도 읽을 수 있도록 페이지 번호를 입력받아 위키독스의 특정 페이지를 \n",
    "wikidocs_페이지 번호.html 파일로 저장하는 함수 \n",
    "\n",
    "URL을 호출하여 원하는 리소스를 얻으려면 urllib모듈 사용 "
   ]
  },
  {
   "cell_type": "code",
   "execution_count": 24,
   "id": "59e7dbd1-2278-4271-ad15-bbcea1a07983",
   "metadata": {},
   "outputs": [],
   "source": [
    "import urllib.request \n",
    "\n",
    "def get_wikidocs(page):\n",
    "    resource = 'https://wikidocs.net/{}'.format(page)\n",
    "    with urllib.request.urlopen(resource) as s:\n",
    "        with open('wikidocs_%s.html' %page,'wb') as f :\n",
    "            f.write(s.read())\n",
    "\n",
    "# get_wikidocs(12) "
   ]
  },
  {
   "cell_type": "markdown",
   "id": "f190ea25-c2c3-4c89-82a7-bd8f99c4b58b",
   "metadata": {},
   "source": [
    "webbrowser \n",
    "- webbrwoser : 파이썬 프로그램에서 시스템 브라우저를 호출할 때 사용하는 모듈\n",
    "- 파이썬으로 웹 페이지를 새 창으로 열려면 webbrowser 모듈의 open_new()함수 사용  "
   ]
  },
  {
   "cell_type": "code",
   "execution_count": 26,
   "id": "58163833-7050-4435-9771-f9c83bef3c75",
   "metadata": {},
   "outputs": [
    {
     "data": {
      "text/plain": [
       "True"
      ]
     },
     "execution_count": 26,
     "metadata": {},
     "output_type": "execute_result"
    }
   ],
   "source": [
    "import webbrowser \n",
    "\n",
    "webbrowser.open_new('http://python.org') \n",
    "\n",
    "#이미 열린 브라우저로 원하는 사이트를 열고 싶을때 \n",
    "# webbrowser.open('http://python.org')"
   ]
  },
  {
   "cell_type": "markdown",
   "id": "ab6c4e92-fe9b-4c85-9b77-6c081e522aeb",
   "metadata": {},
   "source": [
    "외부 라이브러리 \n",
    "- 외부 라이브러리는 파이썬 표준 라이브러리가 아니므로 사용하려면 먼저 pip 도구를 이용하여 설치해야함\n",
    "pip\n",
    "- pip은 파이썬 모듈이나 패키지를 쉽게 설치할 수 있도록 도와주는 도구\n",
    "- pip으로 파이썬 프로그램을 설치하면 의존성 있는 모듈이나 패키지를 함께 설치해주기 때문에 매우 편리함\n",
    "pip 사용법\n",
    "PyPI 는 파이썬 소프트웨어가 모인 저장 공간. 현재 이곳에는 10만건 이상의 파이썬 패키지가 등록되어 있으며\n",
    "이곳에 등록된 파이썬 패키지는 누구나 내려받아 사용할 수 있음 .직접 내려받아 설치해도 되지만 pip을 이용하면 다음과 같이 간편하게 설치 할 수 있음 "
   ]
  },
  {
   "cell_type": "code",
   "execution_count": 2,
   "id": "8b00b784-7371-4516-ac75-7b62ca28b3ed",
   "metadata": {},
   "outputs": [
    {
     "name": "stdout",
     "output_type": "stream",
     "text": [
      "Collecting sympy\n",
      "  Downloading sympy-1.13.3-py3-none-any.whl.metadata (12 kB)\n",
      "Collecting mpmath<1.4,>=1.1.0 (from sympy)\n",
      "  Downloading mpmath-1.3.0-py3-none-any.whl.metadata (8.6 kB)\n",
      "Downloading sympy-1.13.3-py3-none-any.whl (6.2 MB)\n",
      "   ---------------------------------------- 0.0/6.2 MB ? eta -:--:--\n",
      "   ---------------------------------------- 6.2/6.2 MB 56.6 MB/s eta 0:00:00\n",
      "Downloading mpmath-1.3.0-py3-none-any.whl (536 kB)\n",
      "   ---------------------------------------- 0.0/536.2 kB ? eta -:--:--\n",
      "   --------------------------------------- 536.2/536.2 kB 47.0 MB/s eta 0:00:00\n",
      "Installing collected packages: mpmath, sympy\n",
      "Successfully installed mpmath-1.3.0 sympy-1.13.3\n",
      "Note: you may need to restart the kernel to use updated packages.\n"
     ]
    }
   ],
   "source": [
    "pip install sympy"
   ]
  },
  {
   "cell_type": "code",
   "execution_count": 3,
   "id": "ffa42b7e-37f5-49b8-9cdc-49dd515c3f20",
   "metadata": {},
   "outputs": [
    {
     "name": "stdout",
     "output_type": "stream",
     "text": [
      "남은 돈은 2640입니다\n"
     ]
    }
   ],
   "source": [
    "from fractions import Fraction \n",
    "import sympy\n",
    "\n",
    "#가지고 있던 돈을 x 라고 하자 \n",
    "x = sympy.symbols(\"x\")\n",
    "\n",
    "#가지고 있던 돈의 2/5가 1760원이므로 방정식은 x *(2/5) = 1760 \n",
    "f = sympy.Eq(x*Fraction('2/5'),1760)\n",
    "\n",
    "#방정식을 만족하는 값(result)을 구한다 \n",
    "result =sympy.solve(f) #결과값은 리스트 \n",
    "\n",
    "#남은 돈은 다음과 같이 가지고 있던 돈에서 1760원을 빼면 된다 \n",
    "remains = result[0] - 1760\n",
    "\n",
    "print('남은 돈은 {}입니다'.format(remains))"
   ]
  },
  {
   "cell_type": "code",
   "execution_count": 4,
   "id": "4be1c71b-ca71-4629-a482-13c8f030e322",
   "metadata": {},
   "outputs": [
    {
     "data": {
      "text/plain": [
       "[-1, 1]"
      ]
     },
     "execution_count": 4,
     "metadata": {},
     "output_type": "execute_result"
    }
   ],
   "source": [
    "import sympy \n",
    "x = sympy.symbols(\"x\")\n",
    "f = sympy.Eq(x**2,1)\n",
    "sympy.solve(f)"
   ]
  },
  {
   "cell_type": "code",
   "execution_count": 5,
   "id": "c1c2496a-25f9-4972-b133-033182eacbe4",
   "metadata": {},
   "outputs": [
    {
     "data": {
      "text/plain": [
       "{x: 7, y: 3}"
      ]
     },
     "execution_count": 5,
     "metadata": {},
     "output_type": "execute_result"
    }
   ],
   "source": [
    "import sympy\n",
    "x,y = sympy.symbols('x y')\n",
    "f1 = sympy.Eq(x+y,10)\n",
    "f2 = sympy.Eq(x-y,4 )\n",
    "sympy.solve([f1,f2])"
   ]
  },
  {
   "cell_type": "code",
   "execution_count": 6,
   "id": "21d3a97d-ca57-438a-92b4-606a25adef9c",
   "metadata": {},
   "outputs": [
    {
     "name": "stdout",
     "output_type": "stream",
     "text": [
      "3\n"
     ]
    }
   ],
   "source": [
    "#p295 되새김 문제 1번 \n",
    "#클래스 상속받고 메서드 추가하기 1 \n",
    "class Calculator:\n",
    "    def __init__(self):\n",
    "        self.value = 0 \n",
    "\n",
    "    def add(self,val):\n",
    "        self.value += val \n",
    "        \n",
    "class UpgradeCalculator(Calculator) : \n",
    "    def minus(self,val):\n",
    "        self.value -= val \n",
    "\n",
    "cal = UpgradeCalculator()\n",
    "cal.add(10)\n",
    "cal.minus(7)\n",
    "\n",
    "print(cal.value)"
   ]
  },
  {
   "cell_type": "code",
   "execution_count": 10,
   "id": "8ac8b3b8-f799-4145-9530-16f3de5f25fa",
   "metadata": {},
   "outputs": [
    {
     "name": "stdout",
     "output_type": "stream",
     "text": [
      "100\n"
     ]
    }
   ],
   "source": [
    "#2번 \n",
    "#클래스 상속받고 메서드 추가하기2 \n",
    "#객체변수 value가 100이상의 값을 가질 수 없도록 제한하는 MaxLimitCalculator 클래스 만들기 \n",
    "class Calculator :\n",
    "    def __init__(self):\n",
    "        self.value = 0\n",
    "    def add(self,val):\n",
    "        self.value += val \n",
    "        \n",
    "class MaxLimitCalculator(Calculator):\n",
    "    def add(self,val):\n",
    "        self.value += val\n",
    "        if self.value > 100 : \n",
    "            self.value = 100 \n",
    "\n",
    "cal = MaxLimitCalculator()\n",
    "cal.add(50) \n",
    "cal.add(60)\n",
    "\n",
    "print(cal.value)"
   ]
  },
  {
   "cell_type": "code",
   "execution_count": 11,
   "id": "c419b790-8b88-4bd7-b73e-015a45f1582b",
   "metadata": {},
   "outputs": [
    {
     "data": {
      "text/plain": [
       "False"
      ]
     },
     "execution_count": 11,
     "metadata": {},
     "output_type": "execute_result"
    }
   ],
   "source": [
    "#3번 \n",
    "#참과 거짓 예측하기 \n",
    "all([1,2,abs(-3)-3])\n",
    "#all(1,2,0) 이므로 리스트의 요소값 중 0이 있기 때문에 내장 함수의 결과는 False \n",
    "\n",
    "chr(ord('a')) == 'a'\n",
    "#ord함수는 문자에 해당하는 유니코드 정수를 리턴 \n",
    "#ord('a')의 결과는 97이 \n",
    "#chr(97)은 다시 'a'"
   ]
  },
  {
   "cell_type": "code",
   "execution_count": 12,
   "id": "49d1854a-6905-48eb-a0a8-80e7c4c6f29c",
   "metadata": {
    "scrolled": true
   },
   "outputs": [
    {
     "data": {
      "text/plain": [
       "[1, 3, 8]"
      ]
     },
     "execution_count": 12,
     "metadata": {},
     "output_type": "execute_result"
    }
   ],
   "source": [
    "#4번 \n",
    "#음수를 제거하기위한 filter함수로 lambda 함수를 다음과 같이 만들어 실행 \n",
    "list(filter(lambda x : x>0,[1,-2,3,-5,8,-3]))"
   ]
  },
  {
   "cell_type": "code",
   "execution_count": 13,
   "id": "c4e767c7-f989-434a-abdc-c1a24a425c9c",
   "metadata": {},
   "outputs": [
    {
     "data": {
      "text/plain": [
       "234"
      ]
     },
     "execution_count": 13,
     "metadata": {},
     "output_type": "execute_result"
    }
   ],
   "source": [
    "#5번 \n",
    "#16진수를 10진수로 변경하기 \n",
    "int('0xea',16)"
   ]
  },
  {
   "cell_type": "code",
   "execution_count": 14,
   "id": "4218b0bd-fbde-4b99-8a00-4dc5c1970ce6",
   "metadata": {},
   "outputs": [
    {
     "data": {
      "text/plain": [
       "[3, 6, 9, 12]"
      ]
     },
     "execution_count": 14,
     "metadata": {},
     "output_type": "execute_result"
    }
   ],
   "source": [
    "#6번 \n",
    "#리스트 항목마다 3곱하여 리턴하기 \n",
    "list(map(lambda x:x*3,[1,2,3,4]))"
   ]
  },
  {
   "cell_type": "code",
   "execution_count": 15,
   "id": "7c73c83c-bfaa-4e7c-9396-d5416ee45830",
   "metadata": {},
   "outputs": [
    {
     "data": {
      "text/plain": [
       "-1"
      ]
     },
     "execution_count": 15,
     "metadata": {},
     "output_type": "execute_result"
    }
   ],
   "source": [
    "#7번 \n",
    "#최댓값과 최솟값의 합 \n",
    "a = [-8,2,7,5,-3,5,0,1]\n",
    "max(a)+min(a)\n"
   ]
  },
  {
   "cell_type": "code",
   "execution_count": 16,
   "id": "6fd0f9c5-761b-4cf9-928f-b0c78fa6ecf6",
   "metadata": {},
   "outputs": [
    {
     "data": {
      "text/plain": [
       "5.6667"
      ]
     },
     "execution_count": 16,
     "metadata": {},
     "output_type": "execute_result"
    }
   ],
   "source": [
    "#8번 \n",
    "#소수점 반올림하기 \n",
    "#round 내장함수 사용 \n",
    "round(17/3,4)"
   ]
  },
  {
   "cell_type": "code",
   "execution_count": 18,
   "id": "ac3f51f2-431b-4c68-b850-f4710aad00c9",
   "metadata": {},
   "outputs": [
    {
     "name": "stdout",
     "output_type": "stream",
     "text": [
      " D 드라이브의 볼륨: data\n",
      " 볼륨 일련 번호: 6A9A-481F\n",
      "\n",
      " d:\\lkj\\code 디렉터리\n",
      "\n",
      "2025-02-21  오후 03:35    <DIR>          .\n",
      "2025-02-05  오전 08:53    <DIR>          ..\n",
      "2025-02-21  오전 09:01                76 .env\n",
      "2025-02-13  오후 02:50                36 .gitignore\n",
      "2025-02-21  오후 02:25    <DIR>          .ipynb_checkpoints\n",
      "2025-02-07  오후 05:13             3,281 0207lkj.ipynb\n",
      "2025-02-11  오후 03:21               103 add.py\n",
      "2025-02-19  오전 10:34    <DIR>          backup\n",
      "2025-02-21  오전 11:53             1,356 bot.py\n",
      "2025-02-11  오전 11:05            13,283 chap2ex이경주.ipynb\n",
      "2025-02-20  오전 11:50                33 foo.txt\n",
      "2025-02-20  오전 11:50    <DIR>          game\n",
      "2025-02-13  오전 11:37               286 mod1.py\n",
      "2025-02-13  오전 10:33                61 mod2.py\n",
      "2025-02-20  오후 01:53               138 mylife.txt\n",
      "2025-02-13  오후 02:13    <DIR>          mymod\n",
      "2025-02-13  오전 09:49            32,640 py05_class.ipynb\n",
      "2025-02-20  오전 11:50            20,179 py06_module.ipynb\n",
      "2025-02-21  오후 03:35            38,447 py08.ipynb\n",
      "2025-02-05  오전 10:11            73,592 python01.ipynb\n",
      "2025-02-06  오후 01:54           165,774 python02.ipynb\n",
      "2025-02-11  오전 09:30            51,919 python03.ipynb\n",
      "2025-02-12  오전 09:09            22,534 python04.ipynb\n",
      "2025-02-06  오전 09:43               209 ran.py\n",
      "2025-02-13  오후 12:13            56,305 ref04.ipynb\n",
      "2025-02-13  오후 12:36               415 sam.py\n",
      "2025-02-06  오전 09:11                79 start_jupyter.bat\n",
      "2025-02-06  오전 09:49                81 start_ran.bat\n",
      "2025-02-05  오후 05:20                68 start_won.bat\n",
      "2025-02-20  오후 03:01    <DIR>          team_study\n",
      "2025-02-20  오전 11:50                57 test.py\n",
      "2025-02-20  오전 11:50                 0 test1.py\n",
      "2025-02-11  오후 02:34    <DIR>          testfile\n",
      "2025-02-21  오전 10:38               219 weather.csv\n",
      "2025-02-21  오전 10:40               222 weather_x.csv\n",
      "2025-02-20  오전 11:50    <DIR>          __pycache__\n",
      "              27개 파일             481,393 바이트\n",
      "               9개 디렉터리  614,176,894,976 바이트 남음\n",
      "\n"
     ]
    }
   ],
   "source": [
    "#9번 \n",
    "#디렉토리 이동하고 파일 목록 출력하기 \n",
    "import os \n",
    "os.chdir(\"d:/lkj/code\")\n",
    "result = os.popen(\"dir\")\n",
    "print(result.read())"
   ]
  },
  {
   "cell_type": "code",
   "execution_count": 19,
   "id": "a6a45020-44ca-4cb3-92e4-9d95bd0f99d7",
   "metadata": {},
   "outputs": [
    {
     "data": {
      "text/plain": [
       "['d:/lkj/code\\\\add.py',\n",
       " 'd:/lkj/code\\\\bot.py',\n",
       " 'd:/lkj/code\\\\mod1.py',\n",
       " 'd:/lkj/code\\\\mod2.py',\n",
       " 'd:/lkj/code\\\\ran.py',\n",
       " 'd:/lkj/code\\\\sam.py',\n",
       " 'd:/lkj/code\\\\test.py',\n",
       " 'd:/lkj/code\\\\test1.py']"
      ]
     },
     "execution_count": 19,
     "metadata": {},
     "output_type": "execute_result"
    }
   ],
   "source": [
    "#10번 \n",
    "#파일 확장자가 .py인 파일만 찾기 - glob 모듈 \n",
    "import glob \n",
    "glob.glob(\"d:/lkj/code/*.py\")"
   ]
  },
  {
   "cell_type": "code",
   "execution_count": 20,
   "id": "02ad3f34-1227-4b2a-8d16-cb3885057cd0",
   "metadata": {},
   "outputs": [
    {
     "data": {
      "text/plain": [
       "'2025/02/21 15:40:43'"
      ]
     },
     "execution_count": 20,
     "metadata": {},
     "output_type": "execute_result"
    }
   ],
   "source": [
    "#11번 \n",
    "#날짜 표시하기 -time 모듈 \n",
    "import time \n",
    "time.strftime(\"%Y/%m/%d %H:%M:%S\")\n",
    "#%Y:년 , %m:월 , %d:일 ,%H:시, %M:분 , %S:초"
   ]
  },
  {
   "cell_type": "code",
   "execution_count": null,
   "id": "8e876202-7064-452b-a047-bbfbb98e7942",
   "metadata": {},
   "outputs": [],
   "source": [
    "#12번 \n",
    "#로또 번호 생성하기 -random모듈의 randint사용 \n",
    "\n",
    "import random \n",
    "result = []\n",
    "while len(result) <6 : \n",
    "    num = random.randint(1,45) #1부터 45까지 난수 발생 \n",
    "    if num not in result:\n",
    "        result.append(num)\n",
    "print(result)"
   ]
  },
  {
   "cell_type": "code",
   "execution_count": 3,
   "id": "7f2fe16b-e9f1-41cb-bad3-c34cfd4fc07e",
   "metadata": {
    "scrolled": true
   },
   "outputs": [
    {
     "name": "stdout",
     "output_type": "stream",
     "text": [
      "□  (종합) 대기 매우 건조, 기온 낮아 춥겠음, 강풍 및 풍랑 유의\n",
      "○  (오늘, 21일) 구름많다가 오후에 맑아짐\n",
      "○  (내일, 22일) 대체로 맑음\n",
      "○  (모레, 23일) 대체로 맑겠으나, 경남서부내륙 가끔 구름많음\n",
      "○  (글피, 24일) 대체로 맑음\n"
     ]
    }
   ],
   "source": [
    "#정적웹사이트 기상청 날씨 크롤링 \n",
    "import requests as req \n",
    "from bs4 import BeautifulSoup as bs #정적웹용 \n",
    "url = \"https://www.weather.go.kr/w/weather/forecast/short-term.do?stnId=159\"\n",
    "web = req.get(url)\n",
    "soup = bs(web.content,'html.parser')\n",
    "# print(soup)\n",
    "summary=soup.select('p.summary') #배열로 가져옴 \n",
    "for s in summary:\n",
    "    print(s.text.replace('○','\\n○'))\n",
    "#오늘 날씨"
   ]
  },
  {
   "cell_type": "code",
   "execution_count": 7,
   "id": "98182989-7696-498d-9773-ab3f4b25c971",
   "metadata": {},
   "outputs": [
    {
     "name": "stdout",
     "output_type": "stream",
     "text": [
      "예보요소:최고기온/최저기온\n",
      "평년(오늘):-5.1 ~ 2.1/9.0 ~ 11.7\n",
      "어제(20일):-9.7 ~ -2.0/4.4 ~ 8.8\n",
      "오늘(21일):-/3 ~ 7\n",
      "내일(22일):-7 ~ -3/4 ~ 7\n",
      "모레(23일):-8 ~ -3/1 ~ 5\n",
      "글피(24일):-9 ~ -4/5 ~ 8\n"
     ]
    }
   ],
   "source": [
    "table = soup.select('.table-col')[0]\n",
    "data = table.select('tr') \n",
    "header = data[0].select('th')\n",
    "line1 = ['최저기온']+data[1].select('td')\n",
    "line2 = ['최고기온']+data[2].select('td')\n",
    "raw_data = [] \n",
    "for h,l1,l2 in zip(header,line1,line2) :\n",
    "    try:\n",
    "        out = h.text+':'+l1.text+'/'+l2.text \n",
    "    except: #최고기온, 최저기온 출력할 때 \n",
    "        out = h.text+':'+l1+'/'+l2\n",
    "    finally:\n",
    "        print(out)\n",
    "        raw_data.append(out)"
   ]
  },
  {
   "cell_type": "code",
   "execution_count": 20,
   "id": "4dc7bd23-d0f2-457b-89f5-461a848d0eb2",
   "metadata": {},
   "outputs": [
    {
     "name": "stdout",
     "output_type": "stream",
     "text": [
      "Collecting pandas\n",
      "  Downloading pandas-2.2.3-cp313-cp313-win_amd64.whl.metadata (19 kB)\n",
      "Requirement already satisfied: numpy>=1.26.0 in c:\\users\\admin\\appdata\\local\\programs\\python\\python313\\lib\\site-packages (from pandas) (2.2.3)\n",
      "Requirement already satisfied: python-dateutil>=2.8.2 in c:\\users\\admin\\appdata\\local\\programs\\python\\python313\\lib\\site-packages (from pandas) (2.9.0.post0)\n",
      "Collecting pytz>=2020.1 (from pandas)\n",
      "  Downloading pytz-2025.1-py2.py3-none-any.whl.metadata (22 kB)\n",
      "Requirement already satisfied: tzdata>=2022.7 in c:\\users\\admin\\appdata\\local\\programs\\python\\python313\\lib\\site-packages (from pandas) (2025.1)\n",
      "Requirement already satisfied: six>=1.5 in c:\\users\\admin\\appdata\\local\\programs\\python\\python313\\lib\\site-packages (from python-dateutil>=2.8.2->pandas) (1.17.0)\n",
      "Downloading pandas-2.2.3-cp313-cp313-win_amd64.whl (11.5 MB)\n",
      "   ---------------------------------------- 0.0/11.5 MB ? eta -:--:--\n",
      "   ------------------------------------ --- 10.5/11.5 MB 63.8 MB/s eta 0:00:01\n",
      "   ------------------------------------ --- 10.5/11.5 MB 63.8 MB/s eta 0:00:01\n",
      "   ---------------------------------------- 11.5/11.5 MB 25.0 MB/s eta 0:00:00\n",
      "Downloading pytz-2025.1-py2.py3-none-any.whl (507 kB)\n",
      "Installing collected packages: pytz, pandas\n",
      "Successfully installed pandas-2.2.3 pytz-2025.1\n"
     ]
    }
   ],
   "source": [
    "# !pip install pandas"
   ]
  },
  {
   "cell_type": "code",
   "execution_count": 19,
   "id": "cf43752b-da54-469c-aedf-70a17f05b66a",
   "metadata": {},
   "outputs": [],
   "source": [
    "import pandas as pd \n",
    "parsed_data = []\n",
    "for entry in raw_data[1:] : \n",
    "    date , temps = entry.split(':')\n",
    "    low_temp , high_temp = temps.split('/')\n",
    "    parsed_data.append([date,low_temp,high_temp])\n",
    "#데이터프레임생성  #외워라 \n",
    "df = pd.DataFrame(parsed_data,columns = [\"날짜\",\"최저기온\",\"최고기온\"])\n",
    "# df.to_csv('weather.csv',index=False,encoding='utf-8')\n",
    "df.to_csv('weather_x.csv',index=False,encoding='utf-8-sig')"
   ]
  },
  {
   "cell_type": "code",
   "execution_count": 22,
   "id": "044ad2df-de7f-4a06-9b18-cac08a0bafce",
   "metadata": {},
   "outputs": [
    {
     "data": {
      "text/html": [
       "<div>\n",
       "<style scoped>\n",
       "    .dataframe tbody tr th:only-of-type {\n",
       "        vertical-align: middle;\n",
       "    }\n",
       "\n",
       "    .dataframe tbody tr th {\n",
       "        vertical-align: top;\n",
       "    }\n",
       "\n",
       "    .dataframe thead th {\n",
       "        text-align: right;\n",
       "    }\n",
       "</style>\n",
       "<table border=\"1\" class=\"dataframe\">\n",
       "  <thead>\n",
       "    <tr style=\"text-align: right;\">\n",
       "      <th></th>\n",
       "      <th>날짜</th>\n",
       "      <th>최저기온</th>\n",
       "      <th>최고기온</th>\n",
       "    </tr>\n",
       "  </thead>\n",
       "  <tbody>\n",
       "    <tr>\n",
       "      <th>0</th>\n",
       "      <td>평년(오늘)</td>\n",
       "      <td>-5.1 ~ 2.1</td>\n",
       "      <td>9.0 ~ 11.7</td>\n",
       "    </tr>\n",
       "    <tr>\n",
       "      <th>1</th>\n",
       "      <td>어제(20일)</td>\n",
       "      <td>-9.7 ~ -2.0</td>\n",
       "      <td>4.4 ~ 8.8</td>\n",
       "    </tr>\n",
       "    <tr>\n",
       "      <th>2</th>\n",
       "      <td>오늘(21일)</td>\n",
       "      <td>-</td>\n",
       "      <td>3 ~ 7</td>\n",
       "    </tr>\n",
       "    <tr>\n",
       "      <th>3</th>\n",
       "      <td>내일(22일)</td>\n",
       "      <td>-7 ~ -3</td>\n",
       "      <td>4 ~ 7</td>\n",
       "    </tr>\n",
       "    <tr>\n",
       "      <th>4</th>\n",
       "      <td>모레(23일)</td>\n",
       "      <td>-8 ~ -3</td>\n",
       "      <td>1 ~ 5</td>\n",
       "    </tr>\n",
       "    <tr>\n",
       "      <th>5</th>\n",
       "      <td>글피(24일)</td>\n",
       "      <td>-9 ~ -4</td>\n",
       "      <td>5 ~ 8</td>\n",
       "    </tr>\n",
       "  </tbody>\n",
       "</table>\n",
       "</div>"
      ],
      "text/plain": [
       "        날짜         최저기온        최고기온\n",
       "0   평년(오늘)   -5.1 ~ 2.1  9.0 ~ 11.7\n",
       "1  어제(20일)  -9.7 ~ -2.0   4.4 ~ 8.8\n",
       "2  오늘(21일)            -       3 ~ 7\n",
       "3  내일(22일)      -7 ~ -3       4 ~ 7\n",
       "4  모레(23일)      -8 ~ -3       1 ~ 5\n",
       "5  글피(24일)      -9 ~ -4       5 ~ 8"
      ]
     },
     "execution_count": 22,
     "metadata": {},
     "output_type": "execute_result"
    }
   ],
   "source": [
    "df = pd.DataFrame([entry.split(':')[0].strip(),*entry.split(':')[1].strip().split('/')] for entry in raw_data[1:])\n",
    "df.columns = [\"날짜\",\"최저기온\",\"최고기온\"]\n",
    "df"
   ]
  },
  {
   "cell_type": "code",
   "execution_count": null,
   "id": "6aa30b26-cbd4-4fca-9483-ba6ea8d161bf",
   "metadata": {},
   "outputs": [],
   "source": []
  }
 ],
 "metadata": {
  "kernelspec": {
   "display_name": "Python 3 (ipykernel)",
   "language": "python",
   "name": "python3"
  },
  "language_info": {
   "codemirror_mode": {
    "name": "ipython",
    "version": 3
   },
   "file_extension": ".py",
   "mimetype": "text/x-python",
   "name": "python",
   "nbconvert_exporter": "python",
   "pygments_lexer": "ipython3",
   "version": "3.13.1"
  }
 },
 "nbformat": 4,
 "nbformat_minor": 5
}
