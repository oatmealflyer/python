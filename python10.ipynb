{
 "cells": [
  {
   "cell_type": "code",
   "execution_count": null,
   "metadata": {
    "colab": {
     "base_uri": "https://localhost:8080/"
    },
    "executionInfo": {
     "elapsed": 119,
     "status": "ok",
     "timestamp": 1740449825658,
     "user": {
      "displayName": "경주",
      "userId": "14532900620656347701"
     },
     "user_tz": -540
    },
    "id": "PzcnrlMog65W",
    "outputId": "3643c34d-6ce9-4f02-81f5-cd5b4af8ba46"
   },
   "outputs": [
    {
     "name": "stdout",
     "output_type": "stream",
     "text": [
      "저장되었습니다\n",
      "/content\n"
     ]
    }
   ],
   "source": [
    "with open('./drive/MyDrive/ReadMe.md','w') as f:\n",
    "    data = f.write('* 반가워요 . ')\n",
    "    print('저장되었습니다')\n",
    "! pwd"
   ]
  },
  {
   "cell_type": "markdown",
   "metadata": {
    "id": "t3G-oQC7jtz1"
   },
   "source": [
    "# 넘파이(numpy)"
   ]
  },
  {
   "cell_type": "markdown",
   "metadata": {
    "id": "lGpyyJUPitd-"
   },
   "source": [
    "- ndim :축의 개수\n",
    "- shape :배열의 차원정보\n",
    "- size:배열 안에 있는 원소의 총개수\n",
    "- dtype :배열 원소의 자료형"
   ]
  },
  {
   "cell_type": "markdown",
   "metadata": {
    "id": "v5Ld2c27uQJU"
   },
   "source": [
    "## 1차원과 속성들"
   ]
  },
  {
   "cell_type": "code",
   "execution_count": null,
   "metadata": {
    "colab": {
     "base_uri": "https://localhost:8080/"
    },
    "executionInfo": {
     "elapsed": 6,
     "status": "ok",
     "timestamp": 1740444846181,
     "user": {
      "displayName": "경주",
      "userId": "14532900620656347701"
     },
     "user_tz": -540
    },
    "id": "ZoV8vXlAi-H9",
    "outputId": "55283c95-4676-4992-9771-cc421d4c3ea7"
   },
   "outputs": [
    {
     "name": "stdout",
     "output_type": "stream",
     "text": [
      "[0 1 2 3 4] <class 'numpy.ndarray'>\n",
      "1\n",
      "(5,)\n",
      "5\n",
      "int64\n",
      "3\n",
      "[2 3]\n"
     ]
    }
   ],
   "source": [
    "#pip install numpy\n",
    "import numpy as np\n",
    "narry = np.array(range(5))\n",
    "print(narry,type(narry))\n",
    "print(narry.ndim) # ndim:축의 개수\n",
    "print(narry.shape) #shape:배열의 차원정보 (5,)\n",
    "print(narry.size)  #size:배열 안에 있는 원소의 총 개수\n",
    "print(narry.dtype) #dtype :배열 원소의 자료형\n",
    "print(narry[3])\n",
    "print(narry[2:4]) # <=X<"
   ]
  },
  {
   "cell_type": "code",
   "execution_count": null,
   "metadata": {
    "colab": {
     "base_uri": "https://localhost:8080/"
    },
    "executionInfo": {
     "elapsed": 7,
     "status": "ok",
     "timestamp": 1740444935622,
     "user": {
      "displayName": "경주",
      "userId": "14532900620656347701"
     },
     "user_tz": -540
    },
    "id": "fGqEht1njDCV",
    "outputId": "d2a5d5bc-0921-4b65-c122-cf25189053b1"
   },
   "outputs": [
    {
     "name": "stdout",
     "output_type": "stream",
     "text": [
      "[1 2 3 4] int64\n",
      "['1' '2' 'a' 'b'] <U21\n",
      "['1' '2' '3' '4'] <U1\n"
     ]
    }
   ],
   "source": [
    "narr1 = np.array([1,2,3,4]) #int64\n",
    "narr2 = np.array([1,2,'a','b'])\n",
    "narr3 = np.array([1,2,3,4],dtype ='str') #배열 원소의 자료형 교환 int->str\n",
    "print(narr1,narr1.dtype)\n",
    "print(narr2,narr2.dtype)\n",
    "print(narr3,narr3.dtype)\n"
   ]
  },
  {
   "cell_type": "code",
   "execution_count": null,
   "metadata": {
    "colab": {
     "base_uri": "https://localhost:8080/"
    },
    "executionInfo": {
     "elapsed": 14,
     "status": "ok",
     "timestamp": 1740451088385,
     "user": {
      "displayName": "경주",
      "userId": "14532900620656347701"
     },
     "user_tz": -540
    },
    "id": "LM43NDUup4g1",
    "outputId": "ee956d13-abbe-44ec-8e1d-6a27ca6c7c45"
   },
   "outputs": [
    {
     "name": "stdout",
     "output_type": "stream",
     "text": [
      "[0 0 0 0 0 0 0 0 0 0] 1 int64 (10,) 10 <class 'numpy.ndarray'>\n",
      "[[1. 1.]\n",
      " [1. 1.]] 2 float64 (2, 2) 4 <class 'numpy.ndarray'>\n",
      "[[3 3 3]\n",
      " [3 3 3]\n",
      " [3 3 3]] 2 int64 (3, 3) 9 <class 'numpy.ndarray'>\n",
      "[['number' 'number' 'number']\n",
      " ['number' 'number' 'number']\n",
      " ['number' 'number' 'number']] 2 <U6 (3, 3) 9 <class 'numpy.ndarray'>\n",
      "[[1. 0. 0.]\n",
      " [0. 1. 0.]\n",
      " [0. 0. 1.]] 2 float64 (3, 3) 9 <class 'numpy.ndarray'>\n",
      "[ 0 20 40 60 80] 1 int64 (5,) 5 <class 'numpy.ndarray'>\n",
      "[ 0 25 50 75] 1 int64 (4,) 4 <class 'numpy.ndarray'>\n"
     ]
    }
   ],
   "source": [
    "narr4 = np.zeros(10,dtype='int64') #초기화\n",
    "narr5 = np.ones((2,2))\n",
    "narr6 = np.full((3,3),3) #세팅\n",
    "narr7 = np.full((3,3),'number')\n",
    "narr8 = np.eye(3)\n",
    "narr9 = np.linspace(0,100,5,endpoint=False,dtype='int64')\n",
    "narr10 = np.arange(0,100,25)\n",
    "print(narr4,narr4.ndim,narr4.dtype,narr4.shape,narr4.size,type(narr4))\n",
    "print(narr5,narr5.ndim,narr5.dtype,narr5.shape,narr5.size,type(narr5))\n",
    "print(narr6,narr6.ndim,narr6.dtype,narr6.shape,narr6.size,type(narr6))\n",
    "print(narr7,narr7.ndim,narr7.dtype,narr7.shape,narr7.size,type(narr7))\n",
    "print(narr8,narr8.ndim,narr8.dtype,narr8.shape,narr8.size,type(narr8))\n",
    "print(narr9,narr9.ndim,narr9.dtype,narr9.shape,narr9.size,type(narr9))\n",
    "print(narr10,narr10.ndim,narr10.dtype,narr10.shape,narr10.size,type(narr10))\n"
   ]
  },
  {
   "cell_type": "markdown",
   "metadata": {
    "id": "vUW90sMVuVIs"
   },
   "source": [
    "## 2차원 배열"
   ]
  },
  {
   "cell_type": "code",
   "execution_count": null,
   "metadata": {
    "colab": {
     "base_uri": "https://localhost:8080/"
    },
    "executionInfo": {
     "elapsed": 14,
     "status": "ok",
     "timestamp": 1740447339495,
     "user": {
      "displayName": "경주",
      "userId": "14532900620656347701"
     },
     "user_tz": -540
    },
    "id": "X3yvVkt_vXPE",
    "outputId": "b5716592-4523-4706-c200-b84281255fe5"
   },
   "outputs": [
    {
     "name": "stdout",
     "output_type": "stream",
     "text": [
      "[2, 3, 4, 5, 6, 7, 8, 9]\n",
      "[2 3 4 5 6 7 8 9]\n"
     ]
    },
    {
     "data": {
      "text/plain": [
       "array([0, 1, 2, 3, 4, 5, 6, 7, 8, 9])"
      ]
     },
     "execution_count": 49,
     "metadata": {},
     "output_type": "execute_result"
    }
   ],
   "source": [
    "print(list(range(2,10)))\n",
    "print(np.arange(2,10))\n",
    "range(10)\n",
    "np.arange(10)"
   ]
  },
  {
   "cell_type": "code",
   "execution_count": null,
   "metadata": {
    "colab": {
     "base_uri": "https://localhost:8080/"
    },
    "executionInfo": {
     "elapsed": 9,
     "status": "ok",
     "timestamp": 1740446222729,
     "user": {
      "displayName": "경주",
      "userId": "14532900620656347701"
     },
     "user_tz": -540
    },
    "id": "uxbgwnBVlriq",
    "outputId": "ca926cb2-2775-44cd-9990-3fb155cbe496"
   },
   "outputs": [
    {
     "name": "stdout",
     "output_type": "stream",
     "text": [
      "[[0 0]\n",
      " [0 0]] 2 int64 (2, 2) 4 <class 'numpy.ndarray'>\n"
     ]
    }
   ],
   "source": [
    "arr1 = np.array([[0,0,],[0,0]])\n",
    "print(arr1,arr1.ndim , arr1.dtype,arr1.shape,arr1.size,type(arr1))"
   ]
  },
  {
   "cell_type": "code",
   "execution_count": null,
   "metadata": {
    "colab": {
     "base_uri": "https://localhost:8080/"
    },
    "executionInfo": {
     "elapsed": 11,
     "status": "ok",
     "timestamp": 1740447856562,
     "user": {
      "displayName": "경주",
      "userId": "14532900620656347701"
     },
     "user_tz": -540
    },
    "id": "I2nc2Ov0pg1w",
    "outputId": "72cf8848-d86f-40ea-9f7c-7b658d13a5ab"
   },
   "outputs": [
    {
     "name": "stdout",
     "output_type": "stream",
     "text": [
      "[[1 2 3]\n",
      " [4 5 6]\n",
      " [7 8 9]] 차원: 2 / 데이터타입: int64 /형태: (3, 3) /크기: 9 <class 'numpy.ndarray'>\n",
      "[[1 2 3]\n",
      " [4 5 6]\n",
      " [7 8 9]] 차원: 2 / 데이터타입: int64 /형태: (3, 3) /크기: 9 <class 'numpy.ndarray'>\n",
      "[[ 1  2  3  4  5]\n",
      " [ 6  7  8  9 10]] 차원: 2 / 데이터타입: int64 /형태: (2, 5) /크기: 10 <class 'numpy.ndarray'>\n",
      "[[ 1  2]\n",
      " [ 3  4]\n",
      " [ 5  6]\n",
      " [ 7  8]\n",
      " [ 9 10]] 차원: 2 / 데이터타입: int64 /형태: (5, 2) /크기: 10 <class 'numpy.ndarray'>\n",
      "[[[ 1  2  3]\n",
      "  [ 4  5  6]\n",
      "  [ 7  8  9]]\n",
      "\n",
      " [[10 11 12]\n",
      "  [13 14 15]\n",
      "  [16 17 18]]\n",
      "\n",
      " [[19 20 21]\n",
      "  [22 23 24]\n",
      "  [25 26 27]]] 차원: 3 / 데이터타입: int64 /형태: (3, 3, 3) /크기: 27 <class 'numpy.ndarray'>\n"
     ]
    }
   ],
   "source": [
    "arr2 =np.array([1,2,3,4,5,6,7,8,9]).reshape(3,3)\n",
    "arr3 = np.arange(1,10).reshape(3,3)\n",
    "arr4 = np.arange(1,11).reshape(2,5)\n",
    "arr5 = np.arange(1,11).reshape(5,2)\n",
    "arr6 = np.arange(1,28).reshape(3,3,3)\n",
    "\n",
    "print(arr2,'차원:',arr2.ndim ,'/ 데이터타입:', arr2.dtype,'/형태:',arr2.shape,'/크기:',arr2.size,type(arr2))\n",
    "print(arr3,'차원:',arr3.ndim ,'/ 데이터타입:', arr3.dtype,'/형태:',arr3.shape,'/크기:',arr3.size,type(arr3))\n",
    "print(arr4,'차원:',arr4.ndim ,'/ 데이터타입:', arr4.dtype,'/형태:',arr4.shape,'/크기:',arr4.size,type(arr4))\n",
    "print(arr5,'차원:',arr5.ndim ,'/ 데이터타입:', arr5.dtype,'/형태:',arr5.shape,'/크기:',arr5.size,type(arr5))\n",
    "print(arr6,'차원:',arr6.ndim , '/ 데이터타입:',arr6.dtype,'/형태:',arr6.shape,'/크기:',arr6.size,type(arr6))"
   ]
  },
  {
   "cell_type": "code",
   "execution_count": null,
   "metadata": {
    "colab": {
     "base_uri": "https://localhost:8080/"
    },
    "executionInfo": {
     "elapsed": 16,
     "status": "ok",
     "timestamp": 1740451380157,
     "user": {
      "displayName": "경주",
      "userId": "14532900620656347701"
     },
     "user_tz": -540
    },
    "id": "gNe39tI0u7ej",
    "outputId": "e647a877-e205-453e-9a4f-c8e4f0b14b52"
   },
   "outputs": [
    {
     "name": "stdout",
     "output_type": "stream",
     "text": [
      "[[ 1  2  3  4  5  6  7]\n",
      " [ 8  9 10 11 12 13 14]\n",
      " [15 16 17 18 19 20 21]]\n",
      "===============\n",
      "[[1]\n",
      " [2]\n",
      " [3]\n",
      " [4]\n",
      " [5]\n",
      " [6]\n",
      " [7]]\n",
      "===============\n",
      "[[ 1  2]\n",
      " [ 3  4]\n",
      " [ 5  6]\n",
      " [ 7  8]\n",
      " [ 9 10]]\n",
      "===============\n",
      "[[ 1  2  3  4  5  6  7]\n",
      " [ 8  9 10 11 12 13 14]\n",
      " [15 16 17 18 19 20 21]]\n",
      "===============\n",
      "[[[ 1]\n",
      "  [ 2]\n",
      "  [ 3]]\n",
      "\n",
      " [[ 4]\n",
      "  [ 5]\n",
      "  [ 6]]\n",
      "\n",
      " [[ 7]\n",
      "  [ 8]\n",
      "  [ 9]]\n",
      "\n",
      " [[10]\n",
      "  [11]\n",
      "  [12]]]\n"
     ]
    }
   ],
   "source": [
    "t1 = np.arange(1,22).reshape(3,7)\n",
    "arr2 = np.arange(1,8).reshape(7,1)\n",
    "arr3 = np.arange(1,11).reshape(5,2)\n",
    "arr4 = np.arange(1,22).reshape(3,7)\n",
    "arr5 = np.arange(1,13).reshape(4,3,1)\n",
    "print(t1)\n",
    "print(\"=\"*15)\n",
    "print(arr2)\n",
    "print(\"=\"*15)\n",
    "print(arr3)\n",
    "print(\"=\"*15)\n",
    "print(arr4)\n",
    "print(\"=\"*15)\n",
    "print(arr5)"
   ]
  },
  {
   "cell_type": "code",
   "execution_count": null,
   "metadata": {
    "colab": {
     "base_uri": "https://localhost:8080/"
    },
    "executionInfo": {
     "elapsed": 48,
     "status": "ok",
     "timestamp": 1740453079794,
     "user": {
      "displayName": "경주",
      "userId": "14532900620656347701"
     },
     "user_tz": -540
    },
    "id": "mVK4An_4-144",
    "outputId": "7456082f-b617-49e6-c3ee-63320806c431"
   },
   "outputs": [
    {
     "name": "stdout",
     "output_type": "stream",
     "text": [
      "[10 11 12]\n",
      "[4 5 6 7]\n",
      "[11 12 13 14]\n",
      "[18 19 20 21]\n",
      "[array([[False, False, False, False, False, False, False],\n",
      "       [False, False, False, False, False,  True,  True],\n",
      "       [ True,  True,  True,  True,  True,  True,  True]])]\n",
      "[[False  True False  True False  True False]\n",
      " [ True False  True False  True False  True]\n",
      " [False  True False  True False  True False]]\n"
     ]
    }
   ],
   "source": [
    "#test\n",
    "print(t1[1][2:5])\n",
    "print(arr4 [0][3:7])\n",
    "print(arr4[1][3:7])\n",
    "print(arr4[2][3:7])\n",
    "print([arr4>12])\n",
    "#true or false 뱉어내는 기능\n",
    "print(arr4 % 2 ==0 )"
   ]
  },
  {
   "cell_type": "code",
   "execution_count": null,
   "metadata": {
    "colab": {
     "base_uri": "https://localhost:8080/"
    },
    "executionInfo": {
     "elapsed": 12,
     "status": "ok",
     "timestamp": 1740453255131,
     "user": {
      "displayName": "경주",
      "userId": "14532900620656347701"
     },
     "user_tz": -540
    },
    "id": "RsUNogxAFKQy",
    "outputId": "f15e492c-8bb9-47cb-94ac-26068e1c130a"
   },
   "outputs": [
    {
     "name": "stdout",
     "output_type": "stream",
     "text": [
      "덧셈: [ 7  9 11 13 15]\n",
      "뺄셈: [5 5 5 5 5]\n",
      "곱셈: [ 6 14 24 36 50]\n",
      "나눗셈: [6.         3.5        2.66666667 2.25       2.        ]\n"
     ]
    }
   ],
   "source": [
    "# np 배열 연산 //shape(배열차원)이 같은 경우 원소별 연산이 가능\n",
    "np1 = np.array([6,7,8,9,10])\n",
    "np2 = np.array([1,2,3,4,5])\n",
    "print(\"덧셈:\",np1+np2)\n",
    "print(\"뺄셈:\",np1-np2)\n",
    "print(\"곱셈:\",np1*np2)\n",
    "print(\"나눗셈:\",np1/np2)"
   ]
  },
  {
   "cell_type": "code",
   "execution_count": null,
   "metadata": {
    "colab": {
     "base_uri": "https://localhost:8080/"
    },
    "executionInfo": {
     "elapsed": 7,
     "status": "ok",
     "timestamp": 1740453449395,
     "user": {
      "displayName": "경주",
      "userId": "14532900620656347701"
     },
     "user_tz": -540
    },
    "id": "y4cRrby3GC7u",
    "outputId": "949004c8-1592-41d9-d293-39ea1499f5f8"
   },
   "outputs": [
    {
     "name": "stdout",
     "output_type": "stream",
     "text": [
      "[16 17 18 19 20]\n"
     ]
    }
   ],
   "source": [
    "#브로드캐스팅\n",
    "np3 = np1 +10\n",
    "print(np3)"
   ]
  },
  {
   "cell_type": "code",
   "execution_count": null,
   "metadata": {
    "colab": {
     "base_uri": "https://localhost:8080/"
    },
    "executionInfo": {
     "elapsed": 11,
     "status": "ok",
     "timestamp": 1740453787247,
     "user": {
      "displayName": "경주",
      "userId": "14532900620656347701"
     },
     "user_tz": -540
    },
    "id": "qp5keUjQG_ae",
    "outputId": "c78e393b-9e6e-4142-c0d2-8c8036228481"
   },
   "outputs": [
    {
     "name": "stdout",
     "output_type": "stream",
     "text": [
      "=======스칼라와 연산=======\n",
      "[[1 2 3]\n",
      " [4 5 6]\n",
      " [7 8 9]]\n",
      "[[ 3  6  9]\n",
      " [12 15 18]\n",
      " [21 24 27]]\n",
      "[[ 2  4  6]\n",
      " [ 8 10 12]\n",
      " [14 16 18]]\n",
      "=======2D와 1D의 연산=======\n",
      "[[12 24 36]\n",
      " [15 27 39]\n",
      " [18 30 42]]\n",
      "[[ 11  44  99]\n",
      " [ 44 110 198]\n",
      " [ 77 176 297]]\n"
     ]
    }
   ],
   "source": [
    "br1 = np.arange(1,10).reshape(3,3)\n",
    "br2 = np.array([11,22,33])\n",
    "#스칼라와 연산\n",
    "print(\"=======스칼라와 연산=======\")\n",
    "print(br1)\n",
    "print(br1*3)\n",
    "print(br1*2)\n",
    "#2D 와 1D의 연산\n",
    "print(\"=======2D와 1D의 연산=======\")\n",
    "print(br1+br2)\n",
    "print(br1*br2)"
   ]
  },
  {
   "cell_type": "code",
   "execution_count": null,
   "metadata": {
    "colab": {
     "base_uri": "https://localhost:8080/"
    },
    "executionInfo": {
     "elapsed": 8,
     "status": "ok",
     "timestamp": 1740454274244,
     "user": {
      "displayName": "경주",
      "userId": "14532900620656347701"
     },
     "user_tz": -540
    },
    "id": "6Lbh05PKHWxb",
    "outputId": "4b447780-361c-4972-e943-8f95dbdef6ef"
   },
   "outputs": [
    {
     "name": "stdout",
     "output_type": "stream",
     "text": [
      "[[1 2 3]\n",
      " [4 5 6]\n",
      " [7 8 9]]\n",
      "[[1 2 3 4 5 6 7 8 9]]\n",
      "[1 2 3 4 5 6 7 8 9]\n"
     ]
    }
   ],
   "source": [
    "# flatten 처리\n",
    "ff = np.arange(1,10).reshape(3,3)\n",
    "print(ff)\n",
    "print(ff.reshape(1,9))\n",
    "print(ff.flatten())"
   ]
  },
  {
   "cell_type": "code",
   "execution_count": null,
   "metadata": {
    "id": "WEHNlfctbYtW"
   },
   "outputs": [],
   "source": [
    "#구글 제미나의 AI\n",
    "from google import genai\n",
    "\n",
    "client = genai.Client(api_key=\"YOUR_API_KEY\")\n",
    "\n",
    "response = client.models.generate_content(\n",
    "    model=\"gemini-2.0-flash\",\n",
    "    contents=\"Explain how AI works\",\n",
    ")\n",
    "\n",
    "print(response.text)"
   ]
  }
 ],
 "metadata": {
  "colab": {
   "authorship_tag": "ABX9TyOBjhOSffkhwBGhrtzlrpgu",
   "mount_file_id": "1n9J9Y3pEKpes4aFaLd8P1kDqZp_sGdrK",
   "provenance": []
  },
  "kernelspec": {
   "display_name": "Python 3 (ipykernel)",
   "language": "python",
   "name": "python3"
  },
  "language_info": {
   "codemirror_mode": {
    "name": "ipython",
    "version": 3
   },
   "file_extension": ".py",
   "mimetype": "text/x-python",
   "name": "python",
   "nbconvert_exporter": "python",
   "pygments_lexer": "ipython3",
   "version": "3.13.1"
  }
 },
 "nbformat": 4,
 "nbformat_minor": 4
}
