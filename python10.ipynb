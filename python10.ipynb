{
 "cells": [
  {
   "cell_type": "code",
   "execution_count": null,
   "metadata": {
    "colab": {
     "base_uri": "https://localhost:8080/"
    },
    "executionInfo": {
     "elapsed": 119,
     "status": "ok",
     "timestamp": 1740449825658,
     "user": {
      "displayName": "경주",
      "userId": "14532900620656347701"
     },
     "user_tz": -540
    },
    "id": "PzcnrlMog65W",
    "outputId": "3643c34d-6ce9-4f02-81f5-cd5b4af8ba46"
   },
   "outputs": [
    {
     "name": "stdout",
     "output_type": "stream",
     "text": [
      "저장되었습니다\n",
      "/content\n"
     ]
    }
   ],
   "source": [
    "with open('./drive/MyDrive/ReadMe.md','w') as f:\n",
    "    data = f.write('* 반가워요 . ')\n",
    "    print('저장되었습니다')\n",
    "! pwd"
   ]
  },
  {
   "cell_type": "markdown",
   "metadata": {
    "id": "t3G-oQC7jtz1"
   },
   "source": [
    "# 넘파이(numpy)"
   ]
  },
  {
   "cell_type": "markdown",
   "metadata": {
    "id": "lGpyyJUPitd-"
   },
   "source": [
    "- ndim :축의 개수\n",
    "- shape :배열의 차원정보\n",
    "- size:배열 안에 있는 원소의 총개수\n",
    "- dtype :배열 원소의 자료형"
   ]
  },
  {
   "cell_type": "markdown",
   "metadata": {
    "id": "v5Ld2c27uQJU"
   },
   "source": [
    "## 1차원과 속성들"
   ]
  },
  {
   "cell_type": "code",
   "execution_count": null,
   "metadata": {
    "colab": {
     "base_uri": "https://localhost:8080/"
    },
    "executionInfo": {
     "elapsed": 6,
     "status": "ok",
     "timestamp": 1740444846181,
     "user": {
      "displayName": "경주",
      "userId": "14532900620656347701"
     },
     "user_tz": -540
    },
    "id": "ZoV8vXlAi-H9",
    "outputId": "55283c95-4676-4992-9771-cc421d4c3ea7"
   },
   "outputs": [
    {
     "name": "stdout",
     "output_type": "stream",
     "text": [
      "[0 1 2 3 4] <class 'numpy.ndarray'>\n",
      "1\n",
      "(5,)\n",
      "5\n",
      "int64\n",
      "3\n",
      "[2 3]\n"
     ]
    }
   ],
   "source": [
    "#pip install numpy\n",
    "import numpy as np\n",
    "narry = np.array(range(5))\n",
    "print(narry,type(narry))\n",
    "print(narry.ndim) # ndim:축의 개수\n",
    "print(narry.shape) #shape:배열의 차원정보 (5,)\n",
    "print(narry.size)  #size:배열 안에 있는 원소의 총 개수\n",
    "print(narry.dtype) #dtype :배열 원소의 자료형\n",
    "print(narry[3])\n",
    "print(narry[2:4]) # <=X<"
   ]
  },
  {
   "cell_type": "code",
   "execution_count": null,
   "metadata": {
    "colab": {
     "base_uri": "https://localhost:8080/"
    },
    "executionInfo": {
     "elapsed": 7,
     "status": "ok",
     "timestamp": 1740444935622,
     "user": {
      "displayName": "경주",
      "userId": "14532900620656347701"
     },
     "user_tz": -540
    },
    "id": "fGqEht1njDCV",
    "outputId": "d2a5d5bc-0921-4b65-c122-cf25189053b1"
   },
   "outputs": [
    {
     "name": "stdout",
     "output_type": "stream",
     "text": [
      "[1 2 3 4] int64\n",
      "['1' '2' 'a' 'b'] <U21\n",
      "['1' '2' '3' '4'] <U1\n"
     ]
    }
   ],
   "source": [
    "narr1 = np.array([1,2,3,4]) #int64\n",
    "narr2 = np.array([1,2,'a','b'])\n",
    "narr3 = np.array([1,2,3,4],dtype ='str') #배열 원소의 자료형 교환 int->str\n",
    "print(narr1,narr1.dtype)\n",
    "print(narr2,narr2.dtype)\n",
    "print(narr3,narr3.dtype)\n"
   ]
  },
  {
   "cell_type": "code",
   "execution_count": null,
   "metadata": {
    "colab": {
     "base_uri": "https://localhost:8080/"
    },
    "executionInfo": {
     "elapsed": 14,
     "status": "ok",
     "timestamp": 1740451088385,
     "user": {
      "displayName": "경주",
      "userId": "14532900620656347701"
     },
     "user_tz": -540
    },
    "id": "LM43NDUup4g1",
    "outputId": "ee956d13-abbe-44ec-8e1d-6a27ca6c7c45"
   },
   "outputs": [
    {
     "name": "stdout",
     "output_type": "stream",
     "text": [
      "[0 0 0 0 0 0 0 0 0 0] 1 int64 (10,) 10 <class 'numpy.ndarray'>\n",
      "[[1. 1.]\n",
      " [1. 1.]] 2 float64 (2, 2) 4 <class 'numpy.ndarray'>\n",
      "[[3 3 3]\n",
      " [3 3 3]\n",
      " [3 3 3]] 2 int64 (3, 3) 9 <class 'numpy.ndarray'>\n",
      "[['number' 'number' 'number']\n",
      " ['number' 'number' 'number']\n",
      " ['number' 'number' 'number']] 2 <U6 (3, 3) 9 <class 'numpy.ndarray'>\n",
      "[[1. 0. 0.]\n",
      " [0. 1. 0.]\n",
      " [0. 0. 1.]] 2 float64 (3, 3) 9 <class 'numpy.ndarray'>\n",
      "[ 0 20 40 60 80] 1 int64 (5,) 5 <class 'numpy.ndarray'>\n",
      "[ 0 25 50 75] 1 int64 (4,) 4 <class 'numpy.ndarray'>\n"
     ]
    }
   ],
   "source": [
    "narr4 = np.zeros(10,dtype='int64') #초기화\n",
    "narr5 = np.ones((2,2))\n",
    "narr6 = np.full((3,3),3) #세팅\n",
    "narr7 = np.full((3,3),'number')\n",
    "narr8 = np.eye(3)\n",
    "narr9 = np.linspace(0,100,5,endpoint=False,dtype='int64')\n",
    "narr10 = np.arange(0,100,25)\n",
    "print(narr4,narr4.ndim,narr4.dtype,narr4.shape,narr4.size,type(narr4))\n",
    "print(narr5,narr5.ndim,narr5.dtype,narr5.shape,narr5.size,type(narr5))\n",
    "print(narr6,narr6.ndim,narr6.dtype,narr6.shape,narr6.size,type(narr6))\n",
    "print(narr7,narr7.ndim,narr7.dtype,narr7.shape,narr7.size,type(narr7))\n",
    "print(narr8,narr8.ndim,narr8.dtype,narr8.shape,narr8.size,type(narr8))\n",
    "print(narr9,narr9.ndim,narr9.dtype,narr9.shape,narr9.size,type(narr9))\n",
    "print(narr10,narr10.ndim,narr10.dtype,narr10.shape,narr10.size,type(narr10))\n"
   ]
  },
  {
   "cell_type": "markdown",
   "metadata": {
    "id": "vUW90sMVuVIs"
   },
   "source": [
    "## 2차원 배열"
   ]
  },
  {
   "cell_type": "code",
   "execution_count": null,
   "metadata": {
    "colab": {
     "base_uri": "https://localhost:8080/"
    },
    "executionInfo": {
     "elapsed": 14,
     "status": "ok",
     "timestamp": 1740447339495,
     "user": {
      "displayName": "경주",
      "userId": "14532900620656347701"
     },
     "user_tz": -540
    },
    "id": "X3yvVkt_vXPE",
    "outputId": "b5716592-4523-4706-c200-b84281255fe5"
   },
   "outputs": [
    {
     "name": "stdout",
     "output_type": "stream",
     "text": [
      "[2, 3, 4, 5, 6, 7, 8, 9]\n",
      "[2 3 4 5 6 7 8 9]\n"
     ]
    },
    {
     "data": {
      "text/plain": [
       "array([0, 1, 2, 3, 4, 5, 6, 7, 8, 9])"
      ]
     },
     "execution_count": 49,
     "metadata": {},
     "output_type": "execute_result"
    }
   ],
   "source": [
    "print(list(range(2,10)))\n",
    "print(np.arange(2,10))\n",
    "range(10)\n",
    "np.arange(10)"
   ]
  },
  {
   "cell_type": "code",
   "execution_count": null,
   "metadata": {
    "colab": {
     "base_uri": "https://localhost:8080/"
    },
    "executionInfo": {
     "elapsed": 9,
     "status": "ok",
     "timestamp": 1740446222729,
     "user": {
      "displayName": "경주",
      "userId": "14532900620656347701"
     },
     "user_tz": -540
    },
    "id": "uxbgwnBVlriq",
    "outputId": "ca926cb2-2775-44cd-9990-3fb155cbe496"
   },
   "outputs": [
    {
     "name": "stdout",
     "output_type": "stream",
     "text": [
      "[[0 0]\n",
      " [0 0]] 2 int64 (2, 2) 4 <class 'numpy.ndarray'>\n"
     ]
    }
   ],
   "source": [
    "arr1 = np.array([[0,0,],[0,0]])\n",
    "print(arr1,arr1.ndim , arr1.dtype,arr1.shape,arr1.size,type(arr1))"
   ]
  },
  {
   "cell_type": "code",
   "execution_count": null,
   "metadata": {
    "colab": {
     "base_uri": "https://localhost:8080/"
    },
    "executionInfo": {
     "elapsed": 11,
     "status": "ok",
     "timestamp": 1740447856562,
     "user": {
      "displayName": "경주",
      "userId": "14532900620656347701"
     },
     "user_tz": -540
    },
    "id": "I2nc2Ov0pg1w",
    "outputId": "72cf8848-d86f-40ea-9f7c-7b658d13a5ab"
   },
   "outputs": [
    {
     "name": "stdout",
     "output_type": "stream",
     "text": [
      "[[1 2 3]\n",
      " [4 5 6]\n",
      " [7 8 9]] 차원: 2 / 데이터타입: int64 /형태: (3, 3) /크기: 9 <class 'numpy.ndarray'>\n",
      "[[1 2 3]\n",
      " [4 5 6]\n",
      " [7 8 9]] 차원: 2 / 데이터타입: int64 /형태: (3, 3) /크기: 9 <class 'numpy.ndarray'>\n",
      "[[ 1  2  3  4  5]\n",
      " [ 6  7  8  9 10]] 차원: 2 / 데이터타입: int64 /형태: (2, 5) /크기: 10 <class 'numpy.ndarray'>\n",
      "[[ 1  2]\n",
      " [ 3  4]\n",
      " [ 5  6]\n",
      " [ 7  8]\n",
      " [ 9 10]] 차원: 2 / 데이터타입: int64 /형태: (5, 2) /크기: 10 <class 'numpy.ndarray'>\n",
      "[[[ 1  2  3]\n",
      "  [ 4  5  6]\n",
      "  [ 7  8  9]]\n",
      "\n",
      " [[10 11 12]\n",
      "  [13 14 15]\n",
      "  [16 17 18]]\n",
      "\n",
      " [[19 20 21]\n",
      "  [22 23 24]\n",
      "  [25 26 27]]] 차원: 3 / 데이터타입: int64 /형태: (3, 3, 3) /크기: 27 <class 'numpy.ndarray'>\n"
     ]
    }
   ],
   "source": [
    "arr2 =np.array([1,2,3,4,5,6,7,8,9]).reshape(3,3)\n",
    "arr3 = np.arange(1,10).reshape(3,3)\n",
    "arr4 = np.arange(1,11).reshape(2,5)\n",
    "arr5 = np.arange(1,11).reshape(5,2)\n",
    "arr6 = np.arange(1,28).reshape(3,3,3)\n",
    "\n",
    "print(arr2,'차원:',arr2.ndim ,'/ 데이터타입:', arr2.dtype,'/형태:',arr2.shape,'/크기:',arr2.size,type(arr2))\n",
    "print(arr3,'차원:',arr3.ndim ,'/ 데이터타입:', arr3.dtype,'/형태:',arr3.shape,'/크기:',arr3.size,type(arr3))\n",
    "print(arr4,'차원:',arr4.ndim ,'/ 데이터타입:', arr4.dtype,'/형태:',arr4.shape,'/크기:',arr4.size,type(arr4))\n",
    "print(arr5,'차원:',arr5.ndim ,'/ 데이터타입:', arr5.dtype,'/형태:',arr5.shape,'/크기:',arr5.size,type(arr5))\n",
    "print(arr6,'차원:',arr6.ndim , '/ 데이터타입:',arr6.dtype,'/형태:',arr6.shape,'/크기:',arr6.size,type(arr6))"
   ]
  },
  {
   "cell_type": "code",
   "execution_count": null,
   "metadata": {
    "colab": {
     "base_uri": "https://localhost:8080/"
    },
    "executionInfo": {
     "elapsed": 16,
     "status": "ok",
     "timestamp": 1740451380157,
     "user": {
      "displayName": "경주",
      "userId": "14532900620656347701"
     },
     "user_tz": -540
    },
    "id": "gNe39tI0u7ej",
    "outputId": "e647a877-e205-453e-9a4f-c8e4f0b14b52"
   },
   "outputs": [
    {
     "name": "stdout",
     "output_type": "stream",
     "text": [
      "[[ 1  2  3  4  5  6  7]\n",
      " [ 8  9 10 11 12 13 14]\n",
      " [15 16 17 18 19 20 21]]\n",
      "===============\n",
      "[[1]\n",
      " [2]\n",
      " [3]\n",
      " [4]\n",
      " [5]\n",
      " [6]\n",
      " [7]]\n",
      "===============\n",
      "[[ 1  2]\n",
      " [ 3  4]\n",
      " [ 5  6]\n",
      " [ 7  8]\n",
      " [ 9 10]]\n",
      "===============\n",
      "[[ 1  2  3  4  5  6  7]\n",
      " [ 8  9 10 11 12 13 14]\n",
      " [15 16 17 18 19 20 21]]\n",
      "===============\n",
      "[[[ 1]\n",
      "  [ 2]\n",
      "  [ 3]]\n",
      "\n",
      " [[ 4]\n",
      "  [ 5]\n",
      "  [ 6]]\n",
      "\n",
      " [[ 7]\n",
      "  [ 8]\n",
      "  [ 9]]\n",
      "\n",
      " [[10]\n",
      "  [11]\n",
      "  [12]]]\n"
     ]
    }
   ],
   "source": [
    "t1 = np.arange(1,22).reshape(3,7)\n",
    "arr2 = np.arange(1,8).reshape(7,1)\n",
    "arr3 = np.arange(1,11).reshape(5,2)\n",
    "arr4 = np.arange(1,22).reshape(3,7)\n",
    "arr5 = np.arange(1,13).reshape(4,3,1)\n",
    "print(t1)\n",
    "print(\"=\"*15)\n",
    "print(arr2)\n",
    "print(\"=\"*15)\n",
    "print(arr3)\n",
    "print(\"=\"*15)\n",
    "print(arr4)\n",
    "print(\"=\"*15)\n",
    "print(arr5)"
   ]
  },
  {
   "cell_type": "code",
   "execution_count": null,
   "metadata": {
    "colab": {
     "base_uri": "https://localhost:8080/"
    },
    "executionInfo": {
     "elapsed": 48,
     "status": "ok",
     "timestamp": 1740453079794,
     "user": {
      "displayName": "경주",
      "userId": "14532900620656347701"
     },
     "user_tz": -540
    },
    "id": "mVK4An_4-144",
    "outputId": "7456082f-b617-49e6-c3ee-63320806c431"
   },
   "outputs": [
    {
     "name": "stdout",
     "output_type": "stream",
     "text": [
      "[10 11 12]\n",
      "[4 5 6 7]\n",
      "[11 12 13 14]\n",
      "[18 19 20 21]\n",
      "[array([[False, False, False, False, False, False, False],\n",
      "       [False, False, False, False, False,  True,  True],\n",
      "       [ True,  True,  True,  True,  True,  True,  True]])]\n",
      "[[False  True False  True False  True False]\n",
      " [ True False  True False  True False  True]\n",
      " [False  True False  True False  True False]]\n"
     ]
    }
   ],
   "source": [
    "#test\n",
    "print(t1[1][2:5])\n",
    "print(arr4 [0][3:7])\n",
    "print(arr4[1][3:7])\n",
    "print(arr4[2][3:7])\n",
    "print([arr4>12])\n",
    "#true or false 뱉어내는 기능\n",
    "print(arr4 % 2 ==0 )"
   ]
  },
  {
   "cell_type": "code",
   "execution_count": null,
   "metadata": {
    "colab": {
     "base_uri": "https://localhost:8080/"
    },
    "executionInfo": {
     "elapsed": 12,
     "status": "ok",
     "timestamp": 1740453255131,
     "user": {
      "displayName": "경주",
      "userId": "14532900620656347701"
     },
     "user_tz": -540
    },
    "id": "RsUNogxAFKQy",
    "outputId": "f15e492c-8bb9-47cb-94ac-26068e1c130a"
   },
   "outputs": [
    {
     "name": "stdout",
     "output_type": "stream",
     "text": [
      "덧셈: [ 7  9 11 13 15]\n",
      "뺄셈: [5 5 5 5 5]\n",
      "곱셈: [ 6 14 24 36 50]\n",
      "나눗셈: [6.         3.5        2.66666667 2.25       2.        ]\n"
     ]
    }
   ],
   "source": [
    "# np 배열 연산 //shape(배열차원)이 같은 경우 원소별 연산이 가능\n",
    "np1 = np.array([6,7,8,9,10])\n",
    "np2 = np.array([1,2,3,4,5])\n",
    "print(\"덧셈:\",np1+np2)\n",
    "print(\"뺄셈:\",np1-np2)\n",
    "print(\"곱셈:\",np1*np2)\n",
    "print(\"나눗셈:\",np1/np2)"
   ]
  },
  {
   "cell_type": "code",
   "execution_count": null,
   "metadata": {
    "colab": {
     "base_uri": "https://localhost:8080/"
    },
    "executionInfo": {
     "elapsed": 7,
     "status": "ok",
     "timestamp": 1740453449395,
     "user": {
      "displayName": "경주",
      "userId": "14532900620656347701"
     },
     "user_tz": -540
    },
    "id": "y4cRrby3GC7u",
    "outputId": "949004c8-1592-41d9-d293-39ea1499f5f8"
   },
   "outputs": [
    {
     "name": "stdout",
     "output_type": "stream",
     "text": [
      "[16 17 18 19 20]\n"
     ]
    }
   ],
   "source": [
    "#브로드캐스팅\n",
    "np3 = np1 +10\n",
    "print(np3)"
   ]
  },
  {
   "cell_type": "code",
   "execution_count": null,
   "metadata": {
    "colab": {
     "base_uri": "https://localhost:8080/"
    },
    "executionInfo": {
     "elapsed": 11,
     "status": "ok",
     "timestamp": 1740453787247,
     "user": {
      "displayName": "경주",
      "userId": "14532900620656347701"
     },
     "user_tz": -540
    },
    "id": "qp5keUjQG_ae",
    "outputId": "c78e393b-9e6e-4142-c0d2-8c8036228481"
   },
   "outputs": [
    {
     "name": "stdout",
     "output_type": "stream",
     "text": [
      "=======스칼라와 연산=======\n",
      "[[1 2 3]\n",
      " [4 5 6]\n",
      " [7 8 9]]\n",
      "[[ 3  6  9]\n",
      " [12 15 18]\n",
      " [21 24 27]]\n",
      "[[ 2  4  6]\n",
      " [ 8 10 12]\n",
      " [14 16 18]]\n",
      "=======2D와 1D의 연산=======\n",
      "[[12 24 36]\n",
      " [15 27 39]\n",
      " [18 30 42]]\n",
      "[[ 11  44  99]\n",
      " [ 44 110 198]\n",
      " [ 77 176 297]]\n"
     ]
    }
   ],
   "source": [
    "br1 = np.arange(1,10).reshape(3,3)\n",
    "br2 = np.array([11,22,33])\n",
    "#스칼라와 연산\n",
    "print(\"=======스칼라와 연산=======\")\n",
    "print(br1)\n",
    "print(br1*3)\n",
    "print(br1*2)\n",
    "#2D 와 1D의 연산\n",
    "print(\"=======2D와 1D의 연산=======\")\n",
    "print(br1+br2)\n",
    "print(br1*br2)"
   ]
  },
  {
   "cell_type": "code",
   "execution_count": null,
   "metadata": {
    "colab": {
     "base_uri": "https://localhost:8080/"
    },
    "executionInfo": {
     "elapsed": 8,
     "status": "ok",
     "timestamp": 1740454274244,
     "user": {
      "displayName": "경주",
      "userId": "14532900620656347701"
     },
     "user_tz": -540
    },
    "id": "6Lbh05PKHWxb",
    "outputId": "4b447780-361c-4972-e943-8f95dbdef6ef"
   },
   "outputs": [
    {
     "name": "stdout",
     "output_type": "stream",
     "text": [
      "[[1 2 3]\n",
      " [4 5 6]\n",
      " [7 8 9]]\n",
      "[[1 2 3 4 5 6 7 8 9]]\n",
      "[1 2 3 4 5 6 7 8 9]\n"
     ]
    }
   ],
   "source": [
    "# flatten 처리\n",
    "ff = np.arange(1,10).reshape(3,3)\n",
    "print(ff)\n",
    "print(ff.reshape(1,9))\n",
    "print(ff.flatten())"
   ]
  },
  {
   "cell_type": "code",
   "execution_count": null,
   "metadata": {
    "id": "WEHNlfctbYtW"
   },
   "outputs": [],
   "source": [
    "#구글 제미나의 AI\n",
    "from google import genai\n",
    "\n",
    "client = genai.Client(api_key=\"YOUR_API_KEY\")\n",
    "\n",
    "response = client.models.generate_content(\n",
    "    model=\"gemini-2.0-flash\",\n",
    "    contents=\"Explain how AI works\",\n",
    ")\n",
    "\n",
    "print(response.text)"
   ]
  },
  {
   "cell_type": "markdown",
   "metadata": {},
   "source": [
    "# 판다스(pandas)"
   ]
  },
  {
   "cell_type": "markdown",
   "metadata": {},
   "source": [
    "- 시리즈(series) #한개 있으면 시리즈\n",
    "- 데이터프레임(dataframe) #여러개있으면 데이터프레임"
   ]
  },
  {
   "cell_type": "code",
   "execution_count": null,
   "metadata": {},
   "outputs": [],
   "source": [
    "#!pip install pandas "
   ]
  },
  {
   "cell_type": "code",
   "execution_count": 2,
   "metadata": {},
   "outputs": [],
   "source": [
    "import numpy as np \n",
    "import pandas as pd "
   ]
  },
  {
   "cell_type": "code",
   "execution_count": 17,
   "metadata": {},
   "outputs": [
    {
     "name": "stdout",
     "output_type": "stream",
     "text": [
      "[1 2 3 4 5]\n",
      "0    1\n",
      "1    2\n",
      "2    3\n",
      "3    4\n",
      "4    5\n",
      "dtype: int64 <class 'pandas.core.series.Series'> RangeIndex(start=0, stop=5, step=1) [1 2 3 4 5] int64\n"
     ]
    }
   ],
   "source": [
    "#판다스 기초,\n",
    "data1 = np.arange(1,6)\n",
    "print(data1)\n",
    "data2 = pd.Series(data1)\n",
    "print(data2,type(data2),data2.index,data2.values,data2.dtype)"
   ]
  },
  {
   "cell_type": "code",
   "execution_count": 14,
   "metadata": {},
   "outputs": [
    {
     "name": "stdout",
     "output_type": "stream",
     "text": [
      "0    1.00\n",
      "1    2.00\n",
      "2    3.14\n",
      "3    4.00\n",
      "4    5.00\n",
      "5    6.00\n",
      "6    7.00\n",
      "dtype: float64\n"
     ]
    }
   ],
   "source": [
    "# 판다스 시리즈의 데이터타입 \n",
    "data3 = pd.Series([1,2,3.14,4,5,6,7])#,dtype=\"float\")\n",
    "#하나의 데이터 값을 기준으로 모두의 자료형이 변환됨 3.14 때문에 int가 float이 됨 \n",
    "print(data3)"
   ]
  },
  {
   "cell_type": "code",
   "execution_count": 16,
   "metadata": {},
   "outputs": [
    {
     "name": "stdout",
     "output_type": "stream",
     "text": [
      "a    1\n",
      "b    2\n",
      "c    3\n",
      "d    4\n",
      "dtype: int64\n"
     ]
    }
   ],
   "source": [
    "# 판다스 시리즈의 인덱스설정\n",
    "data3 = pd.Series([1,2,3,4],index=['a','b','c','d'])\n",
    "print(data3)"
   ]
  },
  {
   "cell_type": "code",
   "execution_count": 30,
   "metadata": {},
   "outputs": [
    {
     "name": "stdout",
     "output_type": "stream",
     "text": [
      "korea      5182\n",
      "japan     12622\n",
      "china    141178\n",
      "usa       32976\n",
      "dtype: int64 Index(['korea', 'japan', 'china', 'usa'], dtype='object') [  5182  12622 141178  32976]\n",
      "1 (4,) 4\n",
      "32976\n",
      "32976\n"
     ]
    }
   ],
   "source": [
    "# 판다스 시리즈 딕셔너리데이터 \n",
    "population_dict = {\n",
    "    'korea' :5182,\n",
    "    'japan' :12622,\n",
    "    'china' :141178,\n",
    "    'usa' :32976\n",
    "}\n",
    "# population_dict.keys() #. keys()함수 -기능을 담고 있으므로 수행 \n",
    "# population_dict.values()\n",
    "# population_dict.items()\n",
    "country = pd.Series(population_dict)\n",
    "print(country,country.index,country.values) #. index 속성 - 특징들을 말함 \n",
    "print(country.ndim, country.shape,country.size)\n",
    "# 시리즈 원소에 접근 방법 \n",
    "print(country.loc['usa'])\n",
    "print(country.iloc[3])"
   ]
  },
  {
   "cell_type": "code",
   "execution_count": 32,
   "metadata": {},
   "outputs": [
    {
     "data": {
      "text/html": [
       "<div>\n",
       "<style scoped>\n",
       "    .dataframe tbody tr th:only-of-type {\n",
       "        vertical-align: middle;\n",
       "    }\n",
       "\n",
       "    .dataframe tbody tr th {\n",
       "        vertical-align: top;\n",
       "    }\n",
       "\n",
       "    .dataframe thead th {\n",
       "        text-align: right;\n",
       "    }\n",
       "</style>\n",
       "<table border=\"1\" class=\"dataframe\">\n",
       "  <thead>\n",
       "    <tr style=\"text-align: right;\">\n",
       "      <th></th>\n",
       "      <th>A</th>\n",
       "      <th>B</th>\n",
       "      <th>C</th>\n",
       "    </tr>\n",
       "  </thead>\n",
       "  <tbody>\n",
       "    <tr>\n",
       "      <th>a</th>\n",
       "      <td>1</td>\n",
       "      <td>2</td>\n",
       "      <td>3</td>\n",
       "    </tr>\n",
       "    <tr>\n",
       "      <th>b</th>\n",
       "      <td>4</td>\n",
       "      <td>5</td>\n",
       "      <td>6</td>\n",
       "    </tr>\n",
       "    <tr>\n",
       "      <th>c</th>\n",
       "      <td>7</td>\n",
       "      <td>8</td>\n",
       "      <td>9</td>\n",
       "    </tr>\n",
       "  </tbody>\n",
       "</table>\n",
       "</div>"
      ],
      "text/plain": [
       "   A  B  C\n",
       "a  1  2  3\n",
       "b  4  5  6\n",
       "c  7  8  9"
      ]
     },
     "execution_count": 32,
     "metadata": {},
     "output_type": "execute_result"
    }
   ],
   "source": [
    "# 판다스 데이터프레임 \n",
    "df = pd.DataFrame([[1,2,3],[4,5,6],[7,8,9]],index=['a','b','c'],columns=['A','B','C']) #가로 :칼럼 #세로 :행:인덱스 라 하심 \n",
    "df"
   ]
  },
  {
   "cell_type": "code",
   "execution_count": 49,
   "metadata": {},
   "outputs": [
    {
     "name": "stdout",
     "output_type": "stream",
     "text": [
      "인구수 시리즈 데이터:\n",
      "korea      5182\n",
      "japan     12622\n",
      "china    141178\n",
      "usa       32976\n",
      "dtype: int64\n",
      "GDP 시리즈 데이터:\n",
      "korea     169320000\n",
      "japan     516700000\n",
      "china     140925000\n",
      "usa      2041280000\n",
      "dtype: int64\n",
      "=========================\n",
      "데이터 프레임 생성:\n",
      "Index(['korea', 'japan', 'china', 'usa'], dtype='object', name='Country') Index(['population', 'gdp'], dtype='object', name='Info')\n",
      "[[      5182  169320000]\n",
      " [     12622  516700000]\n",
      " [    141178  140925000]\n",
      " [     32976 2041280000]] (4, 2) 8 2\n"
     ]
    }
   ],
   "source": [
    "# 테스트 \n",
    "import numpy as np \n",
    "import pandas as pd\n",
    "\n",
    "# 두 개의 시리즈 데이터 \n",
    "print(\"인구수 시리즈 데이터:\")\n",
    "population_dict = {\n",
    "    'korea' :5182,\n",
    "    'japan' :12622,\n",
    "    'china' :141178,\n",
    "    'usa' :32976\n",
    "}\n",
    "population = pd.Series(population_dict)\n",
    "print(population)\n",
    "\n",
    "print(\"GDP 시리즈 데이터:\")\n",
    "GDP_dict = {\n",
    "    'korea' :169320000,\n",
    "    'japan' :516700000,\n",
    "    'china' :140925000,\n",
    "    'usa' :2041280000\n",
    "}\n",
    "GDP = pd.Series(GDP_dict)\n",
    "print(GDP)\n",
    "print(\"=\"*25)\n",
    "print(\"데이터 프레임 생성:\")\n",
    "country = pd.DataFrame({'population':population,'gdp':GDP})\n",
    "country.index.name =\"Country\" #인덱스 이름 지정 \n",
    "country.columns.name = \"Info\" #컬럼 이름 지정\n",
    "print(country.index,country.columns)\n",
    "print(country.values,country.shape,country.size,country.ndim) #(4,2) #4층 2칸 셰입 #축개수 ndim 2개   "
   ]
  },
  {
   "cell_type": "code",
   "execution_count": 56,
   "metadata": {},
   "outputs": [
    {
     "data": {
      "text/plain": [
       "(Info\n",
       " population       141178\n",
       " gdp           140925000\n",
       " Name: china, dtype: int64,\n",
       " Info\n",
       " population        12622\n",
       " gdp           516700000\n",
       " Name: japan, dtype: int64)"
      ]
     },
     "execution_count": 56,
     "metadata": {},
     "output_type": "execute_result"
    }
   ],
   "source": [
    "#데이터 프레임의 요소 접근 방법,loc, iloc \n",
    "country.loc['korea'],country.loc['usa'] #loc는 키값 기반 \n",
    "country.iloc[2],country.iloc[1] #iloc는  인덱스 기반 "
   ]
  },
  {
   "cell_type": "code",
   "execution_count": 62,
   "metadata": {},
   "outputs": [
    {
     "data": {
      "text/html": [
       "<div>\n",
       "<style scoped>\n",
       "    .dataframe tbody tr th:only-of-type {\n",
       "        vertical-align: middle;\n",
       "    }\n",
       "\n",
       "    .dataframe tbody tr th {\n",
       "        vertical-align: top;\n",
       "    }\n",
       "\n",
       "    .dataframe thead th {\n",
       "        text-align: right;\n",
       "    }\n",
       "</style>\n",
       "<table border=\"1\" class=\"dataframe\">\n",
       "  <thead>\n",
       "    <tr style=\"text-align: right;\">\n",
       "      <th>Info</th>\n",
       "      <th>population</th>\n",
       "    </tr>\n",
       "    <tr>\n",
       "      <th>Country</th>\n",
       "      <th></th>\n",
       "    </tr>\n",
       "  </thead>\n",
       "  <tbody>\n",
       "    <tr>\n",
       "      <th>korea</th>\n",
       "      <td>5182</td>\n",
       "    </tr>\n",
       "    <tr>\n",
       "      <th>japan</th>\n",
       "      <td>12622</td>\n",
       "    </tr>\n",
       "  </tbody>\n",
       "</table>\n",
       "</div>"
      ],
      "text/plain": [
       "Info     population\n",
       "Country            \n",
       "korea          5182\n",
       "japan         12622"
      ]
     },
     "execution_count": 62,
     "metadata": {},
     "output_type": "execute_result"
    }
   ],
   "source": [
    "country.loc['korea':'japan',:'population'] # <=x <= "
   ]
  },
  {
   "cell_type": "code",
   "execution_count": 66,
   "metadata": {},
   "outputs": [
    {
     "data": {
      "text/html": [
       "<div>\n",
       "<style scoped>\n",
       "    .dataframe tbody tr th:only-of-type {\n",
       "        vertical-align: middle;\n",
       "    }\n",
       "\n",
       "    .dataframe tbody tr th {\n",
       "        vertical-align: top;\n",
       "    }\n",
       "\n",
       "    .dataframe thead th {\n",
       "        text-align: right;\n",
       "    }\n",
       "</style>\n",
       "<table border=\"1\" class=\"dataframe\">\n",
       "  <thead>\n",
       "    <tr style=\"text-align: right;\">\n",
       "      <th>Info</th>\n",
       "      <th>population</th>\n",
       "    </tr>\n",
       "    <tr>\n",
       "      <th>Country</th>\n",
       "      <th></th>\n",
       "    </tr>\n",
       "  </thead>\n",
       "  <tbody>\n",
       "    <tr>\n",
       "      <th>korea</th>\n",
       "      <td>5182</td>\n",
       "    </tr>\n",
       "    <tr>\n",
       "      <th>japan</th>\n",
       "      <td>12622</td>\n",
       "    </tr>\n",
       "  </tbody>\n",
       "</table>\n",
       "</div>"
      ],
      "text/plain": [
       "Info     population\n",
       "Country            \n",
       "korea          5182\n",
       "japan         12622"
      ]
     },
     "execution_count": 66,
     "metadata": {},
     "output_type": "execute_result"
    }
   ],
   "source": [
    "country.iloc[0:2,:1] #<=x<"
   ]
  },
  {
   "cell_type": "code",
   "execution_count": 64,
   "metadata": {},
   "outputs": [
    {
     "data": {
      "text/html": [
       "<div>\n",
       "<style scoped>\n",
       "    .dataframe tbody tr th:only-of-type {\n",
       "        vertical-align: middle;\n",
       "    }\n",
       "\n",
       "    .dataframe tbody tr th {\n",
       "        vertical-align: top;\n",
       "    }\n",
       "\n",
       "    .dataframe thead th {\n",
       "        text-align: right;\n",
       "    }\n",
       "</style>\n",
       "<table border=\"1\" class=\"dataframe\">\n",
       "  <thead>\n",
       "    <tr style=\"text-align: right;\">\n",
       "      <th>Info</th>\n",
       "      <th>population</th>\n",
       "      <th>gdp</th>\n",
       "    </tr>\n",
       "    <tr>\n",
       "      <th>Country</th>\n",
       "      <th></th>\n",
       "      <th></th>\n",
       "    </tr>\n",
       "  </thead>\n",
       "  <tbody>\n",
       "    <tr>\n",
       "      <th>korea</th>\n",
       "      <td>5182</td>\n",
       "      <td>169320000</td>\n",
       "    </tr>\n",
       "    <tr>\n",
       "      <th>japan</th>\n",
       "      <td>12622</td>\n",
       "      <td>516700000</td>\n",
       "    </tr>\n",
       "    <tr>\n",
       "      <th>china</th>\n",
       "      <td>141178</td>\n",
       "      <td>140925000</td>\n",
       "    </tr>\n",
       "    <tr>\n",
       "      <th>usa</th>\n",
       "      <td>32976</td>\n",
       "      <td>2041280000</td>\n",
       "    </tr>\n",
       "  </tbody>\n",
       "</table>\n",
       "</div>"
      ],
      "text/plain": [
       "Info     population         gdp\n",
       "Country                        \n",
       "korea          5182   169320000\n",
       "japan         12622   516700000\n",
       "china        141178   140925000\n",
       "usa           32976  2041280000"
      ]
     },
     "execution_count": 64,
     "metadata": {},
     "output_type": "execute_result"
    }
   ],
   "source": [
    "country"
   ]
  },
  {
   "cell_type": "code",
   "execution_count": 71,
   "metadata": {},
   "outputs": [
    {
     "data": {
      "text/html": [
       "<div>\n",
       "<style scoped>\n",
       "    .dataframe tbody tr th:only-of-type {\n",
       "        vertical-align: middle;\n",
       "    }\n",
       "\n",
       "    .dataframe tbody tr th {\n",
       "        vertical-align: top;\n",
       "    }\n",
       "\n",
       "    .dataframe thead th {\n",
       "        text-align: right;\n",
       "    }\n",
       "</style>\n",
       "<table border=\"1\" class=\"dataframe\">\n",
       "  <thead>\n",
       "    <tr style=\"text-align: right;\">\n",
       "      <th>Info</th>\n",
       "      <th>population</th>\n",
       "      <th>gdp</th>\n",
       "      <th>gdp_per</th>\n",
       "    </tr>\n",
       "    <tr>\n",
       "      <th>Country</th>\n",
       "      <th></th>\n",
       "      <th></th>\n",
       "      <th></th>\n",
       "    </tr>\n",
       "  </thead>\n",
       "  <tbody>\n",
       "    <tr>\n",
       "      <th>korea</th>\n",
       "      <td>5182</td>\n",
       "      <td>169320000</td>\n",
       "      <td>32674.642995</td>\n",
       "    </tr>\n",
       "    <tr>\n",
       "      <th>japan</th>\n",
       "      <td>12622</td>\n",
       "      <td>516700000</td>\n",
       "      <td>40936.460149</td>\n",
       "    </tr>\n",
       "    <tr>\n",
       "      <th>china</th>\n",
       "      <td>141178</td>\n",
       "      <td>140925000</td>\n",
       "      <td>998.207936</td>\n",
       "    </tr>\n",
       "    <tr>\n",
       "      <th>usa</th>\n",
       "      <td>32976</td>\n",
       "      <td>2041280000</td>\n",
       "      <td>61901.989326</td>\n",
       "    </tr>\n",
       "  </tbody>\n",
       "</table>\n",
       "</div>"
      ],
      "text/plain": [
       "Info     population         gdp       gdp_per\n",
       "Country                                      \n",
       "korea          5182   169320000  32674.642995\n",
       "japan         12622   516700000  40936.460149\n",
       "china        141178   140925000    998.207936\n",
       "usa           32976  2041280000  61901.989326"
      ]
     },
     "execution_count": 71,
     "metadata": {},
     "output_type": "execute_result"
    }
   ],
   "source": [
    "# 컬럼 추가 \n",
    "# country['test'] = [11,22,33,44]\n",
    "# country = country.drop('test',axis=1) #1은 세워진 세로 , 칼럼 \n",
    "gdpper = country['gdp'] /country['population']\n",
    "country['gdp_per'] = gdpper\n",
    "country"
   ]
  },
  {
   "cell_type": "code",
   "execution_count": 87,
   "metadata": {},
   "outputs": [
    {
     "data": {
      "text/html": [
       "<div>\n",
       "<style scoped>\n",
       "    .dataframe tbody tr th:only-of-type {\n",
       "        vertical-align: middle;\n",
       "    }\n",
       "\n",
       "    .dataframe tbody tr th {\n",
       "        vertical-align: top;\n",
       "    }\n",
       "\n",
       "    .dataframe thead th {\n",
       "        text-align: right;\n",
       "    }\n",
       "</style>\n",
       "<table border=\"1\" class=\"dataframe\">\n",
       "  <thead>\n",
       "    <tr style=\"text-align: right;\">\n",
       "      <th>Info</th>\n",
       "      <th>population</th>\n",
       "      <th>gdp</th>\n",
       "      <th>gdp_per</th>\n",
       "    </tr>\n",
       "    <tr>\n",
       "      <th>Country</th>\n",
       "      <th></th>\n",
       "      <th></th>\n",
       "      <th></th>\n",
       "    </tr>\n",
       "  </thead>\n",
       "  <tbody>\n",
       "    <tr>\n",
       "      <th>korea</th>\n",
       "      <td>5182.0</td>\n",
       "      <td>1.693200e+08</td>\n",
       "      <td>32674.642995</td>\n",
       "    </tr>\n",
       "    <tr>\n",
       "      <th>japan</th>\n",
       "      <td>12622.0</td>\n",
       "      <td>5.167000e+08</td>\n",
       "      <td>40936.460149</td>\n",
       "    </tr>\n",
       "    <tr>\n",
       "      <th>china</th>\n",
       "      <td>141178.0</td>\n",
       "      <td>1.409250e+08</td>\n",
       "      <td>998.207936</td>\n",
       "    </tr>\n",
       "    <tr>\n",
       "      <th>usa</th>\n",
       "      <td>32976.0</td>\n",
       "      <td>2.041280e+09</td>\n",
       "      <td>61901.989326</td>\n",
       "    </tr>\n",
       "    <tr>\n",
       "      <th>india</th>\n",
       "      <td>142222.0</td>\n",
       "      <td>1.505050e+08</td>\n",
       "      <td>1058.239935</td>\n",
       "    </tr>\n",
       "  </tbody>\n",
       "</table>\n",
       "</div>"
      ],
      "text/plain": [
       "Info     population           gdp       gdp_per\n",
       "Country                                        \n",
       "korea        5182.0  1.693200e+08  32674.642995\n",
       "japan       12622.0  5.167000e+08  40936.460149\n",
       "china      141178.0  1.409250e+08    998.207936\n",
       "usa         32976.0  2.041280e+09  61901.989326\n",
       "india      142222.0  1.505050e+08   1058.239935"
      ]
     },
     "execution_count": 87,
     "metadata": {},
     "output_type": "execute_result"
    }
   ],
   "source": [
    "# 행추가 1\n",
    "country.loc['india'] = [142222,150505000,121121]\n",
    "country.loc['india','gdp_per'] = country.loc['india','gdp']/country.loc['india','population']\n",
    "country"
   ]
  },
  {
   "cell_type": "code",
   "execution_count": 88,
   "metadata": {},
   "outputs": [
    {
     "data": {
      "text/html": [
       "<div>\n",
       "<style scoped>\n",
       "    .dataframe tbody tr th:only-of-type {\n",
       "        vertical-align: middle;\n",
       "    }\n",
       "\n",
       "    .dataframe tbody tr th {\n",
       "        vertical-align: top;\n",
       "    }\n",
       "\n",
       "    .dataframe thead th {\n",
       "        text-align: right;\n",
       "    }\n",
       "</style>\n",
       "<table border=\"1\" class=\"dataframe\">\n",
       "  <thead>\n",
       "    <tr style=\"text-align: right;\">\n",
       "      <th>Info</th>\n",
       "      <th>population</th>\n",
       "      <th>gdp</th>\n",
       "      <th>gdp_per</th>\n",
       "    </tr>\n",
       "    <tr>\n",
       "      <th>Country</th>\n",
       "      <th></th>\n",
       "      <th></th>\n",
       "      <th></th>\n",
       "    </tr>\n",
       "  </thead>\n",
       "  <tbody>\n",
       "    <tr>\n",
       "      <th>korea</th>\n",
       "      <td>5182.0</td>\n",
       "      <td>1.693200e+08</td>\n",
       "      <td>32674.642995</td>\n",
       "    </tr>\n",
       "    <tr>\n",
       "      <th>japan</th>\n",
       "      <td>12622.0</td>\n",
       "      <td>5.167000e+08</td>\n",
       "      <td>40936.460149</td>\n",
       "    </tr>\n",
       "    <tr>\n",
       "      <th>china</th>\n",
       "      <td>141178.0</td>\n",
       "      <td>1.409250e+08</td>\n",
       "      <td>998.207936</td>\n",
       "    </tr>\n",
       "    <tr>\n",
       "      <th>usa</th>\n",
       "      <td>32976.0</td>\n",
       "      <td>2.041280e+09</td>\n",
       "      <td>61901.989326</td>\n",
       "    </tr>\n",
       "    <tr>\n",
       "      <th>india</th>\n",
       "      <td>142222.0</td>\n",
       "      <td>1.505050e+08</td>\n",
       "      <td>1058.239935</td>\n",
       "    </tr>\n",
       "    <tr>\n",
       "      <th>africa</th>\n",
       "      <td>123456.0</td>\n",
       "      <td>7.777777e+06</td>\n",
       "      <td>63.000397</td>\n",
       "    </tr>\n",
       "  </tbody>\n",
       "</table>\n",
       "</div>"
      ],
      "text/plain": [
       "Info     population           gdp       gdp_per\n",
       "Country                                        \n",
       "korea        5182.0  1.693200e+08  32674.642995\n",
       "japan       12622.0  5.167000e+08  40936.460149\n",
       "china      141178.0  1.409250e+08    998.207936\n",
       "usa         32976.0  2.041280e+09  61901.989326\n",
       "india      142222.0  1.505050e+08   1058.239935\n",
       "africa     123456.0  7.777777e+06     63.000397"
      ]
     },
     "execution_count": 88,
     "metadata": {},
     "output_type": "execute_result"
    }
   ],
   "source": [
    "# 행추가 방법2 \n",
    "africa = pd.Series(data =[123456,7777777],index=['population','gdp'])\n",
    "country.loc['africa'] = africa\n",
    "country.loc['africa','gdp_per'] = country.loc['africa','gdp']/country.loc['africa','population']\n",
    "country"
   ]
  },
  {
   "cell_type": "code",
   "execution_count": 89,
   "metadata": {},
   "outputs": [
    {
     "data": {
      "text/html": [
       "<div>\n",
       "<style scoped>\n",
       "    .dataframe tbody tr th:only-of-type {\n",
       "        vertical-align: middle;\n",
       "    }\n",
       "\n",
       "    .dataframe tbody tr th {\n",
       "        vertical-align: top;\n",
       "    }\n",
       "\n",
       "    .dataframe thead th {\n",
       "        text-align: right;\n",
       "    }\n",
       "</style>\n",
       "<table border=\"1\" class=\"dataframe\">\n",
       "  <thead>\n",
       "    <tr style=\"text-align: right;\">\n",
       "      <th>Info</th>\n",
       "      <th>population</th>\n",
       "      <th>gdp</th>\n",
       "      <th>gdp_per</th>\n",
       "    </tr>\n",
       "    <tr>\n",
       "      <th>Country</th>\n",
       "      <th></th>\n",
       "      <th></th>\n",
       "      <th></th>\n",
       "    </tr>\n",
       "  </thead>\n",
       "  <tbody>\n",
       "    <tr>\n",
       "      <th>korea</th>\n",
       "      <td>False</td>\n",
       "      <td>False</td>\n",
       "      <td>False</td>\n",
       "    </tr>\n",
       "    <tr>\n",
       "      <th>japan</th>\n",
       "      <td>False</td>\n",
       "      <td>False</td>\n",
       "      <td>False</td>\n",
       "    </tr>\n",
       "    <tr>\n",
       "      <th>china</th>\n",
       "      <td>False</td>\n",
       "      <td>False</td>\n",
       "      <td>False</td>\n",
       "    </tr>\n",
       "    <tr>\n",
       "      <th>usa</th>\n",
       "      <td>False</td>\n",
       "      <td>False</td>\n",
       "      <td>False</td>\n",
       "    </tr>\n",
       "    <tr>\n",
       "      <th>india</th>\n",
       "      <td>False</td>\n",
       "      <td>False</td>\n",
       "      <td>False</td>\n",
       "    </tr>\n",
       "    <tr>\n",
       "      <th>africa</th>\n",
       "      <td>False</td>\n",
       "      <td>False</td>\n",
       "      <td>False</td>\n",
       "    </tr>\n",
       "  </tbody>\n",
       "</table>\n",
       "</div>"
      ],
      "text/plain": [
       "Info     population    gdp  gdp_per\n",
       "Country                            \n",
       "korea         False  False    False\n",
       "japan         False  False    False\n",
       "china         False  False    False\n",
       "usa           False  False    False\n",
       "india         False  False    False\n",
       "africa        False  False    False"
      ]
     },
     "execution_count": 89,
     "metadata": {},
     "output_type": "execute_result"
    }
   ],
   "source": [
    "#결측값(Nan) 확인 \n",
    "country.isnull() #.sum()"
   ]
  },
  {
   "cell_type": "code",
   "execution_count": 90,
   "metadata": {},
   "outputs": [
    {
     "data": {
      "text/html": [
       "<div>\n",
       "<style scoped>\n",
       "    .dataframe tbody tr th:only-of-type {\n",
       "        vertical-align: middle;\n",
       "    }\n",
       "\n",
       "    .dataframe tbody tr th {\n",
       "        vertical-align: top;\n",
       "    }\n",
       "\n",
       "    .dataframe thead th {\n",
       "        text-align: right;\n",
       "    }\n",
       "</style>\n",
       "<table border=\"1\" class=\"dataframe\">\n",
       "  <thead>\n",
       "    <tr style=\"text-align: right;\">\n",
       "      <th>Info</th>\n",
       "      <th>population</th>\n",
       "      <th>gdp</th>\n",
       "      <th>gdp_per</th>\n",
       "    </tr>\n",
       "    <tr>\n",
       "      <th>Country</th>\n",
       "      <th></th>\n",
       "      <th></th>\n",
       "      <th></th>\n",
       "    </tr>\n",
       "  </thead>\n",
       "  <tbody>\n",
       "    <tr>\n",
       "      <th>korea</th>\n",
       "      <td>5182.0</td>\n",
       "      <td>1.693200e+08</td>\n",
       "      <td>32674.642995</td>\n",
       "    </tr>\n",
       "    <tr>\n",
       "      <th>japan</th>\n",
       "      <td>12622.0</td>\n",
       "      <td>5.167000e+08</td>\n",
       "      <td>40936.460149</td>\n",
       "    </tr>\n",
       "    <tr>\n",
       "      <th>china</th>\n",
       "      <td>141178.0</td>\n",
       "      <td>1.409250e+08</td>\n",
       "      <td>998.207936</td>\n",
       "    </tr>\n",
       "    <tr>\n",
       "      <th>usa</th>\n",
       "      <td>32976.0</td>\n",
       "      <td>2.041280e+09</td>\n",
       "      <td>61901.989326</td>\n",
       "    </tr>\n",
       "    <tr>\n",
       "      <th>india</th>\n",
       "      <td>142222.0</td>\n",
       "      <td>1.505050e+08</td>\n",
       "      <td>1058.239935</td>\n",
       "    </tr>\n",
       "  </tbody>\n",
       "</table>\n",
       "</div>"
      ],
      "text/plain": [
       "Info     population           gdp       gdp_per\n",
       "Country                                        \n",
       "korea        5182.0  1.693200e+08  32674.642995\n",
       "japan       12622.0  5.167000e+08  40936.460149\n",
       "china      141178.0  1.409250e+08    998.207936\n",
       "usa         32976.0  2.041280e+09  61901.989326\n",
       "india      142222.0  1.505050e+08   1058.239935"
      ]
     },
     "execution_count": 90,
     "metadata": {},
     "output_type": "execute_result"
    }
   ],
   "source": [
    "# 열제거 drop('이름', axis = 0) \n",
    "country = country.drop('africa',axis=0) #inplace =True # 원본을 바꿈 \n",
    "country"
   ]
  },
  {
   "cell_type": "code",
   "execution_count": 91,
   "metadata": {},
   "outputs": [
    {
     "data": {
      "text/html": [
       "<div>\n",
       "<style scoped>\n",
       "    .dataframe tbody tr th:only-of-type {\n",
       "        vertical-align: middle;\n",
       "    }\n",
       "\n",
       "    .dataframe tbody tr th {\n",
       "        vertical-align: top;\n",
       "    }\n",
       "\n",
       "    .dataframe thead th {\n",
       "        text-align: right;\n",
       "    }\n",
       "</style>\n",
       "<table border=\"1\" class=\"dataframe\">\n",
       "  <thead>\n",
       "    <tr style=\"text-align: right;\">\n",
       "      <th>Info</th>\n",
       "      <th>population</th>\n",
       "      <th>gdp</th>\n",
       "      <th>gdp_per</th>\n",
       "    </tr>\n",
       "    <tr>\n",
       "      <th>Country</th>\n",
       "      <th></th>\n",
       "      <th></th>\n",
       "      <th></th>\n",
       "    </tr>\n",
       "  </thead>\n",
       "  <tbody>\n",
       "    <tr>\n",
       "      <th>china</th>\n",
       "      <td>141178.0</td>\n",
       "      <td>140925000.0</td>\n",
       "      <td>998.207936</td>\n",
       "    </tr>\n",
       "    <tr>\n",
       "      <th>india</th>\n",
       "      <td>142222.0</td>\n",
       "      <td>150505000.0</td>\n",
       "      <td>1058.239935</td>\n",
       "    </tr>\n",
       "  </tbody>\n",
       "</table>\n",
       "</div>"
      ],
      "text/plain": [
       "Info     population          gdp      gdp_per\n",
       "Country                                      \n",
       "china      141178.0  140925000.0   998.207936\n",
       "india      142222.0  150505000.0  1058.239935"
      ]
     },
     "execution_count": 91,
     "metadata": {},
     "output_type": "execute_result"
    }
   ],
   "source": [
    "#테스트 1 조건 \n",
    "country[country['population'] >140000]"
   ]
  },
  {
   "cell_type": "code",
   "execution_count": 99,
   "metadata": {},
   "outputs": [
    {
     "data": {
      "text/html": [
       "<div>\n",
       "<style scoped>\n",
       "    .dataframe tbody tr th:only-of-type {\n",
       "        vertical-align: middle;\n",
       "    }\n",
       "\n",
       "    .dataframe tbody tr th {\n",
       "        vertical-align: top;\n",
       "    }\n",
       "\n",
       "    .dataframe thead th {\n",
       "        text-align: right;\n",
       "    }\n",
       "</style>\n",
       "<table border=\"1\" class=\"dataframe\">\n",
       "  <thead>\n",
       "    <tr style=\"text-align: right;\">\n",
       "      <th>Info</th>\n",
       "      <th>population</th>\n",
       "    </tr>\n",
       "    <tr>\n",
       "      <th>Country</th>\n",
       "      <th></th>\n",
       "    </tr>\n",
       "  </thead>\n",
       "  <tbody>\n",
       "    <tr>\n",
       "      <th>japan</th>\n",
       "      <td>12622.0</td>\n",
       "    </tr>\n",
       "    <tr>\n",
       "      <th>usa</th>\n",
       "      <td>32976.0</td>\n",
       "    </tr>\n",
       "  </tbody>\n",
       "</table>\n",
       "</div>"
      ],
      "text/plain": [
       "Info     population\n",
       "Country            \n",
       "japan       12622.0\n",
       "usa         32976.0"
      ]
     },
     "execution_count": 99,
     "metadata": {},
     "output_type": "execute_result"
    }
   ],
   "source": [
    "#테스트 2 조건 , 슬라이싱 (loc,iloc 필수 )\n",
    "country[(country['population']>10000 )& (country['population'] < 100000)].loc[:,:'population']"
   ]
  },
  {
   "cell_type": "markdown",
   "metadata": {},
   "source": [
    "### 문제 1 \n",
    "- 다음 데이터가 담긴 데이터 프레임을 만들어라 \n",
    "### 문제 2\n",
    "- 박철수만 출력하라\n",
    "### 문제 3 \n",
    "- 수학이 70점 이상인 사람 모든 행을 출력하라\n",
    "### 문제 4 \n",
    "- 모든 과목의 평균 점수를 마지막 컬럼에 넣고 \"평균\" 이라는 이름으로 만들어 넣어라\n",
    "### 문제 5 \n",
    "- 전학 온 학생을 추가하라 (최자바 55 95 70) "
   ]
  },
  {
   "cell_type": "code",
   "execution_count": 128,
   "metadata": {},
   "outputs": [
    {
     "data": {
      "text/html": [
       "<div>\n",
       "<style scoped>\n",
       "    .dataframe tbody tr th:only-of-type {\n",
       "        vertical-align: middle;\n",
       "    }\n",
       "\n",
       "    .dataframe tbody tr th {\n",
       "        vertical-align: top;\n",
       "    }\n",
       "\n",
       "    .dataframe thead th {\n",
       "        text-align: right;\n",
       "    }\n",
       "</style>\n",
       "<table border=\"1\" class=\"dataframe\">\n",
       "  <thead>\n",
       "    <tr style=\"text-align: right;\">\n",
       "      <th></th>\n",
       "      <th>이름</th>\n",
       "      <th>국어</th>\n",
       "      <th>수학</th>\n",
       "      <th>영어</th>\n",
       "    </tr>\n",
       "  </thead>\n",
       "  <tbody>\n",
       "    <tr>\n",
       "      <th>0</th>\n",
       "      <td>홍길동</td>\n",
       "      <td>80</td>\n",
       "      <td>70</td>\n",
       "      <td>80</td>\n",
       "    </tr>\n",
       "    <tr>\n",
       "      <th>1</th>\n",
       "      <td>박철수</td>\n",
       "      <td>60</td>\n",
       "      <td>70</td>\n",
       "      <td>80</td>\n",
       "    </tr>\n",
       "    <tr>\n",
       "      <th>2</th>\n",
       "      <td>김영희</td>\n",
       "      <td>70</td>\n",
       "      <td>90</td>\n",
       "      <td>80</td>\n",
       "    </tr>\n",
       "  </tbody>\n",
       "</table>\n",
       "</div>"
      ],
      "text/plain": [
       "    이름  국어  수학  영어\n",
       "0  홍길동  80  70  80\n",
       "1  박철수  60  70  80\n",
       "2  김영희  70  90  80"
      ]
     },
     "execution_count": 128,
     "metadata": {},
     "output_type": "execute_result"
    }
   ],
   "source": [
    "# 기본적인 방법 \n",
    "data = {\n",
    "    '이름' : ['홍길동','박철수','김영희'],\n",
    "    '국어' : [80,60,70],\n",
    "    '수학' : [70,70,90],\n",
    "    '영어' : [80,80,80]\n",
    "}\n",
    "df = pd.DataFrame(data)\n",
    "df"
   ]
  },
  {
   "cell_type": "code",
   "execution_count": 144,
   "metadata": {},
   "outputs": [
    {
     "data": {
      "text/html": [
       "<div>\n",
       "<style scoped>\n",
       "    .dataframe tbody tr th:only-of-type {\n",
       "        vertical-align: middle;\n",
       "    }\n",
       "\n",
       "    .dataframe tbody tr th {\n",
       "        vertical-align: top;\n",
       "    }\n",
       "\n",
       "    .dataframe thead th {\n",
       "        text-align: right;\n",
       "    }\n",
       "</style>\n",
       "<table border=\"1\" class=\"dataframe\">\n",
       "  <thead>\n",
       "    <tr style=\"text-align: right;\">\n",
       "      <th></th>\n",
       "      <th>이름</th>\n",
       "      <th>국어</th>\n",
       "      <th>수학</th>\n",
       "      <th>영어</th>\n",
       "    </tr>\n",
       "  </thead>\n",
       "  <tbody>\n",
       "    <tr>\n",
       "      <th>0</th>\n",
       "      <td>홍길동</td>\n",
       "      <td>80</td>\n",
       "      <td>70</td>\n",
       "      <td>80</td>\n",
       "    </tr>\n",
       "    <tr>\n",
       "      <th>1</th>\n",
       "      <td>박철수</td>\n",
       "      <td>60</td>\n",
       "      <td>70</td>\n",
       "      <td>80</td>\n",
       "    </tr>\n",
       "    <tr>\n",
       "      <th>2</th>\n",
       "      <td>김영희</td>\n",
       "      <td>70</td>\n",
       "      <td>90</td>\n",
       "      <td>80</td>\n",
       "    </tr>\n",
       "  </tbody>\n",
       "</table>\n",
       "</div>"
      ],
      "text/plain": [
       "    이름  국어  수학  영어\n",
       "0  홍길동  80  70  80\n",
       "1  박철수  60  70  80\n",
       "2  김영희  70  90  80"
      ]
     },
     "execution_count": 144,
     "metadata": {},
     "output_type": "execute_result"
    }
   ],
   "source": [
    "# 키값쌍으로 리스트에 저장하는 방법 \n",
    "data = [\n",
    "    {'이름' : '홍길동','국어':80,'수학':70,'영어':80},\n",
    "    {'이름' : '박철수','국어':60,'수학':70,'영어':80},\n",
    "    {'이름' : '김영희','국어':70,'수학':90,'영어':80},\n",
    "]\n",
    "df = pd.DataFrame(data)\n",
    "df"
   ]
  },
  {
   "cell_type": "code",
   "execution_count": 146,
   "metadata": {},
   "outputs": [
    {
     "data": {
      "text/html": [
       "<div>\n",
       "<style scoped>\n",
       "    .dataframe tbody tr th:only-of-type {\n",
       "        vertical-align: middle;\n",
       "    }\n",
       "\n",
       "    .dataframe tbody tr th {\n",
       "        vertical-align: top;\n",
       "    }\n",
       "\n",
       "    .dataframe thead th {\n",
       "        text-align: right;\n",
       "    }\n",
       "</style>\n",
       "<table border=\"1\" class=\"dataframe\">\n",
       "  <thead>\n",
       "    <tr style=\"text-align: right;\">\n",
       "      <th></th>\n",
       "      <th>이름</th>\n",
       "      <th>국어</th>\n",
       "      <th>수학</th>\n",
       "      <th>영어</th>\n",
       "    </tr>\n",
       "  </thead>\n",
       "  <tbody>\n",
       "    <tr>\n",
       "      <th>0</th>\n",
       "      <td>홍길동</td>\n",
       "      <td>80</td>\n",
       "      <td>70</td>\n",
       "      <td>80</td>\n",
       "    </tr>\n",
       "    <tr>\n",
       "      <th>1</th>\n",
       "      <td>박철수</td>\n",
       "      <td>60</td>\n",
       "      <td>70</td>\n",
       "      <td>80</td>\n",
       "    </tr>\n",
       "    <tr>\n",
       "      <th>2</th>\n",
       "      <td>김영희</td>\n",
       "      <td>70</td>\n",
       "      <td>90</td>\n",
       "      <td>80</td>\n",
       "    </tr>\n",
       "  </tbody>\n",
       "</table>\n",
       "</div>"
      ],
      "text/plain": [
       "    이름  국어  수학  영어\n",
       "0  홍길동  80  70  80\n",
       "1  박철수  60  70  80\n",
       "2  김영희  70  90  80"
      ]
     },
     "execution_count": 146,
     "metadata": {},
     "output_type": "execute_result"
    }
   ],
   "source": [
    "# 리스트에 튜플로 저장하는 방법 \n",
    "data = [\n",
    "    ('홍길동',80,70,80),\n",
    "    ('박철수',60,70,80),\n",
    "    ('김영희',70,90,80)\n",
    "]\n",
    "df = pd.DataFrame(data,columns=['이름','국어','수학','영어'])\n",
    "df"
   ]
  },
  {
   "cell_type": "code",
   "execution_count": 158,
   "metadata": {},
   "outputs": [],
   "source": [
    "# import numpy as np \n",
    "# data0 = [\n",
    "#     ('홍길동',80,70,80),\n",
    "#     ('박철수',60,70,80),\n",
    "#     ('김영희',70,90,80)\n",
    "# ]\n",
    "# data = np.array(data0)\n",
    "data = np.array([['홍길동',80,70,80],['박철수',60,70,80],['김영희',70,90,80]])\n",
    "df = pd.DataFrame(data,columns=['이름','국어','수학','영어'])"
   ]
  },
  {
   "cell_type": "code",
   "execution_count": 157,
   "metadata": {},
   "outputs": [
    {
     "data": {
      "text/html": [
       "<div>\n",
       "<style scoped>\n",
       "    .dataframe tbody tr th:only-of-type {\n",
       "        vertical-align: middle;\n",
       "    }\n",
       "\n",
       "    .dataframe tbody tr th {\n",
       "        vertical-align: top;\n",
       "    }\n",
       "\n",
       "    .dataframe thead th {\n",
       "        text-align: right;\n",
       "    }\n",
       "</style>\n",
       "<table border=\"1\" class=\"dataframe\">\n",
       "  <thead>\n",
       "    <tr style=\"text-align: right;\">\n",
       "      <th></th>\n",
       "      <th>0</th>\n",
       "      <th>1</th>\n",
       "      <th>2</th>\n",
       "      <th>3</th>\n",
       "    </tr>\n",
       "  </thead>\n",
       "  <tbody>\n",
       "    <tr>\n",
       "      <th>0</th>\n",
       "      <td>홍길동</td>\n",
       "      <td>80</td>\n",
       "      <td>70</td>\n",
       "      <td>80</td>\n",
       "    </tr>\n",
       "    <tr>\n",
       "      <th>1</th>\n",
       "      <td>박철수</td>\n",
       "      <td>60</td>\n",
       "      <td>70</td>\n",
       "      <td>80</td>\n",
       "    </tr>\n",
       "    <tr>\n",
       "      <th>2</th>\n",
       "      <td>김영희</td>\n",
       "      <td>70</td>\n",
       "      <td>90</td>\n",
       "      <td>80</td>\n",
       "    </tr>\n",
       "  </tbody>\n",
       "</table>\n",
       "</div>"
      ],
      "text/plain": [
       "     0   1   2   3\n",
       "0  홍길동  80  70  80\n",
       "1  박철수  60  70  80\n",
       "2  김영희  70  90  80"
      ]
     },
     "execution_count": 157,
     "metadata": {},
     "output_type": "execute_result"
    }
   ],
   "source": [
    "#문제 1번 \n",
    "df"
   ]
  },
  {
   "cell_type": "code",
   "execution_count": 138,
   "metadata": {},
   "outputs": [
    {
     "data": {
      "text/html": [
       "<div>\n",
       "<style scoped>\n",
       "    .dataframe tbody tr th:only-of-type {\n",
       "        vertical-align: middle;\n",
       "    }\n",
       "\n",
       "    .dataframe tbody tr th {\n",
       "        vertical-align: top;\n",
       "    }\n",
       "\n",
       "    .dataframe thead th {\n",
       "        text-align: right;\n",
       "    }\n",
       "</style>\n",
       "<table border=\"1\" class=\"dataframe\">\n",
       "  <thead>\n",
       "    <tr style=\"text-align: right;\">\n",
       "      <th></th>\n",
       "      <th>이름</th>\n",
       "      <th>국어</th>\n",
       "      <th>수학</th>\n",
       "      <th>영어</th>\n",
       "    </tr>\n",
       "  </thead>\n",
       "  <tbody>\n",
       "    <tr>\n",
       "      <th>0</th>\n",
       "      <td>홍길동</td>\n",
       "      <td>80</td>\n",
       "      <td>70</td>\n",
       "      <td>80</td>\n",
       "    </tr>\n",
       "    <tr>\n",
       "      <th>1</th>\n",
       "      <td>박철수</td>\n",
       "      <td>60</td>\n",
       "      <td>70</td>\n",
       "      <td>80</td>\n",
       "    </tr>\n",
       "    <tr>\n",
       "      <th>2</th>\n",
       "      <td>김영희</td>\n",
       "      <td>70</td>\n",
       "      <td>90</td>\n",
       "      <td>80</td>\n",
       "    </tr>\n",
       "  </tbody>\n",
       "</table>\n",
       "</div>"
      ],
      "text/plain": [
       "    이름  국어  수학  영어\n",
       "0  홍길동  80  70  80\n",
       "1  박철수  60  70  80\n",
       "2  김영희  70  90  80"
      ]
     },
     "execution_count": 138,
     "metadata": {},
     "output_type": "execute_result"
    }
   ],
   "source": [
    "df"
   ]
  },
  {
   "cell_type": "code",
   "execution_count": 159,
   "metadata": {},
   "outputs": [
    {
     "data": {
      "text/html": [
       "<div>\n",
       "<style scoped>\n",
       "    .dataframe tbody tr th:only-of-type {\n",
       "        vertical-align: middle;\n",
       "    }\n",
       "\n",
       "    .dataframe tbody tr th {\n",
       "        vertical-align: top;\n",
       "    }\n",
       "\n",
       "    .dataframe thead th {\n",
       "        text-align: right;\n",
       "    }\n",
       "</style>\n",
       "<table border=\"1\" class=\"dataframe\">\n",
       "  <thead>\n",
       "    <tr style=\"text-align: right;\">\n",
       "      <th></th>\n",
       "      <th>이름</th>\n",
       "      <th>국어</th>\n",
       "      <th>수학</th>\n",
       "      <th>영어</th>\n",
       "    </tr>\n",
       "  </thead>\n",
       "  <tbody>\n",
       "    <tr>\n",
       "      <th>1</th>\n",
       "      <td>박철수</td>\n",
       "      <td>60</td>\n",
       "      <td>70</td>\n",
       "      <td>80</td>\n",
       "    </tr>\n",
       "    <tr>\n",
       "      <th>2</th>\n",
       "      <td>김영희</td>\n",
       "      <td>70</td>\n",
       "      <td>90</td>\n",
       "      <td>80</td>\n",
       "    </tr>\n",
       "  </tbody>\n",
       "</table>\n",
       "</div>"
      ],
      "text/plain": [
       "    이름  국어  수학  영어\n",
       "1  박철수  60  70  80\n",
       "2  김영희  70  90  80"
      ]
     },
     "execution_count": 159,
     "metadata": {},
     "output_type": "execute_result"
    }
   ],
   "source": [
    "#문제 2번 \n",
    "df.iloc[1:2]\n",
    "df.loc[1:2]"
   ]
  },
  {
   "cell_type": "code",
   "execution_count": 163,
   "metadata": {},
   "outputs": [
    {
     "name": "stdout",
     "output_type": "stream",
     "text": [
      "    이름  국어  수학  영어\n",
      "0  홍길동  80  70  80\n",
      "2  김영희  70  90  80\n"
     ]
    }
   ],
   "source": [
    "#문제 3번 \n",
    "#넘파이는 하나의 요소가 문자이면 나머지 요소들의 자료형도 모두 문자로 바꿔버리므로 \n",
    "#후에 요소 값 구분 어려움 ? \n",
    "print(df[df['국어'].astype(int)>=70])\n",
    "# df[df['국어'] >=70]"
   ]
  },
  {
   "cell_type": "code",
   "execution_count": 151,
   "metadata": {},
   "outputs": [
    {
     "name": "stdout",
     "output_type": "stream",
     "text": [
      "평균 float64\n"
     ]
    },
    {
     "data": {
      "text/html": [
       "<div>\n",
       "<style scoped>\n",
       "    .dataframe tbody tr th:only-of-type {\n",
       "        vertical-align: middle;\n",
       "    }\n",
       "\n",
       "    .dataframe tbody tr th {\n",
       "        vertical-align: top;\n",
       "    }\n",
       "\n",
       "    .dataframe thead th {\n",
       "        text-align: right;\n",
       "    }\n",
       "</style>\n",
       "<table border=\"1\" class=\"dataframe\">\n",
       "  <thead>\n",
       "    <tr style=\"text-align: right;\">\n",
       "      <th></th>\n",
       "      <th>이름</th>\n",
       "      <th>국어</th>\n",
       "      <th>수학</th>\n",
       "      <th>영어</th>\n",
       "      <th>평균</th>\n",
       "    </tr>\n",
       "  </thead>\n",
       "  <tbody>\n",
       "    <tr>\n",
       "      <th>0</th>\n",
       "      <td>홍길동</td>\n",
       "      <td>80</td>\n",
       "      <td>70</td>\n",
       "      <td>80</td>\n",
       "      <td>77.0</td>\n",
       "    </tr>\n",
       "    <tr>\n",
       "      <th>1</th>\n",
       "      <td>박철수</td>\n",
       "      <td>60</td>\n",
       "      <td>70</td>\n",
       "      <td>80</td>\n",
       "      <td>70.0</td>\n",
       "    </tr>\n",
       "    <tr>\n",
       "      <th>2</th>\n",
       "      <td>김영희</td>\n",
       "      <td>70</td>\n",
       "      <td>90</td>\n",
       "      <td>80</td>\n",
       "      <td>80.0</td>\n",
       "    </tr>\n",
       "  </tbody>\n",
       "</table>\n",
       "</div>"
      ],
      "text/plain": [
       "    이름  국어  수학  영어    평균\n",
       "0  홍길동  80  70  80  77.0\n",
       "1  박철수  60  70  80  70.0\n",
       "2  김영희  70  90  80  80.0"
      ]
     },
     "execution_count": 151,
     "metadata": {},
     "output_type": "execute_result"
    }
   ],
   "source": [
    "#문제 4번 \n",
    "df['평균'] = (df['국어']+df['수학']+df['영어'])/3\n",
    "print('평균',df['평균'].dtype)\n",
    "df.round()"
   ]
  },
  {
   "cell_type": "code",
   "execution_count": 155,
   "metadata": {},
   "outputs": [
    {
     "data": {
      "text/html": [
       "<div>\n",
       "<style scoped>\n",
       "    .dataframe tbody tr th:only-of-type {\n",
       "        vertical-align: middle;\n",
       "    }\n",
       "\n",
       "    .dataframe tbody tr th {\n",
       "        vertical-align: top;\n",
       "    }\n",
       "\n",
       "    .dataframe thead th {\n",
       "        text-align: right;\n",
       "    }\n",
       "</style>\n",
       "<table border=\"1\" class=\"dataframe\">\n",
       "  <thead>\n",
       "    <tr style=\"text-align: right;\">\n",
       "      <th></th>\n",
       "      <th>이름</th>\n",
       "      <th>국어</th>\n",
       "      <th>수학</th>\n",
       "      <th>영어</th>\n",
       "      <th>평균</th>\n",
       "    </tr>\n",
       "  </thead>\n",
       "  <tbody>\n",
       "    <tr>\n",
       "      <th>0</th>\n",
       "      <td>홍길동</td>\n",
       "      <td>80</td>\n",
       "      <td>70</td>\n",
       "      <td>80</td>\n",
       "      <td>76.666667</td>\n",
       "    </tr>\n",
       "    <tr>\n",
       "      <th>1</th>\n",
       "      <td>박철수</td>\n",
       "      <td>60</td>\n",
       "      <td>70</td>\n",
       "      <td>80</td>\n",
       "      <td>70.000000</td>\n",
       "    </tr>\n",
       "    <tr>\n",
       "      <th>2</th>\n",
       "      <td>김영희</td>\n",
       "      <td>70</td>\n",
       "      <td>90</td>\n",
       "      <td>80</td>\n",
       "      <td>80.000000</td>\n",
       "    </tr>\n",
       "    <tr>\n",
       "      <th>3</th>\n",
       "      <td>최자바</td>\n",
       "      <td>55</td>\n",
       "      <td>95</td>\n",
       "      <td>70</td>\n",
       "      <td>77.000000</td>\n",
       "    </tr>\n",
       "  </tbody>\n",
       "</table>\n",
       "</div>"
      ],
      "text/plain": [
       "    이름  국어  수학  영어         평균\n",
       "0  홍길동  80  70  80  76.666667\n",
       "1  박철수  60  70  80  70.000000\n",
       "2  김영희  70  90  80  80.000000\n",
       "3  최자바  55  95  70  77.000000"
      ]
     },
     "execution_count": 155,
     "metadata": {},
     "output_type": "execute_result"
    }
   ],
   "source": [
    "#문제 5번 \n",
    "df.loc[3] = ('최자바',55,95,70,77) \n",
    "df"
   ]
  },
  {
   "cell_type": "code",
   "execution_count": null,
   "metadata": {},
   "outputs": [],
   "source": []
  }
 ],
 "metadata": {
  "colab": {
   "authorship_tag": "ABX9TyOBjhOSffkhwBGhrtzlrpgu",
   "mount_file_id": "1n9J9Y3pEKpes4aFaLd8P1kDqZp_sGdrK",
   "provenance": []
  },
  "kernelspec": {
   "display_name": "Python 3 (ipykernel)",
   "language": "python",
   "name": "python3"
  },
  "language_info": {
   "codemirror_mode": {
    "name": "ipython",
    "version": 3
   },
   "file_extension": ".py",
   "mimetype": "text/x-python",
   "name": "python",
   "nbconvert_exporter": "python",
   "pygments_lexer": "ipython3",
   "version": "3.13.1"
  }
 },
 "nbformat": 4,
 "nbformat_minor": 4
}
