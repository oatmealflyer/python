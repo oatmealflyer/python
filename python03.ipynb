{
 "cells": [
  {
   "cell_type": "code",
   "execution_count": 10,
   "id": "bf5e0caa-452f-4450-a866-78a9d7610587",
   "metadata": {},
   "outputs": [
    {
     "name": "stdout",
     "output_type": "stream",
     "text": [
      "[1, 2, 3] 1901859878976\n",
      "[1, 2, 3] 1901859878976\n",
      "[1, 7, 3] 1901859878976\n",
      "[1, 7, 3] 1901859878976\n"
     ]
    }
   ],
   "source": [
    "a = [1,2,3]\n",
    "b = a \n",
    "print(a,id(a))\n",
    "print(b,id(b))\n",
    "\n",
    "b[1] = 7\n",
    "print(a,id(a))\n",
    "print(b,id(b))"
   ]
  },
  {
   "cell_type": "code",
   "execution_count": 11,
   "id": "3ba2ce7c-5f00-4847-b281-2e3b32ac03a8",
   "metadata": {},
   "outputs": [
    {
     "data": {
      "text/plain": [
       "True"
      ]
     },
     "execution_count": 11,
     "metadata": {},
     "output_type": "execute_result"
    }
   ],
   "source": [
    "#동일한 객체를 가리키고 있는지 \n",
    "a is b "
   ]
  },
  {
   "cell_type": "code",
   "execution_count": 17,
   "id": "daf62e68-a7ca-4d7b-b195-064898a999c2",
   "metadata": {},
   "outputs": [
    {
     "name": "stdout",
     "output_type": "stream",
     "text": [
      "[11, 22, 33] 1901860175296\n",
      "[11, 22, 33] 1901860167680\n",
      "[11, 22, 33] 1901860175296\n",
      "[11, 77, 33] 1901860167680\n"
     ]
    }
   ],
   "source": [
    "from copy import copy \n",
    "c = [11,22,33]\n",
    "# d = copy(c) #방식 1 \n",
    "d = c[:] #방식2 \n",
    "# d = c.copy() #방식3\n",
    "print(c,id(c))\n",
    "print(d,id(d))\n",
    "\n",
    "d[1]=77\n",
    "print(c,id(c))\n",
    "print(d,id(d))"
   ]
  },
  {
   "cell_type": "code",
   "execution_count": 7,
   "id": "30efa5cd-fb3d-41a4-b6f5-a0a3feccc8d2",
   "metadata": {},
   "outputs": [
    {
     "data": {
      "text/plain": [
       "False"
      ]
     },
     "execution_count": 7,
     "metadata": {},
     "output_type": "execute_result"
    }
   ],
   "source": [
    "c is d"
   ]
  },
  {
   "cell_type": "code",
   "execution_count": 22,
   "id": "cd795ce2-4091-4ffa-90cf-1164466f189d",
   "metadata": {},
   "outputs": [
    {
     "name": "stdout",
     "output_type": "stream",
     "text": [
      "파이썬 짱짱\n",
      "배고파 밥줘\n",
      "10 10 10\n"
     ]
    }
   ],
   "source": [
    "a, b = '파이썬' , '짱짱'\n",
    "c, d = ['배고파','밥줘']\n",
    "num1 = num2 = num3 = 10\n",
    "\n",
    "print(a,b)\n",
    "print(c,d)\n",
    "print(num1,num2,num3)"
   ]
  },
  {
   "cell_type": "code",
   "execution_count": 26,
   "id": "f1381a17-51a1-4a55-94d1-03bbaf4315be",
   "metadata": {},
   "outputs": [
    {
     "name": "stdout",
     "output_type": "stream",
     "text": [
      "3 7\n",
      "7 3\n"
     ]
    }
   ],
   "source": [
    "#파이썬 특징\n",
    "a = 3 \n",
    "b = 7\n",
    "print(a,b)\n",
    "a,b = b,a \n",
    "print(a,b)"
   ]
  },
  {
   "cell_type": "code",
   "execution_count": 25,
   "id": "6d77a08f-a76b-4b7a-97f1-9f4dcf5fcf56",
   "metadata": {
    "scrolled": true
   },
   "outputs": [
    {
     "name": "stdout",
     "output_type": "stream",
     "text": [
      "77 33\n"
     ]
    }
   ],
   "source": [
    "#전통적인 방식 \n",
    "a = 33\n",
    "b = 77 \n",
    "temp = a \n",
    "a=b\n",
    "b=temp \n",
    "print(a,b)"
   ]
  },
  {
   "cell_type": "code",
   "execution_count": 49,
   "id": "6134c1e3-1114-4802-8e40-4d5d6e51db49",
   "metadata": {},
   "outputs": [
    {
     "data": {
      "text/plain": [
       "{'H', 'e', 'l', 'o'}"
      ]
     },
     "execution_count": 49,
     "metadata": {},
     "output_type": "execute_result"
    }
   ],
   "source": [
    "#집합 자료형은 \n",
    "#중복을 허용하지 않음 \n",
    "#순서가 없음 (리스트나 튜플은 순서가 있지만 , 집합형은 딕셔너리와 같이 순서가 없음) \n",
    "s1 = set([1,2,3])\n",
    "s1\n",
    "\n",
    "s2 = set(\"Hello\")\n",
    "s2"
   ]
  },
  {
   "cell_type": "code",
   "execution_count": 55,
   "id": "66cea814-0391-4036-b63a-3bc959c2a569",
   "metadata": {},
   "outputs": [
    {
     "data": {
      "text/plain": [
       "1"
      ]
     },
     "execution_count": 55,
     "metadata": {},
     "output_type": "execute_result"
    }
   ],
   "source": [
    "#set자료형에 저장된 값을 인덱싱으로 접근하려면 \n",
    "#리스트나 튜플로 변환한 후 접근 \n",
    "s1 = set([1,2,3])\n",
    "l1 = list(s1)\n",
    "l1[2]\n",
    "\n",
    "t1 = tuple(s1)\n",
    "t1[0]"
   ]
  },
  {
   "cell_type": "code",
   "execution_count": 58,
   "id": "e2a3b795-d239-4f76-a6c2-d9fdd1260f7b",
   "metadata": {},
   "outputs": [
    {
     "data": {
      "text/plain": [
       "{1, 2, 3, 4, 5, 6, 7, 8, 9}"
      ]
     },
     "execution_count": 58,
     "metadata": {},
     "output_type": "execute_result"
    }
   ],
   "source": [
    "s1 = set([1,2,3,4,5,6])\n",
    "s2 = set([4,5,6,7,8,9])\n",
    "\n",
    "s1& s2\n",
    "s1 | s2"
   ]
  },
  {
   "cell_type": "code",
   "execution_count": null,
   "id": "f91276c6-89c7-40dc-a6bf-2c7cfb573e6a",
   "metadata": {},
   "outputs": [],
   "source": []
  },
  {
   "cell_type": "markdown",
   "id": "b55d8f12-1201-43e2-a0d9-3721efa35def",
   "metadata": {},
   "source": [
    "# 제어문"
   ]
  },
  {
   "cell_type": "markdown",
   "id": "71527e15-97aa-4d75-b072-ea3ece453d74",
   "metadata": {},
   "source": [
    "## if문"
   ]
  },
  {
   "cell_type": "code",
   "execution_count": 66,
   "id": "9b948cde-5083-4138-8e0e-1df14e97ef22",
   "metadata": {},
   "outputs": [
    {
     "name": "stdout",
     "output_type": "stream",
     "text": [
      "항상 동작합니다!\n",
      "5가 큽니다\n"
     ]
    }
   ],
   "source": [
    "if True:\n",
    "    print(\"항상 동작합니다!\") \n",
    "if False:\n",
    "    print(\"이건 동작할까요?\")\n",
    "if 3:\n",
    "    print(\"5가 큽니다\")\n",
    "if 4>10:\n",
    "    print(\"나올까요?\")"
   ]
  },
  {
   "cell_type": "code",
   "execution_count": 9,
   "id": "679afcde-1a75-40d1-9375-9462c91f3c66",
   "metadata": {},
   "outputs": [
    {
     "name": "stdout",
     "output_type": "stream",
     "text": [
      "가라\n"
     ]
    }
   ],
   "source": [
    "if False : \n",
    "    print(\"택시를\")\n",
    "    print(\"타고\")\n",
    "print(\"가라\")"
   ]
  },
  {
   "cell_type": "code",
   "execution_count": 13,
   "id": "442e8d35-e648-4930-90a4-86cb694ff913",
   "metadata": {},
   "outputs": [
    {
     "name": "stdin",
     "output_type": "stream",
     "text": [
      "얼마 가지고 있습니까? 5000\n"
     ]
    },
    {
     "name": "stdout",
     "output_type": "stream",
     "text": [
      "택시 타고 가세요\n"
     ]
    }
   ],
   "source": [
    "mymoney = int(input('얼마 가지고 있습니까?'))\n",
    "if mymoney >=3000:\n",
    "    print('택시 타고 가세요')\n",
    "# if mymoney < 3000:\n",
    "else:\n",
    "    print('걸어가세요')"
   ]
  },
  {
   "cell_type": "code",
   "execution_count": null,
   "id": "0a57e395-a712-4fb0-bc54-f1bc95b164ec",
   "metadata": {},
   "outputs": [],
   "source": [
    "# and , or , not "
   ]
  },
  {
   "cell_type": "code",
   "execution_count": 16,
   "id": "746d4d28-8258-4729-b1d0-ceec05b85a20",
   "metadata": {},
   "outputs": [
    {
     "name": "stdout",
     "output_type": "stream",
     "text": [
      "=======and 연산========\n",
      "True\n",
      "False\n",
      "False\n",
      "False\n",
      "=======or 연산========\n",
      "True\n",
      "True\n",
      "True\n",
      "False\n",
      "=======not 연산========\n",
      "True\n",
      "False\n",
      "True\n"
     ]
    }
   ],
   "source": [
    "print(\"=======and 연산========\")\n",
    "print(True and True)\n",
    "print(True and False)\n",
    "print(False and True)\n",
    "print(False and False)\n",
    "\n",
    "print(\"=======or 연산========\")\n",
    "print(True or True)\n",
    "print(True or False)\n",
    "print(False or True)\n",
    "print(False or False)\n",
    "\n",
    "print(\"=======not 연산========\")\n",
    "print(True)\n",
    "print(not True)\n",
    "print(not False)"
   ]
  },
  {
   "cell_type": "code",
   "execution_count": 27,
   "id": "7fed58e0-ce08-4664-b4bb-71937a80d387",
   "metadata": {},
   "outputs": [
    {
     "name": "stdout",
     "output_type": "stream",
     "text": [
      "그래요...\n"
     ]
    }
   ],
   "source": [
    "이상형 = True\n",
    "똑똑 = False\n",
    "if 이상형 and 똑똑 : \n",
    "    print(\"만납시다\")\n",
    "else:\n",
    "    print(\"그래요...\")"
   ]
  },
  {
   "cell_type": "code",
   "execution_count": 26,
   "id": "f54e1396-afff-4d96-bfa2-0431de6022b5",
   "metadata": {},
   "outputs": [
    {
     "name": "stdout",
     "output_type": "stream",
     "text": [
      "만납시다\n"
     ]
    }
   ],
   "source": [
    "이상형 = False\n",
    "다정 = True\n",
    "if 이상형 or 다정 : \n",
    "    print(\"만납시다\")\n",
    "else:\n",
    "    print(\"그렇군요 ...\")"
   ]
  },
  {
   "cell_type": "code",
   "execution_count": 28,
   "id": "183fae0a-9ab9-4b65-8365-780652a289f3",
   "metadata": {},
   "outputs": [
    {
     "name": "stdout",
     "output_type": "stream",
     "text": [
      "만나요\n"
     ]
    }
   ],
   "source": [
    "주사 = False \n",
    "if not 주사 :\n",
    "    print (\"만나요\")\n",
    "else : \n",
    "    print(\"잘가요\")"
   ]
  },
  {
   "cell_type": "code",
   "execution_count": 31,
   "id": "de071dbf-d780-4c96-b6e5-c0cc5853bf83",
   "metadata": {},
   "outputs": [
    {
     "name": "stdout",
     "output_type": "stream",
     "text": [
      "택시를 타고 가라 \n"
     ]
    }
   ],
   "source": [
    "money = 2000\n",
    "card = True \n",
    "\n",
    "if money >= 3000 or card :\n",
    "    print(\"택시를 타고 가라 \")\n",
    "else:\n",
    "    print(\"걸어가라\")"
   ]
  },
  {
   "cell_type": "code",
   "execution_count": 39,
   "id": "ca36b4e8-743c-433d-ad65-f0cef27e0a66",
   "metadata": {},
   "outputs": [
    {
     "name": "stdout",
     "output_type": "stream",
     "text": [
      "택시를 타고 가라\n"
     ]
    }
   ],
   "source": [
    "pocket = ['paper','cellphone','money']\n",
    "if 'money' in pocket :\n",
    "    print('택시를 타고 가라')\n",
    "else : \n",
    "    print('걸어가라')"
   ]
  },
  {
   "cell_type": "code",
   "execution_count": 1,
   "id": "00eb1def-66f3-4f76-ab51-0997750e0434",
   "metadata": {},
   "outputs": [
    {
     "name": "stdout",
     "output_type": "stream",
     "text": [
      "버스를 타고 가세요\n"
     ]
    }
   ],
   "source": [
    "pocket = ['money','paper','card']\n",
    "if 'card' not in pocket :\n",
    "    print('걸어가세요')\n",
    "if 'card' in pocket :\n",
    "    print('버스를 타고 가세요')"
   ]
  },
  {
   "cell_type": "code",
   "execution_count": 4,
   "id": "e8789037-cef9-415e-b7dc-e0a951f9b7d7",
   "metadata": {},
   "outputs": [],
   "source": [
    "#주머니에 돈이 있으면 가만히 있고, 주머니에 돈이 없으면 카드를 꺼내라\n",
    "pocket = ['paper','money','cellphone']\n",
    "if 'money' in pocket : \n",
    "    pass \n",
    "else :\n",
    "    print('카드를 꺼내라')"
   ]
  },
  {
   "cell_type": "code",
   "execution_count": 3,
   "id": "468d9ef4-411a-4910-b4fa-ae94447f1535",
   "metadata": {},
   "outputs": [
    {
     "name": "stdout",
     "output_type": "stream",
     "text": [
      "A 회사 불합격입니다\n",
      "B 회사 합격입니다\n",
      "C 회사 합격입니다\n"
     ]
    }
   ],
   "source": [
    "me = 'Python'\n",
    "compA = ['JAVA','HTML','Javascript','C','MySQL']\n",
    "compB = ['JAVA','Python','Javascript','C','MySQL']\n",
    "compC = ['JAVA','Python','HTML','MySQL']\n",
    "\n",
    "if me in compA :\n",
    "    print('A 회사 합격입니다')\n",
    "else:\n",
    "    print('A 회사 불합격입니다')\n",
    "\n",
    "if me in compB :\n",
    "    print('B 회사 합격입니다')\n",
    "else:\n",
    "    print('B 회사 불합격입니다')\n",
    "    \n",
    "if me in compC :\n",
    "    print('C 회사 합격입니다')\n",
    "else:\n",
    "    print('C 회사 불합격입니다')"
   ]
  },
  {
   "cell_type": "code",
   "execution_count": 44,
   "id": "073cafaa-497d-4716-a89c-399640bdc757",
   "metadata": {},
   "outputs": [
    {
     "name": "stdin",
     "output_type": "stream",
     "text": [
      "점수를 입력하세요 55\n"
     ]
    },
    {
     "name": "stdout",
     "output_type": "stream",
     "text": [
      "F학점입니다\n"
     ]
    }
   ],
   "source": [
    "# if,elif 사용하여 다음을 구성하세요 \n",
    "\n",
    "sc = int(input('점수를 입력하세요'))\n",
    "if sc >=90 :\n",
    "    print('A학점입니다')\n",
    "elif sc >= 80 : \n",
    "    print ('B학점입니다')\n",
    "elif sc >= 70:\n",
    "    print('C학점입니다')\n",
    "elif sc >= 60:\n",
    "    print('D학점입니다')\n",
    "else :\n",
    "    print('F학점입니다')\n"
   ]
  },
  {
   "cell_type": "code",
   "execution_count": 58,
   "id": "090548d7-4014-4479-a644-edb6dbe51ccf",
   "metadata": {},
   "outputs": [
    {
     "name": "stdin",
     "output_type": "stream",
     "text": [
      "점수를 입력하세요 \n"
     ]
    },
    {
     "name": "stdout",
     "output_type": "stream",
     "text": [
      "F학점입니다\n"
     ]
    }
   ],
   "source": [
    "#방법1 if만 사용 \n",
    "#or는 input 미기입시 기본 37점으로 \n",
    "점수 = int(input('점수를 입력하세요') or 37) \n",
    "grade = 'F'\n",
    "if 90 <= 점수 :\n",
    "    grade = 'A'\n",
    "if 80 <= 점수 and 점수 < 90:\n",
    "    grade = 'B'\n",
    "if 70 <= 점수 and 점수 < 80:\n",
    "    grade = 'C'\n",
    "if 60 <= 점수 and 점수 < 70:\n",
    "    grade = 'D'\n",
    "if 50 <= 점수 and 점수 < 60:\n",
    "    grade = 'E'\n",
    "print(f\"{grade}학점입니다\")"
   ]
  },
  {
   "cell_type": "code",
   "execution_count": 56,
   "id": "e19ccc49-e9fc-4612-9138-f75a31d8abc9",
   "metadata": {},
   "outputs": [
    {
     "name": "stdin",
     "output_type": "stream",
     "text": [
      "점수를 입력하세요 98\n"
     ]
    },
    {
     "name": "stdout",
     "output_type": "stream",
     "text": [
      "A학점입니다\n"
     ]
    }
   ],
   "source": [
    "#방법 2 if,elif,else 사용 \n",
    "#주의사항 ) elif는 만족하면 거기서 멈춰버림 \n",
    "score = int(input('점수를 입력하세요'))\n",
    "if 90 <=score :\n",
    "    grade = 'A' \n",
    "elif 80 <= score :\n",
    "    grade = 'B' \n",
    "elif 70 <= score :\n",
    "    grade = 'C'\n",
    "elif 60 <= score :\n",
    "    grade = 'D'\n",
    "elif 50 <= score :\n",
    "    grade = 'E'\n",
    "else :\n",
    "    grade ='F'    \n",
    "\n",
    "print(f\"{grade}학점입니다\")"
   ]
  },
  {
   "cell_type": "code",
   "execution_count": 9,
   "id": "7968db39-7601-47bd-bd1f-490714e1a31d",
   "metadata": {},
   "outputs": [
    {
     "name": "stdin",
     "output_type": "stream",
     "text": [
      "온도를 입력하세요 \n"
     ]
    },
    {
     "name": "stdout",
     "output_type": "stream",
     "text": [
      "온도 0도 이므로 계절은 겨울 입니다\n"
     ]
    }
   ],
   "source": [
    "temp = int(input('온도를 입력하세요') or 0 )  \n",
    "if temp > 25 :\n",
    "    weather = '여름'\n",
    "elif temp >=15 : \n",
    "    weather = '봄'\n",
    "elif temp >=10 :\n",
    "    weather = '가을'\n",
    "else: \n",
    "    weather ='겨울'\n",
    "print(f'온도 {temp}도 이므로 계절은 {weather} 입니다')    "
   ]
  },
  {
   "cell_type": "markdown",
   "id": "14940861-b211-4f51-9302-492ecf07c334",
   "metadata": {},
   "source": [
    "## while문"
   ]
  },
  {
   "cell_type": "code",
   "execution_count": 3,
   "id": "b72c58c5-8bef-437c-99a9-376b2dd4c318",
   "metadata": {},
   "outputs": [
    {
     "name": "stdout",
     "output_type": "stream",
     "text": [
      "10 자...나화났어!\n",
      "9 자...나화났어!\n",
      "8 자...나화났어!\n",
      "7 자...나화났어!\n",
      "6 자...나화났어!\n",
      "5 자...나화났어!\n",
      "4 자...나화났어!\n",
      "3 자...나화났어!\n",
      "2 자...나화났어!\n",
      "1 자...나화났어!\n"
     ]
    }
   ],
   "source": [
    "num = 10 \n",
    "while num:\n",
    "    print(num,\"자...나화났어!\")\n",
    "    num-=1\n",
    "# 어떻게 실행결과에 0이 나오지?    "
   ]
  },
  {
   "cell_type": "code",
   "execution_count": 5,
   "id": "9d971f77-e042-4f4f-baa0-5b4704ad0b90",
   "metadata": {},
   "outputs": [
    {
     "name": "stdout",
     "output_type": "stream",
     "text": [
      "나무를 1번 찍었습니다\n",
      "나무를 2번 찍었습니다\n",
      "나무를 3번 찍었습니다\n",
      "나무를 4번 찍었습니다\n",
      "나무를 5번 찍었습니다\n",
      "나무를 6번 찍었습니다\n",
      "나무를 7번 찍었습니다\n",
      "나무를 8번 찍었습니다\n",
      "나무를 9번 찍었습니다\n",
      "나무를 10번 찍었습니다\n",
      "나무 넘어갑니다\n"
     ]
    }
   ],
   "source": [
    "treeHit = 0 \n",
    "while treeHit < 10 :\n",
    "    treeHit = treeHit +1 \n",
    "    print(f\"나무를 {treeHit}번 찍었습니다\")\n",
    "    if treeHit == 10 :\n",
    "        print('나무 넘어갑니다')"
   ]
  },
  {
   "cell_type": "code",
   "execution_count": 8,
   "id": "4ecee120-a94e-4845-98c1-9744f6bca95b",
   "metadata": {},
   "outputs": [
    {
     "name": "stdout",
     "output_type": "stream",
     "text": [
      "나무를 1번 찍었습니다\n",
      "나무를 2번 찍었습니다\n",
      "나무를 3번 찍었습니다\n",
      "나무를 4번 찍었습니다\n",
      "나무를 5번 찍었습니다\n",
      "나무를 6번 찍었습니다\n",
      "나무를 7번 찍었습니다\n",
      "나무를 8번 찍었습니다\n",
      "나무를 9번 찍었습니다\n",
      "나무를 10번 찍었습니다\n",
      "나무 넘어갑니다\n"
     ]
    }
   ],
   "source": [
    "namu = 10 \n",
    "while namu : \n",
    "    namu -= 1 \n",
    "    print(f'나무를 {10 - namu}번 찍었습니다')\n",
    "    if namu == 0 :\n",
    "        print('나무 넘어갑니다')"
   ]
  },
  {
   "cell_type": "code",
   "execution_count": 1,
   "id": "f5941741-076e-49ad-9409-1dd5994a14b0",
   "metadata": {},
   "outputs": [
    {
     "name": "stdout",
     "output_type": "stream",
     "text": [
      "시스템이 종료 되었습니다\n"
     ]
    }
   ],
   "source": [
    "from IPython.display import clear_output\n",
    "print(\"선택 해주세요\")\n",
    "prompt = \"\"\" \n",
    "    1.Add\n",
    "    2.Del \n",
    "    3.List \n",
    "    4.Quit\n",
    "\"\"\"\n",
    "number = 0 \n",
    "while number != 4 :\n",
    "    print(prompt,)\n",
    "    number = int(input())\n",
    "    clear_output(wait=True) #이전 질문 지우기\n",
    "print(\"시스템이 종료 되었습니다\")    "
   ]
  },
  {
   "cell_type": "code",
   "execution_count": 2,
   "id": "c5057fe0-73fb-4d84-bb08-c1f07faf4c60",
   "metadata": {},
   "outputs": [
    {
     "name": "stdout",
     "output_type": "stream",
     "text": [
      "택시를 타고 가라\n"
     ]
    }
   ],
   "source": [
    "money = True \n",
    "if money :\n",
    "    print(\"택시를 타고 가라\")\n",
    "else : \n",
    "    print(\"걸어가라\")"
   ]
  },
  {
   "cell_type": "code",
   "execution_count": null,
   "id": "d00410f8-fce6-4f82-aa17-134df8d6d6f9",
   "metadata": {},
   "outputs": [],
   "source": []
  }
 ],
 "metadata": {
  "kernelspec": {
   "display_name": "Python 3 (ipykernel)",
   "language": "python",
   "name": "python3"
  },
  "language_info": {
   "codemirror_mode": {
    "name": "ipython",
    "version": 3
   },
   "file_extension": ".py",
   "mimetype": "text/x-python",
   "name": "python",
   "nbconvert_exporter": "python",
   "pygments_lexer": "ipython3",
   "version": "3.13.1"
  }
 },
 "nbformat": 4,
 "nbformat_minor": 5
}
