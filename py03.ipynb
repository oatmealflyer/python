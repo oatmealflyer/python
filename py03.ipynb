{
 "cells": [
  {
   "cell_type": "code",
   "execution_count": 10,
   "id": "bf5e0caa-452f-4450-a866-78a9d7610587",
   "metadata": {},
   "outputs": [
    {
     "name": "stdout",
     "output_type": "stream",
     "text": [
      "[1, 2, 3] 1901859878976\n",
      "[1, 2, 3] 1901859878976\n",
      "[1, 7, 3] 1901859878976\n",
      "[1, 7, 3] 1901859878976\n"
     ]
    }
   ],
   "source": [
    "a = [1,2,3]\n",
    "b = a \n",
    "print(a,id(a))\n",
    "print(b,id(b))\n",
    "\n",
    "b[1] = 7\n",
    "print(a,id(a))\n",
    "print(b,id(b))"
   ]
  },
  {
   "cell_type": "code",
   "execution_count": 11,
   "id": "3ba2ce7c-5f00-4847-b281-2e3b32ac03a8",
   "metadata": {},
   "outputs": [
    {
     "data": {
      "text/plain": [
       "True"
      ]
     },
     "execution_count": 11,
     "metadata": {},
     "output_type": "execute_result"
    }
   ],
   "source": [
    "#동일한 객체를 가리키고 있는지 \n",
    "a is b "
   ]
  },
  {
   "cell_type": "code",
   "execution_count": 17,
   "id": "daf62e68-a7ca-4d7b-b195-064898a999c2",
   "metadata": {},
   "outputs": [
    {
     "name": "stdout",
     "output_type": "stream",
     "text": [
      "[11, 22, 33] 1901860175296\n",
      "[11, 22, 33] 1901860167680\n",
      "[11, 22, 33] 1901860175296\n",
      "[11, 77, 33] 1901860167680\n"
     ]
    }
   ],
   "source": [
    "from copy import copy \n",
    "c = [11,22,33]\n",
    "# d = copy(c) #방식 1 \n",
    "d = c[:] #방식2 \n",
    "# d = c.copy() #방식3\n",
    "print(c,id(c))\n",
    "print(d,id(d))\n",
    "\n",
    "d[1]=77\n",
    "print(c,id(c))\n",
    "print(d,id(d))"
   ]
  },
  {
   "cell_type": "code",
   "execution_count": 7,
   "id": "30efa5cd-fb3d-41a4-b6f5-a0a3feccc8d2",
   "metadata": {},
   "outputs": [
    {
     "data": {
      "text/plain": [
       "False"
      ]
     },
     "execution_count": 7,
     "metadata": {},
     "output_type": "execute_result"
    }
   ],
   "source": [
    "c is d"
   ]
  },
  {
   "cell_type": "code",
   "execution_count": 22,
   "id": "cd795ce2-4091-4ffa-90cf-1164466f189d",
   "metadata": {},
   "outputs": [
    {
     "name": "stdout",
     "output_type": "stream",
     "text": [
      "파이썬 짱짱\n",
      "배고파 밥줘\n",
      "10 10 10\n"
     ]
    }
   ],
   "source": [
    "a, b = '파이썬' , '짱짱'\n",
    "c, d = ['배고파','밥줘']\n",
    "num1 = num2 = num3 = 10\n",
    "\n",
    "print(a,b)\n",
    "print(c,d)\n",
    "print(num1,num2,num3)"
   ]
  },
  {
   "cell_type": "code",
   "execution_count": 26,
   "id": "f1381a17-51a1-4a55-94d1-03bbaf4315be",
   "metadata": {},
   "outputs": [
    {
     "name": "stdout",
     "output_type": "stream",
     "text": [
      "3 7\n",
      "7 3\n"
     ]
    }
   ],
   "source": [
    "#파이썬 특징\n",
    "a = 3 \n",
    "b = 7\n",
    "print(a,b)\n",
    "a,b = b,a \n",
    "print(a,b)"
   ]
  },
  {
   "cell_type": "code",
   "execution_count": 25,
   "id": "6d77a08f-a76b-4b7a-97f1-9f4dcf5fcf56",
   "metadata": {
    "scrolled": true
   },
   "outputs": [
    {
     "name": "stdout",
     "output_type": "stream",
     "text": [
      "77 33\n"
     ]
    }
   ],
   "source": [
    "#전통적인 방식 \n",
    "a = 33\n",
    "b = 77 \n",
    "temp = a \n",
    "a=b\n",
    "b=temp \n",
    "print(a,b)"
   ]
  },
  {
   "cell_type": "code",
   "execution_count": 49,
   "id": "6134c1e3-1114-4802-8e40-4d5d6e51db49",
   "metadata": {},
   "outputs": [
    {
     "data": {
      "text/plain": [
       "{'H', 'e', 'l', 'o'}"
      ]
     },
     "execution_count": 49,
     "metadata": {},
     "output_type": "execute_result"
    }
   ],
   "source": [
    "#집합 자료형은 \n",
    "#중복을 허용하지 않음 \n",
    "#순서가 없음 (리스트나 튜플은 순서가 있지만 , 집합형은 딕셔너리와 같이 순서가 없음) \n",
    "s1 = set([1,2,3])\n",
    "s1\n",
    "\n",
    "s2 = set(\"Hello\")\n",
    "s2"
   ]
  },
  {
   "cell_type": "code",
   "execution_count": 55,
   "id": "66cea814-0391-4036-b63a-3bc959c2a569",
   "metadata": {},
   "outputs": [
    {
     "data": {
      "text/plain": [
       "1"
      ]
     },
     "execution_count": 55,
     "metadata": {},
     "output_type": "execute_result"
    }
   ],
   "source": [
    "#set자료형에 저장된 값을 인덱싱으로 접근하려면 \n",
    "#리스트나 튜플로 변환한 후 접근 \n",
    "s1 = set([1,2,3])\n",
    "l1 = list(s1)\n",
    "l1[2]\n",
    "\n",
    "t1 = tuple(s1)\n",
    "t1[0]"
   ]
  },
  {
   "cell_type": "code",
   "execution_count": 58,
   "id": "e2a3b795-d239-4f76-a6c2-d9fdd1260f7b",
   "metadata": {},
   "outputs": [
    {
     "data": {
      "text/plain": [
       "{1, 2, 3, 4, 5, 6, 7, 8, 9}"
      ]
     },
     "execution_count": 58,
     "metadata": {},
     "output_type": "execute_result"
    }
   ],
   "source": [
    "s1 = set([1,2,3,4,5,6])\n",
    "s2 = set([4,5,6,7,8,9])\n",
    "\n",
    "s1& s2\n",
    "s1 | s2"
   ]
  },
  {
   "cell_type": "code",
   "execution_count": null,
   "id": "f91276c6-89c7-40dc-a6bf-2c7cfb573e6a",
   "metadata": {},
   "outputs": [],
   "source": []
  },
  {
   "cell_type": "markdown",
   "id": "b55d8f12-1201-43e2-a0d9-3721efa35def",
   "metadata": {},
   "source": [
    "# 제어문"
   ]
  },
  {
   "cell_type": "markdown",
   "id": "71527e15-97aa-4d75-b072-ea3ece453d74",
   "metadata": {},
   "source": [
    "## if문"
   ]
  },
  {
   "cell_type": "code",
   "execution_count": 66,
   "id": "9b948cde-5083-4138-8e0e-1df14e97ef22",
   "metadata": {},
   "outputs": [
    {
     "name": "stdout",
     "output_type": "stream",
     "text": [
      "항상 동작합니다!\n",
      "5가 큽니다\n"
     ]
    }
   ],
   "source": [
    "if True:\n",
    "    print(\"항상 동작합니다!\") \n",
    "if False:\n",
    "    print(\"이건 동작할까요?\")\n",
    "if 3:\n",
    "    print(\"5가 큽니다\")\n",
    "if 4>10:\n",
    "    print(\"나올까요?\")"
   ]
  },
  {
   "cell_type": "code",
   "execution_count": 9,
   "id": "679afcde-1a75-40d1-9375-9462c91f3c66",
   "metadata": {},
   "outputs": [
    {
     "name": "stdout",
     "output_type": "stream",
     "text": [
      "가라\n"
     ]
    }
   ],
   "source": [
    "if False : \n",
    "    print(\"택시를\")\n",
    "    print(\"타고\")\n",
    "print(\"가라\")"
   ]
  },
  {
   "cell_type": "code",
   "execution_count": 13,
   "id": "442e8d35-e648-4930-90a4-86cb694ff913",
   "metadata": {},
   "outputs": [
    {
     "name": "stdin",
     "output_type": "stream",
     "text": [
      "얼마 가지고 있습니까? 5000\n"
     ]
    },
    {
     "name": "stdout",
     "output_type": "stream",
     "text": [
      "택시 타고 가세요\n"
     ]
    }
   ],
   "source": [
    "mymoney = int(input('얼마 가지고 있습니까?'))\n",
    "if mymoney >=3000:\n",
    "    print('택시 타고 가세요')\n",
    "# if mymoney < 3000:\n",
    "else:\n",
    "    print('걸어가세요')"
   ]
  },
  {
   "cell_type": "code",
   "execution_count": null,
   "id": "0a57e395-a712-4fb0-bc54-f1bc95b164ec",
   "metadata": {},
   "outputs": [],
   "source": [
    "# and , or , not "
   ]
  },
  {
   "cell_type": "code",
   "execution_count": 16,
   "id": "746d4d28-8258-4729-b1d0-ceec05b85a20",
   "metadata": {},
   "outputs": [
    {
     "name": "stdout",
     "output_type": "stream",
     "text": [
      "=======and 연산========\n",
      "True\n",
      "False\n",
      "False\n",
      "False\n",
      "=======or 연산========\n",
      "True\n",
      "True\n",
      "True\n",
      "False\n",
      "=======not 연산========\n",
      "True\n",
      "False\n",
      "True\n"
     ]
    }
   ],
   "source": [
    "print(\"=======and 연산========\")\n",
    "print(True and True)\n",
    "print(True and False)\n",
    "print(False and True)\n",
    "print(False and False)\n",
    "\n",
    "print(\"=======or 연산========\")\n",
    "print(True or True)\n",
    "print(True or False)\n",
    "print(False or True)\n",
    "print(False or False)\n",
    "\n",
    "print(\"=======not 연산========\")\n",
    "print(True)\n",
    "print(not True)\n",
    "print(not False)"
   ]
  },
  {
   "cell_type": "code",
   "execution_count": 27,
   "id": "7fed58e0-ce08-4664-b4bb-71937a80d387",
   "metadata": {},
   "outputs": [
    {
     "name": "stdout",
     "output_type": "stream",
     "text": [
      "그래요...\n"
     ]
    }
   ],
   "source": [
    "이상형 = True\n",
    "똑똑 = False\n",
    "if 이상형 and 똑똑 : \n",
    "    print(\"만납시다\")\n",
    "else:\n",
    "    print(\"그래요...\")"
   ]
  },
  {
   "cell_type": "code",
   "execution_count": 26,
   "id": "f54e1396-afff-4d96-bfa2-0431de6022b5",
   "metadata": {},
   "outputs": [
    {
     "name": "stdout",
     "output_type": "stream",
     "text": [
      "만납시다\n"
     ]
    }
   ],
   "source": [
    "이상형 = False\n",
    "다정 = True\n",
    "if 이상형 or 다정 : \n",
    "    print(\"만납시다\")\n",
    "else:\n",
    "    print(\"그렇군요 ...\")"
   ]
  },
  {
   "cell_type": "code",
   "execution_count": 28,
   "id": "183fae0a-9ab9-4b65-8365-780652a289f3",
   "metadata": {},
   "outputs": [
    {
     "name": "stdout",
     "output_type": "stream",
     "text": [
      "만나요\n"
     ]
    }
   ],
   "source": [
    "주사 = False \n",
    "if not 주사 :\n",
    "    print (\"만나요\")\n",
    "else : \n",
    "    print(\"잘가요\")"
   ]
  },
  {
   "cell_type": "code",
   "execution_count": 31,
   "id": "de071dbf-d780-4c96-b6e5-c0cc5853bf83",
   "metadata": {},
   "outputs": [
    {
     "name": "stdout",
     "output_type": "stream",
     "text": [
      "택시를 타고 가라 \n"
     ]
    }
   ],
   "source": [
    "money = 2000\n",
    "card = True \n",
    "\n",
    "if money >= 3000 or card :\n",
    "    print(\"택시를 타고 가라 \")\n",
    "else:\n",
    "    print(\"걸어가라\")"
   ]
  },
  {
   "cell_type": "code",
   "execution_count": 39,
   "id": "ca36b4e8-743c-433d-ad65-f0cef27e0a66",
   "metadata": {},
   "outputs": [
    {
     "name": "stdout",
     "output_type": "stream",
     "text": [
      "택시를 타고 가라\n"
     ]
    }
   ],
   "source": [
    "pocket = ['paper','cellphone','money']\n",
    "if 'money' in pocket :\n",
    "    print('택시를 타고 가라')\n",
    "else : \n",
    "    print('걸어가라')"
   ]
  },
  {
   "cell_type": "code",
   "execution_count": 1,
   "id": "00eb1def-66f3-4f76-ab51-0997750e0434",
   "metadata": {},
   "outputs": [
    {
     "name": "stdout",
     "output_type": "stream",
     "text": [
      "버스를 타고 가세요\n"
     ]
    }
   ],
   "source": [
    "pocket = ['money','paper','card']\n",
    "if 'card' not in pocket :\n",
    "    print('걸어가세요')\n",
    "if 'card' in pocket :\n",
    "    print('버스를 타고 가세요')"
   ]
  },
  {
   "cell_type": "code",
   "execution_count": 4,
   "id": "e8789037-cef9-415e-b7dc-e0a951f9b7d7",
   "metadata": {},
   "outputs": [],
   "source": [
    "#주머니에 돈이 있으면 가만히 있고, 주머니에 돈이 없으면 카드를 꺼내라\n",
    "pocket = ['paper','money','cellphone']\n",
    "if 'money' in pocket : \n",
    "    pass \n",
    "else :\n",
    "    print('카드를 꺼내라')"
   ]
  },
  {
   "cell_type": "code",
   "execution_count": 3,
   "id": "468d9ef4-411a-4910-b4fa-ae94447f1535",
   "metadata": {},
   "outputs": [
    {
     "name": "stdout",
     "output_type": "stream",
     "text": [
      "A 회사 불합격입니다\n",
      "B 회사 합격입니다\n",
      "C 회사 합격입니다\n"
     ]
    }
   ],
   "source": [
    "me = 'Python'\n",
    "compA = ['JAVA','HTML','Javascript','C','MySQL']\n",
    "compB = ['JAVA','Python','Javascript','C','MySQL']\n",
    "compC = ['JAVA','Python','HTML','MySQL']\n",
    "\n",
    "if me in compA :\n",
    "    print('A 회사 합격입니다')\n",
    "else:\n",
    "    print('A 회사 불합격입니다')\n",
    "\n",
    "if me in compB :\n",
    "    print('B 회사 합격입니다')\n",
    "else:\n",
    "    print('B 회사 불합격입니다')\n",
    "    \n",
    "if me in compC :\n",
    "    print('C 회사 합격입니다')\n",
    "else:\n",
    "    print('C 회사 불합격입니다')"
   ]
  },
  {
   "cell_type": "code",
   "execution_count": 44,
   "id": "073cafaa-497d-4716-a89c-399640bdc757",
   "metadata": {},
   "outputs": [
    {
     "name": "stdin",
     "output_type": "stream",
     "text": [
      "점수를 입력하세요 55\n"
     ]
    },
    {
     "name": "stdout",
     "output_type": "stream",
     "text": [
      "F학점입니다\n"
     ]
    }
   ],
   "source": [
    "# if,elif 사용하여 다음을 구성하세요 \n",
    "\n",
    "sc = int(input('점수를 입력하세요'))\n",
    "if sc >=90 :\n",
    "    print('A학점입니다')\n",
    "elif sc >= 80 : \n",
    "    print ('B학점입니다')\n",
    "elif sc >= 70:\n",
    "    print('C학점입니다')\n",
    "elif sc >= 60:\n",
    "    print('D학점입니다')\n",
    "else :\n",
    "    print('F학점입니다')\n"
   ]
  },
  {
   "cell_type": "code",
   "execution_count": 58,
   "id": "090548d7-4014-4479-a644-edb6dbe51ccf",
   "metadata": {},
   "outputs": [
    {
     "name": "stdin",
     "output_type": "stream",
     "text": [
      "점수를 입력하세요 \n"
     ]
    },
    {
     "name": "stdout",
     "output_type": "stream",
     "text": [
      "F학점입니다\n"
     ]
    }
   ],
   "source": [
    "#방법1 if만 사용 \n",
    "#or는 input 미기입시 기본 37점으로 \n",
    "점수 = int(input('점수를 입력하세요') or 37) \n",
    "grade = 'F'\n",
    "if 90 <= 점수 :\n",
    "    grade = 'A'\n",
    "if 80 <= 점수 and 점수 < 90:\n",
    "    grade = 'B'\n",
    "if 70 <= 점수 and 점수 < 80:\n",
    "    grade = 'C'\n",
    "if 60 <= 점수 and 점수 < 70:\n",
    "    grade = 'D'\n",
    "if 50 <= 점수 and 점수 < 60:\n",
    "    grade = 'E'\n",
    "print(f\"{grade}학점입니다\")"
   ]
  },
  {
   "cell_type": "code",
   "execution_count": 3,
   "id": "e19ccc49-e9fc-4612-9138-f75a31d8abc9",
   "metadata": {},
   "outputs": [
    {
     "name": "stdin",
     "output_type": "stream",
     "text": [
      "점수를 입력하세요 75\n"
     ]
    },
    {
     "name": "stdout",
     "output_type": "stream",
     "text": [
      "C학점입니다\n"
     ]
    }
   ],
   "source": [
    "#방법 2 if,elif,else 사용 \n",
    "#주의사항 ) elif는 만족하면 거기서 멈춰버림 \n",
    "score = int(input('점수를 입력하세요'))\n",
    "if 90 <=score :\n",
    "    grade = 'A' \n",
    "elif 80 <= score :\n",
    "    grade = 'B' \n",
    "elif 70 <= score :\n",
    "    grade = 'C'\n",
    "elif 60 <= score :\n",
    "    grade = 'D'\n",
    "elif 50 <= score :\n",
    "    grade = 'E'\n",
    "else :\n",
    "    grade ='F'    \n",
    "\n",
    "print(f\"{grade}학점입니다\")"
   ]
  },
  {
   "cell_type": "code",
   "execution_count": 4,
   "id": "7968db39-7601-47bd-bd1f-490714e1a31d",
   "metadata": {},
   "outputs": [
    {
     "name": "stdin",
     "output_type": "stream",
     "text": [
      "온도를 입력하세요 24\n"
     ]
    },
    {
     "name": "stdout",
     "output_type": "stream",
     "text": [
      "온도 24.0도 이므로 계절은 봄 입니다\n"
     ]
    }
   ],
   "source": [
    "temp = float(input('온도를 입력하세요') or 0 )  \n",
    "if temp > 25 :\n",
    "    weather = '여름'\n",
    "elif temp >=15 : \n",
    "    weather = '봄'\n",
    "elif temp >=10 :\n",
    "    weather = '가을'\n",
    "else: \n",
    "    weather ='겨울'\n",
    "print(f'온도 {temp}도 이므로 계절은 {weather} 입니다')    "
   ]
  },
  {
   "cell_type": "markdown",
   "id": "14940861-b211-4f51-9302-492ecf07c334",
   "metadata": {},
   "source": [
    "## while문"
   ]
  },
  {
   "cell_type": "code",
   "execution_count": 3,
   "id": "b72c58c5-8bef-437c-99a9-376b2dd4c318",
   "metadata": {},
   "outputs": [
    {
     "name": "stdout",
     "output_type": "stream",
     "text": [
      "10 자...나화났어!\n",
      "9 자...나화났어!\n",
      "8 자...나화났어!\n",
      "7 자...나화났어!\n",
      "6 자...나화났어!\n",
      "5 자...나화났어!\n",
      "4 자...나화났어!\n",
      "3 자...나화났어!\n",
      "2 자...나화났어!\n",
      "1 자...나화났어!\n"
     ]
    }
   ],
   "source": [
    "num = 10 \n",
    "while num:\n",
    "    print(num,\"자...나화났어!\")\n",
    "    num-=1\n",
    "# 어떻게 실행결과에 0이 나오지?    "
   ]
  },
  {
   "cell_type": "code",
   "execution_count": 5,
   "id": "9d971f77-e042-4f4f-baa0-5b4704ad0b90",
   "metadata": {},
   "outputs": [
    {
     "name": "stdout",
     "output_type": "stream",
     "text": [
      "나무를 1번 찍었습니다\n",
      "나무를 2번 찍었습니다\n",
      "나무를 3번 찍었습니다\n",
      "나무를 4번 찍었습니다\n",
      "나무를 5번 찍었습니다\n",
      "나무를 6번 찍었습니다\n",
      "나무를 7번 찍었습니다\n",
      "나무를 8번 찍었습니다\n",
      "나무를 9번 찍었습니다\n",
      "나무를 10번 찍었습니다\n",
      "나무 넘어갑니다\n"
     ]
    }
   ],
   "source": [
    "treeHit = 0 \n",
    "while treeHit < 10 :\n",
    "    treeHit = treeHit +1 \n",
    "    print(f\"나무를 {treeHit}번 찍었습니다\")\n",
    "    if treeHit == 10 :\n",
    "        print('나무 넘어갑니다')"
   ]
  },
  {
   "cell_type": "code",
   "execution_count": 8,
   "id": "4ecee120-a94e-4845-98c1-9744f6bca95b",
   "metadata": {},
   "outputs": [
    {
     "name": "stdout",
     "output_type": "stream",
     "text": [
      "나무를 1번 찍었습니다\n",
      "나무를 2번 찍었습니다\n",
      "나무를 3번 찍었습니다\n",
      "나무를 4번 찍었습니다\n",
      "나무를 5번 찍었습니다\n",
      "나무를 6번 찍었습니다\n",
      "나무를 7번 찍었습니다\n",
      "나무를 8번 찍었습니다\n",
      "나무를 9번 찍었습니다\n",
      "나무를 10번 찍었습니다\n",
      "나무 넘어갑니다\n"
     ]
    }
   ],
   "source": [
    "namu = 10 \n",
    "while namu : \n",
    "    namu -= 1 \n",
    "    print(f'나무를 {10 - namu}번 찍었습니다')\n",
    "    if namu == 0 :\n",
    "        print('나무 넘어갑니다')"
   ]
  },
  {
   "cell_type": "code",
   "execution_count": null,
   "id": "f5941741-076e-49ad-9409-1dd5994a14b0",
   "metadata": {},
   "outputs": [
    {
     "name": "stdout",
     "output_type": "stream",
     "text": [
      " \n",
      "    1.Add\n",
      "    2.Del \n",
      "    3.List \n",
      "    4.Quit\n",
      "\n"
     ]
    }
   ],
   "source": [
    "from IPython.display import clear_output\n",
    "print(\"선택 해주세요\")\n",
    "prompt = \"\"\" \n",
    "    1.Add\n",
    "    2.Del \n",
    "    3.List \n",
    "    4.Quit\n",
    "\"\"\"\n",
    "number = 0 \n",
    "while number != 4 :\n",
    "    print(prompt,)\n",
    "    number = int(input())\n",
    "    clear_output(wait=True) #이전 질문 지우기\n",
    "print(\"시스템이 종료 되었습니다\")    "
   ]
  },
  {
   "cell_type": "code",
   "execution_count": 33,
   "id": "380393b6-3d75-47f5-ae2b-9a681ae14fe7",
   "metadata": {},
   "outputs": [],
   "source": [
    "#random 주사위 \n",
    "import random as  r \n",
    "# ran = int(r.random()*6 + 1)\n",
    "box = [] #초기화"
   ]
  },
  {
   "cell_type": "code",
   "execution_count": 38,
   "id": "e65c08a2-0364-4e0b-b14a-7affadc5b840",
   "metadata": {},
   "outputs": [
    {
     "name": "stdout",
     "output_type": "stream",
     "text": [
      "[6, 2, 3, 2, 6]\n"
     ]
    }
   ],
   "source": [
    "#1에서 6까지 나오네 \n",
    "ran = r.randint(1,6)\n",
    "box.append(ran)\n",
    "print(box)"
   ]
  },
  {
   "cell_type": "code",
   "execution_count": 41,
   "id": "1676dfcd-0a92-423d-a0b9-c43aa69eeafb",
   "metadata": {
    "scrolled": true
   },
   "outputs": [
    {
     "name": "stdout",
     "output_type": "stream",
     "text": [
      "나무를 8번 때렸습니다\n",
      "나무를 9번 때렸습니다\n",
      "나무를 10번 때렸습니다\n",
      "나무가 넘어갑니다\n"
     ]
    }
   ],
   "source": [
    "import random as r \n",
    "\n",
    "treeHit = r.randint(1,9) \n",
    "while treeHit < 10 :\n",
    "    treeHit = treeHit + 1\n",
    "    print(f'나무를 {treeHit}번 때렸습니다')\n",
    "    if treeHit == 10 :\n",
    "        print('나무가 넘어갑니다')"
   ]
  },
  {
   "cell_type": "code",
   "execution_count": 76,
   "id": "872a0d7e-f5b3-4efb-848e-32daa36bb685",
   "metadata": {},
   "outputs": [
    {
     "name": "stdout",
     "output_type": "stream",
     "text": [
      "[6, 2, 4, 5, 5, 2, 2, 1, 5, 2, 3, 2, 2, 2, 2, 3, 3, 3, 3, 3, 5, 1, 3, 1, 5, 6, 2, 6, 2, 5, 5, 2, 4, 3, 5, 5, 5, 1, 5, 6, 2, 6, 2, 5, 5, 2, 6, 3, 3, 2] 50\n",
      "1번이 4번 0.08% 로 등장했습니다\n",
      "2번이 15번 등장했습니다\n",
      "3번이 10번 등장했습니다\n",
      "4번이 2번 등장했습니다\n",
      "5번이 13번 등장했습니다\n",
      "6번이 6번 등장했습니다\n"
     ]
    }
   ],
   "source": [
    "#random 주사위 \n",
    "import random as r \n",
    "box = [] #초기화 \n",
    "gijungab = 50 \n",
    "num = 0 \n",
    "while num < gijungab : \n",
    "    num = num +1 \n",
    "    ran = r.randint(1,6)\n",
    "    box.append(ran)\n",
    "    \n",
    "print(box,len(box))    \n",
    "\n",
    "percent = box.count(1) * (1/ gijungab)\n",
    "\n",
    "\n",
    "# 리스트의 특정한 숫자를 몇개인지 찾아내는 함수써서 \n",
    "print(f'1번이 {box.count(1)}번 {percent:0.2f}% 로 등장했습니다')\n",
    "print(f'2번이 {box.count(2)}번 등장했습니다')\n",
    "print(f'3번이 {box.count(3)}번 등장했습니다')\n",
    "print(f'4번이 {box.count(4)}번 등장했습니다')\n",
    "print(f'5번이 {box.count(5)}번 등장했습니다')\n",
    "print(f'6번이 {box.count(6)}번 등장했습니다')\n"
   ]
  },
  {
   "cell_type": "code",
   "execution_count": 3,
   "id": "5c71a228-ff5f-4f54-8dd6-e5a9fea9fba3",
   "metadata": {},
   "outputs": [
    {
     "name": "stdout",
     "output_type": "stream",
     "text": [
      "50회 정상진행되었습니다 \n",
      "1번이 7번 14.00% 로 등장했습니다\n",
      "2번이 8번 16.00% 로 등장했습니다\n",
      "3번이 9번 18.00% 로 등장했습니다\n",
      "4번이 7번 14.00% 로 등장했습니다\n",
      "5번이 9번 18.00% 로 등장했습니다\n",
      "6번이 10번 20.00% 로 등장했습니다\n"
     ]
    }
   ],
   "source": [
    "#random 주사위 \n",
    "import random as r \n",
    "box = [] #초기화 \n",
    "target = 50 \n",
    "num = 0 \n",
    "while num < target : \n",
    "    num = num +1 \n",
    "    ran = r.randint(1,6)\n",
    "    box.append(ran)\n",
    "if target == len(box) : \n",
    "    print(f'{target}회 정상진행되었습니다 ')\n",
    "else : \n",
    "    print(f'검증 결과 횟수 이상이 있습니다. 이유 : {target}회 목표로 동작하였으나 ,{len(box)}으로 측정 되었습니다')\n",
    "\n",
    "# 리스트의 특정한 숫자를 몇개인지 찾아내는 함수써서 \n",
    "print(f'1번이 {box.count(1)}번 {(box.count(1) / len(box))*100:.2f}% 로 등장했습니다')\n",
    "print(f'2번이 {box.count(2)}번 {(box.count(2) / len(box))*100:.2f}% 로 등장했습니다')\n",
    "print(f'3번이 {box.count(3)}번 {(box.count(3) / len(box))*100:.2f}% 로 등장했습니다')\n",
    "print(f'4번이 {box.count(4)}번 {(box.count(4) / len(box))*100:.2f}% 로 등장했습니다')\n",
    "print(f'5번이 {box.count(5)}번 {(box.count(5) / len(box))*100:.2f}% 로 등장했습니다')\n",
    "print(f'6번이 {box.count(6)}번 {(box.count(6) / len(box))*100:.2f}% 로 등장했습니다')\n",
    "\n",
    "# 숙제 !!!!!!!!!!!!가장 많이 나온 숫자, 가장 적게 나온 숫자 max, min 구하기 !!!!!!!!!"
   ]
  },
  {
   "cell_type": "code",
   "execution_count": 68,
   "id": "a450acb8-a4c3-4026-ad1a-e4678550c27b",
   "metadata": {
    "scrolled": true
   },
   "outputs": [
    {
     "data": {
      "text/plain": [
       "0.37155760961500495"
      ]
     },
     "execution_count": 68,
     "metadata": {},
     "output_type": "execute_result"
    }
   ],
   "source": [
    "import random\n",
    "random.random()\n",
    "# 0 이상 1미만의 숫자 중에서 아무 숫자 하나 뽑아서 돌려줌"
   ]
  },
  {
   "cell_type": "code",
   "execution_count": 50,
   "id": "9900cadc-1af1-45b2-8e3b-e52d8406b7d8",
   "metadata": {},
   "outputs": [
    {
     "name": "stdout",
     "output_type": "stream",
     "text": [
      "[1, 5, 3, 6, 4, 5, 3, 2, 4, 6] 10\n",
      "2\n"
     ]
    }
   ],
   "source": [
    "#랜덤 주사위 \n",
    "import random \n",
    "box = []\n",
    "n = 0\n",
    "while n < 10:\n",
    "    n = n+1\n",
    "    ran=random.randint(1,6)\n",
    "    box.append(ran)\n",
    "print(box,len(box))\n",
    "print(box.count(4))\n",
    "\n"
   ]
  },
  {
   "cell_type": "markdown",
   "id": "1a36cf06-30c6-4cd2-8448-c476d78ccd04",
   "metadata": {},
   "source": [
    "## for 문"
   ]
  },
  {
   "cell_type": "code",
   "execution_count": 94,
   "id": "3534ebc2-5c0f-4213-9986-7aea5f9f0a8f",
   "metadata": {},
   "outputs": [
    {
     "name": "stdout",
     "output_type": "stream",
     "text": [
      "one\n",
      "two\n",
      "three\n"
     ]
    }
   ],
   "source": [
    "#기본\n",
    "# test_list = ['one','two','three']\n",
    "for i in ['one','two','three'] : \n",
    "    print(i)\n",
    "    "
   ]
  },
  {
   "cell_type": "code",
   "execution_count": 97,
   "id": "f7c74cfd-558c-4ad4-b695-dd6fb61f005f",
   "metadata": {},
   "outputs": [
    {
     "name": "stdout",
     "output_type": "stream",
     "text": [
      "1 2 3\n",
      "3 4 5\n",
      "5 6 7\n"
     ]
    }
   ],
   "source": [
    "#다양한 for문의 사용\n",
    "\n",
    "a = [(1,2,3),(3,4,5),(5,6,7)]\n",
    "for (x,y,z) in a :\n",
    "    print(x,y,z)"
   ]
  },
  {
   "cell_type": "code",
   "execution_count": 98,
   "id": "7abd3979-c1ae-4405-b764-0b9361805845",
   "metadata": {},
   "outputs": [
    {
     "name": "stdout",
     "output_type": "stream",
     "text": [
      "1번 학생은 합격입니다\n",
      "2번 학생은 불합격입니다\n",
      "3번 학생은 합격입니다\n",
      "4번 학생은 불합격입니다\n",
      "5번 학생은 합격입니다\n"
     ]
    }
   ],
   "source": [
    "#p143 makrs.py\n",
    "marks = [90,25,67,45,80] #학생들의 시험 점수 리스트 \n",
    "number = 0 #학생에게 붙여줄 번호 \n",
    "for mark in marks: #90,25,67,45,80 을 순서대로 mark에 대입 \n",
    "    number = number +1 \n",
    "    continue \n",
    "    if mark>= 60:\n",
    "        print(f'{number}번 학생은 합격입니다')\n",
    "    else:\n",
    "        print(f'{number}번 학생은 불합격입니다')"
   ]
  },
  {
   "cell_type": "code",
   "execution_count": 99,
   "id": "9f7d3a99-b254-467d-a572-c4bce3b971ab",
   "metadata": {},
   "outputs": [
    {
     "name": "stdout",
     "output_type": "stream",
     "text": [
      "1학생 축하합니다.합격입니다\n",
      "3학생 축하합니다.합격입니다\n",
      "5학생 축하합니다.합격입니다\n"
     ]
    }
   ],
   "source": [
    "marks = [90,25,67,45,80]\n",
    "number = 0 \n",
    "\n",
    "for mark in marks :\n",
    "    number = number +1 \n",
    "    if mark < 60 : \n",
    "        continue \n",
    "    print(f'{number}학생 축하합니다.합격입니다')"
   ]
  },
  {
   "cell_type": "code",
   "execution_count": 105,
   "id": "20bfc5ef-b52c-474d-ae28-55dd2f54a3dc",
   "metadata": {},
   "outputs": [
    {
     "name": "stdout",
     "output_type": "stream",
     "text": [
      "1은 홀수입니다\n",
      "3은 홀수입니다\n",
      "5은 홀수입니다\n",
      "7은 홀수입니다\n",
      "9은 홀수입니다\n"
     ]
    }
   ],
   "source": [
    "sutja = [1,2,3,4,5,6,7,8,9,10]\n",
    "num = 0 \n",
    "for odd in sutja :\n",
    "    num = num+1\n",
    "    if odd % 2 == 0 :\n",
    "        continue\n",
    "        print(f'{num}은 짝수입니다')\n",
    "    elif odd % 2 !=0 :\n",
    "        print(f'{num}은 홀수입니다')\n",
    "        "
   ]
  },
  {
   "cell_type": "code",
   "execution_count": 107,
   "id": "6458c33a-0e5a-4f34-bc01-1422f5b05178",
   "metadata": {},
   "outputs": [
    {
     "name": "stdout",
     "output_type": "stream",
     "text": [
      "1\n",
      "3\n",
      "5\n",
      "7\n",
      "9\n"
     ]
    }
   ],
   "source": [
    "numbers = [1,2,3,4,5,6,7,8,9,10]\n",
    "for x in numbers : \n",
    "    if x % 2 == 0 :\n",
    "        continue \n",
    "    print(x)"
   ]
  },
  {
   "cell_type": "code",
   "execution_count": 108,
   "id": "0617007c-e051-4288-bd76-d617b9a274cf",
   "metadata": {},
   "outputs": [
    {
     "name": "stdout",
     "output_type": "stream",
     "text": [
      "돈을 받았으니 커피를 줍니다\n",
      "남은 커피 양은 9 개입니다 \n",
      "돈을 받았으니 커피를 줍니다\n",
      "남은 커피 양은 8 개입니다 \n",
      "돈을 받았으니 커피를 줍니다\n",
      "남은 커피 양은 7 개입니다 \n",
      "돈을 받았으니 커피를 줍니다\n",
      "남은 커피 양은 6 개입니다 \n",
      "돈을 받았으니 커피를 줍니다\n",
      "남은 커피 양은 5 개입니다 \n",
      "돈을 받았으니 커피를 줍니다\n",
      "남은 커피 양은 4 개입니다 \n",
      "돈을 받았으니 커피를 줍니다\n",
      "남은 커피 양은 3 개입니다 \n",
      "돈을 받았으니 커피를 줍니다\n",
      "남은 커피 양은 2 개입니다 \n",
      "돈을 받았으니 커피를 줍니다\n",
      "남은 커피 양은 1 개입니다 \n",
      "돈을 받았으니 커피를 줍니다\n",
      "남은 커피 양은 0 개입니다 \n",
      "커피가 다 떨어졌습니다.판매를 중지합니다\n"
     ]
    }
   ],
   "source": [
    "#while문 강제로 빠져나가기 \n",
    "#while문은 조건문이 참인 동안 계속 while문을 반복 , break로 while 문 빠져나가기 \n",
    "coffee = 10 \n",
    "money = 300 \n",
    "while money :\n",
    "    print('돈을 받았으니 커피를 줍니다')\n",
    "    coffee = coffee -1 \n",
    "    print(f'남은 커피 양은 {coffee} 개입니다 ')\n",
    "    if coffee == 0 :\n",
    "        print('커피가 다 떨어졌습니다.판매를 중지합니다')\n",
    "        break"
   ]
  },
  {
   "cell_type": "code",
   "execution_count": null,
   "id": "ed614d8c-7ebb-49dd-ab96-b72012e81821",
   "metadata": {},
   "outputs": [],
   "source": [
    "# 숙제 p137 coffee.py \n",
    "coffee = 10 \n",
    "while True :\n",
    "    money = "
   ]
  },
  {
   "cell_type": "markdown",
   "id": "b50bbc33-f081-4249-9f4b-2ad01b39d78a",
   "metadata": {},
   "source": [
    "### range 함수"
   ]
  },
  {
   "cell_type": "code",
   "execution_count": 110,
   "id": "3fa9e781-94ef-40bd-8b01-2217ba194ff4",
   "metadata": {},
   "outputs": [
    {
     "data": {
      "text/plain": [
       "range(0, 10)"
      ]
     },
     "execution_count": 110,
     "metadata": {},
     "output_type": "execute_result"
    }
   ],
   "source": [
    "# range 함수\n",
    "a = range(10)\n",
    "a "
   ]
  },
  {
   "cell_type": "code",
   "execution_count": 118,
   "id": "8692b6e7-156e-4a5e-8af5-494eb62f9b62",
   "metadata": {},
   "outputs": [
    {
     "name": "stdout",
     "output_type": "stream",
     "text": [
      "0\n",
      "1\n",
      "2\n",
      "3\n",
      "4\n"
     ]
    }
   ],
   "source": [
    "for n in range(5):\n",
    "    print (n)"
   ]
  },
  {
   "cell_type": "code",
   "execution_count": 123,
   "id": "4dbc550a-ad8c-4723-9f80-63b53ad7ba87",
   "metadata": {},
   "outputs": [
    {
     "name": "stdout",
     "output_type": "stream",
     "text": [
      "[0, 2, 4, 6, 8, 10, 12, 14, 16, 18, 20, 22, 24, 26, 28, 30, 32, 34, 36, 38, 40, 42, 44, 46, 48, 50, 52, 54, 56, 58, 60, 62, 64, 66, 68, 70, 72, 74, 76, 78, 80, 82, 84, 86, 88, 90, 92, 94, 96, 98]\n"
     ]
    }
   ],
   "source": [
    "la = list(range(0,100,2))\n",
    "print(la)"
   ]
  },
  {
   "cell_type": "code",
   "execution_count": 125,
   "id": "f590a1f6-98c4-4578-83f2-90267cc624d5",
   "metadata": {},
   "outputs": [
    {
     "name": "stdout",
     "output_type": "stream",
     "text": [
      "1\n",
      "3\n",
      "5\n",
      "7\n",
      "9\n"
     ]
    }
   ],
   "source": [
    "for even in range(1,10,2) :\n",
    "    print(even)"
   ]
  },
  {
   "cell_type": "code",
   "execution_count": 136,
   "id": "78c7f597-82a3-493b-81e5-825d059a129e",
   "metadata": {},
   "outputs": [
    {
     "name": "stdout",
     "output_type": "stream",
     "text": [
      "55\n"
     ]
    }
   ],
   "source": [
    "sum = 0 \n",
    "for add in range(1,11) :\n",
    "    sum = add + sum \n",
    "print(sum)\n"
   ]
  },
  {
   "cell_type": "code",
   "execution_count": 137,
   "id": "738cc773-7545-4b74-bc51-05d42f7cb409",
   "metadata": {},
   "outputs": [
    {
     "name": "stdout",
     "output_type": "stream",
     "text": [
      "1학생 축하합니다 합격입니다\n",
      "3학생 축하합니다 합격입니다\n",
      "5학생 축하합니다 합격입니다\n"
     ]
    }
   ],
   "source": [
    "marks = [90,25,67,45,80]\n",
    "for number in range(len(marks)) :\n",
    "    if marks[number] < 60 :\n",
    "        continue # 점수가 60점 미만이면 처음으로 돌아간다 \n",
    "    print(f'{number+1}학생 축하합니다 합격입니다')"
   ]
  },
  {
   "cell_type": "code",
   "execution_count": 148,
   "id": "ede80c19-c020-47d5-a9e9-15083de27dd9",
   "metadata": {},
   "outputs": [
    {
     "name": "stdout",
     "output_type": "stream",
     "text": [
      "     March 2025\n",
      "Su Mo Tu We Th Fr Sa\n",
      "                   1\n",
      " 2  3  4  5  6  7  8\n",
      " 9 10 11 12 13 14 15\n",
      "16 17 18 19 20 21 22\n",
      "23 24 25 26 27 28 29\n",
      "30 31\n",
      "\n"
     ]
    }
   ],
   "source": [
    "# 연습 \n",
    "import calendar \n",
    "\n",
    "#일요일을 첫번재 요일로 설정 \n",
    "c = calendar.TextCalendar(calendar.SUNDAY)\n",
    "print(c.formatmonth(2025,3))"
   ]
  },
  {
   "cell_type": "code",
   "execution_count": 1,
   "id": "8880b451-4f5f-4040-a67e-204180da2390",
   "metadata": {},
   "outputs": [
    {
     "name": "stdout",
     "output_type": "stream",
     "text": [
      "■■■■■■■■■■■■■■■■■■■■■■■■■■■■■■■■■■■■■■■■■■■■■■■■■■■■■■■■■■■■■■■■■■■■■■■■■■■■■■■■■■■■■■■■■■■■■■■■■■■■■"
     ]
    }
   ],
   "source": [
    "# 테스트 타이머 \n",
    "import time as t \n",
    "for x in range(101):\n",
    "    print(f'■',end='') #커서가 맨앞으로 가서 덮어쓰기 \n",
    "    # t.sleep(1)"
   ]
  },
  {
   "cell_type": "code",
   "execution_count": 1,
   "id": "41a4ca7c-55dd-49be-bf4a-d29103a4499c",
   "metadata": {},
   "outputs": [
    {
     "name": "stdout",
     "output_type": "stream",
     "text": [
      "<class 'list'>\n",
      "<class 'tuple'>\n"
     ]
    }
   ],
   "source": [
    "#리스트 속도 측정 \n",
    "import time as t \n",
    "lt = []\n",
    "tp = []\n",
    "length = 100*1000*1000 #숫자 곱하기 형식으로 나눠 적기 \n",
    "for x in range(length) : \n",
    "    lt.append(x)\n",
    "for t in range(length) : \n",
    "    tp.append(t)\n",
    "tp = tuple(tp)\n",
    "print(type(lt))\n",
    "print(type(tp))"
   ]
  },
  {
   "cell_type": "code",
   "execution_count": 10,
   "id": "239efa0b-5003-4c27-b7de-504ab4efe20f",
   "metadata": {},
   "outputs": [
    {
     "name": "stdout",
     "output_type": "stream",
     "text": [
      "9.811272859573364\n"
     ]
    }
   ],
   "source": [
    "#타임 스탬프:고유한 값 \n",
    "import time \n",
    "start = time.time()\n",
    "\n",
    "for x in lt :\n",
    "    a = 1 \n",
    "    lts =[1,2,3,4,5]\n",
    "print(time.time()- start) "
   ]
  },
  {
   "cell_type": "code",
   "execution_count": 12,
   "id": "86f7b36b-75f6-45ec-9b73-4c4586e49fa5",
   "metadata": {},
   "outputs": [
    {
     "name": "stdout",
     "output_type": "stream",
     "text": [
      "3.9157564640045166\n"
     ]
    }
   ],
   "source": [
    "#리스트보다 튜플이 더 빠름 \n",
    "import time \n",
    "start = time.time()\n",
    "\n",
    "for x in tp :\n",
    "    tps = (1,2,3,4,5)\n",
    "\n",
    "print(time.time()- start) "
   ]
  },
  {
   "cell_type": "markdown",
   "id": "490cd668-becf-4508-947c-c5d2668a6fe9",
   "metadata": {},
   "source": [
    "AMD64,ARM\n",
    "! 치면 터미널로 접근 가능 \n",
    "모듈 있는지 확인 import tqdm \n",
    "모듈이 없을 땐 !pip install tqdm "
   ]
  },
  {
   "cell_type": "code",
   "execution_count": 17,
   "id": "e0adb4f3-fdb3-47c6-a0b9-56905358ea7b",
   "metadata": {},
   "outputs": [
    {
     "name": "stdout",
     "output_type": "stream",
     "text": [
      "Collecting tqdm\n",
      "  Downloading tqdm-4.67.1-py3-none-any.whl.metadata (57 kB)\n",
      "Requirement already satisfied: colorama in c:\\users\\admin\\appdata\\local\\programs\\python\\python313\\lib\\site-packages (from tqdm) (0.4.6)\n",
      "Downloading tqdm-4.67.1-py3-none-any.whl (78 kB)\n",
      "Installing collected packages: tqdm\n",
      "Successfully installed tqdm-4.67.1\n"
     ]
    }
   ],
   "source": [
    "!pip install tqdm"
   ]
  },
  {
   "cell_type": "code",
   "execution_count": 2,
   "id": "63ad8349-ef4a-4c28-b2bd-b16405877d13",
   "metadata": {},
   "outputs": [
    {
     "name": "stderr",
     "output_type": "stream",
     "text": [
      "100%|████████████████████████████████████████████████████████████████████████████████| 100/100 [00:10<00:00,  9.76it/s]\n"
     ]
    }
   ],
   "source": [
    "from tqdm import tqdm\n",
    "import time as tt \n",
    "for x in tqdm(range(100)):\n",
    "    pass\n",
    "    tt.sleep(0.1)"
   ]
  },
  {
   "cell_type": "code",
   "execution_count": 21,
   "id": "f3af9885-edcb-45e7-8a00-b89ec989b94b",
   "metadata": {},
   "outputs": [
    {
     "name": "stdout",
     "output_type": "stream",
     "text": [
      "상승장\n"
     ]
    }
   ],
   "source": [
    "#비트코인시세로 상승장 하강장 구분하기 (하루 24시간 기준)\n",
    "import requests as req \n",
    "url = \"https://api.bithumb.com/public/ticker/ALL_KRW\"\n",
    "gdata = req.get(url).json()\n",
    "btc = (gdata['data']['BTC'])\n",
    "maxp = float(btc['max_price']) #최대가\n",
    "minp = float(btc['min_price'])#최소가\n",
    "openp =float(btc['opening_price']) #시작가 \n",
    "bandp = float(maxp)-float(minp) #변화폭 \n",
    "if (openp + bandp) > maxp:\n",
    "    print('상승장')\n",
    "else:\n",
    "    print('하강장')"
   ]
  },
  {
   "cell_type": "code",
   "execution_count": null,
   "id": "407e6efc-c79d-4a62-9c2b-48eee39c5720",
   "metadata": {},
   "outputs": [],
   "source": [
    "import time \n",
    "    f'{time.time()}'"
   ]
  },
  {
   "cell_type": "code",
   "execution_count": 30,
   "id": "83180862-5b01-4784-acac-69cda0886337",
   "metadata": {},
   "outputs": [
    {
     "name": "stdout",
     "output_type": "stream",
     "text": [
      "149001000\n"
     ]
    }
   ],
   "source": [
    "#1분캔들 \n",
    "import requests as req \n",
    "url = \"https://api.bithumb.com/v1/candles/minutes/1?market=KRW-BTC&count=1\"\n",
    "btc_data = req.get(url).json()\n",
    "print(btc_data[0]['trade_price']) #1분 거래가 "
   ]
  },
  {
   "cell_type": "code",
   "execution_count": 29,
   "id": "b8a995c9-0c51-43b6-99ef-aa89e5caadfc",
   "metadata": {},
   "outputs": [
    {
     "name": "stdout",
     "output_type": "stream",
     "text": [
      "2 x 1 = 2\n",
      "2 x 2 = 4\n",
      "2 x 3 = 6\n",
      "2 x 4 = 8\n",
      "2 x 5 = 10\n",
      "2 x 6 = 12\n",
      "2 x 7 = 14\n",
      "2 x 8 = 16\n",
      "2 x 9 = 18\n"
     ]
    }
   ],
   "source": [
    "a = range(1,10)\n",
    "for d in a :\n",
    "    print(f'2 x {d} = {2*d}')"
   ]
  },
  {
   "cell_type": "code",
   "execution_count": 31,
   "id": "04763151-4224-4103-b782-c17fe5633586",
   "metadata": {},
   "outputs": [
    {
     "name": "stdout",
     "output_type": "stream",
     "text": [
      "2x1=2\n",
      "2x2=4\n",
      "2x3=6\n",
      "2x4=8\n",
      "2x5=10\n",
      "2x6=12\n",
      "2x7=14\n",
      "2x8=16\n",
      "2x9=18\n"
     ]
    }
   ],
   "source": [
    "for i in range(1,10):\n",
    "    print(f'{2}x{i}={2*i}')"
   ]
  },
  {
   "cell_type": "code",
   "execution_count": null,
   "id": "fe5a934a-235e-4d42-962e-ca698e7d8d0f",
   "metadata": {},
   "outputs": [],
   "source": [
    "# 구구단 1 \n",
    "for n in range(1,10):\n",
    "    for i in range(1,10):\n",
    "        print(f'{n} x {i} = {n*i}')"
   ]
  },
  {
   "cell_type": "code",
   "execution_count": 51,
   "id": "12d566d8-9d99-4f54-94b9-ce611590c91e",
   "metadata": {
    "scrolled": true
   },
   "outputs": [
    {
     "name": "stdout",
     "output_type": "stream",
     "text": [
      "=====1단=====\n",
      "1x1=1\n",
      "1x2=2\n",
      "1x3=3\n",
      "1x4=4\n",
      "1x5=5\n",
      "1x6=6\n",
      "1x7=7\n",
      "1x8=8\n",
      "1x9=9\n",
      "=====2단=====\n",
      "2x1=2\n",
      "2x2=4\n",
      "2x3=6\n",
      "2x4=8\n",
      "2x5=10\n",
      "2x6=12\n",
      "2x7=14\n",
      "2x8=16\n",
      "2x9=18\n",
      "=====3단=====\n",
      "3x1=3\n",
      "3x2=6\n",
      "3x3=9\n",
      "3x4=12\n",
      "3x5=15\n",
      "3x6=18\n",
      "3x7=21\n",
      "3x8=24\n",
      "3x9=27\n",
      "=====4단=====\n",
      "4x1=4\n",
      "4x2=8\n",
      "4x3=12\n",
      "4x4=16\n",
      "4x5=20\n",
      "4x6=24\n",
      "4x7=28\n",
      "4x8=32\n",
      "4x9=36\n",
      "=====5단=====\n",
      "5x1=5\n",
      "5x2=10\n",
      "5x3=15\n",
      "5x4=20\n",
      "5x5=25\n",
      "5x6=30\n",
      "5x7=35\n",
      "5x8=40\n",
      "5x9=45\n",
      "=====6단=====\n",
      "6x1=6\n",
      "6x2=12\n",
      "6x3=18\n",
      "6x4=24\n",
      "6x5=30\n",
      "6x6=36\n",
      "6x7=42\n",
      "6x8=48\n",
      "6x9=54\n",
      "=====7단=====\n",
      "7x1=7\n",
      "7x2=14\n",
      "7x3=21\n",
      "7x4=28\n",
      "7x5=35\n",
      "7x6=42\n",
      "7x7=49\n",
      "7x8=56\n",
      "7x9=63\n",
      "=====8단=====\n",
      "8x1=8\n",
      "8x2=16\n",
      "8x3=24\n",
      "8x4=32\n",
      "8x5=40\n",
      "8x6=48\n",
      "8x7=56\n",
      "8x8=64\n",
      "8x9=72\n",
      "=====9단=====\n",
      "9x1=9\n",
      "9x2=18\n",
      "9x3=27\n",
      "9x4=36\n",
      "9x5=45\n",
      "9x6=54\n",
      "9x7=63\n",
      "9x8=72\n",
      "9x9=81\n"
     ]
    }
   ],
   "source": [
    "#구구단 2 \n",
    "num =0\n",
    "while num <9: \n",
    "    print(f\"====={num+1}단=====\")\n",
    "    num = num +1\n",
    "    for i in range(1,10) :\n",
    "        print(f'{num}x{i}={num*i}')\n",
    "        "
   ]
  },
  {
   "cell_type": "code",
   "execution_count": 55,
   "id": "45fa67c5-2af2-47fc-abf0-29012abe0137",
   "metadata": {},
   "outputs": [
    {
     "name": "stdout",
     "output_type": "stream",
     "text": [
      "2단\n",
      "2x1=2\n",
      "2x2=4\n",
      "2x3=6\n",
      "2x4=8\n",
      "2x5=10\n",
      "2x6=12\n",
      "2x7=14\n",
      "2x8=16\n",
      "2x9=18\n",
      "3단\n",
      "3x1=3\n",
      "3x2=6\n",
      "3x3=9\n",
      "3x4=12\n",
      "3x5=15\n",
      "3x6=18\n",
      "3x7=21\n",
      "3x8=24\n",
      "3x9=27\n",
      "4단\n",
      "4x1=4\n",
      "4x2=8\n",
      "4x3=12\n",
      "4x4=16\n",
      "4x5=20\n",
      "4x6=24\n",
      "4x7=28\n",
      "4x8=32\n",
      "4x9=36\n",
      "5단\n",
      "5x1=5\n",
      "5x2=10\n",
      "5x3=15\n",
      "5x4=20\n",
      "5x5=25\n",
      "5x6=30\n",
      "5x7=35\n",
      "5x8=40\n",
      "5x9=45\n",
      "6단\n",
      "6x1=6\n",
      "6x2=12\n",
      "6x3=18\n",
      "6x4=24\n",
      "6x5=30\n",
      "6x6=36\n",
      "6x7=42\n",
      "6x8=48\n",
      "6x9=54\n",
      "7단\n",
      "7x1=7\n",
      "7x2=14\n",
      "7x3=21\n",
      "7x4=28\n",
      "7x5=35\n",
      "7x6=42\n",
      "7x7=49\n",
      "7x8=56\n",
      "7x9=63\n",
      "8단\n",
      "8x1=8\n",
      "8x2=16\n",
      "8x3=24\n",
      "8x4=32\n",
      "8x5=40\n",
      "8x6=48\n",
      "8x7=56\n",
      "8x8=64\n",
      "8x9=72\n",
      "9단\n",
      "9x1=9\n",
      "9x2=18\n",
      "9x3=27\n",
      "9x4=36\n",
      "9x5=45\n",
      "9x6=54\n",
      "9x7=63\n",
      "9x8=72\n",
      "9x9=81\n"
     ]
    }
   ],
   "source": [
    "for j in range(2,10):\n",
    "    print(f'{j}단')\n",
    "    for i in range(1,10) :\n",
    "        print(f'{j}x{i}={j*i}')\n",
    "        "
   ]
  },
  {
   "cell_type": "code",
   "execution_count": 52,
   "id": "470cee17-7c48-415c-8641-fc70e8251042",
   "metadata": {},
   "outputs": [
    {
     "name": "stdout",
     "output_type": "stream",
     "text": [
      "1학생 합격하셨습니다 .축하드립니다\n",
      "3학생 합격하셨습니다 .축하드립니다\n",
      "5학생 합격하셨습니다 .축하드립니다\n"
     ]
    }
   ],
   "source": [
    "marks = [90,25,67,45,80]\n",
    "number = 0 \n",
    "for mark in marks :\n",
    "    number = number +1 \n",
    "    if mark < 60:\n",
    "        continue\n",
    "    print(f'{number}학생 합격하셨습니다 .축하드립니다')"
   ]
  },
  {
   "cell_type": "markdown",
   "id": "b42798ee-7ea3-4950-9ece-1c115eea4806",
   "metadata": {},
   "source": [
    "### 리스트 컴프리헨션"
   ]
  },
  {
   "cell_type": "code",
   "execution_count": null,
   "id": "abeab8a0-a5ea-4b09-a335-19b8b65c1964",
   "metadata": {},
   "outputs": [],
   "source": [
    "#기본적인 리스트에 값넣기 \n",
    "a = [1,2,3,4]\n",
    "result = [] \n",
    "for num in a :\n",
    "    result.append(num*3)\n",
    "print(result)"
   ]
  },
  {
   "cell_type": "code",
   "execution_count": 56,
   "id": "9009b402-854f-4642-91c3-2b3a54b60e7f",
   "metadata": {},
   "outputs": [
    {
     "data": {
      "text/plain": [
       "[3, 6, 9, 12]"
      ]
     },
     "execution_count": 56,
     "metadata": {},
     "output_type": "execute_result"
    }
   ],
   "source": [
    "#리스트 컴프리헨션 \n",
    "[num*3 for num in [1,2,3,4] ]"
   ]
  },
  {
   "cell_type": "code",
   "execution_count": 57,
   "id": "73c2a70c-9893-4003-95d7-bcd00e745be0",
   "metadata": {},
   "outputs": [
    {
     "data": {
      "text/plain": [
       "[0, 1, 2, 3, 4, 5, 6, 7, 8, 9]"
      ]
     },
     "execution_count": 57,
     "metadata": {},
     "output_type": "execute_result"
    }
   ],
   "source": [
    "#테스트1 \n",
    "# list(range(10))\n",
    "[x for x in range(10)]"
   ]
  },
  {
   "cell_type": "code",
   "execution_count": 60,
   "id": "feb981b7-64fa-4b61-b86a-e5a072ba765f",
   "metadata": {},
   "outputs": [
    {
     "name": "stdout",
     "output_type": "stream",
     "text": [
      "[0, 2, 4, 6, 8]\n"
     ]
    }
   ],
   "source": [
    "res = []\n",
    "for x in range(10):\n",
    "    if x%2 ==0:\n",
    "        res.append(x*3)\n",
    "print(res)"
   ]
  },
  {
   "cell_type": "code",
   "execution_count": 62,
   "id": "fbebad64-2190-419c-992a-56d3d23780db",
   "metadata": {},
   "outputs": [
    {
     "data": {
      "text/plain": [
       "[0, 6, 12, 18, 24]"
      ]
     },
     "execution_count": 62,
     "metadata": {},
     "output_type": "execute_result"
    }
   ],
   "source": [
    "[x*3 for x in range(10) if x%2 == 0]"
   ]
  },
  {
   "cell_type": "code",
   "execution_count": 65,
   "id": "5c1678fb-dc47-4021-8758-205bc9bb1d58",
   "metadata": {},
   "outputs": [
    {
     "name": "stdout",
     "output_type": "stream",
     "text": [
      "[2, 4, 6, 8, 10, 12, 14, 16, 18, 3, 6, 9, 12, 15, 18, 21, 24, 27, 4, 8, 12, 16, 20, 24, 28, 32, 36, 5, 10, 15, 20, 25, 30, 35, 40, 45, 6, 12, 18, 24, 30, 36, 42, 48, 54, 7, 14, 21, 28, 35, 42, 49, 56, 63, 8, 16, 24, 32, 40, 48, 56, 64, 72, 9, 18, 27, 36, 45, 54, 63, 72, 81]\n"
     ]
    }
   ],
   "source": [
    "result = [i*j for i in range(2,10) for j in range(1,10)]\n",
    "print(result)"
   ]
  },
  {
   "cell_type": "code",
   "execution_count": 2,
   "id": "00c7b23a-7989-4a62-b620-2301e3825d8b",
   "metadata": {},
   "outputs": [
    {
     "name": "stdout",
     "output_type": "stream",
     "text": [
      "['2x1=2', '2x2=4', '2x3=6', '2x4=8', '2x5=10', '2x6=12', '2x7=14', '2x8=16', '2x9=18', '3x1=3', '3x2=6', '3x3=9', '3x4=12', '3x5=15', '3x6=18', '3x7=21', '3x8=24', '3x9=27', '4x1=4', '4x2=8', '4x3=12', '4x4=16', '4x5=20', '4x6=24', '4x7=28', '4x8=32', '4x9=36', '5x1=5', '5x2=10', '5x3=15', '5x4=20', '5x5=25', '5x6=30', '5x7=35', '5x8=40', '5x9=45', '6x1=6', '6x2=12', '6x3=18', '6x4=24', '6x5=30', '6x6=36', '6x7=42', '6x8=48', '6x9=54', '7x1=7', '7x2=14', '7x3=21', '7x4=28', '7x5=35', '7x6=42', '7x7=49', '7x8=56', '7x9=63', '8x1=8', '8x2=16', '8x3=24', '8x4=32', '8x5=40', '8x6=48', '8x7=56', '8x8=64', '8x9=72', '9x1=9', '9x2=18', '9x3=27', '9x4=36', '9x5=45', '9x6=54', '9x7=63', '9x8=72', '9x9=81']\n"
     ]
    }
   ],
   "source": [
    "# for j in range(2,10):\n",
    "#     print(f'{j}단')\n",
    "#     for i in range(1,10) :\n",
    "#         print(f'{j}x{i}={j*i}')\n",
    "result= [(f'{j}x{i}={j*i}') for j in range(2,10) for i in range(1,10)]\n",
    "print(result)"
   ]
  },
  {
   "cell_type": "code",
   "execution_count": 5,
   "id": "772fa313-675f-4a76-8f74-3cdb18b17161",
   "metadata": {},
   "outputs": [
    {
     "name": "stdout",
     "output_type": "stream",
     "text": [
      "414\n",
      "[414, 313, 77, 66, 55, 22, 11]\n"
     ]
    }
   ],
   "source": [
    "a = [11,22,313,414,55,66,77]\n",
    "a.sort(reverse=True)\n",
    "print(a[0])\n",
    "print(a)"
   ]
  },
  {
   "cell_type": "code",
   "execution_count": 3,
   "id": "e1fe251d-603a-4cfe-9a84-b18e2c3778b9",
   "metadata": {},
   "outputs": [
    {
     "name": "stdout",
     "output_type": "stream",
     "text": [
      "55\n"
     ]
    }
   ],
   "source": []
  },
  {
   "cell_type": "code",
   "execution_count": null,
   "id": "98110c41-ab09-44de-b40e-234f41b3c8b9",
   "metadata": {},
   "outputs": [],
   "source": []
  }
 ],
 "metadata": {
  "kernelspec": {
   "display_name": "Python 3 (ipykernel)",
   "language": "python",
   "name": "python3"
  },
  "language_info": {
   "codemirror_mode": {
    "name": "ipython",
    "version": 3
   },
   "file_extension": ".py",
   "mimetype": "text/x-python",
   "name": "python",
   "nbconvert_exporter": "python",
   "pygments_lexer": "ipython3",
   "version": "3.13.1"
  }
 },
 "nbformat": 4,
 "nbformat_minor": 5
}
