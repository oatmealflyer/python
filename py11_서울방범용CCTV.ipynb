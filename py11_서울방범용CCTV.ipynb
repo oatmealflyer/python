{
 "cells": [
  {
   "cell_type": "markdown",
   "id": "f3718fd7-c481-4a33-b78c-7f3ea1523360",
   "metadata": {},
   "source": [
    "# 방범용 CCTV 위치와 인구 데이터 분석\n",
    "- 파일데이터 C 다운로드\n",
    "- 목표:CCTV 수를 파악하고 ,인구대비 CCTV 비율을 파악\n",
    "- 인구대비 CCTV의 평균치를 확인하고 그로부터 CCTV가 과하게 부족한 구를 확인"
   ]
  },
  {
   "cell_type": "code",
   "execution_count": 1,
   "id": "ee88add1-573a-40e1-b0ac-852e8c7cb719",
   "metadata": {},
   "outputs": [
    {
     "name": "stdout",
     "output_type": "stream",
     "text": [
      "/home/jovyan/data\n"
     ]
    }
   ],
   "source": [
    "!pwd"
   ]
  },
  {
   "cell_type": "code",
   "execution_count": 6,
   "id": "1aadc42f-926b-4d0f-bb8c-8c2a2270d864",
   "metadata": {},
   "outputs": [
    {
     "data": {
      "text/html": [
       "<div>\n",
       "<style scoped>\n",
       "    .dataframe tbody tr th:only-of-type {\n",
       "        vertical-align: middle;\n",
       "    }\n",
       "\n",
       "    .dataframe tbody tr th {\n",
       "        vertical-align: top;\n",
       "    }\n",
       "\n",
       "    .dataframe thead th {\n",
       "        text-align: right;\n",
       "    }\n",
       "</style>\n",
       "<table border=\"1\" class=\"dataframe\">\n",
       "  <thead>\n",
       "    <tr style=\"text-align: right;\">\n",
       "      <th></th>\n",
       "      <th>CCTV 명칭</th>\n",
       "      <th>CCTV 좌표</th>\n",
       "      <th>CCTV 그룹</th>\n",
       "    </tr>\n",
       "  </thead>\n",
       "  <tbody>\n",
       "    <tr>\n",
       "      <th>3304</th>\n",
       "      <td>시05-0117_장림2동_다대로269_아비앙또과자점</td>\n",
       "      <td>10.1.10.114:0:0:0:0:0:0,10.1.10.114:9400:</td>\n",
       "      <td>사하-5차</td>\n",
       "    </tr>\n",
       "  </tbody>\n",
       "</table>\n",
       "</div>"
      ],
      "text/plain": [
       "                           CCTV 명칭                                    CCTV 좌표  \\\n",
       "3304  시05-0117_장림2동_다대로269_아비앙또과자점  10.1.10.114:0:0:0:0:0:0,10.1.10.114:9400:   \n",
       "\n",
       "     CCTV 그룹  \n",
       "3304   사하-5차  "
      ]
     },
     "execution_count": 6,
     "metadata": {},
     "output_type": "execute_result"
    }
   ],
   "source": [
    "import pandas as pd \n",
    "file_path3= \"./ref/부산광역시방범용CCTV정보20230622.csv\"\n",
    "CCTV = pd.read_csv(file_path3,encoding=\"EUC-KR\")\n",
    "CCTV.sample()"
   ]
  },
  {
   "cell_type": "code",
   "execution_count": null,
   "id": "b508b1b9-03e4-4110-8ab7-dea6674c41cd",
   "metadata": {},
   "outputs": [],
   "source": [
    "cctv = CCTV.rename(columns={\"CCTV그룹\":\"local\"})['local']\n",
    "#방법1\n",
    "cctv = cctv.apply(lambda x:x.split(\"-\")[0])\n",
    "#apply는 판다스의 함수 이므로 데이터 프레임 형식으로 반환 \n",
    "# -기준으로 자르고 , 0번째 것 반환 \n",
    "\n",
    "#방법2 \n",
    "#local_list = []\n",
    "for v in cctv :\n",
    "    local_list.append(v.split(\"-\")[0])"
   ]
  }
 ],
 "metadata": {
  "kernelspec": {
   "display_name": "Python 3 (ipykernel)",
   "language": "python",
   "name": "python3"
  },
  "language_info": {
   "codemirror_mode": {
    "name": "ipython",
    "version": 3
   },
   "file_extension": ".py",
   "mimetype": "text/x-python",
   "name": "python",
   "nbconvert_exporter": "python",
   "pygments_lexer": "ipython3",
   "version": "3.11.6"
  }
 },
 "nbformat": 4,
 "nbformat_minor": 5
}
