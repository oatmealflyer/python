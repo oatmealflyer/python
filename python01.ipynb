{
 "cells": [
  {
   "cell_type": "markdown",
   "id": "e9258618-1708-45aa-887c-5ba29290bfe7",
   "metadata": {},
   "source": [
    "# 주피터랩 단축키 \n",
    "- a: 위 셀 추가\n",
    "- b: 아래셀 추가\n",
    "- Ctrl + shift + 위 : 셀 위로 이동\n",
    "- Ctrl + shift + 아래: 셀 아래로 이동\n",
    "- Shift + enter : 셀 실행 \n",
    "- dd: 셀 삭제 \n",
    "- x: 셀 잘라내기\n",
    "- c: 셀 복사 \n",
    "- v: 셀 붙여넣기\n",
    "- z :undo \n",
    "- shift + z : redo\n",
    "- m : Markdown\n",
    "- y: code"
   ]
  },
  {
   "cell_type": "markdown",
   "id": "1ab96c16-d2b7-4a81-9b0d-75285aa650f0",
   "metadata": {},
   "source": [
    "# print 기초"
   ]
  },
  {
   "cell_type": "code",
   "execution_count": 1,
   "id": "f9672388-45c1-4a63-baff-5cc25fe758cd",
   "metadata": {},
   "outputs": [
    {
     "name": "stdout",
     "output_type": "stream",
     "text": [
      "주피터랩에 처음이에요\n",
      "사실은 두번 째~~\n"
     ]
    }
   ],
   "source": [
    "print('주피터랩에 처음이에요')\n",
    "print('사실은 두번 째~~')"
   ]
  },
  {
   "cell_type": "code",
   "execution_count": 2,
   "id": "584eb6d6-68e4-4c5c-908f-b48f62410bf9",
   "metadata": {
    "scrolled": true
   },
   "outputs": [
    {
     "name": "stdout",
     "output_type": "stream",
     "text": [
      "4610\n"
     ]
    }
   ],
   "source": [
    "print(1277+3333)"
   ]
  },
  {
   "cell_type": "code",
   "execution_count": 3,
   "id": "4a73c8e0-38f0-41fd-b9e1-38668de07d61",
   "metadata": {},
   "outputs": [
    {
     "name": "stdout",
     "output_type": "stream",
     "text": [
      "시간이 많이 남았어...\n"
     ]
    }
   ],
   "source": [
    "import time as t \n",
    "print('배고프다',end='\\r')\n",
    "t.sleep(1)\n",
    "print('근데    ', end='\\r')\n",
    "t.sleep(1)\n",
    "print('시간이 많이 남았어...')"
   ]
  },
  {
   "cell_type": "code",
   "execution_count": 4,
   "id": "b5f3e767-fc52-4047-b293-1fe5f16bc489",
   "metadata": {},
   "outputs": [
    {
     "name": "stdout",
     "output_type": "stream",
     "text": [
      "1*2*3*4*5\n"
     ]
    }
   ],
   "source": [
    "print(1,2,3,4,5, sep='*')"
   ]
  },
  {
   "cell_type": "markdown",
   "id": "c1581e19-59c5-4851-b509-cba4574d0bd5",
   "metadata": {},
   "source": [
    "# 자료형"
   ]
  },
  {
   "cell_type": "markdown",
   "id": "121422e3-6526-44c8-99f7-6201f76530e3",
   "metadata": {},
   "source": [
    "## 숫자형 "
   ]
  },
  {
   "cell_type": "code",
   "execution_count": 5,
   "id": "7e37f136-8d3b-428f-8249-c13ea523d29c",
   "metadata": {},
   "outputs": [
    {
     "name": "stdout",
     "output_type": "stream",
     "text": [
      "덧셈 877\n",
      "=============\n",
      "뺄셈 677\n",
      "=============\n",
      "곱셈 77700\n",
      "=============\n",
      "나눗셈 7.77\n",
      "=============\n",
      "몫만 구함 7\n",
      "=============\n",
      "나머지 77\n",
      "=============\n",
      "승 603729\n",
      "=============\n"
     ]
    }
   ],
   "source": [
    "#사칙연산 예 \n",
    "sachik = 777\n",
    "sem = 100 \n",
    "print( '덧셈',sachik+sem,end='\\n=============\\n')\n",
    "print( '뺄셈',sachik-sem,end='\\n=============\\n')\n",
    "print( '곱셈',sachik*sem,end='\\n=============\\n')\n",
    "print( '나눗셈',sachik/sem,end='\\n=============\\n')\n",
    "print( '몫만 구함',sachik//sem,end='\\n=============\\n')\n",
    "print( '나머지',sachik %sem,end='\\n=============\\n')\n",
    "print( '승',sachik **2,end='\\n=============\\n')"
   ]
  },
  {
   "cell_type": "code",
   "execution_count": 6,
   "id": "b5f364c8-1fef-4cc6-8f84-88148d500de9",
   "metadata": {},
   "outputs": [
    {
     "name": "stdout",
     "output_type": "stream",
     "text": [
      "123 -178 0\n"
     ]
    }
   ],
   "source": [
    "#정수형 \n",
    "a=123 \n",
    "b=-178 \n",
    "c=0\n",
    "print(a,b,c)"
   ]
  },
  {
   "cell_type": "code",
   "execution_count": 7,
   "id": "7d6c0cbd-21e6-45a1-873b-ea8d4d35002a",
   "metadata": {},
   "outputs": [
    {
     "name": "stdout",
     "output_type": "stream",
     "text": [
      "1.2 -3.14 42400000000.0\n"
     ]
    }
   ],
   "source": [
    "#실수형 \n",
    "aa = 1.2 \n",
    "bb = -3.14 \n",
    "cc = 4.24e10\n",
    "print(aa,bb,cc)"
   ]
  },
  {
   "cell_type": "code",
   "execution_count": 8,
   "id": "2037c539-c60f-4f04-b8b7-a30887617396",
   "metadata": {},
   "outputs": [
    {
     "name": "stdout",
     "output_type": "stream",
     "text": [
      "15\n",
      "127 2748\n"
     ]
    }
   ],
   "source": [
    "#2진수(bin)\n",
    "aaa= 0b1111\n",
    "print (aaa)\n",
    "#8진수(oct)와 16진수(hex) \n",
    "bbb=0o177\n",
    "ccc=0xABC\n",
    "print(bbb,ccc)\n",
    "\n"
   ]
  },
  {
   "cell_type": "code",
   "execution_count": 9,
   "id": "55a07b12-ccda-4ce4-bee1-9075663cf01a",
   "metadata": {},
   "outputs": [
    {
     "name": "stdout",
     "output_type": "stream",
     "text": [
      "81\n"
     ]
    }
   ],
   "source": [
    "a=3\n",
    "b=4\n",
    "print(a**b)\n"
   ]
  },
  {
   "cell_type": "code",
   "execution_count": 10,
   "id": "9c8bbc4c-5926-42fd-aabe-c530a076d5bd",
   "metadata": {},
   "outputs": [
    {
     "name": "stdout",
     "output_type": "stream",
     "text": [
      "2\n",
      "3\n",
      "4\n"
     ]
    }
   ],
   "source": [
    "#복합 연산자\n",
    "a = 1 \n",
    "a= a + 1 # a+=1\n",
    "print(a)\n",
    "\n",
    "a= a + 1 \n",
    "print(a)\n",
    "\n",
    "a= a + 1 \n",
    "print(a)"
   ]
  },
  {
   "cell_type": "code",
   "execution_count": 11,
   "id": "88c60d64-15bb-4be7-9dc8-959152e0319d",
   "metadata": {},
   "outputs": [
    {
     "name": "stdout",
     "output_type": "stream",
     "text": [
      "5\n"
     ]
    }
   ],
   "source": [
    "a+=1\n",
    "print(a)"
   ]
  },
  {
   "cell_type": "code",
   "execution_count": 12,
   "id": "27b0166c-f8b4-414b-a0e0-fd3cd80359ac",
   "metadata": {},
   "outputs": [],
   "source": [
    "#복합 연산자\n",
    "a = 10"
   ]
  },
  {
   "cell_type": "code",
   "execution_count": 13,
   "id": "5fb745fa-6aab-4a89-a557-656117d11c70",
   "metadata": {},
   "outputs": [
    {
     "name": "stdout",
     "output_type": "stream",
     "text": [
      "9\n",
      "8\n",
      "7\n",
      "6\n",
      "5\n"
     ]
    }
   ],
   "source": [
    "a=10\n",
    "a-=1\n",
    "print(a)\n",
    "a-=1\n",
    "print(a)\n",
    "a-=1\n",
    "print(a)\n",
    "a-=1\n",
    "print(a)\n",
    "a-=1\n",
    "print(a)"
   ]
  },
  {
   "cell_type": "markdown",
   "id": "e0baae0d-4168-4bd7-b441-95c5bb235f98",
   "metadata": {},
   "source": [
    "## 문자열 자료형"
   ]
  },
  {
   "cell_type": "markdown",
   "id": "0cfed1f9-eff6-43aa-9d01-1e6dc85c3616",
   "metadata": {
    "jp-MarkdownHeadingCollapsed": true
   },
   "source": [
    "### 문자열 연산하기"
   ]
  },
  {
   "cell_type": "code",
   "execution_count": 14,
   "id": "46db5b9a-c6fc-418c-8ef1-d54ee94ac561",
   "metadata": {},
   "outputs": [
    {
     "name": "stdout",
     "output_type": "stream",
     "text": [
      "문자형입니다\n",
      "\n",
      "이것은 여러줄 주석처리입니다.\n",
      "\n",
      "\n",
      "이것도 여러줄 주석입니다.\n",
      "\n"
     ]
    }
   ],
   "source": [
    "#주석처리입니다\n",
    "str1 ='문자형입니다'\n",
    "print(str1)\n",
    "\n",
    "str2 ='''\n",
    "이것은 여러줄 주석처리입니다.\n",
    "'''\n",
    "print(str2)\n",
    "\n",
    "str3 = \"\"\"\n",
    "이것도 여러줄 주석입니다.\n",
    "\"\"\"\n",
    "\n",
    "print(str3)"
   ]
  },
  {
   "cell_type": "code",
   "execution_count": 15,
   "id": "916b7050-9fe8-4535-b4a3-05f99eb61881",
   "metadata": {},
   "outputs": [
    {
     "name": "stdout",
     "output_type": "stream",
     "text": [
      "Python's 'favorite food' is perl\n"
     ]
    }
   ],
   "source": [
    "# food = \"Python's favorite food is perl\"\n",
    "food = 'Python\\'s \\'favorite food\\' is perl'\n",
    "print(food)"
   ]
  },
  {
   "cell_type": "code",
   "execution_count": 16,
   "id": "106721cd-47cf-4d67-a527-105230e528b9",
   "metadata": {},
   "outputs": [
    {
     "name": "stdout",
     "output_type": "stream",
     "text": [
      "Life is too short\n",
      "You need Python\n"
     ]
    }
   ],
   "source": [
    "multiline = \"Life is too short\\nYou need Python\"\n",
    "print(multiline)"
   ]
  },
  {
   "cell_type": "code",
   "execution_count": 17,
   "id": "31da82a6-a373-4840-b9d2-681a5fd79375",
   "metadata": {},
   "outputs": [
    {
     "name": "stdout",
     "output_type": "stream",
     "text": [
      "Life is too short\n",
      "You need Python\n"
     ]
    }
   ],
   "source": [
    "multiline ='''Life is too short\n",
    "You need Python'''\n",
    "print(multiline)"
   ]
  },
  {
   "cell_type": "code",
   "execution_count": null,
   "id": "fd2745f5-143f-4f37-96d5-27e64dbf0ed1",
   "metadata": {},
   "outputs": [],
   "source": []
  },
  {
   "cell_type": "code",
   "execution_count": 18,
   "id": "321bb8f6-d6bd-4807-813f-c9ee22947aa3",
   "metadata": {},
   "outputs": [
    {
     "name": "stdout",
     "output_type": "stream",
     "text": [
      "Python is fun!\n"
     ]
    }
   ],
   "source": [
    "#문자열 연산하기 \n",
    "head =\"Python\"\n",
    "tail=\" is fun!\"\n",
    "print(head+tail)"
   ]
  },
  {
   "cell_type": "code",
   "execution_count": 19,
   "id": "2071908b-e698-42a2-9542-e09a58e01342",
   "metadata": {},
   "outputs": [
    {
     "name": "stdout",
     "output_type": "stream",
     "text": [
      "python\n",
      "python\n",
      "python\n",
      "python\n",
      "python\n",
      "\n"
     ]
    }
   ],
   "source": [
    "a = \"python\" + \"\\n\"\n",
    "print(a * 5)"
   ]
  },
  {
   "cell_type": "code",
   "execution_count": 20,
   "id": "6b68c0d1-1210-4775-84f2-0296e9229a3c",
   "metadata": {},
   "outputs": [
    {
     "name": "stdout",
     "output_type": "stream",
     "text": [
      "===============\n",
      "    영 수 증\n",
      "===============\n",
      "아메리카노:16500원\n",
      "라떼:7200원\n",
      "허브티:12000원\n",
      "\n",
      "===============\n",
      "===============\n",
      "    영 수 증\n",
      "===============\n",
      "아메리카노:16500원\n",
      "라떼:7200원\n",
      "허브티:12000원\n",
      "\n",
      "=============== 91\n"
     ]
    }
   ],
   "source": [
    "p1 = 5500*3\n",
    "p2 = 7200*1 \n",
    "p3 = 6000*2\n",
    "\n",
    "m1 =\"아메리카노:\"+str(p1)+\"원\\n\" #문자랑 숫자는 더할 수 없다 \n",
    "m2 =\"라떼:\"+str(p2)+\"원\\n\"\n",
    "m3 =\"허브티:\"+str(p3)+\"원\\n\"\n",
    "\n",
    "#출력 조합 \n",
    "title = \"   \"+\" 영 수 증\" #문자와 문자는 더할 수 있다 \n",
    "pp=''\n",
    "pp+=(\"=\"*15)+'\\n' #문자랑 숫자는 곱할 수 있다 \n",
    "pp+=(title)+'\\n'\n",
    "pp+=(\"=\"*15)+'\\n'\n",
    "pp+=(m1+m2+m3)+'\\n'\n",
    "pp+=(\"=\"*15)\n",
    "print(pp)\n",
    "\n",
    "# print(\"=\"*15,title,\"=\"*15,m1,m2,m3,\"=\"*15,sep=\"\\n\")\n",
    "\n",
    "#출력 \n",
    "print(pp,len(pp))"
   ]
  },
  {
   "cell_type": "code",
   "execution_count": 21,
   "id": "74701bf9-a6cb-4667-8bb1-756389f6b9af",
   "metadata": {},
   "outputs": [
    {
     "name": "stdout",
     "output_type": "stream",
     "text": [
      "17\n"
     ]
    }
   ],
   "source": [
    "#문자열 길이\n",
    "a = \"Life is too short\"\n",
    "print(len(a))"
   ]
  },
  {
   "cell_type": "markdown",
   "id": "73373082-fb07-4b4b-b682-42a5b3705cef",
   "metadata": {},
   "source": [
    "### 문자열 인덱싱과 슬라이싱"
   ]
  },
  {
   "cell_type": "code",
   "execution_count": 22,
   "id": "428a6ce4-82db-47ff-b937-c5dc9d2d451d",
   "metadata": {},
   "outputs": [
    {
     "name": "stdout",
     "output_type": "stream",
     "text": [
      "L i f e\n",
      "Life\n"
     ]
    }
   ],
   "source": [
    "print(a[0],a[1],a[2],a[3])\n",
    "print(a[0]+a[1]+a[2]+a[3])"
   ]
  },
  {
   "cell_type": "code",
   "execution_count": 23,
   "id": "02cd0bc0-24af-449b-a844-dfd6d2d8f45a",
   "metadata": {},
   "outputs": [
    {
     "name": "stdout",
     "output_type": "stream",
     "text": [
      "t o o\n",
      "too\n"
     ]
    },
    {
     "data": {
      "text/plain": [
       "(8, 9, 10)"
      ]
     },
     "execution_count": 23,
     "metadata": {},
     "output_type": "execute_result"
    }
   ],
   "source": [
    "#too 출력하기\n",
    "print(a[8],a[9],a[10])\n",
    "print(a[8]+a[9]+a[10])\n",
    "8,9,10\n",
    "# 8=<a<11, 11<=a<15"
   ]
  },
  {
   "cell_type": "code",
   "execution_count": 24,
   "id": "60a1263d-0b25-4f87-959a-ac02b1acd7a5",
   "metadata": {},
   "outputs": [
    {
     "name": "stdout",
     "output_type": "stream",
     "text": [
      "t r\n"
     ]
    }
   ],
   "source": [
    "#거꾸로 매기기\n",
    "print(a[-1],a[-2])"
   ]
  },
  {
   "cell_type": "code",
   "execution_count": 25,
   "id": "ce5bddec-c752-4fbb-b0e5-44f39a08d16c",
   "metadata": {},
   "outputs": [
    {
     "name": "stdout",
     "output_type": "stream",
     "text": [
      "too\n",
      " need\n"
     ]
    }
   ],
   "source": [
    "a = 'Life is too short, You need Python' \n",
    "print(a[8:11]) # 8 <=a < 11\n",
    "print(a[22:27]) # 22 <=a <27 "
   ]
  },
  {
   "cell_type": "code",
   "execution_count": 26,
   "id": "10920ed6-77cc-404c-92cb-de3a8bf5c4fb",
   "metadata": {},
   "outputs": [
    {
     "name": "stdout",
     "output_type": "stream",
     "text": [
      "Life is too short, You need\n"
     ]
    }
   ],
   "source": [
    "print(a[:27]) \n",
    "# [0:27] 0은 생략 가능 "
   ]
  },
  {
   "cell_type": "code",
   "execution_count": 27,
   "id": "8ed82326-3e62-4436-ba7f-9c146c97277c",
   "metadata": {},
   "outputs": [
    {
     "name": "stdout",
     "output_type": "stream",
     "text": [
      "Python\n"
     ]
    }
   ],
   "source": [
    "print(a[28:])\n",
    "#:뒤에 아무것도 안적으면 끝까지"
   ]
  },
  {
   "cell_type": "code",
   "execution_count": 28,
   "id": "dd7e42f0-4935-42e0-8ab5-5e61cffe1c88",
   "metadata": {},
   "outputs": [
    {
     "name": "stdout",
     "output_type": "stream",
     "text": [
      "nohtyP deen uoY ,trohs oot si efiL\n",
      "Lf stosot o edPto\n"
     ]
    }
   ],
   "source": [
    "print(a[::-1])\n",
    "print(a[::2])"
   ]
  },
  {
   "cell_type": "code",
   "execution_count": 29,
   "id": "46f53d44-7d83-416b-befe-32fca2bcf09a",
   "metadata": {},
   "outputs": [
    {
     "name": "stdout",
     "output_type": "stream",
     "text": [
      "2025년도02월03일에는 날씨가 화창하다\n"
     ]
    }
   ],
   "source": [
    "#슬라이싱으로 문자열 나누기\n",
    "# today = \"20250203 화창하다\"\n",
    "# year = today[:4]\n",
    "# month = today[4:6]\n",
    "# day = today[6:8]\n",
    "# weather = today[8:]\n",
    "# print(year+\"년\"+month+\"월\"+day+\"일에는 날씨가\"+weather +'!')\n",
    "\n",
    "today = \"20250203 화창하다\"\n",
    "pp = ''\n",
    "pp += today[:4]\n",
    "pp += '년도'\n",
    "pp += today[4:6]\n",
    "pp += '월'\n",
    "pp += today[6:8]\n",
    "pp += '일에는 날씨가'\n",
    "pp += today[8:]\n",
    "\n",
    "print(pp[::])"
   ]
  },
  {
   "cell_type": "code",
   "execution_count": 30,
   "id": "04a1fd18-d47f-4891-8a88-a8b105f44ecc",
   "metadata": {},
   "outputs": [
    {
     "name": "stdout",
     "output_type": "stream",
     "text": [
      "한국서 돈벌고 '나 몰라라' 코스트코… 연회비 인상률은 미국의 2배\n",
      "한국서 돈벌고 '나 몰라라' 코스트코… 연회비 인상률은 미국의 3배\n"
     ]
    }
   ],
   "source": [
    "import requests\n",
    "url = \"https://v.daum.net/v/20250203151815463\"\n",
    "res = requests.get(url).text\n",
    "print(res[374:411])\n",
    "\n",
    "front = res[374:409]\n",
    "back = res[410:411]\n",
    "print (front+ '3'+ back)\n",
    "\n"
   ]
  },
  {
   "cell_type": "code",
   "execution_count": 31,
   "id": "3c1ed54f-b129-4354-a3e4-7d56375fbc62",
   "metadata": {},
   "outputs": [
    {
     "name": "stdout",
     "output_type": "stream",
     "text": [
      "경주의 톡쏘는 일상 : 네이버 블로그\n"
     ]
    }
   ],
   "source": [
    "import requests \n",
    "url = 'https://blog.naver.com/droad777' \n",
    "res = requests.get(url).text \n",
    "result = (res[895:915])\n",
    "print('경주'+result[2:])"
   ]
  },
  {
   "cell_type": "code",
   "execution_count": 41,
   "id": "96dde0aa-91da-4967-8648-c91791274919",
   "metadata": {},
   "outputs": [],
   "source": [
    "# 62"
   ]
  },
  {
   "cell_type": "markdown",
   "id": "55a1ebaa-58b1-40a6-a757-ea6e2093feb5",
   "metadata": {},
   "source": [
    "### 문자열 포맷팅"
   ]
  },
  {
   "cell_type": "code",
   "execution_count": 33,
   "id": "58585ba9-39b5-4fac-a01b-1b0a33d02424",
   "metadata": {},
   "outputs": [
    {
     "name": "stdout",
     "output_type": "stream",
     "text": [
      "I eat 3 apples.\n",
      "I eat 17 apples.\n",
      "I eat six apples.\n"
     ]
    }
   ],
   "source": [
    "print(\"I eat 3 apples.\")\n",
    "print(\"I eat %d apples.\" %17)\n",
    "print(\"I eat %s apples.\" %\"six\")"
   ]
  },
  {
   "cell_type": "markdown",
   "id": "521a5947-1ef8-4c76-aa4f-536b00ad244b",
   "metadata": {},
   "source": [
    "<table>\n",
    "<thead>\n",
    "<tr>\n",
    "<th>코드</th>\n",
    "<th>설명</th>\n",
    "</tr>\n",
    "</thead>\n",
    "<tbody>\n",
    "<tr>\n",
    "<td>%s</td>\n",
    "<td>문자열(String)</td>\n",
    "</tr>\n",
    "<tr>\n",
    "<td>%c</td>\n",
    "<td>문자 1개(character)</td>\n",
    "</tr>\n",
    "<tr>\n",
    "<td>%d</td>\n",
    "<td>정수(Integer)</td>\n",
    "</tr>\n",
    "<tr>\n",
    "<td>%f</td>\n",
    "<td>부동소수(floating-point)</td>\n",
    "</tr>\n",
    "<tr>\n",
    "<td>%o</td>\n",
    "<td>8진수</td>\n",
    "</tr>\n",
    "<tr>\n",
    "<td>%x</td>\n",
    "<td>16진수</td>\n",
    "</tr>\n",
    "<tr>\n",
    "<td>%%</td>\n",
    "<td>Literal % (문자 <code>%</code> 자체)</td>\n",
    "</tr>\n",
    "</tbody>\n",
    "</table>"
   ]
  },
  {
   "cell_type": "code",
   "execution_count": 34,
   "id": "b3d8fdd1-99fa-4cc8-8dc6-24a5d1763579",
   "metadata": {},
   "outputs": [
    {
     "name": "stdout",
     "output_type": "stream",
     "text": [
      "사람몸의 수분은 60%이다\n"
     ]
    }
   ],
   "source": [
    "print(\"사람몸의 수분은 %d%%이다\" %60)"
   ]
  },
  {
   "cell_type": "code",
   "execution_count": 35,
   "id": "5788ae68-2a43-4349-8511-eb2765ca2598",
   "metadata": {},
   "outputs": [
    {
     "name": "stdout",
     "output_type": "stream",
     "text": [
      "십진수로 123은 16진수로 7b이다\n",
      "십진수로 123은 8진수로 173이다\n"
     ]
    }
   ],
   "source": [
    "print(\"십진수로 %d은 16진수로 %x이다\" %(123,123))\n",
    "print(\"십진수로 %d은 8진수로 %o이다\" %(123,123))"
   ]
  },
  {
   "cell_type": "code",
   "execution_count": 36,
   "id": "a3b7f7e1-863f-4ed8-a94f-c31c3fd53225",
   "metadata": {},
   "outputs": [
    {
     "name": "stdout",
     "output_type": "stream",
     "text": [
      "십진수 123는 16진수로 7b이고 8진수로 173이다\n",
      "십진수 123는 16진수로 7b이고 8진수로 173이다.%는 퍼센트기호 자체이다\n"
     ]
    }
   ],
   "source": [
    "print(\"십진수 %d는 16진수로 %x이고 8진수로 %o이다\" %(123,123,123))\n",
    "print(\"십진수 %d는 16진수로 %x이고 8진수로 %o이다.%%는 퍼센트기호 자체이다\" %(123,123,123))"
   ]
  },
  {
   "cell_type": "code",
   "execution_count": 37,
   "id": "109ecd91-cf17-44d7-8290-f1fcc27e62df",
   "metadata": {},
   "outputs": [
    {
     "name": "stdout",
     "output_type": "stream",
     "text": [
      "        hi\n"
     ]
    }
   ],
   "source": [
    "print(\"%10s\"%\"hi\")"
   ]
  },
  {
   "attachments": {
    "161ce03a-db88-4497-8321-f1b243ac9b26.png": {
     "image/png": "[encoded data removed]"
    }
   },
   "cell_type": "markdown",
   "id": "7c046f92-564b-45f4-8691-2015c5aa2890",
   "metadata": {},
   "source": [
    "![image.png](attachment:161ce03a-db88-4497-8321-f1b243ac9b26.png)\n"
   ]
  },
  {
   "cell_type": "markdown",
   "id": "ce97ad28-7857-4917-b93d-525e740d8df9",
   "metadata": {},
   "source": [
    "<img src=\"attachment:161ce03a-db88-4497-8321-f1b243ac9b26.png\" width=300>"
   ]
  },
  {
   "cell_type": "code",
   "execution_count": 38,
   "id": "e44e8e6b-88ca-4061-be5d-e92c697cfe7d",
   "metadata": {},
   "outputs": [
    {
     "name": "stdout",
     "output_type": "stream",
     "text": [
      "hi        jane\n"
     ]
    }
   ],
   "source": [
    "# 정렬과 공백 (음수일때 왼쪽 정렬)\n",
    "print(\"%-10sjane\" %\"hi\")"
   ]
  },
  {
   "cell_type": "code",
   "execution_count": 39,
   "id": "83929dd6-2292-4797-a0fc-8cd491b25136",
   "metadata": {},
   "outputs": [
    {
     "name": "stdout",
     "output_type": "stream",
     "text": [
      "3.1416\n",
      "    3.1416\n"
     ]
    }
   ],
   "source": [
    "# 소숫점 표현하기 \n",
    "print(\"%0.4f\" %3.141592)\n",
    "print(\"%10.4f\" %3.141592)"
   ]
  },
  {
   "attachments": {
    "0b2bcf8b-e554-4238-a32e-3de470411d29.png": {
     "image/png": "[encoded data removed]"
    }
   },
   "cell_type": "markdown",
   "id": "22522773-e497-4ff5-b168-4af47621b608",
   "metadata": {},
   "source": [
    "![image.png](attachment:0b2bcf8b-e554-4238-a32e-3de470411d29.png)"
   ]
  },
  {
   "cell_type": "markdown",
   "id": "9d102680-2027-43a6-bb20-0db00a95b473",
   "metadata": {},
   "source": [
    "<img src=\"attachment:0b2bcf8b-e554-4238-a32e-3de470411d29.png\">"
   ]
  },
  {
   "cell_type": "markdown",
   "id": "f7439611-2f0f-459d-b97d-24325b0eed69",
   "metadata": {},
   "source": [
    "### format 함수를 사용한 포매팅 "
   ]
  },
  {
   "cell_type": "code",
   "execution_count": 7,
   "id": "4905d424-0a30-441a-b5aa-b1f738a45dc0",
   "metadata": {},
   "outputs": [
    {
     "name": "stdout",
     "output_type": "stream",
     "text": [
      "I eat 3 of 10 apples\n"
     ]
    }
   ],
   "source": [
    "#바로 대입하기 \n",
    "#점은 내부 속성 중 메소드 표현\n",
    "print(\"I eat {0} of {1} apples\".format(3,10))\n"
   ]
  },
  {
   "cell_type": "code",
   "execution_count": 6,
   "id": "6a7cb64e-3d82-4b50-9237-47cacd12dbc9",
   "metadata": {},
   "outputs": [
    {
     "name": "stdout",
     "output_type": "stream",
     "text": [
      "I eat three of 10 apples\n"
     ]
    }
   ],
   "source": [
    "#변수로 대입하기\n",
    "total = 10  \n",
    "ea = \"three\"\n",
    "print(\"I eat {0} of {1} apples\".format(ea,total))"
   ]
  },
  {
   "cell_type": "code",
   "execution_count": 5,
   "id": "e1e8ba26-b01f-4b1b-80e6-643eed990489",
   "metadata": {},
   "outputs": [
    {
     "name": "stdout",
     "output_type": "stream",
     "text": [
      "I eat three of 10 apples\n"
     ]
    }
   ],
   "source": [
    "print(\"I eat {ea} of {total} apples\".format(ea=\"three\",total=10))"
   ]
  },
  {
   "cell_type": "code",
   "execution_count": 12,
   "id": "b3cec44b-7f6d-454b-9d1a-82a22f42bce6",
   "metadata": {},
   "outputs": [
    {
     "data": {
      "text/plain": [
       "'I ate 10 apples. so I was sick for 3 days.'"
      ]
     },
     "execution_count": 12,
     "metadata": {},
     "output_type": "execute_result"
    }
   ],
   "source": [
    "#인덱스와 이름을 혼용해서 넣기\n",
    "\"I ate {0} apples. so I was sick for {day} days.\".format(10,day=3)"
   ]
  },
  {
   "cell_type": "code",
   "execution_count": 19,
   "id": "5e8dd64b-d658-479a-9457-ef5dab18be39",
   "metadata": {},
   "outputs": [
    {
     "name": "stdout",
     "output_type": "stream",
     "text": [
      "        hi\n"
     ]
    }
   ],
   "source": [
    "#우측 정렬\n",
    "print(\"{0:>10}\".format(\"hi\"))"
   ]
  },
  {
   "cell_type": "code",
   "execution_count": 20,
   "id": "4c9bb660-ec48-4d11-aa7f-5cca5461f158",
   "metadata": {},
   "outputs": [
    {
     "name": "stdout",
     "output_type": "stream",
     "text": [
      "    hi    \n"
     ]
    }
   ],
   "source": [
    "#가운데 정렬\n",
    "print(\"{0:^10}\".format(\"hi\")) "
   ]
  },
  {
   "cell_type": "code",
   "execution_count": 24,
   "id": "d3989e02-b909-4002-8538-149ef6f17257",
   "metadata": {},
   "outputs": [
    {
     "name": "stdout",
     "output_type": "stream",
     "text": [
      "hi++++++++\n"
     ]
    }
   ],
   "source": [
    "#좌측 정렬 \n",
    "print(\"{0:<10}\".format(\"hi\"))"
   ]
  },
  {
   "cell_type": "code",
   "execution_count": 26,
   "id": "fb7278ec-6809-472f-b2b7-718e92a656fe",
   "metadata": {},
   "outputs": [
    {
     "name": "stdout",
     "output_type": "stream",
     "text": [
      "ㅋㅋㅋㅋㅋㅋㅋㅋ웃겨!ㅋㅋㅋㅋㅋㅋㅋㅋㅋ\n"
     ]
    }
   ],
   "source": [
    "#가운데 정렬 + 글자 채우기\n",
    "print(\"{0:ㅋ^20}\".format(\"웃겨!\")) "
   ]
  },
  {
   "cell_type": "code",
   "execution_count": 30,
   "id": "ec1c31e2-1742-4c59-aafe-9ef068fa2dc2",
   "metadata": {},
   "outputs": [
    {
     "name": "stdout",
     "output_type": "stream",
     "text": [
      "공간!!!!!!!!\n"
     ]
    }
   ],
   "source": [
    "print(\"{0:!<10}\".format(\"공간\"))"
   ]
  },
  {
   "cell_type": "code",
   "execution_count": 34,
   "id": "3f79fcc6-48b1-4631-a9a2-0f73a61f8f2d",
   "metadata": {},
   "outputs": [
    {
     "name": "stdout",
     "output_type": "stream",
     "text": [
      "              3.1416\n"
     ]
    }
   ],
   "source": [
    "#소수점 표현하기 \n",
    "pi = 3.141592\n",
    "print(\"{0:20.4f}\".format(pi))"
   ]
  },
  {
   "cell_type": "code",
   "execution_count": 36,
   "id": "97a2609e-3c93-46b0-aff5-409229691014",
   "metadata": {},
   "outputs": [
    {
     "name": "stdout",
     "output_type": "stream",
     "text": [
      "중괄호은 {과}입니다\n"
     ]
    }
   ],
   "source": [
    "#이스케이프 처리\n",
    "print(\"{0}은 {{과}}입니다\".format(\"중괄호\"))"
   ]
  },
  {
   "cell_type": "code",
   "execution_count": 48,
   "id": "dec8edb1-59cc-48c6-96df-a396b1c9febb",
   "metadata": {},
   "outputs": [
    {
     "name": "stdout",
     "output_type": "stream",
     "text": [
      "1111011\n",
      "01111011\n"
     ]
    }
   ],
   "source": [
    "# 2진수 처리 \n",
    "print(\"{0:b}\".format(123))\n",
    "print(\"{0:0>8b}\".format(123))\n"
   ]
  },
  {
   "cell_type": "code",
   "execution_count": 63,
   "id": "ba87a6b0-2572-452b-9b7e-1ff2c3737963",
   "metadata": {},
   "outputs": [
    {
     "name": "stdout",
     "output_type": "stream",
     "text": [
      "예 드는 중 5zzzzzzzzz\n",
      "이진수 처리 예시zzzzzz111001000\n"
     ]
    }
   ],
   "source": [
    "print(\"예 드는 중 {0:z<10}\".format(5))\n",
    "print(\"이진수 처리 예시{0:z>15b}\".format(456)) "
   ]
  },
  {
   "cell_type": "markdown",
   "id": "3ed789ab-634c-43b4-b8a5-7e19eee17cea",
   "metadata": {},
   "source": [
    "### f문자열 포매팅"
   ]
  },
  {
   "cell_type": "code",
   "execution_count": 65,
   "id": "135064ba-6939-44ec-9157-10fd290cb2cd",
   "metadata": {},
   "outputs": [
    {
     "name": "stdout",
     "output_type": "stream",
     "text": [
      "나의 이름은 이경주입니다. 나이는 30입니다\n",
      "내년이면 31 살이 됩니다\n"
     ]
    }
   ],
   "source": [
    "# \" \".format > f \" \" \n",
    "name = \"이경주\"\n",
    "age = 30 \n",
    "print(f\"나의 이름은 {name}입니다. 나이는 {age}입니다\")\n",
    "print(f\"내년이면 {age+1} 살이 됩니다\")"
   ]
  },
  {
   "cell_type": "code",
   "execution_count": 74,
   "id": "237e4c6c-d2a3-4423-af7b-afd4d3510c1b",
   "metadata": {},
   "outputs": [
    {
     "name": "stdout",
     "output_type": "stream",
     "text": [
      "나의 이름은 홍길동입니다.나이는30 입니다.성별은 male 입니다\n"
     ]
    }
   ],
   "source": [
    "d = {'name':'홍길동','age':30,'gen':'male'}\n",
    "print(f'나의 이름은 {d[\"name\"]}입니다.나이는{d[\"age\"]} 입니다.성별은 {d[\"gen\"]} 입니다')\n",
    "\n"
   ]
  },
  {
   "cell_type": "code",
   "execution_count": 79,
   "id": "ba568a70-cefc-426a-a8c6-be0bd623b48c",
   "metadata": {},
   "outputs": [
    {
     "name": "stdout",
     "output_type": "stream",
     "text": [
      "hi        \n",
      "    hi    \n",
      "        hi\n"
     ]
    }
   ],
   "source": [
    "#왼쪽 정렬 \n",
    "print(f'{\"hi\":<10}')\n",
    "#가운데 정렬 \n",
    "print(f'{\"hi\":^10}')\n",
    "#오른쪽 정렬\n",
    "print(f'{\"hi\":>10}')"
   ]
  },
  {
   "cell_type": "code",
   "execution_count": 83,
   "id": "3a2e898d-7016-4e51-8d84-cc2b5aafc86d",
   "metadata": {},
   "outputs": [
    {
     "name": "stdout",
     "output_type": "stream",
     "text": [
      "====hi====\n",
      "hi!!!!!!!!\n"
     ]
    }
   ],
   "source": [
    "#공백 채우기 \n",
    "print(f'{\"hi\":=^10}')\n",
    "\n",
    "print(f'{\"hi\":!<10}')"
   ]
  },
  {
   "cell_type": "code",
   "execution_count": 86,
   "id": "c2388fab-9e76-485c-b190-7bf3ad792193",
   "metadata": {},
   "outputs": [
    {
     "name": "stdout",
     "output_type": "stream",
     "text": [
      "3.4213\n",
      "    3.4213\n"
     ]
    }
   ],
   "source": [
    "#소수점 표현 \n",
    "y = 3.42134234\n",
    "print(f'{y:0.4f}')\n",
    "\n",
    "print(f'{y:10.4f}')"
   ]
  },
  {
   "cell_type": "code",
   "execution_count": 98,
   "id": "17cbff00-27f0-4742-9b39-517444351559",
   "metadata": {},
   "outputs": [
    {
     "name": "stdout",
     "output_type": "stream",
     "text": [
      "{and}\n",
      "!!!!python!!!!!\n"
     ]
    }
   ],
   "source": [
    "print(f'{{and}}')\n",
    "\n",
    "p = \"python\" \n",
    "print(f'{p:!^15}')"
   ]
  },
  {
   "cell_type": "markdown",
   "id": "0371b4e6-c7c4-4ad8-be3c-44df3fab645d",
   "metadata": {},
   "source": [
    "### 문자열 관련 함수들"
   ]
  },
  {
   "cell_type": "code",
   "execution_count": 106,
   "id": "a786a24c-11b9-44b3-921c-9c1aee8e3576",
   "metadata": {},
   "outputs": [
    {
     "name": "stdout",
     "output_type": "stream",
     "text": [
      "2\n",
      "안녕입니다\n"
     ]
    }
   ],
   "source": [
    "# 문자 개수 세기 count \n",
    "print(\"hobby\".count('b'))\n",
    "\n",
    "print(\"{0}입니다\".format(\"안녕\"))"
   ]
  },
  {
   "cell_type": "code",
   "execution_count": 107,
   "id": "e5f92aeb-e7f0-42ee-b9a9-dc059aa98eee",
   "metadata": {},
   "outputs": [
    {
     "name": "stdout",
     "output_type": "stream",
     "text": [
      "한국서 돈벌고 '나 몰라라' 코스트코… 연회비 인상률은 미국의 3배\n",
      "1\n"
     ]
    }
   ],
   "source": [
    "import requests \n",
    "url = 'https://v.daum.net/v/20250203151815463'\n",
    "res = requests.get(url).text\n",
    "result = res[374:411]\n",
    "out = result[:-2] + '3' + result[-1]\n",
    "print(out)\n",
    "print(out.count('한국'))"
   ]
  },
  {
   "cell_type": "code",
   "execution_count": 110,
   "id": "659e31e1-6679-4d77-bc93-398b472d1e22",
   "metadata": {},
   "outputs": [
    {
     "name": "stdout",
     "output_type": "stream",
     "text": [
      "한국서 돈벌고 '나 몰라라' 코스트코… 연회비 인상률은 미국의 3배\n"
     ]
    },
    {
     "data": {
      "text/plain": [
       "-1"
      ]
     },
     "execution_count": 110,
     "metadata": {},
     "output_type": "execute_result"
    }
   ],
   "source": [
    "#위치 알려주기1-find\n",
    "print(out)\n",
    "out.find('밥')"
   ]
  },
  {
   "cell_type": "code",
   "execution_count": 113,
   "id": "c45cde6e-bffe-4836-9058-2d5bfa979d98",
   "metadata": {},
   "outputs": [
    {
     "data": {
      "text/plain": [
       "374"
      ]
     },
     "execution_count": 113,
     "metadata": {},
     "output_type": "execute_result"
    }
   ],
   "source": [
    "import requests \n",
    "url = 'https://v.daum.net/v/20250203151815463'\n",
    "res = requests.get(url).text\n",
    "# print(res)\n",
    "res.find('한')\n"
   ]
  },
  {
   "cell_type": "code",
   "execution_count": 128,
   "id": "36638fde-465b-41e2-b8a0-ee5bdb6616be",
   "metadata": {},
   "outputs": [
    {
     "name": "stdout",
     "output_type": "stream",
     "text": [
      "41529\n",
      "좋아하는 노래제목: toxic till the end\n"
     ]
    }
   ],
   "source": [
    "import requests \n",
    "url = 'https://music.apple.com/kr/playlist/%EC%98%A4%EB%8A%98%EC%9D%98-top-100-%EB%8C%80%ED%95%9C%EB%AF%BC%EA%B5%AD/pl.d3d10c32fbc540b38e266367dc8cb00c'\n",
    "res = requests.get(url).text\n",
    "#print(res)\n",
    "print(res.find('toxic till the end'))\n",
    "# print(res.index('toxi till the end')) #없으면 오류 발생\n",
    "print('좋아하는 노래제목:',res[41529:41547])\n"
   ]
  },
  {
   "cell_type": "code",
   "execution_count": null,
   "id": "7a24df0c-75a4-4f51-9a87-4c6d11bd8d6a",
   "metadata": {},
   "outputs": [],
   "source": [
    "dir(str)"
   ]
  },
  {
   "cell_type": "code",
   "execution_count": 165,
   "id": "01385d33-6b8d-4d68-899b-4f7eef19669b",
   "metadata": {},
   "outputs": [
    {
     "name": "stdout",
     "output_type": "stream",
     "text": [
      "a,b,c,d,e,f,g\n"
     ]
    }
   ],
   "source": [
    "# 문자열 삽입 join * \n",
    "#리스트(=배열),튜플을 문자열로\n",
    "print(\",\".join('abcdefg'))"
   ]
  },
  {
   "cell_type": "code",
   "execution_count": 132,
   "id": "dc826363-d191-488e-99ce-f1303d519cc4",
   "metadata": {},
   "outputs": [
    {
     "name": "stdout",
     "output_type": "stream",
     "text": [
      "a,b,c,d\n"
     ]
    }
   ],
   "source": [
    "#join이 배열을 재결합시킴 \n",
    "print(\",\".join(['a','b','c','d']))"
   ]
  },
  {
   "cell_type": "code",
   "execution_count": 135,
   "id": "77a11c7e-2915-48e4-98b4-2722d292825f",
   "metadata": {},
   "outputs": [
    {
     "name": "stdout",
     "output_type": "stream",
     "text": [
      "HI\n"
     ]
    }
   ],
   "source": [
    "#소문자를 대문자로 바꾸기 upper \n",
    "a = \"hi\"\n",
    "print(a.upper())"
   ]
  },
  {
   "cell_type": "code",
   "execution_count": 136,
   "id": "642e611e-062c-4dc0-bde7-02c2f9530620",
   "metadata": {},
   "outputs": [
    {
     "name": "stdout",
     "output_type": "stream",
     "text": [
      "hi\n"
     ]
    }
   ],
   "source": [
    "a = \"HI\"\n",
    "print(a.lower())"
   ]
  },
  {
   "cell_type": "code",
   "execution_count": 142,
   "id": "b50bd42d-6780-4976-872c-4153474757e6",
   "metadata": {},
   "outputs": [
    {
     "name": "stdout",
     "output_type": "stream",
     "text": [
      "Life is Egg\n",
      "LIFE IS EGG\n",
      "life is egg\n"
     ]
    }
   ],
   "source": [
    "#연습\n",
    "V = \"Life is Egg\"\n",
    "big= V.upper()\n",
    "small= V.lower()\n",
    "print(V)\n",
    "print(big)\n",
    "print(small)\n"
   ]
  },
  {
   "cell_type": "code",
   "execution_count": 154,
   "id": "1dc00216-0b45-4b39-b959-b64c12860cd9",
   "metadata": {},
   "outputs": [
    {
     "name": "stdout",
     "output_type": "stream",
     "text": [
      "   !    hi   !  \n",
      "!    hi   !  \n",
      "   !    hi   !\n",
      "!    hi   !\n"
     ]
    }
   ],
   "source": [
    "a = \"   !    hi   !  \"\n",
    "aa = a.lstrip()\n",
    "bb = a.rstrip()\n",
    "cc = a.strip()\n",
    "print (a)\n",
    "print (aa)\n",
    "print (bb)\n",
    "print (cc)"
   ]
  },
  {
   "cell_type": "code",
   "execution_count": 153,
   "id": "b1d5d6bf-2b71-4d2d-9d7d-f1601974e1c0",
   "metadata": {},
   "outputs": [
    {
     "name": "stdout",
     "output_type": "stream",
     "text": [
      "         hi         \n",
      "hi         \n",
      "         hi\n",
      "hi\n"
     ]
    }
   ],
   "source": [
    "f = f'{\"hi\":^20}'\n",
    "f1= f.lstrip()\n",
    "f2= f.rstrip()\n",
    "f3= f.strip()\n",
    "\n",
    "print(f)\n",
    "print(f1)\n",
    "print(f2)\n",
    "print(f3)"
   ]
  },
  {
   "cell_type": "code",
   "execution_count": 157,
   "id": "ed54f28c-1da0-4e25-8880-63f76cd17f25",
   "metadata": {},
   "outputs": [
    {
     "name": "stdout",
     "output_type": "stream",
     "text": [
      "Life is egg\n",
      "Life is Beautiful\n"
     ]
    }
   ],
   "source": [
    "# 문자열 바꾸기 replace ** \n",
    "a = \"Life is egg\"\n",
    "c= a.replace(\"egg\",\"Beautiful\")\n",
    "print(a)\n",
    "print(c)"
   ]
  },
  {
   "cell_type": "code",
   "execution_count": 162,
   "id": "e52b7037-4f12-4149-a577-94cb674cb921",
   "metadata": {},
   "outputs": [
    {
     "name": "stdout",
     "output_type": "stream",
     "text": [
      "['Life', 'is', 'Egg']\n"
     ]
    }
   ],
   "source": [
    "# 문자열 나누기 split * \n",
    "# 문자열을 배열로\n",
    "a = \"Life-is-Egg\"\n",
    "aa = a.split('-')\n",
    "print(aa)"
   ]
  },
  {
   "cell_type": "code",
   "execution_count": 172,
   "id": "fec996ab-6040-404d-8ddf-9e1966010ce4",
   "metadata": {},
   "outputs": [
    {
     "name": "stdout",
     "output_type": "stream",
     "text": [
      "['abcdefghi']\n",
      "a=b=c=d=e=f=g=h=i\n",
      "['a', 'b', 'c', 'd', 'e', 'f', 'g', 'h', 'i']\n",
      "abcdefghi\n"
     ]
    }
   ],
   "source": [
    "#연습 \n",
    "ex = \"abcdefghi\"\n",
    "\n",
    "ex2 = ex.split()\n",
    "print(ex2)\n",
    "\n",
    "ex_join=\"=\".join(ex)\n",
    "print(ex_join)\n",
    "\n",
    "ex_split=ex_join.split(\"=\")\n",
    "print(ex_split)\n",
    "\n",
    "ex_replace = ex_join.replace(\"=\",\"\")\n",
    "print(ex_replace)"
   ]
  },
  {
   "cell_type": "code",
   "execution_count": null,
   "id": "57ed0ecf-90bd-4247-9313-9111196c36c9",
   "metadata": {},
   "outputs": [],
   "source": []
  },
  {
   "cell_type": "code",
   "execution_count": null,
   "id": "5a0928a1-43c7-4541-aed8-1d6834933f5e",
   "metadata": {},
   "outputs": [],
   "source": []
  }
 ],
 "metadata": {
  "kernelspec": {
   "display_name": "Python 3 (ipykernel)",
   "language": "python",
   "name": "python3"
  },
  "language_info": {
   "codemirror_mode": {
    "name": "ipython",
    "version": 3
   },
   "file_extension": ".py",
   "mimetype": "text/x-python",
   "name": "python",
   "nbconvert_exporter": "python",
   "pygments_lexer": "ipython3",
   "version": "3.13.1"
  }
 },
 "nbformat": 4,
 "nbformat_minor": 5
}
