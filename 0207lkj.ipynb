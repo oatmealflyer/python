{
 "cells": [
  {
   "cell_type": "code",
   "execution_count": 1,
   "id": "8bc2a16e-e96e-4ce3-aa62-e7bad62997c2",
   "metadata": {},
   "outputs": [
    {
     "name": "stdout",
     "output_type": "stream",
     "text": [
      "shirt\n"
     ]
    }
   ],
   "source": [
    "#1번 \n",
    "a = \"Life is too short, you need python \"\n",
    "\n",
    "if \"wife\" in a : print(\"wife\")\n",
    "elif \"python\" in a and \"you\" not in a: print(\"python\")\n",
    "elif \"shirt\" not in a :print(\"shirt\")\n",
    "elif \"need\" in a :print(\"need\")\n",
    "else :print(\"none \")\n",
    "\n",
    "#결괏값 : shirt "
   ]
  },
  {
   "cell_type": "code",
   "execution_count": 7,
   "id": "860d281d-9ea0-45b0-b9a6-09a97815e06b",
   "metadata": {},
   "outputs": [
    {
     "name": "stdout",
     "output_type": "stream",
     "text": [
      "166833\n"
     ]
    }
   ],
   "source": [
    "#2번 \n",
    "result = 0 \n",
    "i =1 \n",
    "while i <= 1000 :\n",
    "    if i % 3 == 0 :\n",
    "        result += i \n",
    "    i+=1 \n",
    "print(result)"
   ]
  },
  {
   "cell_type": "code",
   "execution_count": 9,
   "id": "f8ad6eea-5564-4913-aa37-5991ca75c543",
   "metadata": {},
   "outputs": [
    {
     "name": "stdout",
     "output_type": "stream",
     "text": [
      "*\n",
      "**\n",
      "***\n",
      "****\n",
      "*****\n"
     ]
    }
   ],
   "source": [
    "#3번 \n",
    "i = 0 \n",
    "while True:\n",
    "    i+=1 \n",
    "    if i > 5 :break \n",
    "    print( \"*\"*i )"
   ]
  },
  {
   "cell_type": "code",
   "execution_count": null,
   "id": "a0b4300c-7306-4d7a-9bef-e9444d2af93e",
   "metadata": {},
   "outputs": [],
   "source": [
    "#4번 \n",
    "for i in range(1,101):\n",
    "    print(i)"
   ]
  },
  {
   "cell_type": "code",
   "execution_count": 17,
   "id": "7c1e9a0b-6e93-4c70-832a-7dfab7c9c11e",
   "metadata": {},
   "outputs": [
    {
     "name": "stdout",
     "output_type": "stream",
     "text": [
      "79.0\n"
     ]
    }
   ],
   "source": [
    "#5번 \n",
    "A = [70,60,55,75,95,90,80,80,85,100]\n",
    "total = 0 \n",
    "for score in A : \n",
    "    total += score \n",
    "average = total / len(A)\n",
    "print(f'{average:0.1f}')"
   ]
  },
  {
   "cell_type": "code",
   "execution_count": 20,
   "id": "01cffbdc-35a8-4e67-b8d8-e2c99b9d42eb",
   "metadata": {},
   "outputs": [
    {
     "name": "stdout",
     "output_type": "stream",
     "text": [
      "[2, 6, 10]\n"
     ]
    }
   ],
   "source": [
    "#6번 \n",
    "numbers = [1,2,3,4,5]\n",
    "result = []\n",
    "for n in numbers :\n",
    "    if n % 2 == 1 : #나머지가 1이면 , 홀수이면 \n",
    "        result.append(n*2) \n",
    "# print(result)\n",
    "\n",
    "result = [n*2 for n in numbers if n%2 ==1]\n",
    "print(result)"
   ]
  }
 ],
 "metadata": {
  "kernelspec": {
   "display_name": "Python 3 (ipykernel)",
   "language": "python",
   "name": "python3"
  },
  "language_info": {
   "codemirror_mode": {
    "name": "ipython",
    "version": 3
   },
   "file_extension": ".py",
   "mimetype": "text/x-python",
   "name": "python",
   "nbconvert_exporter": "python",
   "pygments_lexer": "ipython3",
   "version": "3.13.1"
  }
 },
 "nbformat": 4,
 "nbformat_minor": 5
}
