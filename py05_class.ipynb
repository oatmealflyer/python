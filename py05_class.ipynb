{
 "cells": [
  {
   "cell_type": "markdown",
   "id": "5097350c-5b8d-4c8d-acf9-00e589c8d2d8",
   "metadata": {},
   "source": [
    "# 클래스"
   ]
  },
  {
   "cell_type": "markdown",
   "id": "788fe3c6-9fb9-4dda-8f81-a2c96f66c4f0",
   "metadata": {},
   "source": [
    "## 클래스 기본"
   ]
  },
  {
   "cell_type": "code",
   "execution_count": 2,
   "id": "02b9efd5-4246-4a8b-ab9b-bc6ea1c7c542",
   "metadata": {},
   "outputs": [
    {
     "name": "stdout",
     "output_type": "stream",
     "text": [
      "[1, 2, 3, 4] <class 'list'>\n",
      "(11, 22, 33, 44) <class 'tuple'>\n"
     ]
    }
   ],
   "source": [
    "what = [1,2,3,4]\n",
    "what2 = ['a','b','c']\n",
    "who = 11,22,33,44\n",
    "print(what,type(what))\n",
    "print(who,type(who))"
   ]
  },
  {
   "cell_type": "code",
   "execution_count": 4,
   "id": "a0755633-f431-4b37-a469-8be448ec4981",
   "metadata": {},
   "outputs": [
    {
     "name": "stdout",
     "output_type": "stream",
     "text": [
      "3\n",
      "7\n"
     ]
    }
   ],
   "source": [
    "result = 0 \n",
    "def add(num):\n",
    "    global result \n",
    "    result +=num\n",
    "    return result\n",
    "print(add(3))\n",
    "print(add(4))"
   ]
  },
  {
   "cell_type": "code",
   "execution_count": 3,
   "id": "2f9bf328-1213-412f-9b59-73cbcf3c4faf",
   "metadata": {},
   "outputs": [
    {
     "name": "stdout",
     "output_type": "stream",
     "text": [
      "1: 1\n",
      "2: 1\n",
      "2: 2\n",
      "2: 3\n",
      "1: 2\n"
     ]
    }
   ],
   "source": [
    "#함수로 구성 \n",
    "result1 = 0 \n",
    "result2 = 0 \n",
    "def add1(num) :\n",
    "    global result1 \n",
    "    result1 +=num\n",
    "    return result1\n",
    "def add2(num):\n",
    "    global result2\n",
    "    result2 +=num \n",
    "    return result2 \n",
    "print('1:',add1(1))\n",
    "print('2:',add2(1))\n",
    "print('2:',add2(1))\n",
    "print('2:',add2(1))\n",
    "print('1:',add1(1))\n"
   ]
  },
  {
   "cell_type": "code",
   "execution_count": null,
   "id": "02257b01-0ef9-4d31-aa0e-97ae726c81ca",
   "metadata": {},
   "outputs": [],
   "source": [
    "#클래스로 구성 \n",
    "class Calculator: \n",
    "    def __init__(self):\n",
    "        self.result = 0 \n",
    "        \n",
    "    def add(self,num):\n",
    "        self.result +=num\n",
    "        return self.result\n",
    "\n",
    "    def sub(self,num):\n",
    "        self.result -=num\n",
    "        return self.result \n",
    "        \n",
    "#인스턴스화 \n",
    "cal1 = Calculator() #[1,2,3,4,5]\n",
    "cal2 = Calculator() #['a','b']\n",
    "print('1:',cal1.add(1))\n",
    "print('2:',cal2.add(1))\n",
    "print('2:',cal2.add(1))\n",
    "print('2:',cal2.add(1))\n",
    "print('1:',cal1.add(1))\n",
    "print('1:',cal1.add(1))\n",
    "\n",
    "print('2:',cal2.sub(1))\n",
    "print('2:',cal2.sub(1))\n",
    "\n"
   ]
  },
  {
   "cell_type": "code",
   "execution_count": 160,
   "id": "e9d84ad4-7147-4d1a-8c11-8ad57e28b4df",
   "metadata": {},
   "outputs": [],
   "source": [
    "class FourCal :\n",
    "    def setdata(self,first,second): #<-메서드의 매개변수 #클래스안에 구현된 내부함수 : 메서드 \n",
    "        self.first = first \n",
    "        self.second = second \n",
    "    def add(self):\n",
    "        result = self.first + self.second \n",
    "        return result \n",
    "    def mul(self):\n",
    "        result = self.first * self.second\n",
    "        return result \n",
    "    def sub(self):\n",
    "        result = self.first - self.second \n",
    "        return result "
   ]
  },
  {
   "cell_type": "markdown",
   "id": "6ad07dd9-f7f3-41ce-938d-aee0f9457d67",
   "metadata": {},
   "source": [
    "## 생성자"
   ]
  },
  {
   "cell_type": "code",
   "execution_count": 27,
   "id": "ee0adce3-e794-42d3-863f-f6bda63f7a17",
   "metadata": {},
   "outputs": [],
   "source": [
    "#예제1\n",
    "class Dduk: \n",
    "    def __init__(self,won,ea): #언더바 두개 들어간건 외부에서 접근 못함 # 내부적으로 활용할 특별할 아이 \n",
    "        self.won = won\n",
    "        self.ea = ea #변수 초기값 설정처럼 \n",
    "    def dduk(self):\n",
    "        result = self.won * self.ea\n",
    "        print(f'배가 고파서 떡볶이집에서 떡볶이를 {result}원어치 먹었다')\n",
    "    def odng(self):\n",
    "        result = self.won * 2*self.ea\n",
    "        print(f'배가 고파서 떡볶이집에서 오뎅을 {result}원어치 먹었다')"
   ]
  },
  {
   "cell_type": "code",
   "execution_count": 29,
   "id": "23a1776f-5936-4f4d-a55a-1beef7bec827",
   "metadata": {},
   "outputs": [],
   "source": [
    "성훈 = Dduk(2000,3)\n",
    "희성 = Dduk(3000,2)\n",
    "기윤 = Dduk(1500,6) "
   ]
  },
  {
   "cell_type": "code",
   "execution_count": 34,
   "id": "87fa3173-4e5e-4b88-abbb-cfdefe434333",
   "metadata": {},
   "outputs": [
    {
     "name": "stdout",
     "output_type": "stream",
     "text": [
      "배가 고파서 떡볶이집에서 떡볶이를 6000원어치 먹었다\n",
      "배가 고파서 떡볶이집에서 오뎅을 12000원어치 먹었다\n"
     ]
    }
   ],
   "source": [
    "성훈.dduk()\n",
    "성훈.odng()"
   ]
  },
  {
   "cell_type": "code",
   "execution_count": 35,
   "id": "3373b13b-f865-41c3-ab1b-bd6e7046d238",
   "metadata": {},
   "outputs": [
    {
     "name": "stdout",
     "output_type": "stream",
     "text": [
      "배가 고파서 떡볶이집에서 떡볶이를 6000원어치 먹었다\n",
      "배가 고파서 떡볶이집에서 오뎅을 12000원어치 먹었다\n"
     ]
    }
   ],
   "source": [
    "희성.dduk()\n",
    "희성.odng()"
   ]
  },
  {
   "cell_type": "code",
   "execution_count": 37,
   "id": "67a1f07b-1878-4237-be8b-55e26075aeef",
   "metadata": {},
   "outputs": [
    {
     "name": "stdout",
     "output_type": "stream",
     "text": [
      "배가 고파서 떡볶이집에서 떡볶이를 9000원어치 먹었다\n",
      "배가 고파서 떡볶이집에서 오뎅을 18000원어치 먹었다\n"
     ]
    }
   ],
   "source": [
    "기윤.dduk()\n",
    "기윤.odng()"
   ]
  },
  {
   "cell_type": "code",
   "execution_count": 38,
   "id": "162a2702-cd23-4921-b13a-e947bff56e57",
   "metadata": {},
   "outputs": [],
   "source": [
    "성훈.__init__(3300,2) #생성자 지정해 초기값 재지정 \n",
    "성훈.__init__()"
   ]
  },
  {
   "cell_type": "code",
   "execution_count": 39,
   "id": "c45d16d7-693e-405e-862f-a75ab9962691",
   "metadata": {
    "scrolled": true
   },
   "outputs": [
    {
     "name": "stdout",
     "output_type": "stream",
     "text": [
      "배가 고파서 떡볶이집에서 떡볶이를 6600원어치 먹었다\n"
     ]
    }
   ],
   "source": [
    "성훈.dduk()"
   ]
  },
  {
   "cell_type": "markdown",
   "id": "2a0f5b7f-14b6-489a-b3dd-603604d7e079",
   "metadata": {},
   "source": [
    "## 예제들"
   ]
  },
  {
   "cell_type": "code",
   "execution_count": 47,
   "id": "2da96a21-faa7-47fe-9a36-9dec99a8c0b3",
   "metadata": {},
   "outputs": [
    {
     "name": "stdout",
     "output_type": "stream",
     "text": [
      "방가방가3 저는 고전 인사입니다\n",
      "==============================\n",
      "\n",
      "이것은 예로부터 전해오는 고전 인사함수입니다.DocString 따옴표 세개는 함수 설명 \n",
      "\n",
      "==============================\n",
      "Help on function test in module __main__:\n",
      "\n",
      "test()\n",
      "    이것은 예로부터 전해오는 고전 인사함수입니다.DocString 따옴표 세개는 함수 설명\n",
      "\n"
     ]
    }
   ],
   "source": [
    "# 테스트 1\n",
    "def test():\n",
    "    \"\"\"\n",
    "    이것은 예로부터 전해오는 고전 인사함수입니다.DocString 따옴표 세개는 함수 설명 \n",
    "    \"\"\"\n",
    "    \"\"\"\n",
    "    print(\"방가방가1 저는 고전 인사입니다\")\n",
    "    print(\"방가방가2 저는 고전 인사입니다\")\"\"\"\n",
    "    print(\"방가방가3 저는 고전 인사입니다\")\n",
    "test()\n",
    "print(\"=\"*30)\n",
    "print(test.__doc__)\n",
    "print(\"=\"*30)\n",
    "help(test)"
   ]
  },
  {
   "cell_type": "code",
   "execution_count": 50,
   "id": "a5a39653-fc7d-49b2-a4f3-9d7afe4e8566",
   "metadata": {},
   "outputs": [],
   "source": [
    "#테스트 2\n",
    "#class의 self없이 함수 만들기 \n",
    "#함수 안에 함수 넣는 법 , 함수의 매개변수에 함수 넣기 #자바스크림트는 콜백이라고 부름 \n",
    "def set_car(name,color) :\n",
    "    return {\"name\":name,\"color\":color}\n",
    "# print(set_car(\"HD\",\"Blue\"))\n",
    "def get_car_info(car):\n",
    "    return f\"Car:{car['name']},Color:{car['color']}\""
   ]
  },
  {
   "cell_type": "code",
   "execution_count": 52,
   "id": "cf903ddf-9cf8-4d92-986f-a5f10d660069",
   "metadata": {},
   "outputs": [
    {
     "name": "stdout",
     "output_type": "stream",
     "text": [
      "{'name': 'HD', 'color': 'Blue'}\n",
      "Car:HD,Color:Blue\n"
     ]
    }
   ],
   "source": [
    "#자동차를 생성 \n",
    "car = set_car(\"HD\",\"Blue\")\n",
    "print(car)\n",
    "#자동차 정보를 생성 \n",
    "print(get_car_info(car))"
   ]
  },
  {
   "cell_type": "code",
   "execution_count": 53,
   "id": "8ea55e01-abd4-4024-82f4-1c183a35f3a7",
   "metadata": {},
   "outputs": [
    {
     "name": "stdout",
     "output_type": "stream",
     "text": [
      "Car:Kia,Color:White\n"
     ]
    }
   ],
   "source": [
    "print(get_car_info(set_car(\"Kia\",\"White\")))"
   ]
  },
  {
   "cell_type": "code",
   "execution_count": null,
   "id": "4034c253-286f-4204-870b-5ebd091caac2",
   "metadata": {},
   "outputs": [],
   "source": [
    "#테스트3 \n",
    "class Car :\n",
    "    def set_car(name,color) :\n",
    "        return {\"name\":name,\"color\":color}\n",
    "\n",
    "    def get_car_info(car):\n",
    "        return f\"Car:{car['name']},Color:{car['color']}\"\n",
    "\n",
    "car1 = Car.set_car(\"HD\",\"Yellow\")\n",
    "car2 = Car.set_car(\"Kia\",\"White\")\n",
    "print(Car.get_car_info(car1))\n",
    "print(Car.get_car_info(car2))"
   ]
  },
  {
   "cell_type": "code",
   "execution_count": null,
   "id": "51c154ca-b042-42a2-bf20-152885419c67",
   "metadata": {},
   "outputs": [],
   "source": [
    "#테스트4\n",
    "class Car: \n",
    "    def __init__(self,name,color) : #생성자\n",
    "        self.name = name \n",
    "        self.color = color \n",
    "    def get_car_info(self):\n",
    "        return f\"Car:{self.name},Color:{self.color}\"  \n",
    "\n",
    "car1 = Car(\"HD\",\"Yellow\")\n",
    "car2 = Car(\"Kia\",\"Gray\")\n",
    "\n",
    "print(car1.get_car_info())\n",
    "print(car2.get_car_info())"
   ]
  },
  {
   "cell_type": "code",
   "execution_count": 97,
   "id": "d4be1c79-d172-45f9-90aa-2825fa67341e",
   "metadata": {},
   "outputs": [],
   "source": [
    "#테스트5 \n",
    "class Car: \n",
    "    def __init__(self,name,color) : #생성자\n",
    "        self.name = name \n",
    "        self.color = color\n",
    "        self.__speed = 0 #초기값 0 #__ 이면 수정이 안됨  \n",
    "    def get_car_info(self):\n",
    "        return f\"Car:{self.name},Color:{self.color}\"  \n",
    "    def acc(self,amount) :\n",
    "        self.speed += amount #속도가 증가 \n",
    "        return f\"{self.color} 색 {self.name} 자동차 속도 올려요 . 현재속도는 {self.speed}Km/h\""
   ]
  },
  {
   "cell_type": "code",
   "execution_count": 87,
   "id": "293ef17d-f708-4776-804d-ef4403d4d0b2",
   "metadata": {},
   "outputs": [
    {
     "name": "stdout",
     "output_type": "stream",
     "text": [
      "Car:HD,Color:Yellow\n",
      "Car:Kia,Color:Gray\n"
     ]
    }
   ],
   "source": [
    "car1 = Car(\"HD\",\"Yellow\")\n",
    "car2 = Car(\"Kia\",\"Gray\")\n",
    "\n",
    "print(car1.get_car_info())\n",
    "print(car2.get_car_info())"
   ]
  },
  {
   "cell_type": "code",
   "execution_count": 88,
   "id": "0b95f358-b383-41ac-8476-5ce07f2039ea",
   "metadata": {},
   "outputs": [
    {
     "name": "stdout",
     "output_type": "stream",
     "text": [
      "Yellow 색 HD 자동차 속도 올려요 . 현재속도는 30Km/h\n",
      "Gray 색 Kia 자동차 속도 올려요 . 현재속도는 50Km/h\n",
      "Yellow 색 HD 자동차 속도 올려요 . 현재속도는 40Km/h\n"
     ]
    }
   ],
   "source": [
    "print(car1.acc(30))\n",
    "print(car2.acc(50))\n",
    "print(car1.acc(10))"
   ]
  },
  {
   "cell_type": "code",
   "execution_count": 139,
   "id": "870a87ba-ddd4-4945-851f-fc853bd3ab13",
   "metadata": {},
   "outputs": [
    {
     "name": "stdout",
     "output_type": "stream",
     "text": [
      "white색 HD 자동차 속도 올려요. 현재 속도는 30Km/h\n"
     ]
    }
   ],
   "source": [
    "car1 = Car(\"HD\",\"white\")\n",
    "print(car1.acc(30))"
   ]
  },
  {
   "cell_type": "code",
   "execution_count": null,
   "id": "c768fa15-83dc-4833-a045-a764eeb97dcd",
   "metadata": {},
   "outputs": [],
   "source": [
    "#테스트 연습\n",
    "import time as t \n",
    "for n in range(10) : \n",
    "    print(car1.acc(1))\n",
    "    t.sleep(1)\n",
    "print(\"100Km/h속도유지중 ..\")"
   ]
  },
  {
   "cell_type": "code",
   "execution_count": 109,
   "id": "060c598b-d1a5-49ec-a88f-772db569d4ae",
   "metadata": {},
   "outputs": [],
   "source": [
    "#테스트6 상속\n",
    "class Mycar(Car):\n",
    "    def turbo(self):\n",
    "        self.speed +=50\n",
    "        return(f\"내차가 나른다 !! 터보 !! {self.speed}KM/H\")\n",
    "    def acc(self):\n",
    "        self.speed += 30 \n",
    "        return f\"{self.name}의 {self.speed}!!\""
   ]
  },
  {
   "cell_type": "code",
   "execution_count": 110,
   "id": "5cded8ce-f86a-46fa-9fda-464cf0857124",
   "metadata": {},
   "outputs": [
    {
     "name": "stdout",
     "output_type": "stream",
     "text": [
      "mycar의 30!!\n",
      "Gray 색 Kia 자동차 속도 올려요 . 현재속도는 10Km/h\n"
     ]
    }
   ],
   "source": [
    "my = Mycar(\"mycar\",\"black\")\n",
    "car0 = Car(\"Kia\",\"Gray\")\n",
    "print(my.acc())\n",
    "print(car0.acc(10))"
   ]
  },
  {
   "cell_type": "code",
   "execution_count": 100,
   "id": "0b95e688-5053-4cef-9735-d6d6f56d7000",
   "metadata": {},
   "outputs": [
    {
     "name": "stdout",
     "output_type": "stream",
     "text": [
      "내차가 나른다 !! 터보 !! 50KM/H\n",
      "내차가 나른다 !! 터보 !! 100KM/H\n"
     ]
    }
   ],
   "source": [
    "print(my.turbo())\n",
    "print(my.turbo())"
   ]
  },
  {
   "cell_type": "code",
   "execution_count": 122,
   "id": "219142e8-46fe-4065-ae4d-d600d6da6375",
   "metadata": {},
   "outputs": [],
   "source": [
    "#테스트 7 \n",
    "class Pet:\n",
    "    def __init__(self,name,species):\n",
    "        \"\"\"펫을 생성\"\"\"\n",
    "        self.name = name\n",
    "        self.species = species \n",
    "        self.hunger = 50 #초기 배고픔 수치 (0~100)\n",
    "    def feed(self) : \n",
    "        \"\"\"밥을 주면 배고픔 감소\"\"\"\n",
    "        if self.hunger >10 :\n",
    "            self.hunger -= 10\n",
    "            return f\"{self.name}에게 밥을 줬습니다. 배고픔:{self.hunger}\"\n",
    "    def play(self) :\n",
    "        \"\"\"놀아주면 배고픔 증가\"\"\"\n",
    "        if self.hunger < 80:\n",
    "            self.hunger +=20\n",
    "            return f\"{self.name}와 아주 잘 놀아줬어요~~!! 배고픔:{self.hunger}\""
   ]
  },
  {
   "cell_type": "code",
   "execution_count": null,
   "id": "d0554ecb-8a78-4b2d-a8a9-4e5edc2c88de",
   "metadata": {},
   "outputs": [],
   "source": [
    "#펫생성 \n",
    "dog1 = Pet(\"뽀삐\",\"말티즈\")\n",
    "dog2 = Pet(\"아지\",\"요크\")\n",
    "cat = Pet(\"컁이\",\"나만고양이없어\")\n",
    "print(dog1.feed())\n",
    "print(dog1.feed())\n",
    "print(dog2.play())\n",
    "print(dog2.play())\n",
    "print(dog2.play())\n",
    "print(dog1.play())\n",
    "print(dog1.play())\n",
    "print(cat.play())\n",
    "print(cat.play())\n",
    "print(cat.feed())\n"
   ]
  },
  {
   "cell_type": "code",
   "execution_count": 125,
   "id": "0075fc69-6346-487f-a3b0-6b496e542bff",
   "metadata": {},
   "outputs": [],
   "source": [
    "class Pet : \n",
    "    def __init__(self,name,species):\n",
    "        \"\"\"펫을 생성\"\"\"\n",
    "        self.name = name \n",
    "        self.species = species \n",
    "        self.hunger = 50     \n",
    "    def feed(self):\n",
    "        \"\"\"밥을 주면 배고픔 감소\"\"\"\n",
    "        if self.hunger > 10 :\n",
    "            self.hunger -=10 \n",
    "            return f\"{self.name}에게 밥을 줬습니다. 배고픔{self.hunger}\"\n",
    "    def play(self):\n",
    "        \"\"\"놀아주면 배고픔 증가\"\"\"\n",
    "        if self.hunger < 80 :\n",
    "            self.hunger +=20 \n",
    "            return f\"{self.name}와 아주 잘 놀아줬어요~!! 배고픔{self.hunger}\""
   ]
  },
  {
   "cell_type": "code",
   "execution_count": 178,
   "id": "63c04b7e-79e7-4bb4-9632-80f48365d5b6",
   "metadata": {},
   "outputs": [],
   "source": [
    "#테스트8\n",
    "class Bacteria :\n",
    "    def __init__(self,initial_population,growth_rate):\n",
    "        \"\"\"세균초기화 \"\"\"\n",
    "        self.population = initial_population\n",
    "        self.growth_rate = growth_rate \n",
    "        self.time = 0 #시작시간\n",
    "\n",
    "    def grow(self,hours) : \n",
    "        \"\"\"일정 시간이 지나면 세균이 증식함\"\"\"\n",
    "        self.time = hours\n",
    "        self.population *= self.growth_rate ** hours\n",
    "        return f\"{self.time} 시간 후 세균 수:{int(self.population):0.2f} 마리\"\n",
    "\n",
    "    def check(self):\n",
    "        \"\"\"현재 세균 수 확인\"\"\"\n",
    "        return f\"현재 세균 수 :{int(self.population):0.2f} 마리 \""
   ]
  },
  {
   "cell_type": "code",
   "execution_count": 176,
   "id": "fdb040cb-0215-42db-bb53-247161e5ee57",
   "metadata": {},
   "outputs": [],
   "source": [
    "bacteria = Bacteria(100,2)"
   ]
  },
  {
   "cell_type": "code",
   "execution_count": 177,
   "id": "a9129043-d0b2-49a1-99bf-ad3c45b0fccb",
   "metadata": {},
   "outputs": [
    {
     "name": "stdout",
     "output_type": "stream",
     "text": [
      "1 시간 후 세균 수:200.00 마리\n",
      "2 시간 후 세균 수:800.00 마리\n",
      "3 시간 후 세균 수:6400.00 마리\n"
     ]
    }
   ],
   "source": [
    "print(bacteria.grow(1))\n",
    "print(bacteria.grow(2))\n",
    "print(bacteria.grow(3))"
   ]
  },
  {
   "cell_type": "code",
   "execution_count": 196,
   "id": "be0bd56e-6085-4809-b57c-7b1c0a55a499",
   "metadata": {},
   "outputs": [
    {
     "name": "stdout",
     "output_type": "stream",
     "text": [
      "철수님의 잔고는 50000원입니다\n",
      "영희님의 잔고는 20000원입니다\n",
      "철수님의 잔고는 900000원입니다\n"
     ]
    }
   ],
   "source": [
    "#테스트9 예금 캡슐화 안됨 , 클래스 변수 \n",
    "class BankAccount : \n",
    "    interest_rate = 0.02 #클래스변수 #이자율 - 전체 은행잔고가 있는, 모든 소유자가 같은 이자를 받는다면 모두에게 적용가능 \n",
    "    def __init__(self,owner,balance):\n",
    "        self.owner = owner #계좌주 \n",
    "        self.balance = balance or 0 #잔액 \n",
    "    def bprint(self):\n",
    "        return f\"{self.owner}님의 잔고는 {self.balance}원입니다\"\n",
    "\n",
    "acc1 = BankAccount(\"철수\",50000)\n",
    "acc2 = BankAccount(\"영희\",20000)\n",
    "print(acc1.bprint())\n",
    "print(acc2.bprint())\n",
    "#공격후\n",
    "acc1.balance = 900000\n",
    "print(acc1.bprint())"
   ]
  },
  {
   "cell_type": "code",
   "execution_count": 212,
   "id": "d7cad054-c049-4729-a01c-fff5626394f3",
   "metadata": {},
   "outputs": [
    {
     "name": "stdout",
     "output_type": "stream",
     "text": [
      "철수님의 잔고는 50000원입니다\n",
      "영희님의 잔고는 20000원입니다\n",
      "0.02%의 이자가 반영된 금액은 51000원 입니다\n",
      "0.02%의 이자가 반영된 금액은 20400원 입니다\n",
      "0.03%의 이자가 반영된 금액은 51500원 입니다\n",
      "0.03%의 이자가 반영된 금액은 20600원 입니다\n"
     ]
    }
   ],
   "source": [
    "#테스트9 예금 캡슐화 된 예제 , 클래스 변수 \n",
    "class BankAccount : \n",
    "    interest_rate = 0.02 #클래스변수 #이자율 - 전체 은행잔고가 있는, 모든 소유자가 같은 이자를 받는다면 모두에게 적용가능 \n",
    "    def __init__(self,owner,balance):\n",
    "        self.owner = owner #계좌주 \n",
    "        self.__balance = balance or 0 #잔액 \n",
    "        \n",
    "    def bprint(self):\n",
    "        return f\"{self.owner}님의 잔고는 {self.__balance}원입니다\"\n",
    "\n",
    "    def deposit(self,amount): #입금할때 \n",
    "        self.__balance +=amount\n",
    "        return f\"{self.owner}님의 계좌에 {amount}원이 입금되었습니다.현재 잔액{self.__balance}원\"\n",
    "        \n",
    "    def withdraw(self,amount) : #출금할때 \n",
    "        if self.__balance >= amount:\n",
    "            self.__balance -= amount \n",
    "            return f\"{self.owner}님의 계좌에서 {amount}원이 출금되었습니다.현재 잔액{self.__balance}원\"\n",
    "        return \"잔액이 부족합니다\"\n",
    "    def interest(self):\n",
    "        total = self.__balance * (1+self.interest_rate)\n",
    "        return f\"{self.interest_rate}%의 이자가 반영된 금액은 {total:.0f}원 입니다\"\n",
    "        \n",
    "#인스턴스화 \n",
    "acc3 = BankAccount(\"철수\",50000)\n",
    "acc4 = BankAccount(\"영희\",20000)\n",
    "print(acc3.bprint())\n",
    "print(acc4.bprint())\n",
    "print(acc3.interest())\n",
    "print(acc4.interest())\n",
    "\n",
    "#클래스 변수 바꾸기\n",
    "BankAccount.interest_rate = 0.03\n",
    "\n",
    "print(acc3.interest())\n",
    "print(acc4.interest())\n",
    "#공격후\n",
    "# acc3.balance = 900000\n",
    "# print(acc3.balance)\n",
    "\n",
    "#내장메소드로 캡슐화된 변수 접근\n",
    "# print(acc3.deposit(30000))\n",
    "# print(acc3.withdraw(5500))\n"
   ]
  },
  {
   "cell_type": "code",
   "execution_count": 3,
   "id": "bdbacb73-b2b3-4707-b209-a9a431924b73",
   "metadata": {},
   "outputs": [
    {
     "name": "stdout",
     "output_type": "stream",
     "text": [
      "잔액이 2000원으로 증가했습니다\n",
      "콜라을 구매했습니다! 남은 잔액: 500\n",
      "잔액이 부족합니다.(사이다 가격 :1400원, 현재 잔액 :500원)\n",
      "잔액 500원이 반환되었습니다\n"
     ]
    }
   ],
   "source": [
    "class VendingMachine:\n",
    "    def __init__(self):\n",
    "        \"\"\"자동판매기 초기화\"\"\"\n",
    "        self.balance = 0  # 사용자의 잔액\n",
    "        self.items = {  # 상품목록(이름:가격)\n",
    "            \"콜라\": 1500,\n",
    "            \"사이다\": 1400,\n",
    "            \"물\": 1000\n",
    "        }\n",
    "\n",
    "    def insert_money(self, amount):\n",
    "        \"\"\"잔액충전\"\"\"\n",
    "        self.balance += amount\n",
    "        return f\"잔액이 {self.balance}원으로 증가했습니다\"\n",
    "\n",
    "    def buy_items(self, item_name):\n",
    "        \"\"\"상품 구매\"\"\"\n",
    "        if item_name not in self.items:\n",
    "            return f\"{item_name}은 판매하지 않는 상품입니다\"\n",
    "        price = self.items[item_name]\n",
    "        if self.balance < price:\n",
    "            return f\"잔액이 부족합니다.({item_name} 가격 :{price}원, 현재 잔액 :{self.balance}원)\"\n",
    "        self.balance -= price\n",
    "        return f\"{item_name}을 구매했습니다! 남은 잔액: {self.balance}\"\n",
    "\n",
    "    def refund(self):\n",
    "        \"\"\"잔액반환\"\"\"\n",
    "        amount = self.balance\n",
    "        self.balance = 0\n",
    "        return f\"잔액 {amount}원이 반환되었습니다\"\n",
    "\n",
    "# 자동판매기 객체 생성\n",
    "vm = VendingMachine()\n",
    "# 잔액 충전\n",
    "print(vm.insert_money(2000))\n",
    "# 상품 구매\n",
    "print(vm.buy_items(\"콜라\"))\n",
    "print(vm.buy_items(\"사이다\"))\n",
    "# 잔액 반환\n",
    "print(vm.refund())\n"
   ]
  },
  {
   "cell_type": "code",
   "execution_count": 10,
   "id": "9969b6d1-9717-4bd5-9363-8388a66a6658",
   "metadata": {},
   "outputs": [],
   "source": [
    "import turtle \n",
    "window = turtle.Screen()\n",
    "\n",
    "#거북이 생성 \n",
    "my_turtle = turtle. Turtle()\n",
    "my_turtle.shape(\"turtle\")\n",
    "my_turtle.color(\"yellow\")\n",
    "\n",
    "#사각형 그리기 \n",
    "for _ in range(4):\n",
    "    my_turtle.forward(100) \n",
    "    my_turtle.right(90)\n",
    "    my_turtle.forward(100) \n",
    "    my_turtle.left(45)\n",
    "    my_turtle.back(100)\n",
    "\n",
    "#창 닫기 \n",
    "window.mainloop()"
   ]
  },
  {
   "cell_type": "code",
   "execution_count": 8,
   "id": "469a5bfb-6bbc-4b10-9d7d-86ddb26d0846",
   "metadata": {},
   "outputs": [
    {
     "name": "stdout",
     "output_type": "stream",
     "text": [
      "1 2\n"
     ]
    }
   ],
   "source": [
    "#테스트 \n",
    "a,_,c = 1,0,2\n",
    "print(a,c)"
   ]
  },
  {
   "cell_type": "code",
   "execution_count": 9,
   "id": "22def97f-158f-4cff-8b67-54c1aff23197",
   "metadata": {
    "scrolled": true
   },
   "outputs": [
    {
     "name": "stdout",
     "output_type": "stream",
     "text": [
      "인사 다섯번 할께요\n",
      "인사 다섯번 할께요\n",
      "인사 다섯번 할께요\n",
      "인사 다섯번 할께요\n",
      "인사 다섯번 할께요\n"
     ]
    }
   ],
   "source": [
    "for _ in range(5):\n",
    "    print(\"인사 다섯번 할께요\")"
   ]
  },
  {
   "cell_type": "code",
   "execution_count": 5,
   "id": "e73ca31b-c254-4e4f-8658-ad3fdd9b359e",
   "metadata": {},
   "outputs": [],
   "source": [
    "import random \n",
    "\n",
    "class Character:\n",
    "    def __init__(self,name,hp,attack_p):\n",
    "        \"\"\"캐릭터 초기화\"\"\"\n",
    "        self.name = name #변수 초기값 설정 \n",
    "        self.hp = hp \n",
    "        self.attack_p = attack_p \n",
    "    def attack(self,opponent):\n",
    "        \"\"\"상대방을 공격\"\"\"\n",
    "        damage = random.randint(2,self.attack_p)\n",
    "        opponent.hp -=damage \n",
    "        print(f'{self.name}가 {opponent.name}를 공격하여 {damage}데미지를 입혔습니다')\n",
    "    def now_status(self):\n",
    "        \"\"\"현재 체력 상태 확인\"\"\"\n",
    "        return f'{self.name} 체력:{self.hp}'\n",
    "    def is_alive(self):\n",
    "        \"\"\"캐릭터 생존여부 확인\"\"\"\n",
    "        return self.hp > 0"
   ]
  },
  {
   "cell_type": "code",
   "execution_count": 9,
   "id": "7c861429-c78a-42e9-835b-16384bcbb88f",
   "metadata": {},
   "outputs": [],
   "source": [
    "# 히어로와 몬스터 생성\n",
    "player = Character(\"영웅\",attack_p=15,hp=50)\n",
    "monster = Character(\"골렘\",60,9)"
   ]
  },
  {
   "cell_type": "code",
   "execution_count": 11,
   "id": "598f543d-a31c-4390-9df0-8bb431bb02bf",
   "metadata": {},
   "outputs": [
    {
     "name": "stdout",
     "output_type": "stream",
     "text": [
      "=====전투시작!!!=====\n"
     ]
    },
    {
     "name": "stdin",
     "output_type": "stream",
     "text": [
      "공격하려면 엔터를 치세요. \n"
     ]
    },
    {
     "name": "stdout",
     "output_type": "stream",
     "text": [
      "영웅가 골렘를 공격하여 8데미지를 입혔습니다\n",
      "골렘가 영웅를 공격하여 6데미지를 입혔습니다\n",
      "영웅 체력:44  vs  골렘 체력:47\n"
     ]
    },
    {
     "name": "stdin",
     "output_type": "stream",
     "text": [
      "공격하려면 엔터를 치세요. \n"
     ]
    },
    {
     "name": "stdout",
     "output_type": "stream",
     "text": [
      "영웅가 골렘를 공격하여 10데미지를 입혔습니다\n",
      "골렘가 영웅를 공격하여 2데미지를 입혔습니다\n",
      "영웅 체력:42  vs  골렘 체력:37\n"
     ]
    },
    {
     "name": "stdin",
     "output_type": "stream",
     "text": [
      "공격하려면 엔터를 치세요. \n"
     ]
    },
    {
     "name": "stdout",
     "output_type": "stream",
     "text": [
      "영웅가 골렘를 공격하여 6데미지를 입혔습니다\n",
      "골렘가 영웅를 공격하여 5데미지를 입혔습니다\n",
      "영웅 체력:37  vs  골렘 체력:31\n"
     ]
    },
    {
     "name": "stdin",
     "output_type": "stream",
     "text": [
      "공격하려면 엔터를 치세요. \n"
     ]
    },
    {
     "name": "stdout",
     "output_type": "stream",
     "text": [
      "영웅가 골렘를 공격하여 2데미지를 입혔습니다\n",
      "골렘가 영웅를 공격하여 5데미지를 입혔습니다\n",
      "영웅 체력:32  vs  골렘 체력:29\n"
     ]
    },
    {
     "name": "stdin",
     "output_type": "stream",
     "text": [
      "공격하려면 엔터를 치세요. \n"
     ]
    },
    {
     "name": "stdout",
     "output_type": "stream",
     "text": [
      "영웅가 골렘를 공격하여 8데미지를 입혔습니다\n",
      "골렘가 영웅를 공격하여 6데미지를 입혔습니다\n",
      "영웅 체력:26  vs  골렘 체력:21\n"
     ]
    },
    {
     "name": "stdin",
     "output_type": "stream",
     "text": [
      "공격하려면 엔터를 치세요. \n"
     ]
    },
    {
     "name": "stdout",
     "output_type": "stream",
     "text": [
      "영웅가 골렘를 공격하여 2데미지를 입혔습니다\n",
      "골렘가 영웅를 공격하여 9데미지를 입혔습니다\n",
      "영웅 체력:17  vs  골렘 체력:19\n"
     ]
    },
    {
     "name": "stdin",
     "output_type": "stream",
     "text": [
      "공격하려면 엔터를 치세요. \n"
     ]
    },
    {
     "name": "stdout",
     "output_type": "stream",
     "text": [
      "영웅가 골렘를 공격하여 11데미지를 입혔습니다\n",
      "골렘가 영웅를 공격하여 8데미지를 입혔습니다\n",
      "영웅 체력:9  vs  골렘 체력:8\n"
     ]
    },
    {
     "name": "stdin",
     "output_type": "stream",
     "text": [
      "공격하려면 엔터를 치세요. \n"
     ]
    },
    {
     "name": "stdout",
     "output_type": "stream",
     "text": [
      "영웅가 골렘를 공격하여 2데미지를 입혔습니다\n",
      "골렘가 영웅를 공격하여 9데미지를 입혔습니다\n",
      "영웅 체력:0  vs  골렘 체력:6\n",
      "패배하였습니다...to continue?👻\n"
     ]
    }
   ],
   "source": [
    "# 전투진행 \n",
    "print(\"=====전투시작!!!=====\")\n",
    "while player.is_alive() and monster.is_alive():\n",
    "    input(\"공격하려면 엔터를 치세요.\")\n",
    "    player.attack(monster)\n",
    "    if monster.is_alive():\n",
    "        monster.attack(player)\n",
    "    print(player.now_status(),' vs ',monster.now_status())\n",
    "# 결과 \n",
    "if player.is_alive():\n",
    "    print(\"당신이 승리하였습니다👍\")\n",
    "else:\n",
    "    print(\"패배하였습니다...to continue?👻\")"
   ]
  }
 ],
 "metadata": {
  "kernelspec": {
   "display_name": "Python 3 (ipykernel)",
   "language": "python",
   "name": "python3"
  },
  "language_info": {
   "codemirror_mode": {
    "name": "ipython",
    "version": 3
   },
   "file_extension": ".py",
   "mimetype": "text/x-python",
   "name": "python",
   "nbconvert_exporter": "python",
   "pygments_lexer": "ipython3",
   "version": "3.13.1"
  }
 },
 "nbformat": 4,
 "nbformat_minor": 5
}
