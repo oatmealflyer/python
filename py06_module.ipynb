{
 "cells": [
  {
   "cell_type": "code",
   "execution_count": null,
   "id": "f617ef94-347a-4157-aac6-f5ad9c0a9ead",
   "metadata": {},
   "outputs": [],
   "source": [
    "#모듈이란 \n",
    "#함수나 변수 또는 클래스를 모아놓은 파이썬 파일 \n",
    "#모듈은 다른 파이썬 프로그램에서 불러와 사용할 수 있도록 만든 파이썬 파일이라고도 할 수 있음 \n",
    "#파이썬으로 프로그래밍을 할때 매우 많은 모듈 사용 \n"
   ]
  }
 ],
 "metadata": {
  "kernelspec": {
   "display_name": "Python 3 (ipykernel)",
   "language": "python",
   "name": "python3"
  },
  "language_info": {
   "codemirror_mode": {
    "name": "ipython",
    "version": 3
   },
   "file_extension": ".py",
   "mimetype": "text/x-python",
   "name": "python",
   "nbconvert_exporter": "python",
   "pygments_lexer": "ipython3",
   "version": "3.13.1"
  }
 },
 "nbformat": 4,
 "nbformat_minor": 5
}
